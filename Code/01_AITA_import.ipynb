{
 "cells": [
  {
   "cell_type": "markdown",
   "id": "ac460a36-be72-4d81-ae15-8a6d1887c696",
   "metadata": {},
   "source": [
    "Table of contents : AmITheAsshole\n",
    "- imports\n",
    "- funtion to scrape post\n",
    "- 100 calls of function/10,000 post scraped \n",
    "\n"
   ]
  },
  {
   "cell_type": "markdown",
   "id": "587e300e-7ab7-4f2e-8f31-6acd42077d46",
   "metadata": {},
   "source": [
    "Imports"
   ]
  },
  {
   "cell_type": "code",
   "execution_count": 1,
   "id": "5f39abb2-dd4b-4f24-98df-53dfc67f5387",
   "metadata": {},
   "outputs": [],
   "source": [
    "# web\n",
    "import requests\n",
    "import json\n",
    "\n",
    "\n",
    "# others\n",
    "import time\n",
    "import datetime \n",
    "import pandas as pd"
   ]
  },
  {
   "cell_type": "markdown",
   "id": "e213eac4-a29c-4eeb-b04a-c46b936c4e8a",
   "metadata": {},
   "source": [
    "# Function"
   ]
  },
  {
   "cell_type": "code",
   "execution_count": 2,
   "id": "ad815371-7c11-4185-9e4f-2945c233e48f",
   "metadata": {},
   "outputs": [],
   "source": [
    "#Function to scrape 100 post and save as a csv file to use later\n",
    "def pushapi(file_name,date):\n",
    "    url = 'https://api.pushshift.io/reddit/search/submission?'\n",
    "    params = {\n",
    "    'subreddit': 'AmItheAsshole',\n",
    "    'size': 100,\n",
    "    'before':date}\n",
    "    res = requests.get(url, params)\n",
    "    data = res.json()\n",
    "    posts = data['data']\n",
    "    len(posts)\n",
    "    df =[]\n",
    "    df = pd.DataFrame(posts)\n",
    "    df.append(posts)\n",
    "    print(len(df))\n",
    "    date = posts[-1]['created_utc']\n",
    "    date = date -7275 # Created after inital scrape, data ranged from 5 days, this should range for about 2 weeks\n",
    "    print(date)\n",
    "    # With the help of Ben, I have discovered that UTC could've been stored as a variable ad=nd automated\n",
    "    #df.to_csv(file_name, index=False, sep=\",\")\n",
    "   \n",
    "    \n",
    "    \n"
   ]
  },
  {
   "cell_type": "markdown",
   "id": "6e9620a0-a3e2-4bca-adf6-79a5ff17502d",
   "metadata": {},
   "source": [
    "I had some trouble with pushshift.py so this function will suffice as a way to store files,\n",
    "goal is to scrape 10,000 posts with the assumption that half of those will be junk"
   ]
  },
  {
   "cell_type": "code",
   "execution_count": 3,
   "id": "a6fe54be-73f6-4ba2-bd8a-f55bdcf2677b",
   "metadata": {},
   "outputs": [
    {
     "name": "stdout",
     "output_type": "stream",
     "text": [
      "100\n",
      "1669233524\n"
     ]
    },
    {
     "name": "stderr",
     "output_type": "stream",
     "text": [
      "C:\\Users\\Sparrow\\AppData\\Local\\Temp\\ipykernel_26724\\1997433734.py:14: FutureWarning: The frame.append method is deprecated and will be removed from pandas in a future version. Use pandas.concat instead.\n",
      "  df.append(posts)\n"
     ]
    }
   ],
   "source": [
    "pushapi('AITA1',1669246590)"
   ]
  },
  {
   "cell_type": "code",
   "execution_count": 4,
   "id": "0e8ebd4f-1db8-4151-8e9c-9dc5fb11b15d",
   "metadata": {},
   "outputs": [
    {
     "name": "stdout",
     "output_type": "stream",
     "text": [
      "100\n",
      "1669219789\n"
     ]
    },
    {
     "name": "stderr",
     "output_type": "stream",
     "text": [
      "C:\\Users\\Sparrow\\AppData\\Local\\Temp\\ipykernel_26724\\1997433734.py:14: FutureWarning: The frame.append method is deprecated and will be removed from pandas in a future version. Use pandas.concat instead.\n",
      "  df.append(posts)\n"
     ]
    }
   ],
   "source": [
    "pushapi('AITA2',1669233524)"
   ]
  },
  {
   "cell_type": "code",
   "execution_count": 5,
   "id": "94e7e184-ff6f-4e62-82a4-8bc91aff08ee",
   "metadata": {},
   "outputs": [
    {
     "name": "stdout",
     "output_type": "stream",
     "text": [
      "100\n",
      "1669203723\n"
     ]
    },
    {
     "name": "stderr",
     "output_type": "stream",
     "text": [
      "C:\\Users\\Sparrow\\AppData\\Local\\Temp\\ipykernel_26724\\1997433734.py:14: FutureWarning: The frame.append method is deprecated and will be removed from pandas in a future version. Use pandas.concat instead.\n",
      "  df.append(posts)\n"
     ]
    }
   ],
   "source": [
    "pushapi('AITA3',1669219789)"
   ]
  },
  {
   "cell_type": "code",
   "execution_count": 6,
   "id": "c0420641-d50d-487b-8f4a-55811f57a243",
   "metadata": {},
   "outputs": [
    {
     "name": "stdout",
     "output_type": "stream",
     "text": [
      "100\n",
      "1669181948\n"
     ]
    },
    {
     "name": "stderr",
     "output_type": "stream",
     "text": [
      "C:\\Users\\Sparrow\\AppData\\Local\\Temp\\ipykernel_26724\\1997433734.py:14: FutureWarning: The frame.append method is deprecated and will be removed from pandas in a future version. Use pandas.concat instead.\n",
      "  df.append(posts)\n"
     ]
    }
   ],
   "source": [
    "pushapi('AITA4',1669203723)"
   ]
  },
  {
   "cell_type": "code",
   "execution_count": 7,
   "id": "d5979e09-e175-46f8-bece-d4c48c0928b1",
   "metadata": {},
   "outputs": [
    {
     "name": "stdout",
     "output_type": "stream",
     "text": [
      "100\n",
      "1669167566\n"
     ]
    },
    {
     "name": "stderr",
     "output_type": "stream",
     "text": [
      "C:\\Users\\Sparrow\\AppData\\Local\\Temp\\ipykernel_26724\\1997433734.py:14: FutureWarning: The frame.append method is deprecated and will be removed from pandas in a future version. Use pandas.concat instead.\n",
      "  df.append(posts)\n"
     ]
    }
   ],
   "source": [
    "pushapi('AITA5',1669181948)"
   ]
  },
  {
   "cell_type": "code",
   "execution_count": 8,
   "id": "472e1e2b-32cd-4052-bf7e-a80140db13ff",
   "metadata": {},
   "outputs": [
    {
     "name": "stdout",
     "output_type": "stream",
     "text": [
      "100\n",
      "1669153774\n"
     ]
    },
    {
     "name": "stderr",
     "output_type": "stream",
     "text": [
      "C:\\Users\\Sparrow\\AppData\\Local\\Temp\\ipykernel_26724\\1997433734.py:14: FutureWarning: The frame.append method is deprecated and will be removed from pandas in a future version. Use pandas.concat instead.\n",
      "  df.append(posts)\n"
     ]
    }
   ],
   "source": [
    "pushapi('AITA6',1669167566)"
   ]
  },
  {
   "cell_type": "code",
   "execution_count": 9,
   "id": "a3de2b08-a905-4959-9494-75c051513b8e",
   "metadata": {},
   "outputs": [
    {
     "name": "stdout",
     "output_type": "stream",
     "text": [
      "100\n",
      "1669140189\n"
     ]
    },
    {
     "name": "stderr",
     "output_type": "stream",
     "text": [
      "C:\\Users\\Sparrow\\AppData\\Local\\Temp\\ipykernel_26724\\1997433734.py:14: FutureWarning: The frame.append method is deprecated and will be removed from pandas in a future version. Use pandas.concat instead.\n",
      "  df.append(posts)\n"
     ]
    }
   ],
   "source": [
    "pushapi('AITA7',1669153774)"
   ]
  },
  {
   "cell_type": "code",
   "execution_count": 10,
   "id": "479f61c3-7d82-499a-a3f7-a8b943ff4fbc",
   "metadata": {},
   "outputs": [
    {
     "name": "stdout",
     "output_type": "stream",
     "text": [
      "100\n",
      "1669127194\n"
     ]
    },
    {
     "name": "stderr",
     "output_type": "stream",
     "text": [
      "C:\\Users\\Sparrow\\AppData\\Local\\Temp\\ipykernel_26724\\1997433734.py:14: FutureWarning: The frame.append method is deprecated and will be removed from pandas in a future version. Use pandas.concat instead.\n",
      "  df.append(posts)\n"
     ]
    }
   ],
   "source": [
    "pushapi('AITA8',1669140189)"
   ]
  },
  {
   "cell_type": "code",
   "execution_count": 11,
   "id": "80d27e91-6858-4771-8397-f6c873be28bd",
   "metadata": {},
   "outputs": [
    {
     "name": "stdout",
     "output_type": "stream",
     "text": [
      "100\n",
      "1669108062\n"
     ]
    },
    {
     "name": "stderr",
     "output_type": "stream",
     "text": [
      "C:\\Users\\Sparrow\\AppData\\Local\\Temp\\ipykernel_26724\\1997433734.py:14: FutureWarning: The frame.append method is deprecated and will be removed from pandas in a future version. Use pandas.concat instead.\n",
      "  df.append(posts)\n"
     ]
    }
   ],
   "source": [
    "pushapi('AITA9',1669127194)"
   ]
  },
  {
   "cell_type": "code",
   "execution_count": 12,
   "id": "71f97420-32bc-4c71-9051-a3c8f6b81006",
   "metadata": {},
   "outputs": [
    {
     "name": "stdout",
     "output_type": "stream",
     "text": [
      "100\n",
      "1669090199\n"
     ]
    },
    {
     "name": "stderr",
     "output_type": "stream",
     "text": [
      "C:\\Users\\Sparrow\\AppData\\Local\\Temp\\ipykernel_26724\\1997433734.py:14: FutureWarning: The frame.append method is deprecated and will be removed from pandas in a future version. Use pandas.concat instead.\n",
      "  df.append(posts)\n"
     ]
    }
   ],
   "source": [
    "pushapi('AITA10',1669108062)"
   ]
  },
  {
   "cell_type": "code",
   "execution_count": 13,
   "id": "51a5ec8b-e192-45b8-a402-26674409f749",
   "metadata": {},
   "outputs": [
    {
     "name": "stdout",
     "output_type": "stream",
     "text": [
      "100\n",
      "1669077339\n"
     ]
    },
    {
     "name": "stderr",
     "output_type": "stream",
     "text": [
      "C:\\Users\\Sparrow\\AppData\\Local\\Temp\\ipykernel_26724\\1997433734.py:14: FutureWarning: The frame.append method is deprecated and will be removed from pandas in a future version. Use pandas.concat instead.\n",
      "  df.append(posts)\n"
     ]
    }
   ],
   "source": [
    "pushapi('AITA11',1669090199)"
   ]
  },
  {
   "cell_type": "code",
   "execution_count": 14,
   "id": "f3a8b79c-a3ed-44f8-8e50-772228cdd8f3",
   "metadata": {},
   "outputs": [
    {
     "name": "stdout",
     "output_type": "stream",
     "text": [
      "100\n",
      "1669065210\n"
     ]
    },
    {
     "name": "stderr",
     "output_type": "stream",
     "text": [
      "C:\\Users\\Sparrow\\AppData\\Local\\Temp\\ipykernel_26724\\1997433734.py:14: FutureWarning: The frame.append method is deprecated and will be removed from pandas in a future version. Use pandas.concat instead.\n",
      "  df.append(posts)\n"
     ]
    }
   ],
   "source": [
    "pushapi('AITA12',1669077339)"
   ]
  },
  {
   "cell_type": "code",
   "execution_count": 16,
   "id": "19803dba-45b2-4d0d-9035-5c90f60fb44c",
   "metadata": {},
   "outputs": [
    {
     "name": "stdout",
     "output_type": "stream",
     "text": [
      "100\n",
      "1669051206\n"
     ]
    },
    {
     "name": "stderr",
     "output_type": "stream",
     "text": [
      "C:\\Users\\Sparrow\\AppData\\Local\\Temp\\ipykernel_26724\\1997433734.py:14: FutureWarning: The frame.append method is deprecated and will be removed from pandas in a future version. Use pandas.concat instead.\n",
      "  df.append(posts)\n"
     ]
    }
   ],
   "source": [
    "pushapi('AITA13',1669065210)"
   ]
  },
  {
   "cell_type": "code",
   "execution_count": 17,
   "id": "6c947f9c-db1f-43ed-96bd-5f63cc87a7e7",
   "metadata": {},
   "outputs": [
    {
     "name": "stdout",
     "output_type": "stream",
     "text": [
      "100\n",
      "1669038683\n"
     ]
    },
    {
     "name": "stderr",
     "output_type": "stream",
     "text": [
      "C:\\Users\\Sparrow\\AppData\\Local\\Temp\\ipykernel_26724\\1997433734.py:14: FutureWarning: The frame.append method is deprecated and will be removed from pandas in a future version. Use pandas.concat instead.\n",
      "  df.append(posts)\n"
     ]
    }
   ],
   "source": [
    "pushapi('AITA14',1669051206)"
   ]
  },
  {
   "cell_type": "code",
   "execution_count": 18,
   "id": "05c7d3ed-a023-4b42-b38f-73851936368f",
   "metadata": {},
   "outputs": [
    {
     "name": "stdout",
     "output_type": "stream",
     "text": [
      "100\n",
      "1669017748\n"
     ]
    },
    {
     "name": "stderr",
     "output_type": "stream",
     "text": [
      "C:\\Users\\Sparrow\\AppData\\Local\\Temp\\ipykernel_26724\\1997433734.py:14: FutureWarning: The frame.append method is deprecated and will be removed from pandas in a future version. Use pandas.concat instead.\n",
      "  df.append(posts)\n"
     ]
    }
   ],
   "source": [
    "pushapi('AITA15',1669038683)"
   ]
  },
  {
   "cell_type": "code",
   "execution_count": 19,
   "id": "0b87f4e4-12ab-46a9-92fe-1fa6aa348ac4",
   "metadata": {},
   "outputs": [
    {
     "name": "stdout",
     "output_type": "stream",
     "text": [
      "100\n",
      "1669001040\n"
     ]
    },
    {
     "name": "stderr",
     "output_type": "stream",
     "text": [
      "C:\\Users\\Sparrow\\AppData\\Local\\Temp\\ipykernel_26724\\1997433734.py:14: FutureWarning: The frame.append method is deprecated and will be removed from pandas in a future version. Use pandas.concat instead.\n",
      "  df.append(posts)\n"
     ]
    }
   ],
   "source": [
    "pushapi('AITA16',1669017748)"
   ]
  },
  {
   "cell_type": "code",
   "execution_count": 20,
   "id": "2d7ab93b-32d5-4749-9eb6-c0cf0509985c",
   "metadata": {},
   "outputs": [
    {
     "name": "stdout",
     "output_type": "stream",
     "text": [
      "100\n",
      "1668987026\n"
     ]
    },
    {
     "name": "stderr",
     "output_type": "stream",
     "text": [
      "C:\\Users\\Sparrow\\AppData\\Local\\Temp\\ipykernel_26724\\1997433734.py:14: FutureWarning: The frame.append method is deprecated and will be removed from pandas in a future version. Use pandas.concat instead.\n",
      "  df.append(posts)\n"
     ]
    }
   ],
   "source": [
    "pushapi('AITA17',1669001040)"
   ]
  },
  {
   "cell_type": "code",
   "execution_count": 21,
   "id": "0afc49ba-cb32-4f98-b046-9794a56e028f",
   "metadata": {},
   "outputs": [
    {
     "name": "stdout",
     "output_type": "stream",
     "text": [
      "100\n",
      "1668974530\n"
     ]
    },
    {
     "name": "stderr",
     "output_type": "stream",
     "text": [
      "C:\\Users\\Sparrow\\AppData\\Local\\Temp\\ipykernel_26724\\1997433734.py:14: FutureWarning: The frame.append method is deprecated and will be removed from pandas in a future version. Use pandas.concat instead.\n",
      "  df.append(posts)\n"
     ]
    }
   ],
   "source": [
    "pushapi('AITA18',1668987026)"
   ]
  },
  {
   "cell_type": "code",
   "execution_count": 22,
   "id": "4a9a444f-afd0-4aa2-8e22-c2f95afcc344",
   "metadata": {},
   "outputs": [
    {
     "name": "stdout",
     "output_type": "stream",
     "text": [
      "100\n",
      "1668962824\n"
     ]
    },
    {
     "name": "stderr",
     "output_type": "stream",
     "text": [
      "C:\\Users\\Sparrow\\AppData\\Local\\Temp\\ipykernel_26724\\1997433734.py:14: FutureWarning: The frame.append method is deprecated and will be removed from pandas in a future version. Use pandas.concat instead.\n",
      "  df.append(posts)\n"
     ]
    }
   ],
   "source": [
    "pushapi('AITA19',1668974530)"
   ]
  },
  {
   "cell_type": "code",
   "execution_count": 23,
   "id": "4447fae4-86ab-49ad-9409-86c993e0ec7a",
   "metadata": {},
   "outputs": [
    {
     "name": "stdout",
     "output_type": "stream",
     "text": [
      "100\n",
      "1668948941\n"
     ]
    },
    {
     "name": "stderr",
     "output_type": "stream",
     "text": [
      "C:\\Users\\Sparrow\\AppData\\Local\\Temp\\ipykernel_26724\\1997433734.py:14: FutureWarning: The frame.append method is deprecated and will be removed from pandas in a future version. Use pandas.concat instead.\n",
      "  df.append(posts)\n"
     ]
    }
   ],
   "source": [
    "pushapi('AITA20',1668962824)"
   ]
  },
  {
   "cell_type": "code",
   "execution_count": 24,
   "id": "950135b1-bb4c-4e07-b12d-6704e8b4d07c",
   "metadata": {},
   "outputs": [
    {
     "name": "stdout",
     "output_type": "stream",
     "text": [
      "100\n",
      "1668931070\n"
     ]
    },
    {
     "name": "stderr",
     "output_type": "stream",
     "text": [
      "C:\\Users\\Sparrow\\AppData\\Local\\Temp\\ipykernel_26724\\1997433734.py:14: FutureWarning: The frame.append method is deprecated and will be removed from pandas in a future version. Use pandas.concat instead.\n",
      "  df.append(posts)\n"
     ]
    }
   ],
   "source": [
    "pushapi('AITA21',1668948941)"
   ]
  },
  {
   "cell_type": "code",
   "execution_count": 25,
   "id": "77bb1d44-28f9-4c67-96af-47e3775eaa1b",
   "metadata": {},
   "outputs": [
    {
     "name": "stdout",
     "output_type": "stream",
     "text": [
      "100\n",
      "1668915820\n"
     ]
    },
    {
     "name": "stderr",
     "output_type": "stream",
     "text": [
      "C:\\Users\\Sparrow\\AppData\\Local\\Temp\\ipykernel_26724\\1997433734.py:14: FutureWarning: The frame.append method is deprecated and will be removed from pandas in a future version. Use pandas.concat instead.\n",
      "  df.append(posts)\n"
     ]
    }
   ],
   "source": [
    "pushapi('AITA22',1668931070)"
   ]
  },
  {
   "cell_type": "code",
   "execution_count": 26,
   "id": "d92cfa0d-4216-4fda-8334-69e1793831fc",
   "metadata": {},
   "outputs": [
    {
     "name": "stdout",
     "output_type": "stream",
     "text": [
      "100\n",
      "1668902164\n"
     ]
    },
    {
     "name": "stderr",
     "output_type": "stream",
     "text": [
      "C:\\Users\\Sparrow\\AppData\\Local\\Temp\\ipykernel_26724\\1997433734.py:14: FutureWarning: The frame.append method is deprecated and will be removed from pandas in a future version. Use pandas.concat instead.\n",
      "  df.append(posts)\n"
     ]
    }
   ],
   "source": [
    "pushapi('AITA23',1668915820)"
   ]
  },
  {
   "cell_type": "code",
   "execution_count": 27,
   "id": "8753d3a0-771d-4a00-b4eb-ca2a55f112b8",
   "metadata": {},
   "outputs": [
    {
     "name": "stdout",
     "output_type": "stream",
     "text": [
      "100\n",
      "1668887974\n"
     ]
    },
    {
     "name": "stderr",
     "output_type": "stream",
     "text": [
      "C:\\Users\\Sparrow\\AppData\\Local\\Temp\\ipykernel_26724\\1997433734.py:14: FutureWarning: The frame.append method is deprecated and will be removed from pandas in a future version. Use pandas.concat instead.\n",
      "  df.append(posts)\n"
     ]
    }
   ],
   "source": [
    "pushapi('AITA24',1668902164)"
   ]
  },
  {
   "cell_type": "code",
   "execution_count": 28,
   "id": "ca7748bb-1c05-480a-9355-392c2880c7db",
   "metadata": {},
   "outputs": [
    {
     "name": "stdout",
     "output_type": "stream",
     "text": [
      "100\n",
      "1668874643\n"
     ]
    },
    {
     "name": "stderr",
     "output_type": "stream",
     "text": [
      "C:\\Users\\Sparrow\\AppData\\Local\\Temp\\ipykernel_26724\\1997433734.py:14: FutureWarning: The frame.append method is deprecated and will be removed from pandas in a future version. Use pandas.concat instead.\n",
      "  df.append(posts)\n"
     ]
    }
   ],
   "source": [
    "pushapi('AITA25',1668887974)"
   ]
  },
  {
   "cell_type": "code",
   "execution_count": 29,
   "id": "741c4fab-21fd-4e24-831d-210ccf772b18",
   "metadata": {},
   "outputs": [
    {
     "name": "stdout",
     "output_type": "stream",
     "text": [
      "100\n",
      "1668858258\n"
     ]
    },
    {
     "name": "stderr",
     "output_type": "stream",
     "text": [
      "C:\\Users\\Sparrow\\AppData\\Local\\Temp\\ipykernel_26724\\1997433734.py:14: FutureWarning: The frame.append method is deprecated and will be removed from pandas in a future version. Use pandas.concat instead.\n",
      "  df.append(posts)\n"
     ]
    }
   ],
   "source": [
    "pushapi('AITA26',1668874643)"
   ]
  },
  {
   "cell_type": "code",
   "execution_count": 30,
   "id": "346977a6-04e3-46f3-9b94-36a0bbb8001a",
   "metadata": {},
   "outputs": [
    {
     "name": "stdout",
     "output_type": "stream",
     "text": [
      "100\n",
      "1668839391\n"
     ]
    },
    {
     "name": "stderr",
     "output_type": "stream",
     "text": [
      "C:\\Users\\Sparrow\\AppData\\Local\\Temp\\ipykernel_26724\\1997433734.py:14: FutureWarning: The frame.append method is deprecated and will be removed from pandas in a future version. Use pandas.concat instead.\n",
      "  df.append(posts)\n"
     ]
    }
   ],
   "source": [
    "pushapi('AITA27',1668858258)"
   ]
  },
  {
   "cell_type": "code",
   "execution_count": 31,
   "id": "ae40c73b-5d2d-4cba-b8da-d816b7d7aa83",
   "metadata": {},
   "outputs": [
    {
     "name": "stdout",
     "output_type": "stream",
     "text": [
      "100\n",
      "1668824222\n"
     ]
    },
    {
     "name": "stderr",
     "output_type": "stream",
     "text": [
      "C:\\Users\\Sparrow\\AppData\\Local\\Temp\\ipykernel_26724\\1997433734.py:14: FutureWarning: The frame.append method is deprecated and will be removed from pandas in a future version. Use pandas.concat instead.\n",
      "  df.append(posts)\n"
     ]
    }
   ],
   "source": [
    "pushapi('AITA28',1668839391)"
   ]
  },
  {
   "cell_type": "code",
   "execution_count": 32,
   "id": "036b3e3d-c4bd-423f-a02d-7ead3fb64d55",
   "metadata": {},
   "outputs": [
    {
     "name": "stdout",
     "output_type": "stream",
     "text": [
      "100\n",
      "1668810324\n"
     ]
    },
    {
     "name": "stderr",
     "output_type": "stream",
     "text": [
      "C:\\Users\\Sparrow\\AppData\\Local\\Temp\\ipykernel_26724\\1997433734.py:14: FutureWarning: The frame.append method is deprecated and will be removed from pandas in a future version. Use pandas.concat instead.\n",
      "  df.append(posts)\n"
     ]
    }
   ],
   "source": [
    "pushapi('AITA29',1668824222)"
   ]
  },
  {
   "cell_type": "code",
   "execution_count": 33,
   "id": "b40004ab-850c-4b14-bbc7-70c32e93d29a",
   "metadata": {},
   "outputs": [
    {
     "name": "stdout",
     "output_type": "stream",
     "text": [
      "100\n",
      "1668796265\n"
     ]
    },
    {
     "name": "stderr",
     "output_type": "stream",
     "text": [
      "C:\\Users\\Sparrow\\AppData\\Local\\Temp\\ipykernel_26724\\1997433734.py:14: FutureWarning: The frame.append method is deprecated and will be removed from pandas in a future version. Use pandas.concat instead.\n",
      "  df.append(posts)\n"
     ]
    }
   ],
   "source": [
    "pushapi('AITA30',1668810324)"
   ]
  },
  {
   "cell_type": "code",
   "execution_count": 34,
   "id": "7a568f31-0e8a-4c19-8da0-89720a809381",
   "metadata": {},
   "outputs": [
    {
     "name": "stdout",
     "output_type": "stream",
     "text": [
      "100\n",
      "1668780905\n"
     ]
    },
    {
     "name": "stderr",
     "output_type": "stream",
     "text": [
      "C:\\Users\\Sparrow\\AppData\\Local\\Temp\\ipykernel_26724\\1997433734.py:14: FutureWarning: The frame.append method is deprecated and will be removed from pandas in a future version. Use pandas.concat instead.\n",
      "  df.append(posts)\n"
     ]
    }
   ],
   "source": [
    "pushapi('AITA31',1668796265)"
   ]
  },
  {
   "cell_type": "code",
   "execution_count": 35,
   "id": "895f216c-3083-47c5-89d3-de0b2fbbc6de",
   "metadata": {},
   "outputs": [
    {
     "name": "stdout",
     "output_type": "stream",
     "text": [
      "100\n",
      "1668760666\n"
     ]
    },
    {
     "name": "stderr",
     "output_type": "stream",
     "text": [
      "C:\\Users\\Sparrow\\AppData\\Local\\Temp\\ipykernel_26724\\1997433734.py:14: FutureWarning: The frame.append method is deprecated and will be removed from pandas in a future version. Use pandas.concat instead.\n",
      "  df.append(posts)\n"
     ]
    }
   ],
   "source": [
    "pushapi('AITA32',1668780905)"
   ]
  },
  {
   "cell_type": "code",
   "execution_count": 36,
   "id": "da823db8-8364-4e95-ba48-10151e68f88e",
   "metadata": {},
   "outputs": [
    {
     "name": "stdout",
     "output_type": "stream",
     "text": [
      "100\n",
      "1668741534\n"
     ]
    },
    {
     "name": "stderr",
     "output_type": "stream",
     "text": [
      "C:\\Users\\Sparrow\\AppData\\Local\\Temp\\ipykernel_26724\\1997433734.py:14: FutureWarning: The frame.append method is deprecated and will be removed from pandas in a future version. Use pandas.concat instead.\n",
      "  df.append(posts)\n"
     ]
    }
   ],
   "source": [
    "pushapi('AITA33',1668760666)"
   ]
  },
  {
   "cell_type": "code",
   "execution_count": 37,
   "id": "79dcb8da-f61f-46d8-b20f-48728aaaf155",
   "metadata": {},
   "outputs": [
    {
     "name": "stdout",
     "output_type": "stream",
     "text": [
      "100\n",
      "1670340985\n"
     ]
    },
    {
     "name": "stderr",
     "output_type": "stream",
     "text": [
      "C:\\Users\\Sparrow\\AppData\\Local\\Temp\\ipykernel_26724\\1997433734.py:14: FutureWarning: The frame.append method is deprecated and will be removed from pandas in a future version. Use pandas.concat instead.\n",
      "  df.append(posts)\n"
     ]
    }
   ],
   "source": [
    "pushapi('AITA34',16687415344)"
   ]
  },
  {
   "cell_type": "code",
   "execution_count": 38,
   "id": "bd08031d-0ccb-4486-bcf6-67a18b5e6473",
   "metadata": {},
   "outputs": [
    {
     "name": "stdout",
     "output_type": "stream",
     "text": [
      "100\n",
      "1670244066\n"
     ]
    },
    {
     "name": "stderr",
     "output_type": "stream",
     "text": [
      "C:\\Users\\Sparrow\\AppData\\Local\\Temp\\ipykernel_26724\\1997433734.py:14: FutureWarning: The frame.append method is deprecated and will be removed from pandas in a future version. Use pandas.concat instead.\n",
      "  df.append(posts)\n"
     ]
    }
   ],
   "source": [
    "pushapi('AITA35',1670257931)"
   ]
  },
  {
   "cell_type": "code",
   "execution_count": 39,
   "id": "47cef390-587b-4189-9308-0457efbc7cd9",
   "metadata": {},
   "outputs": [
    {
     "name": "stdout",
     "output_type": "stream",
     "text": [
      "100\n",
      "1670225201\n"
     ]
    },
    {
     "name": "stderr",
     "output_type": "stream",
     "text": [
      "C:\\Users\\Sparrow\\AppData\\Local\\Temp\\ipykernel_26724\\1997433734.py:14: FutureWarning: The frame.append method is deprecated and will be removed from pandas in a future version. Use pandas.concat instead.\n",
      "  df.append(posts)\n"
     ]
    }
   ],
   "source": [
    "pushapi('AITA36',1670244066)"
   ]
  },
  {
   "cell_type": "code",
   "execution_count": 40,
   "id": "dff964c5-6283-4aa5-845b-3d9d3d0ee1b1",
   "metadata": {},
   "outputs": [
    {
     "name": "stdout",
     "output_type": "stream",
     "text": [
      "100\n",
      "1670209133\n"
     ]
    },
    {
     "name": "stderr",
     "output_type": "stream",
     "text": [
      "C:\\Users\\Sparrow\\AppData\\Local\\Temp\\ipykernel_26724\\1997433734.py:14: FutureWarning: The frame.append method is deprecated and will be removed from pandas in a future version. Use pandas.concat instead.\n",
      "  df.append(posts)\n"
     ]
    }
   ],
   "source": [
    "pushapi('AITA37',1670225201)"
   ]
  },
  {
   "cell_type": "code",
   "execution_count": 41,
   "id": "23f3dc94-5bc1-46a8-978e-3a602e21db08",
   "metadata": {},
   "outputs": [
    {
     "name": "stdout",
     "output_type": "stream",
     "text": [
      "100\n",
      "1670195787\n"
     ]
    },
    {
     "name": "stderr",
     "output_type": "stream",
     "text": [
      "C:\\Users\\Sparrow\\AppData\\Local\\Temp\\ipykernel_26724\\1997433734.py:14: FutureWarning: The frame.append method is deprecated and will be removed from pandas in a future version. Use pandas.concat instead.\n",
      "  df.append(posts)\n"
     ]
    }
   ],
   "source": [
    "pushapi('AITA38',1670209133)"
   ]
  },
  {
   "cell_type": "code",
   "execution_count": 43,
   "id": "48b9918e-e949-4019-8273-0a601bf5471d",
   "metadata": {},
   "outputs": [
    {
     "name": "stdout",
     "output_type": "stream",
     "text": [
      "100\n",
      "1670182536\n"
     ]
    },
    {
     "name": "stderr",
     "output_type": "stream",
     "text": [
      "C:\\Users\\Sparrow\\AppData\\Local\\Temp\\ipykernel_26724\\1997433734.py:14: FutureWarning: The frame.append method is deprecated and will be removed from pandas in a future version. Use pandas.concat instead.\n",
      "  df.append(posts)\n"
     ]
    }
   ],
   "source": [
    "pushapi('AITA39',1670195787)"
   ]
  },
  {
   "cell_type": "code",
   "execution_count": 44,
   "id": "f395465b-ed1b-4390-a90f-141f27a51f07",
   "metadata": {},
   "outputs": [
    {
     "name": "stdout",
     "output_type": "stream",
     "text": [
      "100\n",
      "1670170643\n"
     ]
    },
    {
     "name": "stderr",
     "output_type": "stream",
     "text": [
      "C:\\Users\\Sparrow\\AppData\\Local\\Temp\\ipykernel_26724\\1997433734.py:14: FutureWarning: The frame.append method is deprecated and will be removed from pandas in a future version. Use pandas.concat instead.\n",
      "  df.append(posts)\n"
     ]
    }
   ],
   "source": [
    "pushapi('AITA40',1670182536)"
   ]
  },
  {
   "cell_type": "code",
   "execution_count": 45,
   "id": "bd1c89b0-b8ef-4e8f-a045-b65a6ab71d92",
   "metadata": {},
   "outputs": [
    {
     "name": "stdout",
     "output_type": "stream",
     "text": [
      "100\n",
      "1670156403\n"
     ]
    },
    {
     "name": "stderr",
     "output_type": "stream",
     "text": [
      "C:\\Users\\Sparrow\\AppData\\Local\\Temp\\ipykernel_26724\\1997433734.py:14: FutureWarning: The frame.append method is deprecated and will be removed from pandas in a future version. Use pandas.concat instead.\n",
      "  df.append(posts)\n"
     ]
    }
   ],
   "source": [
    "pushapi('AITA41',1670170643)"
   ]
  },
  {
   "cell_type": "code",
   "execution_count": 46,
   "id": "79fbb2b3-0b06-49cc-9373-97ae4cb1cd69",
   "metadata": {},
   "outputs": [
    {
     "name": "stdout",
     "output_type": "stream",
     "text": [
      "97\n",
      "1670138609\n"
     ]
    },
    {
     "name": "stderr",
     "output_type": "stream",
     "text": [
      "C:\\Users\\Sparrow\\AppData\\Local\\Temp\\ipykernel_26724\\1997433734.py:14: FutureWarning: The frame.append method is deprecated and will be removed from pandas in a future version. Use pandas.concat instead.\n",
      "  df.append(posts)\n"
     ]
    }
   ],
   "source": [
    "pushapi('AITA42',1670156403)"
   ]
  },
  {
   "cell_type": "code",
   "execution_count": 47,
   "id": "6ca252b9-ce12-4fa1-966b-69b17b10d63f",
   "metadata": {},
   "outputs": [
    {
     "name": "stdout",
     "output_type": "stream",
     "text": [
      "100\n",
      "1670124134\n"
     ]
    },
    {
     "name": "stderr",
     "output_type": "stream",
     "text": [
      "C:\\Users\\Sparrow\\AppData\\Local\\Temp\\ipykernel_26724\\1997433734.py:14: FutureWarning: The frame.append method is deprecated and will be removed from pandas in a future version. Use pandas.concat instead.\n",
      "  df.append(posts)\n"
     ]
    }
   ],
   "source": [
    "pushapi('AITA43',1670138609)"
   ]
  },
  {
   "cell_type": "code",
   "execution_count": 48,
   "id": "de7a2f52-6e85-432e-912d-0fac3b340a37",
   "metadata": {},
   "outputs": [
    {
     "name": "stdout",
     "output_type": "stream",
     "text": [
      "100\n",
      "1670110428\n"
     ]
    },
    {
     "name": "stderr",
     "output_type": "stream",
     "text": [
      "C:\\Users\\Sparrow\\AppData\\Local\\Temp\\ipykernel_26724\\1997433734.py:14: FutureWarning: The frame.append method is deprecated and will be removed from pandas in a future version. Use pandas.concat instead.\n",
      "  df.append(posts)\n"
     ]
    }
   ],
   "source": [
    "pushapi('AITA44',1670124134)"
   ]
  },
  {
   "cell_type": "code",
   "execution_count": 49,
   "id": "9fe3da8a-a10e-4b73-91a3-4770f9029981",
   "metadata": {},
   "outputs": [
    {
     "name": "stdout",
     "output_type": "stream",
     "text": [
      "100\n",
      "1670096229\n"
     ]
    },
    {
     "name": "stderr",
     "output_type": "stream",
     "text": [
      "C:\\Users\\Sparrow\\AppData\\Local\\Temp\\ipykernel_26724\\1997433734.py:14: FutureWarning: The frame.append method is deprecated and will be removed from pandas in a future version. Use pandas.concat instead.\n",
      "  df.append(posts)\n"
     ]
    }
   ],
   "source": [
    "pushapi('AITA45',1670110428)"
   ]
  },
  {
   "cell_type": "code",
   "execution_count": 50,
   "id": "fc9d602d-4d32-4f0e-af8f-cbf8a1e5c38e",
   "metadata": {},
   "outputs": [
    {
     "name": "stdout",
     "output_type": "stream",
     "text": [
      "100\n",
      "1670083975\n"
     ]
    },
    {
     "name": "stderr",
     "output_type": "stream",
     "text": [
      "C:\\Users\\Sparrow\\AppData\\Local\\Temp\\ipykernel_26724\\1997433734.py:14: FutureWarning: The frame.append method is deprecated and will be removed from pandas in a future version. Use pandas.concat instead.\n",
      "  df.append(posts)\n"
     ]
    }
   ],
   "source": [
    "pushapi('AITA46',1670096229)"
   ]
  },
  {
   "cell_type": "code",
   "execution_count": 51,
   "id": "807f7e02-00c0-4b85-8a01-2859a01b1c87",
   "metadata": {},
   "outputs": [
    {
     "name": "stdout",
     "output_type": "stream",
     "text": [
      "100\n",
      "1670070230\n"
     ]
    },
    {
     "name": "stderr",
     "output_type": "stream",
     "text": [
      "C:\\Users\\Sparrow\\AppData\\Local\\Temp\\ipykernel_26724\\1997433734.py:14: FutureWarning: The frame.append method is deprecated and will be removed from pandas in a future version. Use pandas.concat instead.\n",
      "  df.append(posts)\n"
     ]
    }
   ],
   "source": [
    "pushapi('AITA47',1670083975)"
   ]
  },
  {
   "cell_type": "code",
   "execution_count": 52,
   "id": "05ac8fa0-2e27-4d0e-9ccc-0cf3c3bdda0c",
   "metadata": {},
   "outputs": [
    {
     "name": "stdout",
     "output_type": "stream",
     "text": [
      "100\n",
      "1670052495\n"
     ]
    },
    {
     "name": "stderr",
     "output_type": "stream",
     "text": [
      "C:\\Users\\Sparrow\\AppData\\Local\\Temp\\ipykernel_26724\\1997433734.py:14: FutureWarning: The frame.append method is deprecated and will be removed from pandas in a future version. Use pandas.concat instead.\n",
      "  df.append(posts)\n"
     ]
    }
   ],
   "source": [
    "pushapi('AITA48',1670070230)"
   ]
  },
  {
   "cell_type": "code",
   "execution_count": 53,
   "id": "fd103589-feb4-4f98-a86c-9d4b16cae3cd",
   "metadata": {},
   "outputs": [
    {
     "name": "stdout",
     "output_type": "stream",
     "text": [
      "100\n",
      "1670037242\n"
     ]
    },
    {
     "name": "stderr",
     "output_type": "stream",
     "text": [
      "C:\\Users\\Sparrow\\AppData\\Local\\Temp\\ipykernel_26724\\1997433734.py:14: FutureWarning: The frame.append method is deprecated and will be removed from pandas in a future version. Use pandas.concat instead.\n",
      "  df.append(posts)\n"
     ]
    }
   ],
   "source": [
    "pushapi('AITA49',1670052495)"
   ]
  },
  {
   "cell_type": "code",
   "execution_count": 54,
   "id": "2773f708-f9d7-4f2e-91f1-9b36b1787e3b",
   "metadata": {},
   "outputs": [
    {
     "name": "stdout",
     "output_type": "stream",
     "text": [
      "100\n",
      "1670023393\n"
     ]
    },
    {
     "name": "stderr",
     "output_type": "stream",
     "text": [
      "C:\\Users\\Sparrow\\AppData\\Local\\Temp\\ipykernel_26724\\1997433734.py:14: FutureWarning: The frame.append method is deprecated and will be removed from pandas in a future version. Use pandas.concat instead.\n",
      "  df.append(posts)\n"
     ]
    }
   ],
   "source": [
    "pushapi('AITA50',1670037242)"
   ]
  },
  {
   "cell_type": "code",
   "execution_count": 55,
   "id": "ced0143c-e1ca-47fe-a7c3-704c0cb361fc",
   "metadata": {},
   "outputs": [
    {
     "name": "stdout",
     "output_type": "stream",
     "text": [
      "100\n",
      "1670009797\n"
     ]
    },
    {
     "name": "stderr",
     "output_type": "stream",
     "text": [
      "C:\\Users\\Sparrow\\AppData\\Local\\Temp\\ipykernel_26724\\1997433734.py:14: FutureWarning: The frame.append method is deprecated and will be removed from pandas in a future version. Use pandas.concat instead.\n",
      "  df.append(posts)\n"
     ]
    }
   ],
   "source": [
    "pushapi('AITA51',1670023393)"
   ]
  },
  {
   "cell_type": "code",
   "execution_count": 56,
   "id": "25b840ea-1aee-4840-9786-37b1bac33a52",
   "metadata": {},
   "outputs": [
    {
     "name": "stdout",
     "output_type": "stream",
     "text": [
      "100\n",
      "1669995431\n"
     ]
    },
    {
     "name": "stderr",
     "output_type": "stream",
     "text": [
      "C:\\Users\\Sparrow\\AppData\\Local\\Temp\\ipykernel_26724\\1997433734.py:14: FutureWarning: The frame.append method is deprecated and will be removed from pandas in a future version. Use pandas.concat instead.\n",
      "  df.append(posts)\n"
     ]
    }
   ],
   "source": [
    "pushapi('AITA52',1670009797)"
   ]
  },
  {
   "cell_type": "code",
   "execution_count": 57,
   "id": "f5fb8bf6-6b78-4e1f-8d9b-3b9ed849112f",
   "metadata": {},
   "outputs": [
    {
     "name": "stdout",
     "output_type": "stream",
     "text": [
      "100\n",
      "1669978969\n"
     ]
    },
    {
     "name": "stderr",
     "output_type": "stream",
     "text": [
      "C:\\Users\\Sparrow\\AppData\\Local\\Temp\\ipykernel_26724\\1997433734.py:14: FutureWarning: The frame.append method is deprecated and will be removed from pandas in a future version. Use pandas.concat instead.\n",
      "  df.append(posts)\n"
     ]
    }
   ],
   "source": [
    "pushapi('AITA53',1669995431)"
   ]
  },
  {
   "cell_type": "code",
   "execution_count": 58,
   "id": "70501053-d7bf-4be7-9ad7-01d4eab38421",
   "metadata": {},
   "outputs": [
    {
     "name": "stdout",
     "output_type": "stream",
     "text": [
      "100\n",
      "1669958454\n"
     ]
    },
    {
     "name": "stderr",
     "output_type": "stream",
     "text": [
      "C:\\Users\\Sparrow\\AppData\\Local\\Temp\\ipykernel_26724\\1997433734.py:14: FutureWarning: The frame.append method is deprecated and will be removed from pandas in a future version. Use pandas.concat instead.\n",
      "  df.append(posts)\n"
     ]
    }
   ],
   "source": [
    "pushapi('AITA54',1669978969)"
   ]
  },
  {
   "cell_type": "code",
   "execution_count": 59,
   "id": "0e804774-c23d-4977-8fae-5b1470ec1c0c",
   "metadata": {},
   "outputs": [
    {
     "name": "stdout",
     "output_type": "stream",
     "text": [
      "100\n",
      "1669945345\n"
     ]
    },
    {
     "name": "stderr",
     "output_type": "stream",
     "text": [
      "C:\\Users\\Sparrow\\AppData\\Local\\Temp\\ipykernel_26724\\1997433734.py:14: FutureWarning: The frame.append method is deprecated and will be removed from pandas in a future version. Use pandas.concat instead.\n",
      "  df.append(posts)\n"
     ]
    }
   ],
   "source": [
    "pushapi('AITA55',1669958454)"
   ]
  },
  {
   "cell_type": "code",
   "execution_count": 60,
   "id": "ebd096f9-7c58-458c-b0c0-92665b6b0c31",
   "metadata": {},
   "outputs": [
    {
     "name": "stdout",
     "output_type": "stream",
     "text": [
      "100\n",
      "1669932439\n"
     ]
    },
    {
     "name": "stderr",
     "output_type": "stream",
     "text": [
      "C:\\Users\\Sparrow\\AppData\\Local\\Temp\\ipykernel_26724\\1997433734.py:14: FutureWarning: The frame.append method is deprecated and will be removed from pandas in a future version. Use pandas.concat instead.\n",
      "  df.append(posts)\n"
     ]
    }
   ],
   "source": [
    "pushapi('AITA56',1669945345)"
   ]
  },
  {
   "cell_type": "code",
   "execution_count": 61,
   "id": "199d383b-d180-4d43-ae41-b14b0036f16d",
   "metadata": {},
   "outputs": [
    {
     "name": "stdout",
     "output_type": "stream",
     "text": [
      "100\n",
      "1669919132\n"
     ]
    },
    {
     "name": "stderr",
     "output_type": "stream",
     "text": [
      "C:\\Users\\Sparrow\\AppData\\Local\\Temp\\ipykernel_26724\\1997433734.py:14: FutureWarning: The frame.append method is deprecated and will be removed from pandas in a future version. Use pandas.concat instead.\n",
      "  df.append(posts)\n"
     ]
    }
   ],
   "source": [
    "pushapi('AITA57',1669932439)"
   ]
  },
  {
   "cell_type": "code",
   "execution_count": 62,
   "id": "30dacebf-f792-4733-b284-2ef7833fb9e3",
   "metadata": {},
   "outputs": [
    {
     "name": "stdout",
     "output_type": "stream",
     "text": [
      "100\n",
      "1669905389\n"
     ]
    },
    {
     "name": "stderr",
     "output_type": "stream",
     "text": [
      "C:\\Users\\Sparrow\\AppData\\Local\\Temp\\ipykernel_26724\\1997433734.py:14: FutureWarning: The frame.append method is deprecated and will be removed from pandas in a future version. Use pandas.concat instead.\n",
      "  df.append(posts)\n"
     ]
    }
   ],
   "source": [
    "pushapi('AITA58',1669919132)"
   ]
  },
  {
   "cell_type": "code",
   "execution_count": 63,
   "id": "5240737e-84a2-403e-bcb5-cb94003a4493",
   "metadata": {},
   "outputs": [
    {
     "name": "stdout",
     "output_type": "stream",
     "text": [
      "100\n",
      "1669886934\n"
     ]
    },
    {
     "name": "stderr",
     "output_type": "stream",
     "text": [
      "C:\\Users\\Sparrow\\AppData\\Local\\Temp\\ipykernel_26724\\1997433734.py:14: FutureWarning: The frame.append method is deprecated and will be removed from pandas in a future version. Use pandas.concat instead.\n",
      "  df.append(posts)\n"
     ]
    }
   ],
   "source": [
    "pushapi('AITA59',1669905389)"
   ]
  },
  {
   "cell_type": "code",
   "execution_count": 64,
   "id": "f0ce0ead-dffa-4766-8c55-cd201825a76c",
   "metadata": {},
   "outputs": [
    {
     "name": "stdout",
     "output_type": "stream",
     "text": [
      "100\n",
      "1669868034\n"
     ]
    },
    {
     "name": "stderr",
     "output_type": "stream",
     "text": [
      "C:\\Users\\Sparrow\\AppData\\Local\\Temp\\ipykernel_26724\\1997433734.py:14: FutureWarning: The frame.append method is deprecated and will be removed from pandas in a future version. Use pandas.concat instead.\n",
      "  df.append(posts)\n"
     ]
    }
   ],
   "source": [
    "pushapi('AITA60',1669886934)"
   ]
  },
  {
   "cell_type": "code",
   "execution_count": 65,
   "id": "aea06874-58ac-48f0-b014-156f25f7731e",
   "metadata": {},
   "outputs": [
    {
     "name": "stdout",
     "output_type": "stream",
     "text": [
      "100\n",
      "1669854208\n"
     ]
    },
    {
     "name": "stderr",
     "output_type": "stream",
     "text": [
      "C:\\Users\\Sparrow\\AppData\\Local\\Temp\\ipykernel_26724\\1997433734.py:14: FutureWarning: The frame.append method is deprecated and will be removed from pandas in a future version. Use pandas.concat instead.\n",
      "  df.append(posts)\n"
     ]
    }
   ],
   "source": [
    "pushapi('AITA61',1669868034)"
   ]
  },
  {
   "cell_type": "code",
   "execution_count": 66,
   "id": "4a7a5aff-fe52-4e8f-b72f-0c88fd146d7e",
   "metadata": {},
   "outputs": [
    {
     "name": "stdout",
     "output_type": "stream",
     "text": [
      "100\n",
      "1669839079\n"
     ]
    },
    {
     "name": "stderr",
     "output_type": "stream",
     "text": [
      "C:\\Users\\Sparrow\\AppData\\Local\\Temp\\ipykernel_26724\\1997433734.py:14: FutureWarning: The frame.append method is deprecated and will be removed from pandas in a future version. Use pandas.concat instead.\n",
      "  df.append(posts)\n"
     ]
    }
   ],
   "source": [
    "pushapi('AITA62',1669854208)"
   ]
  },
  {
   "cell_type": "code",
   "execution_count": 67,
   "id": "5836bd6e-6f41-4892-810f-b8d58c2d6d38",
   "metadata": {},
   "outputs": [
    {
     "name": "stdout",
     "output_type": "stream",
     "text": [
      "99\n",
      "1669825437\n"
     ]
    },
    {
     "name": "stderr",
     "output_type": "stream",
     "text": [
      "C:\\Users\\Sparrow\\AppData\\Local\\Temp\\ipykernel_26724\\1997433734.py:14: FutureWarning: The frame.append method is deprecated and will be removed from pandas in a future version. Use pandas.concat instead.\n",
      "  df.append(posts)\n"
     ]
    }
   ],
   "source": [
    "pushapi('AITA63',1669839079)"
   ]
  },
  {
   "cell_type": "code",
   "execution_count": 68,
   "id": "7b8484a7-d003-4706-85a3-8538ff331bb6",
   "metadata": {},
   "outputs": [
    {
     "name": "stdout",
     "output_type": "stream",
     "text": [
      "100\n",
      "1669810289\n"
     ]
    },
    {
     "name": "stderr",
     "output_type": "stream",
     "text": [
      "C:\\Users\\Sparrow\\AppData\\Local\\Temp\\ipykernel_26724\\1997433734.py:14: FutureWarning: The frame.append method is deprecated and will be removed from pandas in a future version. Use pandas.concat instead.\n",
      "  df.append(posts)\n"
     ]
    }
   ],
   "source": [
    "pushapi('AITA64',1669825437)"
   ]
  },
  {
   "cell_type": "code",
   "execution_count": 69,
   "id": "c9620f05-e921-4f2c-9662-cb6609763644",
   "metadata": {},
   "outputs": [
    {
     "name": "stdout",
     "output_type": "stream",
     "text": [
      "100\n",
      "1669791975\n"
     ]
    },
    {
     "name": "stderr",
     "output_type": "stream",
     "text": [
      "C:\\Users\\Sparrow\\AppData\\Local\\Temp\\ipykernel_26724\\1997433734.py:14: FutureWarning: The frame.append method is deprecated and will be removed from pandas in a future version. Use pandas.concat instead.\n",
      "  df.append(posts)\n"
     ]
    }
   ],
   "source": [
    "pushapi('AITA65',1669810289)"
   ]
  },
  {
   "cell_type": "code",
   "execution_count": 70,
   "id": "f2cb6c49-8792-46bd-821c-783a70a972e5",
   "metadata": {},
   "outputs": [
    {
     "name": "stdout",
     "output_type": "stream",
     "text": [
      "100\n",
      "1669776634\n"
     ]
    },
    {
     "name": "stderr",
     "output_type": "stream",
     "text": [
      "C:\\Users\\Sparrow\\AppData\\Local\\Temp\\ipykernel_26724\\1997433734.py:14: FutureWarning: The frame.append method is deprecated and will be removed from pandas in a future version. Use pandas.concat instead.\n",
      "  df.append(posts)\n"
     ]
    }
   ],
   "source": [
    "pushapi('AITA66',1669791975)"
   ]
  },
  {
   "cell_type": "code",
   "execution_count": 71,
   "id": "59586c73-d43f-44e4-82c2-31f239d30530",
   "metadata": {},
   "outputs": [
    {
     "name": "stdout",
     "output_type": "stream",
     "text": [
      "100\n",
      "1669764740\n"
     ]
    },
    {
     "name": "stderr",
     "output_type": "stream",
     "text": [
      "C:\\Users\\Sparrow\\AppData\\Local\\Temp\\ipykernel_26724\\1997433734.py:14: FutureWarning: The frame.append method is deprecated and will be removed from pandas in a future version. Use pandas.concat instead.\n",
      "  df.append(posts)\n"
     ]
    }
   ],
   "source": [
    "pushapi('AITA67',1669776634)"
   ]
  },
  {
   "cell_type": "code",
   "execution_count": 72,
   "id": "5ce3183c-b8fa-4de1-a583-f5810975dbb1",
   "metadata": {},
   "outputs": [
    {
     "name": "stdout",
     "output_type": "stream",
     "text": [
      "100\n",
      "1669751565\n"
     ]
    },
    {
     "name": "stderr",
     "output_type": "stream",
     "text": [
      "C:\\Users\\Sparrow\\AppData\\Local\\Temp\\ipykernel_26724\\1997433734.py:14: FutureWarning: The frame.append method is deprecated and will be removed from pandas in a future version. Use pandas.concat instead.\n",
      "  df.append(posts)\n"
     ]
    }
   ],
   "source": [
    "pushapi('AITA68',1669764740)"
   ]
  },
  {
   "cell_type": "code",
   "execution_count": 73,
   "id": "42d720ff-352f-43e5-8874-ca67cddfa6c1",
   "metadata": {},
   "outputs": [
    {
     "name": "stdout",
     "output_type": "stream",
     "text": [
      "100\n",
      "1669738017\n"
     ]
    },
    {
     "name": "stderr",
     "output_type": "stream",
     "text": [
      "C:\\Users\\Sparrow\\AppData\\Local\\Temp\\ipykernel_26724\\1997433734.py:14: FutureWarning: The frame.append method is deprecated and will be removed from pandas in a future version. Use pandas.concat instead.\n",
      "  df.append(posts)\n"
     ]
    }
   ],
   "source": [
    "pushapi('AITA69',1669751565)"
   ]
  },
  {
   "cell_type": "code",
   "execution_count": 74,
   "id": "4036b7d3-cfc1-4a06-889e-eba461a60e1d",
   "metadata": {},
   "outputs": [
    {
     "name": "stdout",
     "output_type": "stream",
     "text": [
      "100\n",
      "1669722071\n"
     ]
    },
    {
     "name": "stderr",
     "output_type": "stream",
     "text": [
      "C:\\Users\\Sparrow\\AppData\\Local\\Temp\\ipykernel_26724\\1997433734.py:14: FutureWarning: The frame.append method is deprecated and will be removed from pandas in a future version. Use pandas.concat instead.\n",
      "  df.append(posts)\n"
     ]
    }
   ],
   "source": [
    "pushapi('AITA70',1669738017)"
   ]
  },
  {
   "cell_type": "code",
   "execution_count": 75,
   "id": "e205216f-fe29-4125-b0ae-780e61c6a60b",
   "metadata": {},
   "outputs": [
    {
     "name": "stdout",
     "output_type": "stream",
     "text": [
      "100\n",
      "1669702259\n"
     ]
    },
    {
     "name": "stderr",
     "output_type": "stream",
     "text": [
      "C:\\Users\\Sparrow\\AppData\\Local\\Temp\\ipykernel_26724\\1997433734.py:14: FutureWarning: The frame.append method is deprecated and will be removed from pandas in a future version. Use pandas.concat instead.\n",
      "  df.append(posts)\n"
     ]
    }
   ],
   "source": [
    "pushapi('AITA71',1669722071)"
   ]
  },
  {
   "cell_type": "code",
   "execution_count": 76,
   "id": "4c81efe6-0502-4b4a-8ecf-5b684967a23e",
   "metadata": {},
   "outputs": [
    {
     "name": "stdout",
     "output_type": "stream",
     "text": [
      "100\n",
      "1669687272\n"
     ]
    },
    {
     "name": "stderr",
     "output_type": "stream",
     "text": [
      "C:\\Users\\Sparrow\\AppData\\Local\\Temp\\ipykernel_26724\\1997433734.py:14: FutureWarning: The frame.append method is deprecated and will be removed from pandas in a future version. Use pandas.concat instead.\n",
      "  df.append(posts)\n"
     ]
    }
   ],
   "source": [
    "pushapi('AITA72',1669702259)"
   ]
  },
  {
   "cell_type": "code",
   "execution_count": 77,
   "id": "8dd99740-6267-4137-af52-7346ce663150",
   "metadata": {},
   "outputs": [
    {
     "name": "stdout",
     "output_type": "stream",
     "text": [
      "100\n",
      "1669674177\n"
     ]
    },
    {
     "name": "stderr",
     "output_type": "stream",
     "text": [
      "C:\\Users\\Sparrow\\AppData\\Local\\Temp\\ipykernel_26724\\1997433734.py:14: FutureWarning: The frame.append method is deprecated and will be removed from pandas in a future version. Use pandas.concat instead.\n",
      "  df.append(posts)\n"
     ]
    }
   ],
   "source": [
    "pushapi('AITA73',1669687272)"
   ]
  },
  {
   "cell_type": "code",
   "execution_count": 78,
   "id": "c39bfad5-a20a-4b88-ae6d-398732baf3b7",
   "metadata": {},
   "outputs": [
    {
     "name": "stdout",
     "output_type": "stream",
     "text": [
      "100\n",
      "1669662457\n"
     ]
    },
    {
     "name": "stderr",
     "output_type": "stream",
     "text": [
      "C:\\Users\\Sparrow\\AppData\\Local\\Temp\\ipykernel_26724\\1997433734.py:14: FutureWarning: The frame.append method is deprecated and will be removed from pandas in a future version. Use pandas.concat instead.\n",
      "  df.append(posts)\n"
     ]
    }
   ],
   "source": [
    "pushapi('AITA74',1669674177)"
   ]
  },
  {
   "cell_type": "code",
   "execution_count": 79,
   "id": "b600ec7e-deca-484e-a444-2c6065d8057b",
   "metadata": {},
   "outputs": [
    {
     "name": "stdout",
     "output_type": "stream",
     "text": [
      "100\n",
      "1669649435\n"
     ]
    },
    {
     "name": "stderr",
     "output_type": "stream",
     "text": [
      "C:\\Users\\Sparrow\\AppData\\Local\\Temp\\ipykernel_26724\\1997433734.py:14: FutureWarning: The frame.append method is deprecated and will be removed from pandas in a future version. Use pandas.concat instead.\n",
      "  df.append(posts)\n"
     ]
    }
   ],
   "source": [
    "pushapi('AITA75',1669662457)"
   ]
  },
  {
   "cell_type": "code",
   "execution_count": 80,
   "id": "2094cc7e-f692-4929-819b-2c608a9d2eef",
   "metadata": {},
   "outputs": [
    {
     "name": "stdout",
     "output_type": "stream",
     "text": [
      "100\n",
      "1669633664\n"
     ]
    },
    {
     "name": "stderr",
     "output_type": "stream",
     "text": [
      "C:\\Users\\Sparrow\\AppData\\Local\\Temp\\ipykernel_26724\\1997433734.py:14: FutureWarning: The frame.append method is deprecated and will be removed from pandas in a future version. Use pandas.concat instead.\n",
      "  df.append(posts)\n"
     ]
    }
   ],
   "source": [
    "pushapi('AITA76',1669649435)"
   ]
  },
  {
   "cell_type": "code",
   "execution_count": 81,
   "id": "e7174f20-59fc-44a3-a850-1017bf7f0006",
   "metadata": {},
   "outputs": [
    {
     "name": "stdout",
     "output_type": "stream",
     "text": [
      "100\n",
      "1669613984\n"
     ]
    },
    {
     "name": "stderr",
     "output_type": "stream",
     "text": [
      "C:\\Users\\Sparrow\\AppData\\Local\\Temp\\ipykernel_26724\\1997433734.py:14: FutureWarning: The frame.append method is deprecated and will be removed from pandas in a future version. Use pandas.concat instead.\n",
      "  df.append(posts)\n"
     ]
    }
   ],
   "source": [
    "pushapi('AITA77',1669633664)"
   ]
  },
  {
   "cell_type": "code",
   "execution_count": 82,
   "id": "6650e6ee-5e47-42f4-9f1a-eed4ab1ffc97",
   "metadata": {},
   "outputs": [
    {
     "name": "stdout",
     "output_type": "stream",
     "text": [
      "100\n",
      "1669600946\n"
     ]
    },
    {
     "name": "stderr",
     "output_type": "stream",
     "text": [
      "C:\\Users\\Sparrow\\AppData\\Local\\Temp\\ipykernel_26724\\1997433734.py:14: FutureWarning: The frame.append method is deprecated and will be removed from pandas in a future version. Use pandas.concat instead.\n",
      "  df.append(posts)\n"
     ]
    }
   ],
   "source": [
    "pushapi('AITA78',1669613984)"
   ]
  },
  {
   "cell_type": "code",
   "execution_count": 83,
   "id": "3d953ae9-a3ea-4737-a67d-ac9b9c3e034c",
   "metadata": {},
   "outputs": [
    {
     "name": "stdout",
     "output_type": "stream",
     "text": [
      "100\n",
      "1669588027\n"
     ]
    },
    {
     "name": "stderr",
     "output_type": "stream",
     "text": [
      "C:\\Users\\Sparrow\\AppData\\Local\\Temp\\ipykernel_26724\\1997433734.py:14: FutureWarning: The frame.append method is deprecated and will be removed from pandas in a future version. Use pandas.concat instead.\n",
      "  df.append(posts)\n"
     ]
    }
   ],
   "source": [
    "pushapi('AITA79',1669600946)"
   ]
  },
  {
   "cell_type": "code",
   "execution_count": 85,
   "id": "27929d90-f57f-4e84-a148-211cd1e757d3",
   "metadata": {},
   "outputs": [
    {
     "name": "stdout",
     "output_type": "stream",
     "text": [
      "100\n",
      "1669575722\n"
     ]
    },
    {
     "name": "stderr",
     "output_type": "stream",
     "text": [
      "C:\\Users\\Sparrow\\AppData\\Local\\Temp\\ipykernel_26724\\1997433734.py:14: FutureWarning: The frame.append method is deprecated and will be removed from pandas in a future version. Use pandas.concat instead.\n",
      "  df.append(posts)\n"
     ]
    }
   ],
   "source": [
    "pushapi('AITA80',1669588027)"
   ]
  },
  {
   "cell_type": "code",
   "execution_count": 86,
   "id": "a59a137f-2ed4-4397-883a-421c89afaad6",
   "metadata": {},
   "outputs": [
    {
     "name": "stdout",
     "output_type": "stream",
     "text": [
      "100\n",
      "1669563796\n"
     ]
    },
    {
     "name": "stderr",
     "output_type": "stream",
     "text": [
      "C:\\Users\\Sparrow\\AppData\\Local\\Temp\\ipykernel_26724\\1997433734.py:14: FutureWarning: The frame.append method is deprecated and will be removed from pandas in a future version. Use pandas.concat instead.\n",
      "  df.append(posts)\n"
     ]
    }
   ],
   "source": [
    "pushapi('AITA81',1669575722)"
   ]
  },
  {
   "cell_type": "code",
   "execution_count": 87,
   "id": "c687296e-a7a6-4721-a117-f07cfd6c5a67",
   "metadata": {},
   "outputs": [
    {
     "name": "stdout",
     "output_type": "stream",
     "text": [
      "100\n",
      "1669550203\n"
     ]
    },
    {
     "name": "stderr",
     "output_type": "stream",
     "text": [
      "C:\\Users\\Sparrow\\AppData\\Local\\Temp\\ipykernel_26724\\1997433734.py:14: FutureWarning: The frame.append method is deprecated and will be removed from pandas in a future version. Use pandas.concat instead.\n",
      "  df.append(posts)\n"
     ]
    }
   ],
   "source": [
    "pushapi('AITA82',1669563796)"
   ]
  },
  {
   "cell_type": "code",
   "execution_count": 88,
   "id": "846e9261-49ea-42ab-b614-b61f3d679613",
   "metadata": {},
   "outputs": [
    {
     "name": "stdout",
     "output_type": "stream",
     "text": [
      "100\n",
      "1669532116\n"
     ]
    },
    {
     "name": "stderr",
     "output_type": "stream",
     "text": [
      "C:\\Users\\Sparrow\\AppData\\Local\\Temp\\ipykernel_26724\\1997433734.py:14: FutureWarning: The frame.append method is deprecated and will be removed from pandas in a future version. Use pandas.concat instead.\n",
      "  df.append(posts)\n"
     ]
    }
   ],
   "source": [
    "pushapi('AITA83', 1669550203)"
   ]
  },
  {
   "cell_type": "code",
   "execution_count": 89,
   "id": "ff2649ed-fc45-4791-b08b-61b17b1a8bf1",
   "metadata": {},
   "outputs": [
    {
     "name": "stdout",
     "output_type": "stream",
     "text": [
      "100\n",
      "1669518677\n"
     ]
    },
    {
     "name": "stderr",
     "output_type": "stream",
     "text": [
      "C:\\Users\\Sparrow\\AppData\\Local\\Temp\\ipykernel_26724\\1997433734.py:14: FutureWarning: The frame.append method is deprecated and will be removed from pandas in a future version. Use pandas.concat instead.\n",
      "  df.append(posts)\n"
     ]
    }
   ],
   "source": [
    "pushapi('AITA84',1669532116)"
   ]
  },
  {
   "cell_type": "code",
   "execution_count": 90,
   "id": "c4841aec-4dba-45d7-a396-3a98994dac27",
   "metadata": {},
   "outputs": [
    {
     "name": "stdout",
     "output_type": "stream",
     "text": [
      "100\n",
      "1669505614\n"
     ]
    },
    {
     "name": "stderr",
     "output_type": "stream",
     "text": [
      "C:\\Users\\Sparrow\\AppData\\Local\\Temp\\ipykernel_26724\\1997433734.py:14: FutureWarning: The frame.append method is deprecated and will be removed from pandas in a future version. Use pandas.concat instead.\n",
      "  df.append(posts)\n"
     ]
    }
   ],
   "source": [
    "pushapi('AITA85',1669518677)"
   ]
  },
  {
   "cell_type": "code",
   "execution_count": 91,
   "id": "8bef52ea-c594-411c-9e23-662f61303cb1",
   "metadata": {},
   "outputs": [
    {
     "name": "stdout",
     "output_type": "stream",
     "text": [
      "100\n",
      "1669493456\n"
     ]
    },
    {
     "name": "stderr",
     "output_type": "stream",
     "text": [
      "C:\\Users\\Sparrow\\AppData\\Local\\Temp\\ipykernel_26724\\1997433734.py:14: FutureWarning: The frame.append method is deprecated and will be removed from pandas in a future version. Use pandas.concat instead.\n",
      "  df.append(posts)\n"
     ]
    }
   ],
   "source": [
    "pushapi('AITA86',1669505614)"
   ]
  },
  {
   "cell_type": "code",
   "execution_count": 92,
   "id": "201d101a-77f5-4234-86a2-8b19032da06f",
   "metadata": {},
   "outputs": [
    {
     "name": "stdout",
     "output_type": "stream",
     "text": [
      "100\n",
      "1669479640\n"
     ]
    },
    {
     "name": "stderr",
     "output_type": "stream",
     "text": [
      "C:\\Users\\Sparrow\\AppData\\Local\\Temp\\ipykernel_26724\\1997433734.py:14: FutureWarning: The frame.append method is deprecated and will be removed from pandas in a future version. Use pandas.concat instead.\n",
      "  df.append(posts)\n"
     ]
    }
   ],
   "source": [
    "pushapi('AITA87',1669493456)"
   ]
  },
  {
   "cell_type": "code",
   "execution_count": 93,
   "id": "eb52efcc-4f7a-4b3b-83dc-28af50996d66",
   "metadata": {},
   "outputs": [
    {
     "name": "stdout",
     "output_type": "stream",
     "text": [
      "100\n",
      "1669466994\n"
     ]
    },
    {
     "name": "stderr",
     "output_type": "stream",
     "text": [
      "C:\\Users\\Sparrow\\AppData\\Local\\Temp\\ipykernel_26724\\1997433734.py:14: FutureWarning: The frame.append method is deprecated and will be removed from pandas in a future version. Use pandas.concat instead.\n",
      "  df.append(posts)\n"
     ]
    }
   ],
   "source": [
    "pushapi('AITA88',1669479640)"
   ]
  },
  {
   "cell_type": "code",
   "execution_count": 94,
   "id": "bfd2ed52-2370-4160-a8ea-d3a3b7410be7",
   "metadata": {},
   "outputs": [
    {
     "name": "stdout",
     "output_type": "stream",
     "text": [
      "100\n",
      "1669451491\n"
     ]
    },
    {
     "name": "stderr",
     "output_type": "stream",
     "text": [
      "C:\\Users\\Sparrow\\AppData\\Local\\Temp\\ipykernel_26724\\1997433734.py:14: FutureWarning: The frame.append method is deprecated and will be removed from pandas in a future version. Use pandas.concat instead.\n",
      "  df.append(posts)\n"
     ]
    }
   ],
   "source": [
    "pushapi('AITA89',1669466994)"
   ]
  },
  {
   "cell_type": "code",
   "execution_count": 95,
   "id": "cd7f41fb-f684-495e-9bd8-6b11606671d9",
   "metadata": {},
   "outputs": [
    {
     "name": "stdout",
     "output_type": "stream",
     "text": [
      "100\n",
      "1669435058\n"
     ]
    },
    {
     "name": "stderr",
     "output_type": "stream",
     "text": [
      "C:\\Users\\Sparrow\\AppData\\Local\\Temp\\ipykernel_26724\\1997433734.py:14: FutureWarning: The frame.append method is deprecated and will be removed from pandas in a future version. Use pandas.concat instead.\n",
      "  df.append(posts)\n"
     ]
    }
   ],
   "source": [
    "pushapi('AITA90',1669451491)"
   ]
  },
  {
   "cell_type": "code",
   "execution_count": 96,
   "id": "db4e898b-3c87-4ae1-b2c0-eddbb21a8f00",
   "metadata": {},
   "outputs": [
    {
     "name": "stdout",
     "output_type": "stream",
     "text": [
      "100\n",
      "1669421215\n"
     ]
    },
    {
     "name": "stderr",
     "output_type": "stream",
     "text": [
      "C:\\Users\\Sparrow\\AppData\\Local\\Temp\\ipykernel_26724\\1997433734.py:14: FutureWarning: The frame.append method is deprecated and will be removed from pandas in a future version. Use pandas.concat instead.\n",
      "  df.append(posts)\n"
     ]
    }
   ],
   "source": [
    "pushapi('AITA91',1669435058)"
   ]
  },
  {
   "cell_type": "code",
   "execution_count": 97,
   "id": "fadfabfe-0475-4123-9af6-4f8fdf42c891",
   "metadata": {},
   "outputs": [
    {
     "name": "stdout",
     "output_type": "stream",
     "text": [
      "100\n",
      "1669407954\n"
     ]
    },
    {
     "name": "stderr",
     "output_type": "stream",
     "text": [
      "C:\\Users\\Sparrow\\AppData\\Local\\Temp\\ipykernel_26724\\1997433734.py:14: FutureWarning: The frame.append method is deprecated and will be removed from pandas in a future version. Use pandas.concat instead.\n",
      "  df.append(posts)\n"
     ]
    }
   ],
   "source": [
    "pushapi('AITA92',1669421215)"
   ]
  },
  {
   "cell_type": "code",
   "execution_count": 98,
   "id": "8f068a38-3727-4c82-8cf3-796019f2acaf",
   "metadata": {},
   "outputs": [
    {
     "name": "stdout",
     "output_type": "stream",
     "text": [
      "100\n",
      "1669394144\n"
     ]
    },
    {
     "name": "stderr",
     "output_type": "stream",
     "text": [
      "C:\\Users\\Sparrow\\AppData\\Local\\Temp\\ipykernel_26724\\1997433734.py:14: FutureWarning: The frame.append method is deprecated and will be removed from pandas in a future version. Use pandas.concat instead.\n",
      "  df.append(posts)\n"
     ]
    }
   ],
   "source": [
    "pushapi('AITA93',1669407954)"
   ]
  },
  {
   "cell_type": "code",
   "execution_count": 99,
   "id": "a52d68bb-3691-4595-a9d0-10d544c24db2",
   "metadata": {},
   "outputs": [
    {
     "name": "stdout",
     "output_type": "stream",
     "text": [
      "100\n",
      "1669379242\n"
     ]
    },
    {
     "name": "stderr",
     "output_type": "stream",
     "text": [
      "C:\\Users\\Sparrow\\AppData\\Local\\Temp\\ipykernel_26724\\1997433734.py:14: FutureWarning: The frame.append method is deprecated and will be removed from pandas in a future version. Use pandas.concat instead.\n",
      "  df.append(posts)\n"
     ]
    }
   ],
   "source": [
    "pushapi('AITA94',1669394144)"
   ]
  },
  {
   "cell_type": "code",
   "execution_count": 100,
   "id": "1af9d995-6406-4b73-91c3-51ed9b0a8f34",
   "metadata": {},
   "outputs": [
    {
     "name": "stdout",
     "output_type": "stream",
     "text": [
      "100\n",
      "1669356679\n"
     ]
    },
    {
     "name": "stderr",
     "output_type": "stream",
     "text": [
      "C:\\Users\\Sparrow\\AppData\\Local\\Temp\\ipykernel_26724\\1997433734.py:14: FutureWarning: The frame.append method is deprecated and will be removed from pandas in a future version. Use pandas.concat instead.\n",
      "  df.append(posts)\n"
     ]
    }
   ],
   "source": [
    "pushapi('AITA95',1669379242)"
   ]
  },
  {
   "cell_type": "code",
   "execution_count": 101,
   "id": "ca168230-096e-4635-9b11-5282288aa1ff",
   "metadata": {},
   "outputs": [
    {
     "name": "stdout",
     "output_type": "stream",
     "text": [
      "100\n",
      "1669342495\n"
     ]
    },
    {
     "name": "stderr",
     "output_type": "stream",
     "text": [
      "C:\\Users\\Sparrow\\AppData\\Local\\Temp\\ipykernel_26724\\1997433734.py:14: FutureWarning: The frame.append method is deprecated and will be removed from pandas in a future version. Use pandas.concat instead.\n",
      "  df.append(posts)\n"
     ]
    }
   ],
   "source": [
    "pushapi('AITA96',1669356679)"
   ]
  },
  {
   "cell_type": "code",
   "execution_count": 102,
   "id": "49ed944a-beda-460e-8653-10c788382573",
   "metadata": {},
   "outputs": [
    {
     "name": "stdout",
     "output_type": "stream",
     "text": [
      "100\n",
      "1669329141\n"
     ]
    },
    {
     "name": "stderr",
     "output_type": "stream",
     "text": [
      "C:\\Users\\Sparrow\\AppData\\Local\\Temp\\ipykernel_26724\\1997433734.py:14: FutureWarning: The frame.append method is deprecated and will be removed from pandas in a future version. Use pandas.concat instead.\n",
      "  df.append(posts)\n"
     ]
    }
   ],
   "source": [
    "pushapi('AITA97',1669342495)"
   ]
  },
  {
   "cell_type": "code",
   "execution_count": 103,
   "id": "af33cde9-401e-4756-9a74-b1f2eabf0fc9",
   "metadata": {},
   "outputs": [
    {
     "name": "stdout",
     "output_type": "stream",
     "text": [
      "100\n",
      "1669316020\n"
     ]
    },
    {
     "name": "stderr",
     "output_type": "stream",
     "text": [
      "C:\\Users\\Sparrow\\AppData\\Local\\Temp\\ipykernel_26724\\1997433734.py:14: FutureWarning: The frame.append method is deprecated and will be removed from pandas in a future version. Use pandas.concat instead.\n",
      "  df.append(posts)\n"
     ]
    }
   ],
   "source": [
    "pushapi('AITA98',1669329141)"
   ]
  },
  {
   "cell_type": "code",
   "execution_count": 104,
   "id": "049b1f0c-8ce0-43f4-9624-b8fee5ff0f43",
   "metadata": {},
   "outputs": [
    {
     "name": "stdout",
     "output_type": "stream",
     "text": [
      "100\n",
      "1669303007\n"
     ]
    },
    {
     "name": "stderr",
     "output_type": "stream",
     "text": [
      "C:\\Users\\Sparrow\\AppData\\Local\\Temp\\ipykernel_26724\\1997433734.py:14: FutureWarning: The frame.append method is deprecated and will be removed from pandas in a future version. Use pandas.concat instead.\n",
      "  df.append(posts)\n"
     ]
    }
   ],
   "source": [
    "pushapi('AITA99',1669316020)"
   ]
  },
  {
   "cell_type": "code",
   "execution_count": 105,
   "id": "23dc5f2b-8526-4e93-900e-857bcdc628b5",
   "metadata": {},
   "outputs": [
    {
     "name": "stdout",
     "output_type": "stream",
     "text": [
      "100\n",
      "1669286585\n"
     ]
    },
    {
     "name": "stderr",
     "output_type": "stream",
     "text": [
      "C:\\Users\\Sparrow\\AppData\\Local\\Temp\\ipykernel_26724\\1997433734.py:14: FutureWarning: The frame.append method is deprecated and will be removed from pandas in a future version. Use pandas.concat instead.\n",
      "  df.append(posts)\n"
     ]
    }
   ],
   "source": [
    "pushapi('AITA100',1669303007)"
   ]
  },
  {
   "cell_type": "markdown",
   "id": "54740c23-9794-4c48-b5fe-8323e37a849b",
   "metadata": {},
   "source": [
    "Now that I scraped 10,000 post from AmITheAsshole, let's do the same with Relationship Advice"
   ]
  }
 ],
 "metadata": {
  "kernelspec": {
   "display_name": "Python 3 (ipykernel)",
   "language": "python",
   "name": "python3"
  },
  "language_info": {
   "codemirror_mode": {
    "name": "ipython",
    "version": 3
   },
   "file_extension": ".py",
   "mimetype": "text/x-python",
   "name": "python",
   "nbconvert_exporter": "python",
   "pygments_lexer": "ipython3",
   "version": "3.9.12"
  }
 },
 "nbformat": 4,
 "nbformat_minor": 5
}
