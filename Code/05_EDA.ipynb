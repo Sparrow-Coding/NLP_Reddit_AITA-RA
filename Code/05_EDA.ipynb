{
 "cells": [
  {
   "cell_type": "markdown",
   "id": "f978789a-2098-4303-9041-a39293223d10",
   "metadata": {},
   "source": [
    "# Table of contents\n",
    "- Imports\n",
    "- Read in data\n",
    "- Converting UTC\n",
    "- Lemmatize\n",
    "- CountVectorize with stopwords: Relationship_Advice\n",
    "- CountVectorize with stopwords: Am_I_The_Asshole\n",
    "- Feature Words\n",
    "- Polarity Score\n",
    "- Distribution of AITA Polarity\n",
    "- Distribution of Relationship Advice Polarity\n",
    "- Comparing words in common from AITA, RA\n",
    "- Export for modeling\n"
   ]
  },
  {
   "cell_type": "markdown",
   "id": "cbd4bb0a-ab55-44df-bc44-54b70373b00a",
   "metadata": {},
   "source": [
    "# Imports"
   ]
  },
  {
   "cell_type": "code",
   "execution_count": 24,
   "id": "477f158c-c054-4be0-884e-30637cc64f29",
   "metadata": {},
   "outputs": [],
   "source": [
    "import pandas as pd\n",
    "from sklearn.feature_extraction.text import CountVectorizer, TfidfVectorizer\n",
    "import numpy as np\n",
    "import matplotlib.pyplot as plt\n",
    "import seaborn as sns\n",
    "import re\n",
    "from nltk.stem import WordNetLemmatizer\n",
    "import spacy\n",
    "import datetime\n",
    "from spacy.tokens import Doc\n"
   ]
  },
  {
   "cell_type": "markdown",
   "id": "d5cbc28b-ec6c-4c52-9e37-fb47ba9ac53d",
   "metadata": {},
   "source": [
    "# Read in data"
   ]
  },
  {
   "cell_type": "code",
   "execution_count": 2,
   "id": "300af731-7512-4b39-8c3c-3bacbdcc7a2d",
   "metadata": {},
   "outputs": [],
   "source": [
    "df_ra = pd.read_csv('../Data/RA_final')\n",
    "df_aita = pd.read_csv('../Data/AITA_final')"
   ]
  },
  {
   "cell_type": "markdown",
   "id": "e634327d-dba7-4db3-a380-22d442580adf",
   "metadata": {},
   "source": [
    "# Converting UTC"
   ]
  },
  {
   "cell_type": "code",
   "execution_count": 3,
   "id": "b4877629-24d9-4025-88e9-ca9b6164cf35",
   "metadata": {},
   "outputs": [
    {
     "data": {
      "text/html": [
       "<div>\n",
       "<style scoped>\n",
       "    .dataframe tbody tr th:only-of-type {\n",
       "        vertical-align: middle;\n",
       "    }\n",
       "\n",
       "    .dataframe tbody tr th {\n",
       "        vertical-align: top;\n",
       "    }\n",
       "\n",
       "    .dataframe thead th {\n",
       "        text-align: right;\n",
       "    }\n",
       "</style>\n",
       "<table border=\"1\" class=\"dataframe\">\n",
       "  <thead>\n",
       "    <tr style=\"text-align: right;\">\n",
       "      <th></th>\n",
       "      <th>Unnamed: 0</th>\n",
       "      <th>author</th>\n",
       "      <th>subreddit</th>\n",
       "      <th>selftext</th>\n",
       "      <th>title</th>\n",
       "      <th>created_utc</th>\n",
       "    </tr>\n",
       "  </thead>\n",
       "  <tbody>\n",
       "    <tr>\n",
       "      <th>0</th>\n",
       "      <td>0</td>\n",
       "      <td>TaintedOne88</td>\n",
       "      <td>relationship_advice</td>\n",
       "      <td>I just text this man telling him how I felt ab...</td>\n",
       "      <td>A permanent memory</td>\n",
       "      <td>1669248902</td>\n",
       "    </tr>\n",
       "    <tr>\n",
       "      <th>1</th>\n",
       "      <td>1</td>\n",
       "      <td>UncommonCow56</td>\n",
       "      <td>relationship_advice</td>\n",
       "      <td>Ok so as the title says my (M18) girlfriend (F...</td>\n",
       "      <td>My (M18) gf (F20) keeps dog sitting for a “fri...</td>\n",
       "      <td>1669248796</td>\n",
       "    </tr>\n",
       "    <tr>\n",
       "      <th>2</th>\n",
       "      <td>3</td>\n",
       "      <td>darkglassoverwater</td>\n",
       "      <td>relationship_advice</td>\n",
       "      <td>I'm a junior in high school (male). I have a l...</td>\n",
       "      <td>Friendzone or does she like me?</td>\n",
       "      <td>1669248786</td>\n",
       "    </tr>\n",
       "    <tr>\n",
       "      <th>3</th>\n",
       "      <td>4</td>\n",
       "      <td>YourAverageThinker</td>\n",
       "      <td>relationship_advice</td>\n",
       "      <td>Me and this girl used to talk at the beginning...</td>\n",
       "      <td>Girl (21F) is so confusing I (M21) just don’t ...</td>\n",
       "      <td>1669248776</td>\n",
       "    </tr>\n",
       "    <tr>\n",
       "      <th>4</th>\n",
       "      <td>5</td>\n",
       "      <td>Illustrious-Ask1708</td>\n",
       "      <td>relationship_advice</td>\n",
       "      <td>I've been seeing this girls who's as the title...</td>\n",
       "      <td>What's everyone's thoughts on an 18yr old fema...</td>\n",
       "      <td>1669248658</td>\n",
       "    </tr>\n",
       "  </tbody>\n",
       "</table>\n",
       "</div>"
      ],
      "text/plain": [
       "   Unnamed: 0               author            subreddit  \\\n",
       "0           0         TaintedOne88  relationship_advice   \n",
       "1           1        UncommonCow56  relationship_advice   \n",
       "2           3   darkglassoverwater  relationship_advice   \n",
       "3           4   YourAverageThinker  relationship_advice   \n",
       "4           5  Illustrious-Ask1708  relationship_advice   \n",
       "\n",
       "                                            selftext  \\\n",
       "0  I just text this man telling him how I felt ab...   \n",
       "1  Ok so as the title says my (M18) girlfriend (F...   \n",
       "2  I'm a junior in high school (male). I have a l...   \n",
       "3  Me and this girl used to talk at the beginning...   \n",
       "4  I've been seeing this girls who's as the title...   \n",
       "\n",
       "                                               title  created_utc  \n",
       "0                                 A permanent memory   1669248902  \n",
       "1  My (M18) gf (F20) keeps dog sitting for a “fri...   1669248796  \n",
       "2                    Friendzone or does she like me?   1669248786  \n",
       "3  Girl (21F) is so confusing I (M21) just don’t ...   1669248776  \n",
       "4  What's everyone's thoughts on an 18yr old fema...   1669248658  "
      ]
     },
     "execution_count": 3,
     "metadata": {},
     "output_type": "execute_result"
    }
   ],
   "source": [
    "df_ra.head()"
   ]
  },
  {
   "cell_type": "code",
   "execution_count": 4,
   "id": "c8d96050-bf83-43c4-a0fb-ec07dd8332ac",
   "metadata": {},
   "outputs": [
    {
     "data": {
      "text/html": [
       "<div>\n",
       "<style scoped>\n",
       "    .dataframe tbody tr th:only-of-type {\n",
       "        vertical-align: middle;\n",
       "    }\n",
       "\n",
       "    .dataframe tbody tr th {\n",
       "        vertical-align: top;\n",
       "    }\n",
       "\n",
       "    .dataframe thead th {\n",
       "        text-align: right;\n",
       "    }\n",
       "</style>\n",
       "<table border=\"1\" class=\"dataframe\">\n",
       "  <thead>\n",
       "    <tr style=\"text-align: right;\">\n",
       "      <th></th>\n",
       "      <th>author</th>\n",
       "      <th>subreddit</th>\n",
       "      <th>selftext</th>\n",
       "      <th>title</th>\n",
       "      <th>when</th>\n",
       "    </tr>\n",
       "  </thead>\n",
       "  <tbody>\n",
       "    <tr>\n",
       "      <th>0</th>\n",
       "      <td>TaintedOne88</td>\n",
       "      <td>relationship_advice</td>\n",
       "      <td>I just text this man telling him how I felt ab...</td>\n",
       "      <td>A permanent memory</td>\n",
       "      <td>2022-11-24 00:15:02</td>\n",
       "    </tr>\n",
       "    <tr>\n",
       "      <th>1</th>\n",
       "      <td>UncommonCow56</td>\n",
       "      <td>relationship_advice</td>\n",
       "      <td>Ok so as the title says my (M18) girlfriend (F...</td>\n",
       "      <td>My (M18) gf (F20) keeps dog sitting for a “fri...</td>\n",
       "      <td>2022-11-24 00:13:16</td>\n",
       "    </tr>\n",
       "    <tr>\n",
       "      <th>2</th>\n",
       "      <td>darkglassoverwater</td>\n",
       "      <td>relationship_advice</td>\n",
       "      <td>I'm a junior in high school (male). I have a l...</td>\n",
       "      <td>Friendzone or does she like me?</td>\n",
       "      <td>2022-11-24 00:13:06</td>\n",
       "    </tr>\n",
       "    <tr>\n",
       "      <th>3</th>\n",
       "      <td>YourAverageThinker</td>\n",
       "      <td>relationship_advice</td>\n",
       "      <td>Me and this girl used to talk at the beginning...</td>\n",
       "      <td>Girl (21F) is so confusing I (M21) just don’t ...</td>\n",
       "      <td>2022-11-24 00:12:56</td>\n",
       "    </tr>\n",
       "    <tr>\n",
       "      <th>4</th>\n",
       "      <td>Illustrious-Ask1708</td>\n",
       "      <td>relationship_advice</td>\n",
       "      <td>I've been seeing this girls who's as the title...</td>\n",
       "      <td>What's everyone's thoughts on an 18yr old fema...</td>\n",
       "      <td>2022-11-24 00:10:58</td>\n",
       "    </tr>\n",
       "  </tbody>\n",
       "</table>\n",
       "</div>"
      ],
      "text/plain": [
       "                author            subreddit  \\\n",
       "0         TaintedOne88  relationship_advice   \n",
       "1        UncommonCow56  relationship_advice   \n",
       "2   darkglassoverwater  relationship_advice   \n",
       "3   YourAverageThinker  relationship_advice   \n",
       "4  Illustrious-Ask1708  relationship_advice   \n",
       "\n",
       "                                            selftext  \\\n",
       "0  I just text this man telling him how I felt ab...   \n",
       "1  Ok so as the title says my (M18) girlfriend (F...   \n",
       "2  I'm a junior in high school (male). I have a l...   \n",
       "3  Me and this girl used to talk at the beginning...   \n",
       "4  I've been seeing this girls who's as the title...   \n",
       "\n",
       "                                               title                when  \n",
       "0                                 A permanent memory 2022-11-24 00:15:02  \n",
       "1  My (M18) gf (F20) keeps dog sitting for a “fri... 2022-11-24 00:13:16  \n",
       "2                    Friendzone or does she like me? 2022-11-24 00:13:06  \n",
       "3  Girl (21F) is so confusing I (M21) just don’t ... 2022-11-24 00:12:56  \n",
       "4  What's everyone's thoughts on an 18yr old fema... 2022-11-24 00:10:58  "
      ]
     },
     "execution_count": 4,
     "metadata": {},
     "output_type": "execute_result"
    }
   ],
   "source": [
    "df_ra['when'] = pd.to_datetime(df_ra['created_utc'], unit='s')\n",
    "df_ra.drop(columns=['Unnamed: 0','created_utc'], inplace=True)\n",
    "df_ra.dropna(inplace=True)\n",
    "df_ra.head()"
   ]
  },
  {
   "cell_type": "code",
   "execution_count": 5,
   "id": "84180177-a039-4ca2-b3ea-aacc470c7689",
   "metadata": {},
   "outputs": [
    {
     "data": {
      "text/html": [
       "<div>\n",
       "<style scoped>\n",
       "    .dataframe tbody tr th:only-of-type {\n",
       "        vertical-align: middle;\n",
       "    }\n",
       "\n",
       "    .dataframe tbody tr th {\n",
       "        vertical-align: top;\n",
       "    }\n",
       "\n",
       "    .dataframe thead th {\n",
       "        text-align: right;\n",
       "    }\n",
       "</style>\n",
       "<table border=\"1\" class=\"dataframe\">\n",
       "  <thead>\n",
       "    <tr style=\"text-align: right;\">\n",
       "      <th></th>\n",
       "      <th>author</th>\n",
       "      <th>subreddit</th>\n",
       "      <th>selftext</th>\n",
       "      <th>title</th>\n",
       "      <th>when</th>\n",
       "    </tr>\n",
       "  </thead>\n",
       "  <tbody>\n",
       "    <tr>\n",
       "      <th>6829</th>\n",
       "      <td>KhalessiBlk</td>\n",
       "      <td>relationship_advice</td>\n",
       "      <td>My bf (30m) and I (29f) broke up very recently...</td>\n",
       "      <td>I Gave Up After 6 Months</td>\n",
       "      <td>2022-11-10 18:21:50</td>\n",
       "    </tr>\n",
       "    <tr>\n",
       "      <th>6830</th>\n",
       "      <td>Weary-Ad-4391</td>\n",
       "      <td>relationship_advice</td>\n",
       "      <td>Me and her are in the same program at universi...</td>\n",
       "      <td>My (19 M) friend’s (20 M) GF (21) came onto me</td>\n",
       "      <td>2022-11-10 18:20:41</td>\n",
       "    </tr>\n",
       "    <tr>\n",
       "      <th>6831</th>\n",
       "      <td>This_Beyond_2115</td>\n",
       "      <td>relationship_advice</td>\n",
       "      <td>I am in a relationship and for the most part i...</td>\n",
       "      <td>This relationship appears to be progressing sl...</td>\n",
       "      <td>2022-11-10 18:20:39</td>\n",
       "    </tr>\n",
       "    <tr>\n",
       "      <th>6832</th>\n",
       "      <td>FormerShadow1</td>\n",
       "      <td>relationship_advice</td>\n",
       "      <td>Basically, they think people with depression a...</td>\n",
       "      <td>How do I deal with a person who hates me becau...</td>\n",
       "      <td>2022-11-10 18:20:17</td>\n",
       "    </tr>\n",
       "    <tr>\n",
       "      <th>6833</th>\n",
       "      <td>zman419</td>\n",
       "      <td>relationship_advice</td>\n",
       "      <td>Last time my girlfriend and I spent time with ...</td>\n",
       "      <td>girlfriend is considering not seeing my parent...</td>\n",
       "      <td>2022-11-10 18:19:05</td>\n",
       "    </tr>\n",
       "  </tbody>\n",
       "</table>\n",
       "</div>"
      ],
      "text/plain": [
       "                author            subreddit  \\\n",
       "6829       KhalessiBlk  relationship_advice   \n",
       "6830     Weary-Ad-4391  relationship_advice   \n",
       "6831  This_Beyond_2115  relationship_advice   \n",
       "6832     FormerShadow1  relationship_advice   \n",
       "6833           zman419  relationship_advice   \n",
       "\n",
       "                                               selftext  \\\n",
       "6829  My bf (30m) and I (29f) broke up very recently...   \n",
       "6830  Me and her are in the same program at universi...   \n",
       "6831  I am in a relationship and for the most part i...   \n",
       "6832  Basically, they think people with depression a...   \n",
       "6833  Last time my girlfriend and I spent time with ...   \n",
       "\n",
       "                                                  title                when  \n",
       "6829                           I Gave Up After 6 Months 2022-11-10 18:21:50  \n",
       "6830     My (19 M) friend’s (20 M) GF (21) came onto me 2022-11-10 18:20:41  \n",
       "6831  This relationship appears to be progressing sl... 2022-11-10 18:20:39  \n",
       "6832  How do I deal with a person who hates me becau... 2022-11-10 18:20:17  \n",
       "6833  girlfriend is considering not seeing my parent... 2022-11-10 18:19:05  "
      ]
     },
     "execution_count": 5,
     "metadata": {},
     "output_type": "execute_result"
    }
   ],
   "source": [
    "df_ra.tail()"
   ]
  },
  {
   "cell_type": "code",
   "execution_count": 6,
   "id": "b802889d-4e23-4059-adf5-ec74d36bd198",
   "metadata": {},
   "outputs": [
    {
     "data": {
      "text/html": [
       "<div>\n",
       "<style scoped>\n",
       "    .dataframe tbody tr th:only-of-type {\n",
       "        vertical-align: middle;\n",
       "    }\n",
       "\n",
       "    .dataframe tbody tr th {\n",
       "        vertical-align: top;\n",
       "    }\n",
       "\n",
       "    .dataframe thead th {\n",
       "        text-align: right;\n",
       "    }\n",
       "</style>\n",
       "<table border=\"1\" class=\"dataframe\">\n",
       "  <thead>\n",
       "    <tr style=\"text-align: right;\">\n",
       "      <th></th>\n",
       "      <th>Unnamed: 0</th>\n",
       "      <th>author</th>\n",
       "      <th>subreddit</th>\n",
       "      <th>selftext</th>\n",
       "      <th>title</th>\n",
       "      <th>created_utc</th>\n",
       "    </tr>\n",
       "  </thead>\n",
       "  <tbody>\n",
       "    <tr>\n",
       "      <th>0</th>\n",
       "      <td>1</td>\n",
       "      <td>Cain_Everest</td>\n",
       "      <td>AmItheAsshole</td>\n",
       "      <td>Let me preface this: I am one of those guys wh...</td>\n",
       "      <td>AITA for letting my former bff rot in prison f...</td>\n",
       "      <td>1669246532</td>\n",
       "    </tr>\n",
       "    <tr>\n",
       "      <th>1</th>\n",
       "      <td>2</td>\n",
       "      <td>TheVillagerC</td>\n",
       "      <td>AmItheAsshole</td>\n",
       "      <td>Recently, I (21F) met up with my (55M) father....</td>\n",
       "      <td>AITA for never choosing to get closer to my fa...</td>\n",
       "      <td>1669246470</td>\n",
       "    </tr>\n",
       "    <tr>\n",
       "      <th>2</th>\n",
       "      <td>3</td>\n",
       "      <td>Eat_yourHeart_0ut</td>\n",
       "      <td>AmItheAsshole</td>\n",
       "      <td>I know I probably am an asshole, but I want to...</td>\n",
       "      <td>WIBTA for listening to my mom's phone conversa...</td>\n",
       "      <td>1669246461</td>\n",
       "    </tr>\n",
       "    <tr>\n",
       "      <th>3</th>\n",
       "      <td>5</td>\n",
       "      <td>flxwsxndsxns</td>\n",
       "      <td>AmItheAsshole</td>\n",
       "      <td>My mum fell out with her whole family 15 years...</td>\n",
       "      <td>AITA for not wanting to attend my aunt's wedding?</td>\n",
       "      <td>1669246271</td>\n",
       "    </tr>\n",
       "    <tr>\n",
       "      <th>4</th>\n",
       "      <td>7</td>\n",
       "      <td>kixx20</td>\n",
       "      <td>AmItheAsshole</td>\n",
       "      <td>I’ll make it kinda quick but here it is. \\n\\nS...</td>\n",
       "      <td>AITA for not going to thanksgiving dinner?</td>\n",
       "      <td>1669246254</td>\n",
       "    </tr>\n",
       "  </tbody>\n",
       "</table>\n",
       "</div>"
      ],
      "text/plain": [
       "   Unnamed: 0             author      subreddit  \\\n",
       "0           1       Cain_Everest  AmItheAsshole   \n",
       "1           2       TheVillagerC  AmItheAsshole   \n",
       "2           3  Eat_yourHeart_0ut  AmItheAsshole   \n",
       "3           5       flxwsxndsxns  AmItheAsshole   \n",
       "4           7             kixx20  AmItheAsshole   \n",
       "\n",
       "                                            selftext  \\\n",
       "0  Let me preface this: I am one of those guys wh...   \n",
       "1  Recently, I (21F) met up with my (55M) father....   \n",
       "2  I know I probably am an asshole, but I want to...   \n",
       "3  My mum fell out with her whole family 15 years...   \n",
       "4  I’ll make it kinda quick but here it is. \\n\\nS...   \n",
       "\n",
       "                                               title  created_utc  \n",
       "0  AITA for letting my former bff rot in prison f...   1669246532  \n",
       "1  AITA for never choosing to get closer to my fa...   1669246470  \n",
       "2  WIBTA for listening to my mom's phone conversa...   1669246461  \n",
       "3  AITA for not wanting to attend my aunt's wedding?   1669246271  \n",
       "4         AITA for not going to thanksgiving dinner?   1669246254  "
      ]
     },
     "execution_count": 6,
     "metadata": {},
     "output_type": "execute_result"
    }
   ],
   "source": [
    "df_aita.head()"
   ]
  },
  {
   "cell_type": "code",
   "execution_count": 7,
   "id": "823b2d1d-324f-4b7a-9b55-fbcff5462842",
   "metadata": {},
   "outputs": [
    {
     "data": {
      "text/html": [
       "<div>\n",
       "<style scoped>\n",
       "    .dataframe tbody tr th:only-of-type {\n",
       "        vertical-align: middle;\n",
       "    }\n",
       "\n",
       "    .dataframe tbody tr th {\n",
       "        vertical-align: top;\n",
       "    }\n",
       "\n",
       "    .dataframe thead th {\n",
       "        text-align: right;\n",
       "    }\n",
       "</style>\n",
       "<table border=\"1\" class=\"dataframe\">\n",
       "  <thead>\n",
       "    <tr style=\"text-align: right;\">\n",
       "      <th></th>\n",
       "      <th>author</th>\n",
       "      <th>subreddit</th>\n",
       "      <th>selftext</th>\n",
       "      <th>title</th>\n",
       "      <th>when</th>\n",
       "    </tr>\n",
       "  </thead>\n",
       "  <tbody>\n",
       "    <tr>\n",
       "      <th>0</th>\n",
       "      <td>Cain_Everest</td>\n",
       "      <td>AmItheAsshole</td>\n",
       "      <td>Let me preface this: I am one of those guys wh...</td>\n",
       "      <td>AITA for letting my former bff rot in prison f...</td>\n",
       "      <td>2022-11-23 23:35:32</td>\n",
       "    </tr>\n",
       "    <tr>\n",
       "      <th>1</th>\n",
       "      <td>TheVillagerC</td>\n",
       "      <td>AmItheAsshole</td>\n",
       "      <td>Recently, I (21F) met up with my (55M) father....</td>\n",
       "      <td>AITA for never choosing to get closer to my fa...</td>\n",
       "      <td>2022-11-23 23:34:30</td>\n",
       "    </tr>\n",
       "    <tr>\n",
       "      <th>2</th>\n",
       "      <td>Eat_yourHeart_0ut</td>\n",
       "      <td>AmItheAsshole</td>\n",
       "      <td>I know I probably am an asshole, but I want to...</td>\n",
       "      <td>WIBTA for listening to my mom's phone conversa...</td>\n",
       "      <td>2022-11-23 23:34:21</td>\n",
       "    </tr>\n",
       "    <tr>\n",
       "      <th>3</th>\n",
       "      <td>flxwsxndsxns</td>\n",
       "      <td>AmItheAsshole</td>\n",
       "      <td>My mum fell out with her whole family 15 years...</td>\n",
       "      <td>AITA for not wanting to attend my aunt's wedding?</td>\n",
       "      <td>2022-11-23 23:31:11</td>\n",
       "    </tr>\n",
       "    <tr>\n",
       "      <th>4</th>\n",
       "      <td>kixx20</td>\n",
       "      <td>AmItheAsshole</td>\n",
       "      <td>I’ll make it kinda quick but here it is. \\n\\nS...</td>\n",
       "      <td>AITA for not going to thanksgiving dinner?</td>\n",
       "      <td>2022-11-23 23:30:54</td>\n",
       "    </tr>\n",
       "  </tbody>\n",
       "</table>\n",
       "</div>"
      ],
      "text/plain": [
       "              author      subreddit  \\\n",
       "0       Cain_Everest  AmItheAsshole   \n",
       "1       TheVillagerC  AmItheAsshole   \n",
       "2  Eat_yourHeart_0ut  AmItheAsshole   \n",
       "3       flxwsxndsxns  AmItheAsshole   \n",
       "4             kixx20  AmItheAsshole   \n",
       "\n",
       "                                            selftext  \\\n",
       "0  Let me preface this: I am one of those guys wh...   \n",
       "1  Recently, I (21F) met up with my (55M) father....   \n",
       "2  I know I probably am an asshole, but I want to...   \n",
       "3  My mum fell out with her whole family 15 years...   \n",
       "4  I’ll make it kinda quick but here it is. \\n\\nS...   \n",
       "\n",
       "                                               title                when  \n",
       "0  AITA for letting my former bff rot in prison f... 2022-11-23 23:35:32  \n",
       "1  AITA for never choosing to get closer to my fa... 2022-11-23 23:34:30  \n",
       "2  WIBTA for listening to my mom's phone conversa... 2022-11-23 23:34:21  \n",
       "3  AITA for not wanting to attend my aunt's wedding? 2022-11-23 23:31:11  \n",
       "4         AITA for not going to thanksgiving dinner? 2022-11-23 23:30:54  "
      ]
     },
     "execution_count": 7,
     "metadata": {},
     "output_type": "execute_result"
    }
   ],
   "source": [
    "df_aita['when'] = pd.to_datetime(df_aita['created_utc'], unit='s')\n",
    "df_aita.drop(columns=['created_utc', 'Unnamed: 0'],inplace=True)\n",
    "df_aita.drop\n",
    "df_aita.head()"
   ]
  },
  {
   "cell_type": "code",
   "execution_count": 8,
   "id": "1640a22a-1f7e-4026-b225-19c4115bf442",
   "metadata": {},
   "outputs": [
    {
     "data": {
      "text/html": [
       "<div>\n",
       "<style scoped>\n",
       "    .dataframe tbody tr th:only-of-type {\n",
       "        vertical-align: middle;\n",
       "    }\n",
       "\n",
       "    .dataframe tbody tr th {\n",
       "        vertical-align: top;\n",
       "    }\n",
       "\n",
       "    .dataframe thead th {\n",
       "        text-align: right;\n",
       "    }\n",
       "</style>\n",
       "<table border=\"1\" class=\"dataframe\">\n",
       "  <thead>\n",
       "    <tr style=\"text-align: right;\">\n",
       "      <th></th>\n",
       "      <th>author</th>\n",
       "      <th>subreddit</th>\n",
       "      <th>selftext</th>\n",
       "      <th>title</th>\n",
       "      <th>when</th>\n",
       "    </tr>\n",
       "  </thead>\n",
       "  <tbody>\n",
       "    <tr>\n",
       "      <th>6403</th>\n",
       "      <td>ameliajohnso</td>\n",
       "      <td>AmItheAsshole</td>\n",
       "      <td>So a lady came over to me and looking at my ba...</td>\n",
       "      <td>AITA for embarrassing a lady at the grocery st...</td>\n",
       "      <td>2022-11-24 12:59:34</td>\n",
       "    </tr>\n",
       "    <tr>\n",
       "      <th>6404</th>\n",
       "      <td>DerangedUnicorn27</td>\n",
       "      <td>AmItheAsshole</td>\n",
       "      <td>Every year I always end up with a bunch of use...</td>\n",
       "      <td>AITA for being specific about what I want for ...</td>\n",
       "      <td>2022-11-24 12:54:39</td>\n",
       "    </tr>\n",
       "    <tr>\n",
       "      <th>6405</th>\n",
       "      <td>silversteeledviking</td>\n",
       "      <td>AmItheAsshole</td>\n",
       "      <td>At my previous job (from 3 years ago) I worked...</td>\n",
       "      <td>AITA for leaving a mess of diarrhea for a cowo...</td>\n",
       "      <td>2022-11-24 12:53:41</td>\n",
       "    </tr>\n",
       "    <tr>\n",
       "      <th>6406</th>\n",
       "      <td>Throw32432577</td>\n",
       "      <td>AmItheAsshole</td>\n",
       "      <td>\\nMy fiance m24, and I f25 are in the process ...</td>\n",
       "      <td>AITA for saying that my sister is trying to co...</td>\n",
       "      <td>2022-11-24 12:52:42</td>\n",
       "    </tr>\n",
       "    <tr>\n",
       "      <th>6407</th>\n",
       "      <td>krisforsigns</td>\n",
       "      <td>AmItheAsshole</td>\n",
       "      <td>I (21f) am in third year of university. Recent...</td>\n",
       "      <td>AITA for not wanting to work on a project anym...</td>\n",
       "      <td>2022-11-24 12:50:39</td>\n",
       "    </tr>\n",
       "  </tbody>\n",
       "</table>\n",
       "</div>"
      ],
      "text/plain": [
       "                   author      subreddit  \\\n",
       "6403         ameliajohnso  AmItheAsshole   \n",
       "6404    DerangedUnicorn27  AmItheAsshole   \n",
       "6405  silversteeledviking  AmItheAsshole   \n",
       "6406        Throw32432577  AmItheAsshole   \n",
       "6407         krisforsigns  AmItheAsshole   \n",
       "\n",
       "                                               selftext  \\\n",
       "6403  So a lady came over to me and looking at my ba...   \n",
       "6404  Every year I always end up with a bunch of use...   \n",
       "6405  At my previous job (from 3 years ago) I worked...   \n",
       "6406  \\nMy fiance m24, and I f25 are in the process ...   \n",
       "6407  I (21f) am in third year of university. Recent...   \n",
       "\n",
       "                                                  title                when  \n",
       "6403  AITA for embarrassing a lady at the grocery st... 2022-11-24 12:59:34  \n",
       "6404  AITA for being specific about what I want for ... 2022-11-24 12:54:39  \n",
       "6405  AITA for leaving a mess of diarrhea for a cowo... 2022-11-24 12:53:41  \n",
       "6406  AITA for saying that my sister is trying to co... 2022-11-24 12:52:42  \n",
       "6407  AITA for not wanting to work on a project anym... 2022-11-24 12:50:39  "
      ]
     },
     "execution_count": 8,
     "metadata": {},
     "output_type": "execute_result"
    }
   ],
   "source": [
    "df_aita.tail()"
   ]
  },
  {
   "cell_type": "code",
   "execution_count": 9,
   "id": "91993d7c-491a-4f48-836b-6e32db17bdfe",
   "metadata": {},
   "outputs": [
    {
     "data": {
      "text/plain": [
       "TaintedOne88            1\n",
       "AdventurousThing3727    1\n",
       "Gold_Candy_6748         1\n",
       "partyshere123           1\n",
       "Maximum_Advisor5078     1\n",
       "                       ..\n",
       "lazy_philospher         1\n",
       "secretaixam             1\n",
       "anonkkcsmkx             1\n",
       "darlingevaa             1\n",
       "zman419                 1\n",
       "Name: author, Length: 6833, dtype: int64"
      ]
     },
     "execution_count": 9,
     "metadata": {},
     "output_type": "execute_result"
    }
   ],
   "source": [
    "df_ra['author'].value_counts(ascending=True)"
   ]
  },
  {
   "cell_type": "markdown",
   "id": "b81c7b15-0860-46e9-8e87-b397e5fd6997",
   "metadata": {
    "tags": []
   },
   "source": [
    "# Lemmatize"
   ]
  },
  {
   "cell_type": "code",
   "execution_count": 10,
   "id": "b96780e1-b390-4d1a-bb0a-ac8570e6d3f8",
   "metadata": {},
   "outputs": [],
   "source": [
    "# Code taken from twitter after google search : https://towardsdatascience.com/the-real-world-as-seen-on-twitter-sentiment-analysis-part-one-5ac2d06b63fb\n",
    "wnl = WordNetLemmatizer()\n",
    "\n",
    "def clean_text(text):\n",
    "       \n",
    "    text = text.lower() # To lowercase    \n",
    "    text = re.sub(r'\\&\\w*;', '', text) # Remove HTML special entities (e.g. &)        \n",
    "    text = re.sub(r'\\s\\s+', ' ', text) # Remove whitespace (including new line characters)        \n",
    "    text = re.sub(r'https?:\\/\\/.*\\/\\w*', '', text) # Remove hyperlinks \n",
    "\n",
    "    \n",
    "    words = text.split()\n",
    "    \n",
    "    words_2 = []\n",
    "\n",
    "    for word in words: \n",
    "        word_2 = wnl.lemmatize(word)\n",
    "       \n",
    "        words_2.append(word_2)      \n",
    "\n",
    "    output = ' '.join(words_2)\n",
    "    return output "
   ]
  },
  {
   "cell_type": "code",
   "execution_count": 11,
   "id": "d0c2415e-4f2c-4178-abf9-e383352c0ce9",
   "metadata": {},
   "outputs": [
    {
     "data": {
      "text/plain": [
       "0    let me preface this: i am one of those guy who...\n",
       "1    recently, i (21f) met up with my (55m) father....\n",
       "2    i know i probably am an asshole, but i want to...\n",
       "3    my mum fell out with her whole family 15 year ...\n",
       "4    i’ll make it kinda quick but here it is. so my...\n",
       "Name: selftext, dtype: object"
      ]
     },
     "execution_count": 11,
     "metadata": {},
     "output_type": "execute_result"
    }
   ],
   "source": [
    "df_aita['selftext'] = df_aita['selftext'].apply(clean_text)\n",
    "df_aita['selftext'].head()"
   ]
  },
  {
   "cell_type": "code",
   "execution_count": 13,
   "id": "c82b32ae-b838-4c8d-89a2-3b4bfda59959",
   "metadata": {},
   "outputs": [
    {
     "data": {
      "text/plain": [
       "0    i just text this man telling him how i felt ab...\n",
       "1    ok so a the title say my (m18) girlfriend (f20...\n",
       "2    i'm a junior in high school (male). i have a l...\n",
       "3    me and this girl used to talk at the beginning...\n",
       "4    i've been seeing this girl who's a the title s...\n",
       "Name: selftext, dtype: object"
      ]
     },
     "execution_count": 13,
     "metadata": {},
     "output_type": "execute_result"
    }
   ],
   "source": [
    "df_ra['selftext'] = df_ra['selftext'].apply(clean_text)\n",
    "df_ra['selftext'].head()"
   ]
  },
  {
   "cell_type": "markdown",
   "id": "f3cb67c6-31e7-4508-ada9-15c7011064f7",
   "metadata": {},
   "source": [
    "## CountVectorize with stopwords: Relationship_Advice"
   ]
  },
  {
   "cell_type": "code",
   "execution_count": 14,
   "id": "f09383a0-cfd2-4a52-93b8-05a8e9ee218a",
   "metadata": {},
   "outputs": [
    {
     "name": "stdout",
     "output_type": "stream",
     "text": [
      "21336\n"
     ]
    },
    {
     "name": "stderr",
     "output_type": "stream",
     "text": [
      "C:\\Users\\Sparrow\\anaconda3\\lib\\site-packages\\sklearn\\utils\\deprecation.py:87: FutureWarning: Function get_feature_names is deprecated; get_feature_names is deprecated in 1.0 and will be removed in 1.2. Please use get_feature_names_out instead.\n",
      "  warnings.warn(msg, category=FutureWarning)\n"
     ]
    }
   ],
   "source": [
    "cvec_ra = CountVectorizer(stop_words='english')\n",
    "cvec_ra.fit(df_ra['selftext'])\n",
    "\n",
    "len_features = len(cvec_ra.get_feature_names())\n",
    "print(len_features)\n"
   ]
  },
  {
   "cell_type": "code",
   "execution_count": 15,
   "id": "5c46e989-394c-4a20-9235-7c1fe7a326e5",
   "metadata": {},
   "outputs": [
    {
     "data": {
      "text/plain": [
       "wa      21054\n",
       "like    12943\n",
       "just    12400\n",
       "time     9686\n",
       "want     8818\n",
       "dtype: int64"
      ]
     },
     "execution_count": 15,
     "metadata": {},
     "output_type": "execute_result"
    }
   ],
   "source": [
    "df_ra_words = pd.DataFrame(cvec_ra.transform(df_ra['selftext']).todense(),columns=cvec_ra.get_feature_names())\n",
    "\n",
    "ra_features = df_ra_words.sum(axis=0)\n",
    "ra_features.sort_values(ascending = False).head() #Creating a data frame of stopwords from RA"
   ]
  },
  {
   "cell_type": "code",
   "execution_count": 16,
   "id": "a7c491e6-0663-4e89-bb11-262404f84ed4",
   "metadata": {},
   "outputs": [
    {
     "data": {
      "text/html": [
       "<div>\n",
       "<style scoped>\n",
       "    .dataframe tbody tr th:only-of-type {\n",
       "        vertical-align: middle;\n",
       "    }\n",
       "\n",
       "    .dataframe tbody tr th {\n",
       "        vertical-align: top;\n",
       "    }\n",
       "\n",
       "    .dataframe thead th {\n",
       "        text-align: right;\n",
       "    }\n",
       "</style>\n",
       "<table border=\"1\" class=\"dataframe\">\n",
       "  <thead>\n",
       "    <tr style=\"text-align: right;\">\n",
       "      <th></th>\n",
       "      <th>word</th>\n",
       "      <th>count</th>\n",
       "      <th>freq</th>\n",
       "      <th>subreddit</th>\n",
       "    </tr>\n",
       "  </thead>\n",
       "  <tbody>\n",
       "    <tr>\n",
       "      <th>wa</th>\n",
       "      <td>wa</td>\n",
       "      <td>21054</td>\n",
       "      <td>308.122347</td>\n",
       "      <td>relationship_advice</td>\n",
       "    </tr>\n",
       "    <tr>\n",
       "      <th>like</th>\n",
       "      <td>like</td>\n",
       "      <td>12943</td>\n",
       "      <td>189.418996</td>\n",
       "      <td>relationship_advice</td>\n",
       "    </tr>\n",
       "    <tr>\n",
       "      <th>just</th>\n",
       "      <td>just</td>\n",
       "      <td>12400</td>\n",
       "      <td>181.472267</td>\n",
       "      <td>relationship_advice</td>\n",
       "    </tr>\n",
       "    <tr>\n",
       "      <th>time</th>\n",
       "      <td>time</td>\n",
       "      <td>9686</td>\n",
       "      <td>141.753256</td>\n",
       "      <td>relationship_advice</td>\n",
       "    </tr>\n",
       "    <tr>\n",
       "      <th>want</th>\n",
       "      <td>want</td>\n",
       "      <td>8818</td>\n",
       "      <td>129.050198</td>\n",
       "      <td>relationship_advice</td>\n",
       "    </tr>\n",
       "  </tbody>\n",
       "</table>\n",
       "</div>"
      ],
      "text/plain": [
       "      word  count        freq            subreddit\n",
       "wa      wa  21054  308.122347  relationship_advice\n",
       "like  like  12943  189.418996  relationship_advice\n",
       "just  just  12400  181.472267  relationship_advice\n",
       "time  time   9686  141.753256  relationship_advice\n",
       "want  want   8818  129.050198  relationship_advice"
      ]
     },
     "execution_count": 16,
     "metadata": {},
     "output_type": "execute_result"
    }
   ],
   "source": [
    "df_ra_words= ra_features.to_frame(name='count')\n",
    "df_ra_words['freq'] = df_ra_words['count'] / len(df_ra) * 100\n",
    "df_ra_words['word'] =df_ra_words.index\n",
    "df_ra_words['subreddit'] = 'relationship_advice'\n",
    "cols = ['word','count','freq','subreddit']\n",
    "df_ra_words = df_ra_words[cols]\n",
    "df_ra_words.sort_values(by='count',ascending=False, inplace=True)\n",
    "df_ra_words.head() #Adding count and frequency of word to data frame\n"
   ]
  },
  {
   "cell_type": "markdown",
   "id": "b2d8cf0a-0cff-46fa-a605-c398798b9f72",
   "metadata": {},
   "source": [
    "## CountVectorize with stopwords: Am_I_The_Asshole"
   ]
  },
  {
   "cell_type": "code",
   "execution_count": 17,
   "id": "e3dc9fd1-d78a-40d4-9933-010102c32338",
   "metadata": {},
   "outputs": [
    {
     "name": "stdout",
     "output_type": "stream",
     "text": [
      "24996\n"
     ]
    },
    {
     "name": "stderr",
     "output_type": "stream",
     "text": [
      "C:\\Users\\Sparrow\\anaconda3\\lib\\site-packages\\sklearn\\utils\\deprecation.py:87: FutureWarning: Function get_feature_names is deprecated; get_feature_names is deprecated in 1.0 and will be removed in 1.2. Please use get_feature_names_out instead.\n",
      "  warnings.warn(msg, category=FutureWarning)\n"
     ]
    }
   ],
   "source": [
    "cvec_aita = CountVectorizer(stop_words='english')\n",
    "cvec_aita.fit(df_aita['selftext'])\n",
    "\n",
    "len_features = len(cvec_aita.get_feature_names())\n",
    "print(len_features)\n"
   ]
  },
  {
   "cell_type": "code",
   "execution_count": 18,
   "id": "0930b648-efb8-4b5c-bb94-61fecf41c2d6",
   "metadata": {},
   "outputs": [
    {
     "data": {
      "text/plain": [
       "wa      26988\n",
       "just     9715\n",
       "said     8784\n",
       "like     8717\n",
       "told     7995\n",
       "dtype: int64"
      ]
     },
     "execution_count": 18,
     "metadata": {},
     "output_type": "execute_result"
    }
   ],
   "source": [
    "df_aita_words = pd.DataFrame(cvec_aita.transform(df_aita['selftext']).todense(),columns=cvec_aita.get_feature_names())\n",
    "\n",
    "aita_features = df_aita_words.sum(axis=0)\n",
    "aita_features.sort_values(ascending = False).head() #Creating a data frame of stopwords from AITA"
   ]
  },
  {
   "cell_type": "code",
   "execution_count": 19,
   "id": "8087dd2d-0b95-4f4b-86c0-f672a9e2e672",
   "metadata": {},
   "outputs": [
    {
     "data": {
      "text/html": [
       "<div>\n",
       "<style scoped>\n",
       "    .dataframe tbody tr th:only-of-type {\n",
       "        vertical-align: middle;\n",
       "    }\n",
       "\n",
       "    .dataframe tbody tr th {\n",
       "        vertical-align: top;\n",
       "    }\n",
       "\n",
       "    .dataframe thead th {\n",
       "        text-align: right;\n",
       "    }\n",
       "</style>\n",
       "<table border=\"1\" class=\"dataframe\">\n",
       "  <thead>\n",
       "    <tr style=\"text-align: right;\">\n",
       "      <th></th>\n",
       "      <th>word</th>\n",
       "      <th>count</th>\n",
       "      <th>freq</th>\n",
       "      <th>subreddit</th>\n",
       "    </tr>\n",
       "  </thead>\n",
       "  <tbody>\n",
       "    <tr>\n",
       "      <th>wa</th>\n",
       "      <td>wa</td>\n",
       "      <td>26988</td>\n",
       "      <td>421.161049</td>\n",
       "      <td>AmItheAsshole</td>\n",
       "    </tr>\n",
       "    <tr>\n",
       "      <th>just</th>\n",
       "      <td>just</td>\n",
       "      <td>9715</td>\n",
       "      <td>151.607366</td>\n",
       "      <td>AmItheAsshole</td>\n",
       "    </tr>\n",
       "    <tr>\n",
       "      <th>said</th>\n",
       "      <td>said</td>\n",
       "      <td>8784</td>\n",
       "      <td>137.078652</td>\n",
       "      <td>AmItheAsshole</td>\n",
       "    </tr>\n",
       "    <tr>\n",
       "      <th>like</th>\n",
       "      <td>like</td>\n",
       "      <td>8717</td>\n",
       "      <td>136.033084</td>\n",
       "      <td>AmItheAsshole</td>\n",
       "    </tr>\n",
       "    <tr>\n",
       "      <th>told</th>\n",
       "      <td>told</td>\n",
       "      <td>7995</td>\n",
       "      <td>124.765918</td>\n",
       "      <td>AmItheAsshole</td>\n",
       "    </tr>\n",
       "  </tbody>\n",
       "</table>\n",
       "</div>"
      ],
      "text/plain": [
       "      word  count        freq      subreddit\n",
       "wa      wa  26988  421.161049  AmItheAsshole\n",
       "just  just   9715  151.607366  AmItheAsshole\n",
       "said  said   8784  137.078652  AmItheAsshole\n",
       "like  like   8717  136.033084  AmItheAsshole\n",
       "told  told   7995  124.765918  AmItheAsshole"
      ]
     },
     "execution_count": 19,
     "metadata": {},
     "output_type": "execute_result"
    }
   ],
   "source": [
    "df_aita_words= aita_features.to_frame(name='count')\n",
    "df_aita_words['freq'] = df_aita_words['count'] / len(df_aita) * 100\n",
    "df_aita_words['word'] =df_aita_words.index\n",
    "df_aita_words['subreddit'] = 'AmItheAsshole'\n",
    "cols = ['word','count','freq','subreddit']\n",
    "df_aita_words = df_aita_words[cols]\n",
    "df_aita_words.sort_values(by='count',ascending=False, inplace=True)\n",
    "df_aita_words.head() #Adding count and frequency of word to data frame"
   ]
  },
  {
   "cell_type": "markdown",
   "id": "d1b17609-a503-4723-96f8-3d00b497873f",
   "metadata": {},
   "source": [
    "## Feature Words"
   ]
  },
  {
   "cell_type": "code",
   "execution_count": 91,
   "id": "05a4c01a-a598-43e8-9449-dcd7496d9221",
   "metadata": {},
   "outputs": [
    {
     "data": {
      "image/png": "[encoded data removed]",
      "text/plain": [
       "<Figure size 1440x720 with 1 Axes>"
      ]
     },
     "metadata": {},
     "output_type": "display_data"
    }
   ],
   "source": [
    "plt.figure(figsize=(20,10))\n",
    "sns.barplot(data=df_aita_words.head(30),x='word',y='count')\n",
    "plt.title('AITA word count top 30'); #word count of top 30 words\n",
    "plt.savefig('AITA top 30.png')"
   ]
  },
  {
   "cell_type": "code",
   "execution_count": 92,
   "id": "ed187a7d-8183-4215-86f9-525e7470c908",
   "metadata": {},
   "outputs": [
    {
     "data": {
      "image/png": "[encoded data removed]",
      "text/plain": [
       "<Figure size 1440x720 with 1 Axes>"
      ]
     },
     "metadata": {},
     "output_type": "display_data"
    }
   ],
   "source": [
    "plt.figure(figsize=(20,10))\n",
    "sns.barplot(data=df_aita_words.head(10),x='word',y='count')\n",
    "plt.title('AITA word count top 10');\n",
    "plt.savefig('AITA top 10.png')#word count of top 10 words"
   ]
  },
  {
   "cell_type": "code",
   "execution_count": 93,
   "id": "71f3b8cb-7c76-455f-93ce-bfa973c9c7b9",
   "metadata": {},
   "outputs": [
    {
     "data": {
      "image/png": "[encoded data removed]",
      "text/plain": [
       "<Figure size 1440x720 with 1 Axes>"
      ]
     },
     "metadata": {},
     "output_type": "display_data"
    }
   ],
   "source": [
    "plt.figure(figsize=(20,10))\n",
    "sns.barplot(data=df_ra_words.head(30),x='word',y='count')\n",
    "plt.title('RA word count top 30');\n",
    "plt.savefig('RA top 30.png')"
   ]
  },
  {
   "cell_type": "code",
   "execution_count": 94,
   "id": "51aae912-d4b8-4736-8744-4c47bc4b2089",
   "metadata": {},
   "outputs": [
    {
     "data": {
      "image/png": "[encoded data removed]",
      "text/plain": [
       "<Figure size 1440x720 with 1 Axes>"
      ]
     },
     "metadata": {},
     "output_type": "display_data"
    }
   ],
   "source": [
    "plt.figure(figsize=(20,10))\n",
    "sns.barplot(data=df_ra_words.head(10),x='word',y='count')\n",
    "plt.title('RA word count top 10');\n",
    "plt.savefig('RA top 10.png')"
   ]
  },
  {
   "cell_type": "markdown",
   "id": "39209086-f7fd-4f81-8000-19775d0c61f4",
   "metadata": {},
   "source": [
    "- Double bar comparing top 10 words, top 30 words"
   ]
  },
  {
   "cell_type": "code",
   "execution_count": 22,
   "id": "babde709-638e-482a-9134-c79fff598e03",
   "metadata": {},
   "outputs": [
    {
     "data": {
      "image/png": "[encoded data removed]",
      "text/plain": [
       "<Figure size 3240x1080 with 2 Axes>"
      ]
     },
     "metadata": {},
     "output_type": "display_data"
    }
   ],
   "source": [
    "sns.set()\n",
    "\n",
    "#\n",
    "fig, axes = plt.subplots(1, 2,figsize=(45, 15))\n",
    "\n",
    "sns.barplot(data=df_aita_words.head(10), x='word', y='count', ax=axes[0])\n",
    "sns.barplot(data=df_ra_words.head(10), x='word', y='count', ax=axes[1])\n",
    "plt.title('top 10 words');"
   ]
  },
  {
   "cell_type": "markdown",
   "id": "70fc8e73-9f55-4e20-b80f-5dfe0a536a28",
   "metadata": {},
   "source": [
    "# Polarity Score"
   ]
  },
  {
   "cell_type": "code",
   "execution_count": 25,
   "id": "76ec5238-657c-43fc-a6ac-970291da6428",
   "metadata": {},
   "outputs": [],
   "source": [
    "from nltk.sentiment.vader import SentimentIntensityAnalyzer\n",
    "sent = SentimentIntensityAnalyzer()\n",
    "def polarity_scores(doc):\n",
    "    return sent.polarity_scores(doc.text)\n",
    "\n",
    "Doc.set_extension('polarity_scores', getter=polarity_scores, force = True) \n",
    "nlp = spacy.blank(\"en\")"
   ]
  },
  {
   "cell_type": "code",
   "execution_count": 26,
   "id": "92fb765a-d911-4ee6-8506-71557c680715",
   "metadata": {},
   "outputs": [],
   "source": [
    "#Code from former GA Student jamesproctor\n",
    "cols = ['neg','neu','pos','compound']\n",
    "for col in cols:\n",
    "    df_aita[col] = 0.0\n",
    "\n",
    "for idx,row in df_aita.iterrows():\n",
    "    \n",
    "    doc = nlp(row['selftext'])\n",
    "    polar_score = doc._.polarity_scores\n",
    "\n",
    "    df_aita.at[idx,'neg'] = polar_score['neg']\n",
    "    df_aita.at[idx,'neu'] = polar_score['neu']\n",
    "    df_aita.at[idx,'pos'] = polar_score['pos']\n",
    "    df_aita.at[idx,'compound'] = polar_score['compound']"
   ]
  },
  {
   "cell_type": "code",
   "execution_count": 27,
   "id": "e9d7a07d-8452-4f29-ba33-9a6864b87996",
   "metadata": {},
   "outputs": [],
   "source": [
    "cols = ['neg','neu','pos','compound']\n",
    "for col in cols:\n",
    "    df_ra[col] = 0.0\n",
    "\n",
    "for idx,row in df_ra.iterrows():\n",
    "    \n",
    "    doc = nlp(row['selftext'])\n",
    "    polar_score = doc._.polarity_scores\n",
    "\n",
    "    df_ra.at[idx,'neg'] = polar_score['neg']\n",
    "    df_ra.at[idx,'neu'] = polar_score['neu']\n",
    "    df_ra.at[idx,'pos'] = polar_score['pos']\n",
    "    df_ra.at[idx,'compound'] = polar_score['compound']"
   ]
  },
  {
   "cell_type": "code",
   "execution_count": 28,
   "id": "68169258-92f9-4716-a8c8-2e65263a8132",
   "metadata": {},
   "outputs": [
    {
     "data": {
      "text/html": [
       "<div>\n",
       "<style scoped>\n",
       "    .dataframe tbody tr th:only-of-type {\n",
       "        vertical-align: middle;\n",
       "    }\n",
       "\n",
       "    .dataframe tbody tr th {\n",
       "        vertical-align: top;\n",
       "    }\n",
       "\n",
       "    .dataframe thead th {\n",
       "        text-align: right;\n",
       "    }\n",
       "</style>\n",
       "<table border=\"1\" class=\"dataframe\">\n",
       "  <thead>\n",
       "    <tr style=\"text-align: right;\">\n",
       "      <th></th>\n",
       "      <th>author</th>\n",
       "      <th>subreddit</th>\n",
       "      <th>selftext</th>\n",
       "      <th>title</th>\n",
       "      <th>when</th>\n",
       "      <th>neg</th>\n",
       "      <th>neu</th>\n",
       "      <th>pos</th>\n",
       "      <th>compound</th>\n",
       "    </tr>\n",
       "  </thead>\n",
       "  <tbody>\n",
       "    <tr>\n",
       "      <th>0</th>\n",
       "      <td>TaintedOne88</td>\n",
       "      <td>relationship_advice</td>\n",
       "      <td>i just text this man telling him how i felt ab...</td>\n",
       "      <td>A permanent memory</td>\n",
       "      <td>2022-11-24 00:15:02</td>\n",
       "      <td>0.000</td>\n",
       "      <td>0.854</td>\n",
       "      <td>0.146</td>\n",
       "      <td>0.8555</td>\n",
       "    </tr>\n",
       "    <tr>\n",
       "      <th>1</th>\n",
       "      <td>UncommonCow56</td>\n",
       "      <td>relationship_advice</td>\n",
       "      <td>ok so a the title say my (m18) girlfriend (f20...</td>\n",
       "      <td>My (M18) gf (F20) keeps dog sitting for a “fri...</td>\n",
       "      <td>2022-11-24 00:13:16</td>\n",
       "      <td>0.075</td>\n",
       "      <td>0.854</td>\n",
       "      <td>0.071</td>\n",
       "      <td>-0.5550</td>\n",
       "    </tr>\n",
       "  </tbody>\n",
       "</table>\n",
       "</div>"
      ],
      "text/plain": [
       "          author            subreddit  \\\n",
       "0   TaintedOne88  relationship_advice   \n",
       "1  UncommonCow56  relationship_advice   \n",
       "\n",
       "                                            selftext  \\\n",
       "0  i just text this man telling him how i felt ab...   \n",
       "1  ok so a the title say my (m18) girlfriend (f20...   \n",
       "\n",
       "                                               title                when  \\\n",
       "0                                 A permanent memory 2022-11-24 00:15:02   \n",
       "1  My (M18) gf (F20) keeps dog sitting for a “fri... 2022-11-24 00:13:16   \n",
       "\n",
       "     neg    neu    pos  compound  \n",
       "0  0.000  0.854  0.146    0.8555  \n",
       "1  0.075  0.854  0.071   -0.5550  "
      ]
     },
     "execution_count": 28,
     "metadata": {},
     "output_type": "execute_result"
    }
   ],
   "source": [
    "df_ra.head(2)"
   ]
  },
  {
   "cell_type": "code",
   "execution_count": 29,
   "id": "e22763da-64ba-4a64-bbb6-6138b1da5511",
   "metadata": {},
   "outputs": [
    {
     "data": {
      "text/html": [
       "<div>\n",
       "<style scoped>\n",
       "    .dataframe tbody tr th:only-of-type {\n",
       "        vertical-align: middle;\n",
       "    }\n",
       "\n",
       "    .dataframe tbody tr th {\n",
       "        vertical-align: top;\n",
       "    }\n",
       "\n",
       "    .dataframe thead th {\n",
       "        text-align: right;\n",
       "    }\n",
       "</style>\n",
       "<table border=\"1\" class=\"dataframe\">\n",
       "  <thead>\n",
       "    <tr style=\"text-align: right;\">\n",
       "      <th></th>\n",
       "      <th>author</th>\n",
       "      <th>subreddit</th>\n",
       "      <th>selftext</th>\n",
       "      <th>title</th>\n",
       "      <th>when</th>\n",
       "      <th>neg</th>\n",
       "      <th>neu</th>\n",
       "      <th>pos</th>\n",
       "      <th>compound</th>\n",
       "    </tr>\n",
       "  </thead>\n",
       "  <tbody>\n",
       "    <tr>\n",
       "      <th>6832</th>\n",
       "      <td>FormerShadow1</td>\n",
       "      <td>relationship_advice</td>\n",
       "      <td>basically, they think people with depression a...</td>\n",
       "      <td>How do I deal with a person who hates me becau...</td>\n",
       "      <td>2022-11-10 18:20:17</td>\n",
       "      <td>0.133</td>\n",
       "      <td>0.732</td>\n",
       "      <td>0.135</td>\n",
       "      <td>0.7588</td>\n",
       "    </tr>\n",
       "    <tr>\n",
       "      <th>6833</th>\n",
       "      <td>zman419</td>\n",
       "      <td>relationship_advice</td>\n",
       "      <td>last time my girlfriend and i spent time with ...</td>\n",
       "      <td>girlfriend is considering not seeing my parent...</td>\n",
       "      <td>2022-11-10 18:19:05</td>\n",
       "      <td>0.143</td>\n",
       "      <td>0.826</td>\n",
       "      <td>0.031</td>\n",
       "      <td>-0.9448</td>\n",
       "    </tr>\n",
       "  </tbody>\n",
       "</table>\n",
       "</div>"
      ],
      "text/plain": [
       "             author            subreddit  \\\n",
       "6832  FormerShadow1  relationship_advice   \n",
       "6833        zman419  relationship_advice   \n",
       "\n",
       "                                               selftext  \\\n",
       "6832  basically, they think people with depression a...   \n",
       "6833  last time my girlfriend and i spent time with ...   \n",
       "\n",
       "                                                  title                when  \\\n",
       "6832  How do I deal with a person who hates me becau... 2022-11-10 18:20:17   \n",
       "6833  girlfriend is considering not seeing my parent... 2022-11-10 18:19:05   \n",
       "\n",
       "        neg    neu    pos  compound  \n",
       "6832  0.133  0.732  0.135    0.7588  \n",
       "6833  0.143  0.826  0.031   -0.9448  "
      ]
     },
     "execution_count": 29,
     "metadata": {},
     "output_type": "execute_result"
    }
   ],
   "source": [
    "df_ra.tail(2)"
   ]
  },
  {
   "cell_type": "code",
   "execution_count": 30,
   "id": "3d70c18c-3f0d-4931-ae8a-0b9a7f13e731",
   "metadata": {},
   "outputs": [
    {
     "data": {
      "text/html": [
       "<div>\n",
       "<style scoped>\n",
       "    .dataframe tbody tr th:only-of-type {\n",
       "        vertical-align: middle;\n",
       "    }\n",
       "\n",
       "    .dataframe tbody tr th {\n",
       "        vertical-align: top;\n",
       "    }\n",
       "\n",
       "    .dataframe thead th {\n",
       "        text-align: right;\n",
       "    }\n",
       "</style>\n",
       "<table border=\"1\" class=\"dataframe\">\n",
       "  <thead>\n",
       "    <tr style=\"text-align: right;\">\n",
       "      <th></th>\n",
       "      <th>author</th>\n",
       "      <th>subreddit</th>\n",
       "      <th>selftext</th>\n",
       "      <th>title</th>\n",
       "      <th>when</th>\n",
       "      <th>neg</th>\n",
       "      <th>neu</th>\n",
       "      <th>pos</th>\n",
       "      <th>compound</th>\n",
       "    </tr>\n",
       "  </thead>\n",
       "  <tbody>\n",
       "    <tr>\n",
       "      <th>0</th>\n",
       "      <td>Cain_Everest</td>\n",
       "      <td>AmItheAsshole</td>\n",
       "      <td>let me preface this: i am one of those guy who...</td>\n",
       "      <td>AITA for letting my former bff rot in prison f...</td>\n",
       "      <td>2022-11-23 23:35:32</td>\n",
       "      <td>0.101</td>\n",
       "      <td>0.768</td>\n",
       "      <td>0.131</td>\n",
       "      <td>0.9347</td>\n",
       "    </tr>\n",
       "    <tr>\n",
       "      <th>1</th>\n",
       "      <td>TheVillagerC</td>\n",
       "      <td>AmItheAsshole</td>\n",
       "      <td>recently, i (21f) met up with my (55m) father....</td>\n",
       "      <td>AITA for never choosing to get closer to my fa...</td>\n",
       "      <td>2022-11-23 23:34:30</td>\n",
       "      <td>0.125</td>\n",
       "      <td>0.794</td>\n",
       "      <td>0.081</td>\n",
       "      <td>-0.9766</td>\n",
       "    </tr>\n",
       "  </tbody>\n",
       "</table>\n",
       "</div>"
      ],
      "text/plain": [
       "         author      subreddit  \\\n",
       "0  Cain_Everest  AmItheAsshole   \n",
       "1  TheVillagerC  AmItheAsshole   \n",
       "\n",
       "                                            selftext  \\\n",
       "0  let me preface this: i am one of those guy who...   \n",
       "1  recently, i (21f) met up with my (55m) father....   \n",
       "\n",
       "                                               title                when  \\\n",
       "0  AITA for letting my former bff rot in prison f... 2022-11-23 23:35:32   \n",
       "1  AITA for never choosing to get closer to my fa... 2022-11-23 23:34:30   \n",
       "\n",
       "     neg    neu    pos  compound  \n",
       "0  0.101  0.768  0.131    0.9347  \n",
       "1  0.125  0.794  0.081   -0.9766  "
      ]
     },
     "execution_count": 30,
     "metadata": {},
     "output_type": "execute_result"
    }
   ],
   "source": [
    "df_aita.head(2)"
   ]
  },
  {
   "cell_type": "code",
   "execution_count": 31,
   "id": "f240d69b-1734-4e9d-911a-2ecee3b0d529",
   "metadata": {},
   "outputs": [
    {
     "data": {
      "text/html": [
       "<div>\n",
       "<style scoped>\n",
       "    .dataframe tbody tr th:only-of-type {\n",
       "        vertical-align: middle;\n",
       "    }\n",
       "\n",
       "    .dataframe tbody tr th {\n",
       "        vertical-align: top;\n",
       "    }\n",
       "\n",
       "    .dataframe thead th {\n",
       "        text-align: right;\n",
       "    }\n",
       "</style>\n",
       "<table border=\"1\" class=\"dataframe\">\n",
       "  <thead>\n",
       "    <tr style=\"text-align: right;\">\n",
       "      <th></th>\n",
       "      <th>author</th>\n",
       "      <th>subreddit</th>\n",
       "      <th>selftext</th>\n",
       "      <th>title</th>\n",
       "      <th>when</th>\n",
       "      <th>neg</th>\n",
       "      <th>neu</th>\n",
       "      <th>pos</th>\n",
       "      <th>compound</th>\n",
       "    </tr>\n",
       "  </thead>\n",
       "  <tbody>\n",
       "    <tr>\n",
       "      <th>6406</th>\n",
       "      <td>Throw32432577</td>\n",
       "      <td>AmItheAsshole</td>\n",
       "      <td>my fiance m24, and i f25 are in the process of...</td>\n",
       "      <td>AITA for saying that my sister is trying to co...</td>\n",
       "      <td>2022-11-24 12:52:42</td>\n",
       "      <td>0.105</td>\n",
       "      <td>0.835</td>\n",
       "      <td>0.060</td>\n",
       "      <td>-0.9608</td>\n",
       "    </tr>\n",
       "    <tr>\n",
       "      <th>6407</th>\n",
       "      <td>krisforsigns</td>\n",
       "      <td>AmItheAsshole</td>\n",
       "      <td>i (21f) am in third year of university. recent...</td>\n",
       "      <td>AITA for not wanting to work on a project anym...</td>\n",
       "      <td>2022-11-24 12:50:39</td>\n",
       "      <td>0.140</td>\n",
       "      <td>0.819</td>\n",
       "      <td>0.041</td>\n",
       "      <td>-0.9848</td>\n",
       "    </tr>\n",
       "  </tbody>\n",
       "</table>\n",
       "</div>"
      ],
      "text/plain": [
       "             author      subreddit  \\\n",
       "6406  Throw32432577  AmItheAsshole   \n",
       "6407   krisforsigns  AmItheAsshole   \n",
       "\n",
       "                                               selftext  \\\n",
       "6406  my fiance m24, and i f25 are in the process of...   \n",
       "6407  i (21f) am in third year of university. recent...   \n",
       "\n",
       "                                                  title                when  \\\n",
       "6406  AITA for saying that my sister is trying to co... 2022-11-24 12:52:42   \n",
       "6407  AITA for not wanting to work on a project anym... 2022-11-24 12:50:39   \n",
       "\n",
       "        neg    neu    pos  compound  \n",
       "6406  0.105  0.835  0.060   -0.9608  \n",
       "6407  0.140  0.819  0.041   -0.9848  "
      ]
     },
     "execution_count": 31,
     "metadata": {},
     "output_type": "execute_result"
    }
   ],
   "source": [
    "df_aita.tail(2)"
   ]
  },
  {
   "cell_type": "code",
   "execution_count": 32,
   "id": "39af9361-c2d8-4d51-8161-7c2f3d35ac3e",
   "metadata": {},
   "outputs": [
    {
     "data": {
      "text/html": [
       "<div>\n",
       "<style scoped>\n",
       "    .dataframe tbody tr th:only-of-type {\n",
       "        vertical-align: middle;\n",
       "    }\n",
       "\n",
       "    .dataframe tbody tr th {\n",
       "        vertical-align: top;\n",
       "    }\n",
       "\n",
       "    .dataframe thead th {\n",
       "        text-align: right;\n",
       "    }\n",
       "</style>\n",
       "<table border=\"1\" class=\"dataframe\">\n",
       "  <thead>\n",
       "    <tr style=\"text-align: right;\">\n",
       "      <th></th>\n",
       "      <th>neg</th>\n",
       "      <th>neu</th>\n",
       "      <th>pos</th>\n",
       "      <th>compound</th>\n",
       "    </tr>\n",
       "    <tr>\n",
       "      <th>subreddit</th>\n",
       "      <th></th>\n",
       "      <th></th>\n",
       "      <th></th>\n",
       "      <th></th>\n",
       "    </tr>\n",
       "  </thead>\n",
       "  <tbody>\n",
       "    <tr>\n",
       "      <th>relationship_advice</th>\n",
       "      <td>0.091751</td>\n",
       "      <td>0.770602</td>\n",
       "      <td>0.137358</td>\n",
       "      <td>0.355688</td>\n",
       "    </tr>\n",
       "  </tbody>\n",
       "</table>\n",
       "</div>"
      ],
      "text/plain": [
       "                          neg       neu       pos  compound\n",
       "subreddit                                                  \n",
       "relationship_advice  0.091751  0.770602  0.137358  0.355688"
      ]
     },
     "execution_count": 32,
     "metadata": {},
     "output_type": "execute_result"
    }
   ],
   "source": [
    "df_ra.groupby(['subreddit']).mean() "
   ]
  },
  {
   "cell_type": "code",
   "execution_count": 33,
   "id": "d787e921-fe37-428f-af85-6230956f0010",
   "metadata": {},
   "outputs": [
    {
     "data": {
      "text/html": [
       "<div>\n",
       "<style scoped>\n",
       "    .dataframe tbody tr th:only-of-type {\n",
       "        vertical-align: middle;\n",
       "    }\n",
       "\n",
       "    .dataframe tbody tr th {\n",
       "        vertical-align: top;\n",
       "    }\n",
       "\n",
       "    .dataframe thead th {\n",
       "        text-align: right;\n",
       "    }\n",
       "</style>\n",
       "<table border=\"1\" class=\"dataframe\">\n",
       "  <thead>\n",
       "    <tr style=\"text-align: right;\">\n",
       "      <th></th>\n",
       "      <th>neg</th>\n",
       "      <th>neu</th>\n",
       "      <th>pos</th>\n",
       "      <th>compound</th>\n",
       "    </tr>\n",
       "    <tr>\n",
       "      <th>subreddit</th>\n",
       "      <th></th>\n",
       "      <th></th>\n",
       "      <th></th>\n",
       "      <th></th>\n",
       "    </tr>\n",
       "  </thead>\n",
       "  <tbody>\n",
       "    <tr>\n",
       "      <th>AmItheAsshole</th>\n",
       "      <td>0.093158</td>\n",
       "      <td>0.804051</td>\n",
       "      <td>0.10278</td>\n",
       "      <td>0.075528</td>\n",
       "    </tr>\n",
       "  </tbody>\n",
       "</table>\n",
       "</div>"
      ],
      "text/plain": [
       "                    neg       neu      pos  compound\n",
       "subreddit                                           \n",
       "AmItheAsshole  0.093158  0.804051  0.10278  0.075528"
      ]
     },
     "execution_count": 33,
     "metadata": {},
     "output_type": "execute_result"
    }
   ],
   "source": [
    "df_aita.groupby(['subreddit']).mean()"
   ]
  },
  {
   "cell_type": "markdown",
   "id": "1bf40465-300e-4c4a-b6c3-7c447f00b0b2",
   "metadata": {},
   "source": [
    "# Distribution of AITA Polarity"
   ]
  },
  {
   "cell_type": "code",
   "execution_count": 31,
   "id": "701354f8-fbb7-4eb3-84f0-b86a2233b6df",
   "metadata": {},
   "outputs": [
    {
     "data": {
      "image/png": "[encoded data removed]",
      "text/plain": [
       "<Figure size 360x360 with 1 Axes>"
      ]
     },
     "metadata": {},
     "output_type": "display_data"
    }
   ],
   "source": [
    "\n",
    "aita_neg = sns.displot(data=df_aita, x =df_aita['neg'])\n",
    "plt.savefig('aita_negative_distribution.png')"
   ]
  },
  {
   "cell_type": "code",
   "execution_count": 32,
   "id": "76c387ad-be57-49d2-8254-9af7776949fb",
   "metadata": {},
   "outputs": [
    {
     "data": {
      "image/png": "[encoded data removed]",
      "text/plain": [
       "<Figure size 360x360 with 1 Axes>"
      ]
     },
     "metadata": {},
     "output_type": "display_data"
    }
   ],
   "source": [
    "\n",
    "aita_neu = sns.displot(data=df_aita, x =df_aita['neu'])\n",
    "plt.savefig('aita_neutral_distribution.png')"
   ]
  },
  {
   "cell_type": "code",
   "execution_count": 33,
   "id": "8dc9c976-96e8-4430-ad18-f05249c79db9",
   "metadata": {},
   "outputs": [
    {
     "data": {
      "image/png": "[encoded data removed]",
      "text/plain": [
       "<Figure size 360x360 with 1 Axes>"
      ]
     },
     "metadata": {},
     "output_type": "display_data"
    }
   ],
   "source": [
    "\n",
    "aita_pos = sns.displot(data=df_aita, x =df_aita['pos'])\n",
    "plt.savefig('aita_positive_distribution.png')"
   ]
  },
  {
   "cell_type": "code",
   "execution_count": 34,
   "id": "00d4211c-6006-4691-a492-224b7ede5ad7",
   "metadata": {},
   "outputs": [
    {
     "data": {
      "image/png": "[encoded data removed]",
      "text/plain": [
       "<Figure size 360x360 with 1 Axes>"
      ]
     },
     "metadata": {},
     "output_type": "display_data"
    }
   ],
   "source": [
    "\n",
    "aita_compound = sns.displot(data=df_aita, x =df_aita['compound'])\n",
    "plt.savefig('aita_compound_distribution.png')"
   ]
  },
  {
   "cell_type": "markdown",
   "id": "5bab09ad-0da0-4a31-ad4b-6e074a43ae44",
   "metadata": {
    "tags": []
   },
   "source": [
    "# Distribution of Relationship Advice Polarity"
   ]
  },
  {
   "cell_type": "code",
   "execution_count": 35,
   "id": "0b6d09ce-91ed-4e54-9c26-fca1e060a97d",
   "metadata": {},
   "outputs": [
    {
     "data": {
      "image/png": "[encoded data removed]",
      "text/plain": [
       "<Figure size 360x360 with 1 Axes>"
      ]
     },
     "metadata": {},
     "output_type": "display_data"
    }
   ],
   "source": [
    "\n",
    "ra_neg = sns.displot(data=df_ra, x =df_ra['neg'])"
   ]
  },
  {
   "cell_type": "code",
   "execution_count": 36,
   "id": "d059af0d-0610-44d9-b89f-b95b11998157",
   "metadata": {},
   "outputs": [
    {
     "data": {
      "image/png": "[encoded data removed]",
      "text/plain": [
       "<Figure size 360x360 with 1 Axes>"
      ]
     },
     "metadata": {},
     "output_type": "display_data"
    }
   ],
   "source": [
    "\n",
    "ra_neu = sns.displot(data=df_ra, x =df_ra['neu'])"
   ]
  },
  {
   "cell_type": "code",
   "execution_count": 37,
   "id": "7c8b2658-0b81-4b08-9248-00e34bba41e1",
   "metadata": {},
   "outputs": [
    {
     "data": {
      "image/png": "[encoded data removed]",
      "text/plain": [
       "<Figure size 360x360 with 1 Axes>"
      ]
     },
     "metadata": {},
     "output_type": "display_data"
    }
   ],
   "source": [
    "\n",
    "ra_pos = sns.displot(data=df_ra, x =df_ra['pos'])"
   ]
  },
  {
   "cell_type": "code",
   "execution_count": 38,
   "id": "5d904518-2da3-48a9-a822-3924162162f8",
   "metadata": {},
   "outputs": [
    {
     "data": {
      "image/png": "[encoded data removed]",
      "text/plain": [
       "<Figure size 360x360 with 1 Axes>"
      ]
     },
     "metadata": {},
     "output_type": "display_data"
    }
   ],
   "source": [
    "\n",
    "ra_compound = sns.displot(data=df_ra, x =df_ra['compound'])"
   ]
  },
  {
   "cell_type": "code",
   "execution_count": 39,
   "id": "eef66ef2-7a10-4c3f-846d-1b4d8334940e",
   "metadata": {},
   "outputs": [
    {
     "data": {
      "image/png": "[encoded data removed]",
      "text/plain": [
       "<Figure size 3240x1080 with 2 Axes>"
      ]
     },
     "metadata": {},
     "output_type": "display_data"
    }
   ],
   "source": [
    "sns.set()\n",
    "\n",
    "#define plotting region (1 row, 2 columns)\n",
    "fig, axes = plt.subplots(1, 2,figsize=(45, 15))\n",
    "sns.barplot(data=df_aita.head(10), x=df_aita['neg'].head(10), y=df_aita['neg'].head(10),color='red', ax=axes[0])\n",
    "sns.barplot(data=df_ra.head(10), x=df_ra['neg'].head(10), y=df_ra['neg'].head(10),color='blue', ax=axes[1]);"
   ]
  },
  {
   "cell_type": "markdown",
   "id": "6c2815f6-244e-467f-94e6-749a7ff9dcc1",
   "metadata": {
    "tags": []
   },
   "source": [
    "# Comparing words in common from AITA, RA"
   ]
  },
  {
   "cell_type": "code",
   "execution_count": 42,
   "id": "0bdd3fa0-1563-47e2-b0be-71622c8d732b",
   "metadata": {},
   "outputs": [
    {
     "name": "stdout",
     "output_type": "stream",
     "text": [
      "<class 'pandas.core.frame.DataFrame'>\n",
      "Index: 20725 entries, wa to 静芝\n",
      "Data columns (total 4 columns):\n",
      " #   Column     Non-Null Count  Dtype  \n",
      "---  ------     --------------  -----  \n",
      " 0   word       20725 non-null  object \n",
      " 1   count      20725 non-null  int64  \n",
      " 2   freq       20725 non-null  float64\n",
      " 3   subreddit  20725 non-null  object \n",
      "dtypes: float64(1), int64(1), object(2)\n",
      "memory usage: 809.6+ KB\n"
     ]
    }
   ],
   "source": [
    "df_ra_words.info()"
   ]
  },
  {
   "cell_type": "code",
   "execution_count": 43,
   "id": "e7ae0c21-db94-430f-a801-b6fd40da4e03",
   "metadata": {},
   "outputs": [
    {
     "data": {
      "text/html": [
       "<div>\n",
       "<style scoped>\n",
       "    .dataframe tbody tr th:only-of-type {\n",
       "        vertical-align: middle;\n",
       "    }\n",
       "\n",
       "    .dataframe tbody tr th {\n",
       "        vertical-align: top;\n",
       "    }\n",
       "\n",
       "    .dataframe thead th {\n",
       "        text-align: right;\n",
       "    }\n",
       "</style>\n",
       "<table border=\"1\" class=\"dataframe\">\n",
       "  <thead>\n",
       "    <tr style=\"text-align: right;\">\n",
       "      <th></th>\n",
       "      <th>word</th>\n",
       "      <th>count</th>\n",
       "      <th>freq</th>\n",
       "      <th>subreddit</th>\n",
       "    </tr>\n",
       "  </thead>\n",
       "  <tbody>\n",
       "    <tr>\n",
       "      <th>wa</th>\n",
       "      <td>wa</td>\n",
       "      <td>20111</td>\n",
       "      <td>295.445865</td>\n",
       "      <td>relationship_advice</td>\n",
       "    </tr>\n",
       "    <tr>\n",
       "      <th>like</th>\n",
       "      <td>like</td>\n",
       "      <td>12730</td>\n",
       "      <td>187.013369</td>\n",
       "      <td>relationship_advice</td>\n",
       "    </tr>\n",
       "    <tr>\n",
       "      <th>just</th>\n",
       "      <td>just</td>\n",
       "      <td>12440</td>\n",
       "      <td>182.753048</td>\n",
       "      <td>relationship_advice</td>\n",
       "    </tr>\n",
       "    <tr>\n",
       "      <th>time</th>\n",
       "      <td>time</td>\n",
       "      <td>9200</td>\n",
       "      <td>135.154988</td>\n",
       "      <td>relationship_advice</td>\n",
       "    </tr>\n",
       "    <tr>\n",
       "      <th>want</th>\n",
       "      <td>want</td>\n",
       "      <td>9080</td>\n",
       "      <td>133.392096</td>\n",
       "      <td>relationship_advice</td>\n",
       "    </tr>\n",
       "  </tbody>\n",
       "</table>\n",
       "</div>"
      ],
      "text/plain": [
       "      word  count        freq            subreddit\n",
       "wa      wa  20111  295.445865  relationship_advice\n",
       "like  like  12730  187.013369  relationship_advice\n",
       "just  just  12440  182.753048  relationship_advice\n",
       "time  time   9200  135.154988  relationship_advice\n",
       "want  want   9080  133.392096  relationship_advice"
      ]
     },
     "execution_count": 43,
     "metadata": {},
     "output_type": "execute_result"
    }
   ],
   "source": [
    "df_ra_words.head()"
   ]
  },
  {
   "cell_type": "code",
   "execution_count": 44,
   "id": "eb6df775-6184-4d1a-bf41-af5bf653f221",
   "metadata": {},
   "outputs": [
    {
     "name": "stdout",
     "output_type": "stream",
     "text": [
      "<class 'pandas.core.frame.DataFrame'>\n",
      "Index: 23994 entries, wa to 𝘺𝘰𝘶𝘳\n",
      "Data columns (total 4 columns):\n",
      " #   Column     Non-Null Count  Dtype  \n",
      "---  ------     --------------  -----  \n",
      " 0   word       23994 non-null  object \n",
      " 1   count      23994 non-null  int64  \n",
      " 2   freq       23994 non-null  float64\n",
      " 3   subreddit  23994 non-null  object \n",
      "dtypes: float64(1), int64(1), object(2)\n",
      "memory usage: 937.3+ KB\n"
     ]
    }
   ],
   "source": [
    "df_aita_words.info()"
   ]
  },
  {
   "cell_type": "code",
   "execution_count": 48,
   "id": "b28bdaaa-07ab-4290-882e-5b75a4b329e4",
   "metadata": {
    "tags": []
   },
   "outputs": [],
   "source": [
    "shared_words= set(df_ra_words['word'].value_counts().index).intersection((set(df_aita_words['word'].value_counts().index)))"
   ]
  },
  {
   "cell_type": "code",
   "execution_count": 49,
   "id": "1b5be8a9-c979-45a7-be7a-0b0b962f53dc",
   "metadata": {},
   "outputs": [
    {
     "data": {
      "text/plain": [
       "wa          1\n",
       "60lbs       1\n",
       "abi         1\n",
       "aber        1\n",
       "upholder    1\n",
       "           ..\n",
       "irks        1\n",
       "blurred     1\n",
       "ironic      1\n",
       "permit      1\n",
       "静芝          1\n",
       "Name: word, Length: 20725, dtype: int64"
      ]
     },
     "execution_count": 49,
     "metadata": {},
     "output_type": "execute_result"
    }
   ],
   "source": [
    "df_ra_words['word'].value_counts()"
   ]
  },
  {
   "cell_type": "code",
   "execution_count": 82,
   "id": "df0c5827-272d-4f16-8f87-0cd866ba697e",
   "metadata": {
    "tags": []
   },
   "outputs": [],
   "source": [
    "df_ra_words['shared_words'] = df_ra_words['word'].apply(lambda x: 1 if x in shared_words else 0) #Thank you Ben"
   ]
  },
  {
   "cell_type": "code",
   "execution_count": 55,
   "id": "f700723a-aae9-4f8f-b6dd-da3944964b44",
   "metadata": {
    "tags": []
   },
   "outputs": [],
   "source": [
    "df_aita_words['shared_words'] = df_aita_words['word'].apply(lambda x: 1 if x in shared_words else 0)"
   ]
  },
  {
   "cell_type": "code",
   "execution_count": 56,
   "id": "c6fa7b2e-77a8-4500-8021-f4f27ba9ffe3",
   "metadata": {},
   "outputs": [
    {
     "data": {
      "text/plain": [
       "True"
      ]
     },
     "execution_count": 56,
     "metadata": {},
     "output_type": "execute_result"
    }
   ],
   "source": [
    "'like' in shared_words"
   ]
  },
  {
   "cell_type": "code",
   "execution_count": 59,
   "id": "b9aac188-365b-4b80-83ed-114d02b519b5",
   "metadata": {},
   "outputs": [
    {
     "data": {
      "text/plain": [
       "1    14015\n",
       "0     6710\n",
       "Name: shared_words, dtype: int64"
      ]
     },
     "execution_count": 59,
     "metadata": {},
     "output_type": "execute_result"
    }
   ],
   "source": [
    "df_ra_words['shared_words'].value_counts()"
   ]
  },
  {
   "cell_type": "code",
   "execution_count": 60,
   "id": "27801537-e73f-4354-b5fc-df60191cad4f",
   "metadata": {},
   "outputs": [
    {
     "data": {
      "text/plain": [
       "1    14015\n",
       "0     9979\n",
       "Name: shared_words, dtype: int64"
      ]
     },
     "execution_count": 60,
     "metadata": {},
     "output_type": "execute_result"
    }
   ],
   "source": [
    "df_aita_words['shared_words'].value_counts()"
   ]
  },
  {
   "cell_type": "code",
   "execution_count": 61,
   "id": "3421d42a-2119-4a63-80c5-a721581b7d89",
   "metadata": {},
   "outputs": [
    {
     "data": {
      "text/html": [
       "<div>\n",
       "<style scoped>\n",
       "    .dataframe tbody tr th:only-of-type {\n",
       "        vertical-align: middle;\n",
       "    }\n",
       "\n",
       "    .dataframe tbody tr th {\n",
       "        vertical-align: top;\n",
       "    }\n",
       "\n",
       "    .dataframe thead th {\n",
       "        text-align: right;\n",
       "    }\n",
       "</style>\n",
       "<table border=\"1\" class=\"dataframe\">\n",
       "  <thead>\n",
       "    <tr style=\"text-align: right;\">\n",
       "      <th></th>\n",
       "      <th>word</th>\n",
       "      <th>count</th>\n",
       "      <th>freq</th>\n",
       "      <th>subreddit</th>\n",
       "      <th>shared_words</th>\n",
       "    </tr>\n",
       "  </thead>\n",
       "  <tbody>\n",
       "    <tr>\n",
       "      <th>wa</th>\n",
       "      <td>wa</td>\n",
       "      <td>20111</td>\n",
       "      <td>295.445865</td>\n",
       "      <td>relationship_advice</td>\n",
       "      <td>1</td>\n",
       "    </tr>\n",
       "    <tr>\n",
       "      <th>like</th>\n",
       "      <td>like</td>\n",
       "      <td>12730</td>\n",
       "      <td>187.013369</td>\n",
       "      <td>relationship_advice</td>\n",
       "      <td>1</td>\n",
       "    </tr>\n",
       "    <tr>\n",
       "      <th>just</th>\n",
       "      <td>just</td>\n",
       "      <td>12440</td>\n",
       "      <td>182.753048</td>\n",
       "      <td>relationship_advice</td>\n",
       "      <td>1</td>\n",
       "    </tr>\n",
       "    <tr>\n",
       "      <th>time</th>\n",
       "      <td>time</td>\n",
       "      <td>9200</td>\n",
       "      <td>135.154988</td>\n",
       "      <td>relationship_advice</td>\n",
       "      <td>1</td>\n",
       "    </tr>\n",
       "    <tr>\n",
       "      <th>want</th>\n",
       "      <td>want</td>\n",
       "      <td>9080</td>\n",
       "      <td>133.392096</td>\n",
       "      <td>relationship_advice</td>\n",
       "      <td>1</td>\n",
       "    </tr>\n",
       "  </tbody>\n",
       "</table>\n",
       "</div>"
      ],
      "text/plain": [
       "      word  count        freq            subreddit  shared_words\n",
       "wa      wa  20111  295.445865  relationship_advice             1\n",
       "like  like  12730  187.013369  relationship_advice             1\n",
       "just  just  12440  182.753048  relationship_advice             1\n",
       "time  time   9200  135.154988  relationship_advice             1\n",
       "want  want   9080  133.392096  relationship_advice             1"
      ]
     },
     "execution_count": 61,
     "metadata": {},
     "output_type": "execute_result"
    }
   ],
   "source": [
    "df_ra_words.head()"
   ]
  },
  {
   "cell_type": "code",
   "execution_count": 62,
   "id": "a589027c-89bd-4d69-b21a-7bdd7e972813",
   "metadata": {},
   "outputs": [
    {
     "data": {
      "text/html": [
       "<div>\n",
       "<style scoped>\n",
       "    .dataframe tbody tr th:only-of-type {\n",
       "        vertical-align: middle;\n",
       "    }\n",
       "\n",
       "    .dataframe tbody tr th {\n",
       "        vertical-align: top;\n",
       "    }\n",
       "\n",
       "    .dataframe thead th {\n",
       "        text-align: right;\n",
       "    }\n",
       "</style>\n",
       "<table border=\"1\" class=\"dataframe\">\n",
       "  <thead>\n",
       "    <tr style=\"text-align: right;\">\n",
       "      <th></th>\n",
       "      <th>word</th>\n",
       "      <th>count</th>\n",
       "      <th>freq</th>\n",
       "      <th>subreddit</th>\n",
       "      <th>shared_words</th>\n",
       "    </tr>\n",
       "  </thead>\n",
       "  <tbody>\n",
       "    <tr>\n",
       "      <th>wa</th>\n",
       "      <td>wa</td>\n",
       "      <td>24842</td>\n",
       "      <td>408.518336</td>\n",
       "      <td>AmItheAsshole</td>\n",
       "      <td>1</td>\n",
       "    </tr>\n",
       "    <tr>\n",
       "      <th>just</th>\n",
       "      <td>just</td>\n",
       "      <td>9425</td>\n",
       "      <td>154.990955</td>\n",
       "      <td>AmItheAsshole</td>\n",
       "      <td>1</td>\n",
       "    </tr>\n",
       "    <tr>\n",
       "      <th>said</th>\n",
       "      <td>said</td>\n",
       "      <td>8373</td>\n",
       "      <td>137.691169</td>\n",
       "      <td>AmItheAsshole</td>\n",
       "      <td>1</td>\n",
       "    </tr>\n",
       "    <tr>\n",
       "      <th>like</th>\n",
       "      <td>like</td>\n",
       "      <td>8198</td>\n",
       "      <td>134.813353</td>\n",
       "      <td>AmItheAsshole</td>\n",
       "      <td>1</td>\n",
       "    </tr>\n",
       "    <tr>\n",
       "      <th>told</th>\n",
       "      <td>told</td>\n",
       "      <td>7585</td>\n",
       "      <td>124.732774</td>\n",
       "      <td>AmItheAsshole</td>\n",
       "      <td>1</td>\n",
       "    </tr>\n",
       "  </tbody>\n",
       "</table>\n",
       "</div>"
      ],
      "text/plain": [
       "      word  count        freq      subreddit  shared_words\n",
       "wa      wa  24842  408.518336  AmItheAsshole             1\n",
       "just  just   9425  154.990955  AmItheAsshole             1\n",
       "said  said   8373  137.691169  AmItheAsshole             1\n",
       "like  like   8198  134.813353  AmItheAsshole             1\n",
       "told  told   7585  124.732774  AmItheAsshole             1"
      ]
     },
     "execution_count": 62,
     "metadata": {},
     "output_type": "execute_result"
    }
   ],
   "source": [
    "df_aita_words.head()"
   ]
  },
  {
   "cell_type": "code",
   "execution_count": 100,
   "id": "de3ecbfc-1033-4284-adbf-c603719c0528",
   "metadata": {},
   "outputs": [
    {
     "data": {
      "image/png": "[encoded data removed]",
      "text/plain": [
       "<Figure size 432x288 with 1 Axes>"
      ]
     },
     "metadata": {},
     "output_type": "display_data"
    }
   ],
   "source": [
    "sns.set()\n",
    "ax1 = sns.histplot(df_ra_words['shared_words']) \n",
    "ax1.title.set_text('RA')\n",
    "plt.title('RA common words');\n",
    "plt.savefig('RA_Words in Common')"
   ]
  },
  {
   "cell_type": "code",
   "execution_count": 103,
   "id": "8caea62f-eeb3-4cf6-9661-e0a199c57dfd",
   "metadata": {},
   "outputs": [
    {
     "data": {
      "image/png": "[encoded data removed]",
      "text/plain": [
       "<Figure size 432x288 with 1 Axes>"
      ]
     },
     "metadata": {},
     "output_type": "display_data"
    }
   ],
   "source": [
    "sns.set()\n",
    "ax2 = sns.histplot(df_aita_words['shared_words'])\n",
    "ax2.title.set_text('AITA')\n",
    "plt.title('AITA common words');\n",
    "plt.savefig('AITA_Words in Common')"
   ]
  },
  {
   "cell_type": "code",
   "execution_count": 73,
   "id": "7d5a85b8-90b5-4eb9-8541-cbe8926b1f06",
   "metadata": {},
   "outputs": [
    {
     "data": {
      "text/html": [
       "<div>\n",
       "<style scoped>\n",
       "    .dataframe tbody tr th:only-of-type {\n",
       "        vertical-align: middle;\n",
       "    }\n",
       "\n",
       "    .dataframe tbody tr th {\n",
       "        vertical-align: top;\n",
       "    }\n",
       "\n",
       "    .dataframe thead th {\n",
       "        text-align: right;\n",
       "    }\n",
       "</style>\n",
       "<table border=\"1\" class=\"dataframe\">\n",
       "  <thead>\n",
       "    <tr style=\"text-align: right;\">\n",
       "      <th></th>\n",
       "      <th>author</th>\n",
       "      <th>subreddit</th>\n",
       "      <th>selftext</th>\n",
       "      <th>title</th>\n",
       "      <th>when</th>\n",
       "      <th>neg</th>\n",
       "      <th>neu</th>\n",
       "      <th>pos</th>\n",
       "      <th>compound</th>\n",
       "    </tr>\n",
       "  </thead>\n",
       "  <tbody>\n",
       "    <tr>\n",
       "      <th>0</th>\n",
       "      <td>TaintedOne88</td>\n",
       "      <td>relationship_advice</td>\n",
       "      <td>i just text this man telling him how i felt ab...</td>\n",
       "      <td>A permanent memory</td>\n",
       "      <td>2022-11-24 00:15:02</td>\n",
       "      <td>0.000</td>\n",
       "      <td>0.854</td>\n",
       "      <td>0.146</td>\n",
       "      <td>0.8555</td>\n",
       "    </tr>\n",
       "    <tr>\n",
       "      <th>1</th>\n",
       "      <td>UncommonCow56</td>\n",
       "      <td>relationship_advice</td>\n",
       "      <td>ok so a the title say my (m18) girlfriend (f20...</td>\n",
       "      <td>My (M18) gf (F20) keeps dog sitting for a “fri...</td>\n",
       "      <td>2022-11-24 00:13:16</td>\n",
       "      <td>0.075</td>\n",
       "      <td>0.854</td>\n",
       "      <td>0.071</td>\n",
       "      <td>-0.5550</td>\n",
       "    </tr>\n",
       "    <tr>\n",
       "      <th>2</th>\n",
       "      <td>darkglassoverwater</td>\n",
       "      <td>relationship_advice</td>\n",
       "      <td>i'm a junior in high school (male). i have a l...</td>\n",
       "      <td>Friendzone or does she like me?</td>\n",
       "      <td>2022-11-24 00:13:06</td>\n",
       "      <td>0.089</td>\n",
       "      <td>0.726</td>\n",
       "      <td>0.185</td>\n",
       "      <td>0.9800</td>\n",
       "    </tr>\n",
       "    <tr>\n",
       "      <th>3</th>\n",
       "      <td>YourAverageThinker</td>\n",
       "      <td>relationship_advice</td>\n",
       "      <td>me and this girl used to talk at the beginning...</td>\n",
       "      <td>Girl (21F) is so confusing I (M21) just don’t ...</td>\n",
       "      <td>2022-11-24 00:12:56</td>\n",
       "      <td>0.075</td>\n",
       "      <td>0.709</td>\n",
       "      <td>0.217</td>\n",
       "      <td>0.9974</td>\n",
       "    </tr>\n",
       "    <tr>\n",
       "      <th>4</th>\n",
       "      <td>Illustrious-Ask1708</td>\n",
       "      <td>relationship_advice</td>\n",
       "      <td>i've been seeing this girl who's a the title s...</td>\n",
       "      <td>What's everyone's thoughts on an 18yr old fema...</td>\n",
       "      <td>2022-11-24 00:10:58</td>\n",
       "      <td>0.000</td>\n",
       "      <td>0.933</td>\n",
       "      <td>0.067</td>\n",
       "      <td>0.4380</td>\n",
       "    </tr>\n",
       "  </tbody>\n",
       "</table>\n",
       "</div>"
      ],
      "text/plain": [
       "                author            subreddit  \\\n",
       "0         TaintedOne88  relationship_advice   \n",
       "1        UncommonCow56  relationship_advice   \n",
       "2   darkglassoverwater  relationship_advice   \n",
       "3   YourAverageThinker  relationship_advice   \n",
       "4  Illustrious-Ask1708  relationship_advice   \n",
       "\n",
       "                                            selftext  \\\n",
       "0  i just text this man telling him how i felt ab...   \n",
       "1  ok so a the title say my (m18) girlfriend (f20...   \n",
       "2  i'm a junior in high school (male). i have a l...   \n",
       "3  me and this girl used to talk at the beginning...   \n",
       "4  i've been seeing this girl who's a the title s...   \n",
       "\n",
       "                                               title                when  \\\n",
       "0                                 A permanent memory 2022-11-24 00:15:02   \n",
       "1  My (M18) gf (F20) keeps dog sitting for a “fri... 2022-11-24 00:13:16   \n",
       "2                    Friendzone or does she like me? 2022-11-24 00:13:06   \n",
       "3  Girl (21F) is so confusing I (M21) just don’t ... 2022-11-24 00:12:56   \n",
       "4  What's everyone's thoughts on an 18yr old fema... 2022-11-24 00:10:58   \n",
       "\n",
       "     neg    neu    pos  compound  \n",
       "0  0.000  0.854  0.146    0.8555  \n",
       "1  0.075  0.854  0.071   -0.5550  \n",
       "2  0.089  0.726  0.185    0.9800  \n",
       "3  0.075  0.709  0.217    0.9974  \n",
       "4  0.000  0.933  0.067    0.4380  "
      ]
     },
     "execution_count": 73,
     "metadata": {},
     "output_type": "execute_result"
    }
   ],
   "source": [
    "data_frame = pd.concat([df_ra,df_aita])\n",
    "data_frame.head()"
   ]
  },
  {
   "cell_type": "code",
   "execution_count": 79,
   "id": "c2222e44-43f1-4bd6-b455-9fa268e8f843",
   "metadata": {},
   "outputs": [
    {
     "data": {
      "text/html": [
       "<div>\n",
       "<style scoped>\n",
       "    .dataframe tbody tr th:only-of-type {\n",
       "        vertical-align: middle;\n",
       "    }\n",
       "\n",
       "    .dataframe tbody tr th {\n",
       "        vertical-align: top;\n",
       "    }\n",
       "\n",
       "    .dataframe thead th {\n",
       "        text-align: right;\n",
       "    }\n",
       "</style>\n",
       "<table border=\"1\" class=\"dataframe\">\n",
       "  <thead>\n",
       "    <tr style=\"text-align: right;\">\n",
       "      <th></th>\n",
       "      <th>word</th>\n",
       "      <th>count</th>\n",
       "      <th>freq</th>\n",
       "      <th>subreddit</th>\n",
       "      <th>shared_words</th>\n",
       "    </tr>\n",
       "  </thead>\n",
       "  <tbody>\n",
       "    <tr>\n",
       "      <th>wa</th>\n",
       "      <td>wa</td>\n",
       "      <td>20111</td>\n",
       "      <td>295.445865</td>\n",
       "      <td>relationship_advice</td>\n",
       "      <td>1</td>\n",
       "    </tr>\n",
       "    <tr>\n",
       "      <th>like</th>\n",
       "      <td>like</td>\n",
       "      <td>12730</td>\n",
       "      <td>187.013369</td>\n",
       "      <td>relationship_advice</td>\n",
       "      <td>1</td>\n",
       "    </tr>\n",
       "    <tr>\n",
       "      <th>just</th>\n",
       "      <td>just</td>\n",
       "      <td>12440</td>\n",
       "      <td>182.753048</td>\n",
       "      <td>relationship_advice</td>\n",
       "      <td>1</td>\n",
       "    </tr>\n",
       "    <tr>\n",
       "      <th>time</th>\n",
       "      <td>time</td>\n",
       "      <td>9200</td>\n",
       "      <td>135.154988</td>\n",
       "      <td>relationship_advice</td>\n",
       "      <td>1</td>\n",
       "    </tr>\n",
       "    <tr>\n",
       "      <th>want</th>\n",
       "      <td>want</td>\n",
       "      <td>9080</td>\n",
       "      <td>133.392096</td>\n",
       "      <td>relationship_advice</td>\n",
       "      <td>1</td>\n",
       "    </tr>\n",
       "  </tbody>\n",
       "</table>\n",
       "</div>"
      ],
      "text/plain": [
       "      word  count        freq            subreddit  shared_words\n",
       "wa      wa  20111  295.445865  relationship_advice             1\n",
       "like  like  12730  187.013369  relationship_advice             1\n",
       "just  just  12440  182.753048  relationship_advice             1\n",
       "time  time   9200  135.154988  relationship_advice             1\n",
       "want  want   9080  133.392096  relationship_advice             1"
      ]
     },
     "execution_count": 79,
     "metadata": {},
     "output_type": "execute_result"
    }
   ],
   "source": [
    "data_frame_words = pd.concat([df_ra_words,df_aita_words])\n",
    "data_frame_words.head()"
   ]
  },
  {
   "cell_type": "markdown",
   "id": "91f70a8c-ceeb-4b68-b86d-82d85fd5fde0",
   "metadata": {},
   "source": [
    "# Let's Export for Modeling\n"
   ]
  },
  {
   "cell_type": "code",
   "execution_count": 81,
   "id": "43483c60-edc7-45a1-af1e-1457c795c547",
   "metadata": {},
   "outputs": [],
   "source": [
    "data_frame.to_csv('polarity')\n",
    "data_frame_words.to_csv('word_count')"
   ]
  },
  {
   "cell_type": "code",
   "execution_count": null,
   "id": "80e402d2-fe22-4995-a069-021435e0d447",
   "metadata": {},
   "outputs": [],
   "source": []
  }
 ],
 "metadata": {
  "kernelspec": {
   "display_name": "Python 3 (ipykernel)",
   "language": "python",
   "name": "python3"
  },
  "language_info": {
   "codemirror_mode": {
    "name": "ipython",
    "version": 3
   },
   "file_extension": ".py",
   "mimetype": "text/x-python",
   "name": "python",
   "nbconvert_exporter": "python",
   "pygments_lexer": "ipython3",
   "version": "3.9.12"
  }
 },
 "nbformat": 4,
 "nbformat_minor": 5
}
