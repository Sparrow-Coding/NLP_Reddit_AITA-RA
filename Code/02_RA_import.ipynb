{
 "cells": [
  {
   "cell_type": "markdown",
   "id": "b0999d99-36ce-4a77-a991-bd9ab564553f",
   "metadata": {},
   "source": [
    "Table of contents : RelationshipAdvice\n",
    "- imports\n",
    "- funtion to scrape post\n",
    "- 100 calls of function/10,000 post scraped \n"
   ]
  },
  {
   "cell_type": "markdown",
   "id": "ac93e977-dc2b-4c4f-8f12-ee3a1a708b04",
   "metadata": {},
   "source": [
    "Imports"
   ]
  },
  {
   "cell_type": "code",
   "execution_count": 1,
   "id": "4fddc4b5-7d09-4786-a17f-c389240cb112",
   "metadata": {},
   "outputs": [],
   "source": [
    "# web\n",
    "import requests\n",
    "import json\n",
    "\n",
    "\n",
    "# others\n",
    "import time\n",
    "import datetime\n",
    "import pandas as pd"
   ]
  },
  {
   "cell_type": "markdown",
   "id": "c2148de7-c87e-4ffa-ad58-5052a4f945ba",
   "metadata": {},
   "source": [
    "Functiom"
   ]
  },
  {
   "cell_type": "code",
   "execution_count": 2,
   "id": "7632d799-52d4-4aaa-a000-acf183541627",
   "metadata": {},
   "outputs": [],
   "source": [
    "#Function to scrape 100 post and save as a csv file to use later\n",
    "def pushapi(file_name,date):\n",
    "    url = 'https://api.pushshift.io/reddit/search/submission?'\n",
    "    params = {\n",
    "    'subreddit': 'relationship_advice',\n",
    "    'size': 100,\n",
    "    'before':date}\n",
    "    res = requests.get(url, params)\n",
    "    data = res.json()\n",
    "    posts = data['data']\n",
    "    len(posts)\n",
    "    df =[]\n",
    "    df = pd.DataFrame(posts)\n",
    "    df.append(posts)\n",
    "    print(len(df))\n",
    "    date = posts[-1]['created_utc']\n",
    "    date = date -7275 # Created after inital scrape, data ranged from 5 days, this should range for about 2 weeks\n",
    "    print(date)\n",
    "    # With the help of Ben, I have discovered that UTC could've been stored as a variable ad=nd automated\n",
    "    #df.to_csv(file_name, index=False, sep=\",\")\n",
    "   "
   ]
  },
  {
   "cell_type": "markdown",
   "id": "64db4fde-aeb7-4f3f-b991-ea79476adea0",
   "metadata": {},
   "source": [
    "I had some trouble with pushshift.py so this function will suffice as a way to store files,\n",
    "goal is to scrape 10,000 posts with the assumption that half of those will be junk"
   ]
  },
  {
   "cell_type": "code",
   "execution_count": 3,
   "id": "adddd400-724b-4751-afd5-8f04b2182b76",
   "metadata": {},
   "outputs": [
    {
     "name": "stdout",
     "output_type": "stream",
     "text": [
      "100\n",
      "1669237953\n"
     ]
    },
    {
     "name": "stderr",
     "output_type": "stream",
     "text": [
      "C:\\Users\\Sparrow\\AppData\\Local\\Temp\\ipykernel_15044\\4153611647.py:14: FutureWarning: The frame.append method is deprecated and will be removed from pandas in a future version. Use pandas.concat instead.\n",
      "  df.append(posts)\n"
     ]
    }
   ],
   "source": [
    "pushapi('RA1',1669248930)"
   ]
  },
  {
   "cell_type": "code",
   "execution_count": 4,
   "id": "9ba807af-c498-439a-9cbb-4bbc6cb15ad5",
   "metadata": {},
   "outputs": [
    {
     "name": "stdout",
     "output_type": "stream",
     "text": [
      "100\n",
      "1669227292\n"
     ]
    },
    {
     "name": "stderr",
     "output_type": "stream",
     "text": [
      "C:\\Users\\Sparrow\\AppData\\Local\\Temp\\ipykernel_15044\\4153611647.py:14: FutureWarning: The frame.append method is deprecated and will be removed from pandas in a future version. Use pandas.concat instead.\n",
      "  df.append(posts)\n"
     ]
    }
   ],
   "source": [
    "pushapi('RA2',1669237953)"
   ]
  },
  {
   "cell_type": "code",
   "execution_count": 5,
   "id": "9db7773c-06c1-4ddf-8761-8ba53f44a657",
   "metadata": {},
   "outputs": [
    {
     "name": "stdout",
     "output_type": "stream",
     "text": [
      "100\n",
      "1669217399\n"
     ]
    },
    {
     "name": "stderr",
     "output_type": "stream",
     "text": [
      "C:\\Users\\Sparrow\\AppData\\Local\\Temp\\ipykernel_15044\\4153611647.py:14: FutureWarning: The frame.append method is deprecated and will be removed from pandas in a future version. Use pandas.concat instead.\n",
      "  df.append(posts)\n"
     ]
    }
   ],
   "source": [
    "pushapi('RA3',1669227292)"
   ]
  },
  {
   "cell_type": "code",
   "execution_count": 6,
   "id": "d9264998-9930-498f-ab47-2e8d97f5692b",
   "metadata": {},
   "outputs": [
    {
     "name": "stdout",
     "output_type": "stream",
     "text": [
      "100\n",
      "1669205648\n"
     ]
    },
    {
     "name": "stderr",
     "output_type": "stream",
     "text": [
      "C:\\Users\\Sparrow\\AppData\\Local\\Temp\\ipykernel_15044\\4153611647.py:14: FutureWarning: The frame.append method is deprecated and will be removed from pandas in a future version. Use pandas.concat instead.\n",
      "  df.append(posts)\n"
     ]
    }
   ],
   "source": [
    "pushapi('RA4',1669217399)"
   ]
  },
  {
   "cell_type": "code",
   "execution_count": 7,
   "id": "d4043c52-c069-40c7-bd8b-2d8fad5c4085",
   "metadata": {},
   "outputs": [
    {
     "name": "stdout",
     "output_type": "stream",
     "text": [
      "100\n",
      "1669191401\n"
     ]
    },
    {
     "name": "stderr",
     "output_type": "stream",
     "text": [
      "C:\\Users\\Sparrow\\AppData\\Local\\Temp\\ipykernel_15044\\4153611647.py:14: FutureWarning: The frame.append method is deprecated and will be removed from pandas in a future version. Use pandas.concat instead.\n",
      "  df.append(posts)\n"
     ]
    }
   ],
   "source": [
    "pushapi('RA5',1669205648)"
   ]
  },
  {
   "cell_type": "code",
   "execution_count": 8,
   "id": "41703c22-75e9-43e8-810e-0aea2c161505",
   "metadata": {},
   "outputs": [
    {
     "name": "stdout",
     "output_type": "stream",
     "text": [
      "100\n",
      "1669179708\n"
     ]
    },
    {
     "name": "stderr",
     "output_type": "stream",
     "text": [
      "C:\\Users\\Sparrow\\AppData\\Local\\Temp\\ipykernel_15044\\4153611647.py:14: FutureWarning: The frame.append method is deprecated and will be removed from pandas in a future version. Use pandas.concat instead.\n",
      "  df.append(posts)\n"
     ]
    }
   ],
   "source": [
    "pushapi('RA6',1669191401)"
   ]
  },
  {
   "cell_type": "code",
   "execution_count": 9,
   "id": "5a674ad0-d1ee-408b-a769-ea8da41510e1",
   "metadata": {},
   "outputs": [
    {
     "name": "stdout",
     "output_type": "stream",
     "text": [
      "100\n",
      "1669167679\n"
     ]
    },
    {
     "name": "stderr",
     "output_type": "stream",
     "text": [
      "C:\\Users\\Sparrow\\AppData\\Local\\Temp\\ipykernel_15044\\4153611647.py:14: FutureWarning: The frame.append method is deprecated and will be removed from pandas in a future version. Use pandas.concat instead.\n",
      "  df.append(posts)\n"
     ]
    }
   ],
   "source": [
    "pushapi('RA7',1669179708)"
   ]
  },
  {
   "cell_type": "code",
   "execution_count": 10,
   "id": "701bfa5c-4abd-4c13-8449-4ee5c1a38535",
   "metadata": {},
   "outputs": [
    {
     "name": "stdout",
     "output_type": "stream",
     "text": [
      "100\n",
      "1669156522\n"
     ]
    },
    {
     "name": "stderr",
     "output_type": "stream",
     "text": [
      "C:\\Users\\Sparrow\\AppData\\Local\\Temp\\ipykernel_15044\\4153611647.py:14: FutureWarning: The frame.append method is deprecated and will be removed from pandas in a future version. Use pandas.concat instead.\n",
      "  df.append(posts)\n"
     ]
    }
   ],
   "source": [
    "pushapi('RA8',1669167679)"
   ]
  },
  {
   "cell_type": "code",
   "execution_count": 11,
   "id": "e2ad8d18-813e-4f00-90b0-33f92af7da8e",
   "metadata": {},
   "outputs": [
    {
     "name": "stdout",
     "output_type": "stream",
     "text": [
      "100\n",
      "1669145814\n"
     ]
    },
    {
     "name": "stderr",
     "output_type": "stream",
     "text": [
      "C:\\Users\\Sparrow\\AppData\\Local\\Temp\\ipykernel_15044\\4153611647.py:14: FutureWarning: The frame.append method is deprecated and will be removed from pandas in a future version. Use pandas.concat instead.\n",
      "  df.append(posts)\n"
     ]
    }
   ],
   "source": [
    "pushapi('RA9',1669156522)"
   ]
  },
  {
   "cell_type": "code",
   "execution_count": 12,
   "id": "d524351f-8d2e-4cb0-9212-693561b2d142",
   "metadata": {},
   "outputs": [
    {
     "name": "stdout",
     "output_type": "stream",
     "text": [
      "100\n",
      "1669133888\n"
     ]
    },
    {
     "name": "stderr",
     "output_type": "stream",
     "text": [
      "C:\\Users\\Sparrow\\AppData\\Local\\Temp\\ipykernel_15044\\4153611647.py:14: FutureWarning: The frame.append method is deprecated and will be removed from pandas in a future version. Use pandas.concat instead.\n",
      "  df.append(posts)\n"
     ]
    }
   ],
   "source": [
    "pushapi('RA10',1669145814)"
   ]
  },
  {
   "cell_type": "code",
   "execution_count": 13,
   "id": "ae41a731-555a-4e5f-9358-5ce7cd6f1754",
   "metadata": {},
   "outputs": [
    {
     "name": "stdout",
     "output_type": "stream",
     "text": [
      "100\n",
      "1669122973\n"
     ]
    },
    {
     "name": "stderr",
     "output_type": "stream",
     "text": [
      "C:\\Users\\Sparrow\\AppData\\Local\\Temp\\ipykernel_15044\\4153611647.py:14: FutureWarning: The frame.append method is deprecated and will be removed from pandas in a future version. Use pandas.concat instead.\n",
      "  df.append(posts)\n"
     ]
    }
   ],
   "source": [
    "pushapi('RA11',1669133888)"
   ]
  },
  {
   "cell_type": "code",
   "execution_count": 14,
   "id": "8766d41d-2a0f-4e01-898b-7563bfe2d550",
   "metadata": {},
   "outputs": [
    {
     "name": "stdout",
     "output_type": "stream",
     "text": [
      "100\n",
      "1669110179\n"
     ]
    },
    {
     "name": "stderr",
     "output_type": "stream",
     "text": [
      "C:\\Users\\Sparrow\\AppData\\Local\\Temp\\ipykernel_15044\\4153611647.py:14: FutureWarning: The frame.append method is deprecated and will be removed from pandas in a future version. Use pandas.concat instead.\n",
      "  df.append(posts)\n"
     ]
    }
   ],
   "source": [
    "pushapi('RA12',1669122973)"
   ]
  },
  {
   "cell_type": "code",
   "execution_count": 15,
   "id": "cdc58af2-ee81-461b-8ead-a110debb9d47",
   "metadata": {},
   "outputs": [
    {
     "name": "stdout",
     "output_type": "stream",
     "text": [
      "100\n",
      "1669096513\n"
     ]
    },
    {
     "name": "stderr",
     "output_type": "stream",
     "text": [
      "C:\\Users\\Sparrow\\AppData\\Local\\Temp\\ipykernel_15044\\4153611647.py:14: FutureWarning: The frame.append method is deprecated and will be removed from pandas in a future version. Use pandas.concat instead.\n",
      "  df.append(posts)\n"
     ]
    }
   ],
   "source": [
    "pushapi('RA13',1669110179)"
   ]
  },
  {
   "cell_type": "code",
   "execution_count": 16,
   "id": "5164093c-d7d4-4415-830d-d00332e21c76",
   "metadata": {},
   "outputs": [
    {
     "name": "stdout",
     "output_type": "stream",
     "text": [
      "100\n",
      "1669085606\n"
     ]
    },
    {
     "name": "stderr",
     "output_type": "stream",
     "text": [
      "C:\\Users\\Sparrow\\AppData\\Local\\Temp\\ipykernel_15044\\4153611647.py:14: FutureWarning: The frame.append method is deprecated and will be removed from pandas in a future version. Use pandas.concat instead.\n",
      "  df.append(posts)\n"
     ]
    }
   ],
   "source": [
    "pushapi('RA14',1669096513)"
   ]
  },
  {
   "cell_type": "code",
   "execution_count": 17,
   "id": "ddb84c4f-c854-4ddb-be38-8fcc29c320de",
   "metadata": {},
   "outputs": [
    {
     "name": "stdout",
     "output_type": "stream",
     "text": [
      "100\n",
      "1669075001\n"
     ]
    },
    {
     "name": "stderr",
     "output_type": "stream",
     "text": [
      "C:\\Users\\Sparrow\\AppData\\Local\\Temp\\ipykernel_15044\\4153611647.py:14: FutureWarning: The frame.append method is deprecated and will be removed from pandas in a future version. Use pandas.concat instead.\n",
      "  df.append(posts)\n"
     ]
    }
   ],
   "source": [
    "pushapi('RA15',1669085606)"
   ]
  },
  {
   "cell_type": "code",
   "execution_count": 18,
   "id": "1e9f82e6-e7c7-4d11-b044-91a417ae3fc7",
   "metadata": {},
   "outputs": [
    {
     "name": "stdout",
     "output_type": "stream",
     "text": [
      "100\n",
      "1669064291\n"
     ]
    },
    {
     "name": "stderr",
     "output_type": "stream",
     "text": [
      "C:\\Users\\Sparrow\\AppData\\Local\\Temp\\ipykernel_15044\\4153611647.py:14: FutureWarning: The frame.append method is deprecated and will be removed from pandas in a future version. Use pandas.concat instead.\n",
      "  df.append(posts)\n"
     ]
    }
   ],
   "source": [
    "pushapi('RA16',1669075001)"
   ]
  },
  {
   "cell_type": "code",
   "execution_count": 19,
   "id": "8c600a2c-968f-48d1-976c-206099c6427b",
   "metadata": {},
   "outputs": [
    {
     "name": "stdout",
     "output_type": "stream",
     "text": [
      "100\n",
      "1669053313\n"
     ]
    },
    {
     "name": "stderr",
     "output_type": "stream",
     "text": [
      "C:\\Users\\Sparrow\\AppData\\Local\\Temp\\ipykernel_15044\\4153611647.py:14: FutureWarning: The frame.append method is deprecated and will be removed from pandas in a future version. Use pandas.concat instead.\n",
      "  df.append(posts)\n"
     ]
    }
   ],
   "source": [
    "pushapi('RA17',1669064291)"
   ]
  },
  {
   "cell_type": "code",
   "execution_count": 20,
   "id": "6af0a2d7-3132-4ea5-a6ba-62bdd3d73bda",
   "metadata": {},
   "outputs": [
    {
     "name": "stdout",
     "output_type": "stream",
     "text": [
      "100\n",
      "1669042332\n"
     ]
    },
    {
     "name": "stderr",
     "output_type": "stream",
     "text": [
      "C:\\Users\\Sparrow\\AppData\\Local\\Temp\\ipykernel_15044\\4153611647.py:14: FutureWarning: The frame.append method is deprecated and will be removed from pandas in a future version. Use pandas.concat instead.\n",
      "  df.append(posts)\n"
     ]
    }
   ],
   "source": [
    "pushapi('RA18',1669053313)"
   ]
  },
  {
   "cell_type": "code",
   "execution_count": 21,
   "id": "16072937-ecc2-43fb-8e2c-22e6258264dc",
   "metadata": {},
   "outputs": [
    {
     "name": "stdout",
     "output_type": "stream",
     "text": [
      "100\n",
      "1669031307\n"
     ]
    },
    {
     "name": "stderr",
     "output_type": "stream",
     "text": [
      "C:\\Users\\Sparrow\\AppData\\Local\\Temp\\ipykernel_15044\\4153611647.py:14: FutureWarning: The frame.append method is deprecated and will be removed from pandas in a future version. Use pandas.concat instead.\n",
      "  df.append(posts)\n"
     ]
    }
   ],
   "source": [
    "pushapi('RA19',1669042332)"
   ]
  },
  {
   "cell_type": "code",
   "execution_count": 22,
   "id": "cb109b9f-c3d8-4ad0-b825-7eb2729755c2",
   "metadata": {},
   "outputs": [
    {
     "name": "stdout",
     "output_type": "stream",
     "text": [
      "100\n",
      "1669018329\n"
     ]
    },
    {
     "name": "stderr",
     "output_type": "stream",
     "text": [
      "C:\\Users\\Sparrow\\AppData\\Local\\Temp\\ipykernel_15044\\4153611647.py:14: FutureWarning: The frame.append method is deprecated and will be removed from pandas in a future version. Use pandas.concat instead.\n",
      "  df.append(posts)\n"
     ]
    }
   ],
   "source": [
    "pushapi('RA20',1669031307)"
   ]
  },
  {
   "cell_type": "code",
   "execution_count": 23,
   "id": "56c5e69f-2cf8-4aba-8813-ef96878389a8",
   "metadata": {},
   "outputs": [
    {
     "name": "stdout",
     "output_type": "stream",
     "text": [
      "100\n",
      "1669006206\n"
     ]
    },
    {
     "name": "stderr",
     "output_type": "stream",
     "text": [
      "C:\\Users\\Sparrow\\AppData\\Local\\Temp\\ipykernel_15044\\4153611647.py:14: FutureWarning: The frame.append method is deprecated and will be removed from pandas in a future version. Use pandas.concat instead.\n",
      "  df.append(posts)\n"
     ]
    }
   ],
   "source": [
    "pushapi('RA21',1669018329)"
   ]
  },
  {
   "cell_type": "code",
   "execution_count": 24,
   "id": "3816b465-7e42-4e68-82c1-e1e055a49078",
   "metadata": {},
   "outputs": [
    {
     "name": "stdout",
     "output_type": "stream",
     "text": [
      "100\n",
      "1668994820\n"
     ]
    },
    {
     "name": "stderr",
     "output_type": "stream",
     "text": [
      "C:\\Users\\Sparrow\\AppData\\Local\\Temp\\ipykernel_15044\\4153611647.py:14: FutureWarning: The frame.append method is deprecated and will be removed from pandas in a future version. Use pandas.concat instead.\n",
      "  df.append(posts)\n"
     ]
    }
   ],
   "source": [
    "pushapi('RA22',1669006206)"
   ]
  },
  {
   "cell_type": "code",
   "execution_count": 25,
   "id": "57f575be-7f50-4a50-b996-2a6ebbf51bd2",
   "metadata": {},
   "outputs": [
    {
     "name": "stdout",
     "output_type": "stream",
     "text": [
      "100\n",
      "1668983988\n"
     ]
    },
    {
     "name": "stderr",
     "output_type": "stream",
     "text": [
      "C:\\Users\\Sparrow\\AppData\\Local\\Temp\\ipykernel_15044\\4153611647.py:14: FutureWarning: The frame.append method is deprecated and will be removed from pandas in a future version. Use pandas.concat instead.\n",
      "  df.append(posts)\n"
     ]
    }
   ],
   "source": [
    "pushapi('RA23',1668994820)"
   ]
  },
  {
   "cell_type": "code",
   "execution_count": 26,
   "id": "4227db00-3d9c-4101-a5ff-751baad0fc0a",
   "metadata": {},
   "outputs": [
    {
     "name": "stdout",
     "output_type": "stream",
     "text": [
      "100\n",
      "1668973377\n"
     ]
    },
    {
     "name": "stderr",
     "output_type": "stream",
     "text": [
      "C:\\Users\\Sparrow\\AppData\\Local\\Temp\\ipykernel_15044\\4153611647.py:14: FutureWarning: The frame.append method is deprecated and will be removed from pandas in a future version. Use pandas.concat instead.\n",
      "  df.append(posts)\n"
     ]
    }
   ],
   "source": [
    "pushapi('RA24',1668983988)"
   ]
  },
  {
   "cell_type": "code",
   "execution_count": 27,
   "id": "79283b52-ca5b-4551-bf99-d82c48364c3c",
   "metadata": {},
   "outputs": [
    {
     "name": "stdout",
     "output_type": "stream",
     "text": [
      "100\n",
      "1668962244\n"
     ]
    },
    {
     "name": "stderr",
     "output_type": "stream",
     "text": [
      "C:\\Users\\Sparrow\\AppData\\Local\\Temp\\ipykernel_15044\\4153611647.py:14: FutureWarning: The frame.append method is deprecated and will be removed from pandas in a future version. Use pandas.concat instead.\n",
      "  df.append(posts)\n"
     ]
    }
   ],
   "source": [
    "pushapi('RA25',1668973377)"
   ]
  },
  {
   "cell_type": "code",
   "execution_count": 28,
   "id": "62baf5c1-fa76-483b-bffb-5869e4c1562b",
   "metadata": {},
   "outputs": [
    {
     "name": "stdout",
     "output_type": "stream",
     "text": [
      "100\n",
      "1668951939\n"
     ]
    },
    {
     "name": "stderr",
     "output_type": "stream",
     "text": [
      "C:\\Users\\Sparrow\\AppData\\Local\\Temp\\ipykernel_15044\\4153611647.py:14: FutureWarning: The frame.append method is deprecated and will be removed from pandas in a future version. Use pandas.concat instead.\n",
      "  df.append(posts)\n"
     ]
    }
   ],
   "source": [
    "pushapi('RA26',1668962244)"
   ]
  },
  {
   "cell_type": "code",
   "execution_count": 29,
   "id": "7c558a63-ec87-4fec-b1fc-7ad18dde082b",
   "metadata": {},
   "outputs": [
    {
     "name": "stdout",
     "output_type": "stream",
     "text": [
      "100\n",
      "1668940033\n"
     ]
    },
    {
     "name": "stderr",
     "output_type": "stream",
     "text": [
      "C:\\Users\\Sparrow\\AppData\\Local\\Temp\\ipykernel_15044\\4153611647.py:14: FutureWarning: The frame.append method is deprecated and will be removed from pandas in a future version. Use pandas.concat instead.\n",
      "  df.append(posts)\n"
     ]
    }
   ],
   "source": [
    "pushapi('RA27',1668951939)"
   ]
  },
  {
   "cell_type": "code",
   "execution_count": 30,
   "id": "0feb237b-32fd-47e0-b53b-fdd40658daf3",
   "metadata": {},
   "outputs": [
    {
     "name": "stdout",
     "output_type": "stream",
     "text": [
      "100\n",
      "1668927277\n"
     ]
    },
    {
     "name": "stderr",
     "output_type": "stream",
     "text": [
      "C:\\Users\\Sparrow\\AppData\\Local\\Temp\\ipykernel_15044\\4153611647.py:14: FutureWarning: The frame.append method is deprecated and will be removed from pandas in a future version. Use pandas.concat instead.\n",
      "  df.append(posts)\n"
     ]
    }
   ],
   "source": [
    "pushapi('RA28',1668940033)"
   ]
  },
  {
   "cell_type": "code",
   "execution_count": 31,
   "id": "2f857179-dc5a-48d3-af16-850395823f2b",
   "metadata": {},
   "outputs": [
    {
     "name": "stdout",
     "output_type": "stream",
     "text": [
      "100\n",
      "1668915300\n"
     ]
    },
    {
     "name": "stderr",
     "output_type": "stream",
     "text": [
      "C:\\Users\\Sparrow\\AppData\\Local\\Temp\\ipykernel_15044\\4153611647.py:14: FutureWarning: The frame.append method is deprecated and will be removed from pandas in a future version. Use pandas.concat instead.\n",
      "  df.append(posts)\n"
     ]
    }
   ],
   "source": [
    "pushapi('RA29',1668927277)"
   ]
  },
  {
   "cell_type": "code",
   "execution_count": 32,
   "id": "1bc85bc1-6f9e-472e-bfc0-ce378ae0153b",
   "metadata": {},
   "outputs": [
    {
     "name": "stdout",
     "output_type": "stream",
     "text": [
      "100\n",
      "1668904414\n"
     ]
    },
    {
     "name": "stderr",
     "output_type": "stream",
     "text": [
      "C:\\Users\\Sparrow\\AppData\\Local\\Temp\\ipykernel_15044\\4153611647.py:14: FutureWarning: The frame.append method is deprecated and will be removed from pandas in a future version. Use pandas.concat instead.\n",
      "  df.append(posts)\n"
     ]
    }
   ],
   "source": [
    "pushapi('RA30',1668915300)"
   ]
  },
  {
   "cell_type": "code",
   "execution_count": 33,
   "id": "e94587d9-06e9-4127-b7b6-eb153ad6121f",
   "metadata": {},
   "outputs": [
    {
     "name": "stdout",
     "output_type": "stream",
     "text": [
      "100\n",
      "1668893972\n"
     ]
    },
    {
     "name": "stderr",
     "output_type": "stream",
     "text": [
      "C:\\Users\\Sparrow\\AppData\\Local\\Temp\\ipykernel_15044\\4153611647.py:14: FutureWarning: The frame.append method is deprecated and will be removed from pandas in a future version. Use pandas.concat instead.\n",
      "  df.append(posts)\n"
     ]
    }
   ],
   "source": [
    "pushapi('RA31',1668904414)"
   ]
  },
  {
   "cell_type": "code",
   "execution_count": 34,
   "id": "3f664c40-d269-4159-b4f3-4fcd87a89c10",
   "metadata": {},
   "outputs": [
    {
     "name": "stdout",
     "output_type": "stream",
     "text": [
      "100\n",
      "1668883666\n"
     ]
    },
    {
     "name": "stderr",
     "output_type": "stream",
     "text": [
      "C:\\Users\\Sparrow\\AppData\\Local\\Temp\\ipykernel_15044\\4153611647.py:14: FutureWarning: The frame.append method is deprecated and will be removed from pandas in a future version. Use pandas.concat instead.\n",
      "  df.append(posts)\n"
     ]
    }
   ],
   "source": [
    "pushapi('RA32',1668893972)"
   ]
  },
  {
   "cell_type": "code",
   "execution_count": 35,
   "id": "015b3132-5372-4b5f-ab41-2f757efab2a8",
   "metadata": {},
   "outputs": [
    {
     "name": "stdout",
     "output_type": "stream",
     "text": [
      "100\n",
      "1668872346\n"
     ]
    },
    {
     "name": "stderr",
     "output_type": "stream",
     "text": [
      "C:\\Users\\Sparrow\\AppData\\Local\\Temp\\ipykernel_15044\\4153611647.py:14: FutureWarning: The frame.append method is deprecated and will be removed from pandas in a future version. Use pandas.concat instead.\n",
      "  df.append(posts)\n"
     ]
    }
   ],
   "source": [
    "pushapi('RA33',1668883666)"
   ]
  },
  {
   "cell_type": "code",
   "execution_count": 36,
   "id": "5c8dd21b-e6e9-4c51-96a0-be84507467e5",
   "metadata": {},
   "outputs": [
    {
     "name": "stdout",
     "output_type": "stream",
     "text": [
      "100\n",
      "1668861092\n"
     ]
    },
    {
     "name": "stderr",
     "output_type": "stream",
     "text": [
      "C:\\Users\\Sparrow\\AppData\\Local\\Temp\\ipykernel_15044\\4153611647.py:14: FutureWarning: The frame.append method is deprecated and will be removed from pandas in a future version. Use pandas.concat instead.\n",
      "  df.append(posts)\n"
     ]
    }
   ],
   "source": [
    "pushapi('RA34',1668872346)"
   ]
  },
  {
   "cell_type": "code",
   "execution_count": 37,
   "id": "e61e45d8-1b8f-48ea-be70-c17617fd3716",
   "metadata": {},
   "outputs": [
    {
     "name": "stdout",
     "output_type": "stream",
     "text": [
      "100\n",
      "1668847376\n"
     ]
    },
    {
     "name": "stderr",
     "output_type": "stream",
     "text": [
      "C:\\Users\\Sparrow\\AppData\\Local\\Temp\\ipykernel_15044\\4153611647.py:14: FutureWarning: The frame.append method is deprecated and will be removed from pandas in a future version. Use pandas.concat instead.\n",
      "  df.append(posts)\n"
     ]
    }
   ],
   "source": [
    "pushapi('RA35',1668861092)"
   ]
  },
  {
   "cell_type": "code",
   "execution_count": 38,
   "id": "54317aef-cc35-4886-ac3a-6ef20757e337",
   "metadata": {},
   "outputs": [
    {
     "name": "stdout",
     "output_type": "stream",
     "text": [
      "100\n",
      "1668834529\n"
     ]
    },
    {
     "name": "stderr",
     "output_type": "stream",
     "text": [
      "C:\\Users\\Sparrow\\AppData\\Local\\Temp\\ipykernel_15044\\4153611647.py:14: FutureWarning: The frame.append method is deprecated and will be removed from pandas in a future version. Use pandas.concat instead.\n",
      "  df.append(posts)\n"
     ]
    }
   ],
   "source": [
    "pushapi('RA36',1668847376)"
   ]
  },
  {
   "cell_type": "code",
   "execution_count": 39,
   "id": "5f8cec0f-058d-41d4-af9b-aa93f4b4c5b9",
   "metadata": {},
   "outputs": [
    {
     "name": "stdout",
     "output_type": "stream",
     "text": [
      "100\n",
      "1668823563\n"
     ]
    },
    {
     "name": "stderr",
     "output_type": "stream",
     "text": [
      "C:\\Users\\Sparrow\\AppData\\Local\\Temp\\ipykernel_15044\\4153611647.py:14: FutureWarning: The frame.append method is deprecated and will be removed from pandas in a future version. Use pandas.concat instead.\n",
      "  df.append(posts)\n"
     ]
    }
   ],
   "source": [
    "pushapi('RA37',1668834529)"
   ]
  },
  {
   "cell_type": "code",
   "execution_count": 40,
   "id": "1d36f1b9-8fdb-426e-baac-a9664e57f8b6",
   "metadata": {},
   "outputs": [
    {
     "name": "stdout",
     "output_type": "stream",
     "text": [
      "100\n",
      "1668812251\n"
     ]
    },
    {
     "name": "stderr",
     "output_type": "stream",
     "text": [
      "C:\\Users\\Sparrow\\AppData\\Local\\Temp\\ipykernel_15044\\4153611647.py:14: FutureWarning: The frame.append method is deprecated and will be removed from pandas in a future version. Use pandas.concat instead.\n",
      "  df.append(posts)\n"
     ]
    }
   ],
   "source": [
    "pushapi('RA38',1668823563)"
   ]
  },
  {
   "cell_type": "code",
   "execution_count": 41,
   "id": "a8e82a71-fe88-4769-a585-c29f32c11b23",
   "metadata": {},
   "outputs": [
    {
     "name": "stdout",
     "output_type": "stream",
     "text": [
      "100\n",
      "1668800545\n"
     ]
    },
    {
     "name": "stderr",
     "output_type": "stream",
     "text": [
      "C:\\Users\\Sparrow\\AppData\\Local\\Temp\\ipykernel_15044\\4153611647.py:14: FutureWarning: The frame.append method is deprecated and will be removed from pandas in a future version. Use pandas.concat instead.\n",
      "  df.append(posts)\n"
     ]
    }
   ],
   "source": [
    "pushapi('RA39',1668812251)"
   ]
  },
  {
   "cell_type": "code",
   "execution_count": 42,
   "id": "7d68d18e-d480-4679-ac37-0b21ad5c9086",
   "metadata": {},
   "outputs": [
    {
     "name": "stdout",
     "output_type": "stream",
     "text": [
      "100\n",
      "1668789607\n"
     ]
    },
    {
     "name": "stderr",
     "output_type": "stream",
     "text": [
      "C:\\Users\\Sparrow\\AppData\\Local\\Temp\\ipykernel_15044\\4153611647.py:14: FutureWarning: The frame.append method is deprecated and will be removed from pandas in a future version. Use pandas.concat instead.\n",
      "  df.append(posts)\n"
     ]
    }
   ],
   "source": [
    "pushapi('RA40',1668800545)"
   ]
  },
  {
   "cell_type": "code",
   "execution_count": 43,
   "id": "d9fd447d-10f0-42de-b861-dbe9694809e7",
   "metadata": {},
   "outputs": [
    {
     "name": "stdout",
     "output_type": "stream",
     "text": [
      "100\n",
      "1668777102\n"
     ]
    },
    {
     "name": "stderr",
     "output_type": "stream",
     "text": [
      "C:\\Users\\Sparrow\\AppData\\Local\\Temp\\ipykernel_15044\\4153611647.py:14: FutureWarning: The frame.append method is deprecated and will be removed from pandas in a future version. Use pandas.concat instead.\n",
      "  df.append(posts)\n"
     ]
    }
   ],
   "source": [
    "pushapi('RA41',1668789607)"
   ]
  },
  {
   "cell_type": "code",
   "execution_count": 44,
   "id": "42f61caf-56b9-4013-b991-d1ba4c4bfc32",
   "metadata": {},
   "outputs": [
    {
     "name": "stdout",
     "output_type": "stream",
     "text": [
      "100\n",
      "1668763950\n"
     ]
    },
    {
     "name": "stderr",
     "output_type": "stream",
     "text": [
      "C:\\Users\\Sparrow\\AppData\\Local\\Temp\\ipykernel_15044\\4153611647.py:14: FutureWarning: The frame.append method is deprecated and will be removed from pandas in a future version. Use pandas.concat instead.\n",
      "  df.append(posts)\n"
     ]
    }
   ],
   "source": [
    "pushapi('RA42',1668777102)"
   ]
  },
  {
   "cell_type": "code",
   "execution_count": 45,
   "id": "12c4daf2-1950-438d-8f74-3c517df1ac1f",
   "metadata": {},
   "outputs": [
    {
     "name": "stdout",
     "output_type": "stream",
     "text": [
      "100\n",
      "1668749565\n"
     ]
    },
    {
     "name": "stderr",
     "output_type": "stream",
     "text": [
      "C:\\Users\\Sparrow\\AppData\\Local\\Temp\\ipykernel_15044\\4153611647.py:14: FutureWarning: The frame.append method is deprecated and will be removed from pandas in a future version. Use pandas.concat instead.\n",
      "  df.append(posts)\n"
     ]
    }
   ],
   "source": [
    "pushapi('RA43', 1668763950)"
   ]
  },
  {
   "cell_type": "code",
   "execution_count": 46,
   "id": "c38e070b-2434-4d39-a960-3dbd0c702e68",
   "metadata": {},
   "outputs": [
    {
     "name": "stdout",
     "output_type": "stream",
     "text": [
      "100\n",
      "1668737482\n"
     ]
    },
    {
     "name": "stderr",
     "output_type": "stream",
     "text": [
      "C:\\Users\\Sparrow\\AppData\\Local\\Temp\\ipykernel_15044\\4153611647.py:14: FutureWarning: The frame.append method is deprecated and will be removed from pandas in a future version. Use pandas.concat instead.\n",
      "  df.append(posts)\n"
     ]
    }
   ],
   "source": [
    "pushapi('RA44',1668749565)"
   ]
  },
  {
   "cell_type": "code",
   "execution_count": 47,
   "id": "cdf61230-7082-4f7c-818a-6d25ed0517b6",
   "metadata": {},
   "outputs": [
    {
     "name": "stdout",
     "output_type": "stream",
     "text": [
      "100\n",
      "1668726303\n"
     ]
    },
    {
     "name": "stderr",
     "output_type": "stream",
     "text": [
      "C:\\Users\\Sparrow\\AppData\\Local\\Temp\\ipykernel_15044\\4153611647.py:14: FutureWarning: The frame.append method is deprecated and will be removed from pandas in a future version. Use pandas.concat instead.\n",
      "  df.append(posts)\n"
     ]
    }
   ],
   "source": [
    "pushapi('RA45',1668737482)"
   ]
  },
  {
   "cell_type": "code",
   "execution_count": 48,
   "id": "0724dd00-3062-49de-ae2b-ee9783f170a9",
   "metadata": {},
   "outputs": [
    {
     "name": "stdout",
     "output_type": "stream",
     "text": [
      "100\n",
      "1668715080\n"
     ]
    },
    {
     "name": "stderr",
     "output_type": "stream",
     "text": [
      "C:\\Users\\Sparrow\\AppData\\Local\\Temp\\ipykernel_15044\\4153611647.py:14: FutureWarning: The frame.append method is deprecated and will be removed from pandas in a future version. Use pandas.concat instead.\n",
      "  df.append(posts)\n"
     ]
    }
   ],
   "source": [
    "pushapi('RA46',1668726303)"
   ]
  },
  {
   "cell_type": "code",
   "execution_count": 49,
   "id": "dcf02c18-f45f-4109-98b8-dc39e77194ec",
   "metadata": {},
   "outputs": [
    {
     "name": "stdout",
     "output_type": "stream",
     "text": [
      "100\n",
      "1668703832\n"
     ]
    },
    {
     "name": "stderr",
     "output_type": "stream",
     "text": [
      "C:\\Users\\Sparrow\\AppData\\Local\\Temp\\ipykernel_15044\\4153611647.py:14: FutureWarning: The frame.append method is deprecated and will be removed from pandas in a future version. Use pandas.concat instead.\n",
      "  df.append(posts)\n"
     ]
    }
   ],
   "source": [
    "pushapi('RA47',1668715080)"
   ]
  },
  {
   "cell_type": "code",
   "execution_count": 50,
   "id": "6eb8ffcc-10e7-42e5-8120-496f3d24f753",
   "metadata": {},
   "outputs": [
    {
     "name": "stdout",
     "output_type": "stream",
     "text": [
      "100\n",
      "1668692307\n"
     ]
    },
    {
     "name": "stderr",
     "output_type": "stream",
     "text": [
      "C:\\Users\\Sparrow\\AppData\\Local\\Temp\\ipykernel_15044\\4153611647.py:14: FutureWarning: The frame.append method is deprecated and will be removed from pandas in a future version. Use pandas.concat instead.\n",
      "  df.append(posts)\n"
     ]
    }
   ],
   "source": [
    "pushapi('RA48',1668703832)"
   ]
  },
  {
   "cell_type": "code",
   "execution_count": 51,
   "id": "e51aa551-9b5d-414b-a245-cb3839e4c581",
   "metadata": {},
   "outputs": [
    {
     "name": "stdout",
     "output_type": "stream",
     "text": [
      "100\n",
      "1668678684\n"
     ]
    },
    {
     "name": "stderr",
     "output_type": "stream",
     "text": [
      "C:\\Users\\Sparrow\\AppData\\Local\\Temp\\ipykernel_15044\\4153611647.py:14: FutureWarning: The frame.append method is deprecated and will be removed from pandas in a future version. Use pandas.concat instead.\n",
      "  df.append(posts)\n"
     ]
    }
   ],
   "source": [
    "pushapi('RA49',1668692307)"
   ]
  },
  {
   "cell_type": "code",
   "execution_count": 52,
   "id": "4dc13b75-71bf-48ae-b7e0-5ac9822418fa",
   "metadata": {},
   "outputs": [
    {
     "name": "stdout",
     "output_type": "stream",
     "text": [
      "100\n",
      "1668665235\n"
     ]
    },
    {
     "name": "stderr",
     "output_type": "stream",
     "text": [
      "C:\\Users\\Sparrow\\AppData\\Local\\Temp\\ipykernel_15044\\4153611647.py:14: FutureWarning: The frame.append method is deprecated and will be removed from pandas in a future version. Use pandas.concat instead.\n",
      "  df.append(posts)\n"
     ]
    }
   ],
   "source": [
    "pushapi('RA50',1668678684)"
   ]
  },
  {
   "cell_type": "code",
   "execution_count": 53,
   "id": "70132606-fd1e-42a9-8957-c480a7531102",
   "metadata": {},
   "outputs": [
    {
     "name": "stdout",
     "output_type": "stream",
     "text": [
      "100\n",
      "1668653576\n"
     ]
    },
    {
     "name": "stderr",
     "output_type": "stream",
     "text": [
      "C:\\Users\\Sparrow\\AppData\\Local\\Temp\\ipykernel_15044\\4153611647.py:14: FutureWarning: The frame.append method is deprecated and will be removed from pandas in a future version. Use pandas.concat instead.\n",
      "  df.append(posts)\n"
     ]
    }
   ],
   "source": [
    "pushapi('RA51',1668665235)"
   ]
  },
  {
   "cell_type": "code",
   "execution_count": 54,
   "id": "ade9e9ab-cdb1-4d31-a3f6-781f26bdbee1",
   "metadata": {},
   "outputs": [
    {
     "name": "stdout",
     "output_type": "stream",
     "text": [
      "100\n",
      "1668642642\n"
     ]
    },
    {
     "name": "stderr",
     "output_type": "stream",
     "text": [
      "C:\\Users\\Sparrow\\AppData\\Local\\Temp\\ipykernel_15044\\4153611647.py:14: FutureWarning: The frame.append method is deprecated and will be removed from pandas in a future version. Use pandas.concat instead.\n",
      "  df.append(posts)\n"
     ]
    }
   ],
   "source": [
    "pushapi('RA52',1668653576)"
   ]
  },
  {
   "cell_type": "code",
   "execution_count": 55,
   "id": "b5969d33-2a04-4563-9c5b-818a40c482e2",
   "metadata": {},
   "outputs": [
    {
     "name": "stdout",
     "output_type": "stream",
     "text": [
      "100\n",
      "1668631471\n"
     ]
    },
    {
     "name": "stderr",
     "output_type": "stream",
     "text": [
      "C:\\Users\\Sparrow\\AppData\\Local\\Temp\\ipykernel_15044\\4153611647.py:14: FutureWarning: The frame.append method is deprecated and will be removed from pandas in a future version. Use pandas.concat instead.\n",
      "  df.append(posts)\n"
     ]
    }
   ],
   "source": [
    "pushapi('RA53',1668642642)"
   ]
  },
  {
   "cell_type": "code",
   "execution_count": 56,
   "id": "8dcfd375-1c3f-416d-bdf4-0f68c9c0786a",
   "metadata": {},
   "outputs": [
    {
     "name": "stdout",
     "output_type": "stream",
     "text": [
      "100\n",
      "1668620356\n"
     ]
    },
    {
     "name": "stderr",
     "output_type": "stream",
     "text": [
      "C:\\Users\\Sparrow\\AppData\\Local\\Temp\\ipykernel_15044\\4153611647.py:14: FutureWarning: The frame.append method is deprecated and will be removed from pandas in a future version. Use pandas.concat instead.\n",
      "  df.append(posts)\n"
     ]
    }
   ],
   "source": [
    "pushapi('RA54',1668631471)"
   ]
  },
  {
   "cell_type": "code",
   "execution_count": 57,
   "id": "a4c89fc3-d913-4c83-af96-7728fcbb3764",
   "metadata": {},
   "outputs": [
    {
     "name": "stdout",
     "output_type": "stream",
     "text": [
      "100\n",
      "1668608957\n"
     ]
    },
    {
     "name": "stderr",
     "output_type": "stream",
     "text": [
      "C:\\Users\\Sparrow\\AppData\\Local\\Temp\\ipykernel_15044\\4153611647.py:14: FutureWarning: The frame.append method is deprecated and will be removed from pandas in a future version. Use pandas.concat instead.\n",
      "  df.append(posts)\n"
     ]
    }
   ],
   "source": [
    "pushapi('RA55',1668620356)"
   ]
  },
  {
   "cell_type": "code",
   "execution_count": 58,
   "id": "611709cf-15cd-4727-bf78-978a1875a19a",
   "metadata": {},
   "outputs": [
    {
     "name": "stdout",
     "output_type": "stream",
     "text": [
      "100\n",
      "1668596691\n"
     ]
    },
    {
     "name": "stderr",
     "output_type": "stream",
     "text": [
      "C:\\Users\\Sparrow\\AppData\\Local\\Temp\\ipykernel_15044\\4153611647.py:14: FutureWarning: The frame.append method is deprecated and will be removed from pandas in a future version. Use pandas.concat instead.\n",
      "  df.append(posts)\n"
     ]
    }
   ],
   "source": [
    "pushapi('RA56',1668608957)"
   ]
  },
  {
   "cell_type": "code",
   "execution_count": 59,
   "id": "ad6046e8-338f-4bce-88e2-dd586036e096",
   "metadata": {},
   "outputs": [
    {
     "name": "stdout",
     "output_type": "stream",
     "text": [
      "100\n",
      "1668583702\n"
     ]
    },
    {
     "name": "stderr",
     "output_type": "stream",
     "text": [
      "C:\\Users\\Sparrow\\AppData\\Local\\Temp\\ipykernel_15044\\4153611647.py:14: FutureWarning: The frame.append method is deprecated and will be removed from pandas in a future version. Use pandas.concat instead.\n",
      "  df.append(posts)\n"
     ]
    }
   ],
   "source": [
    "pushapi('RA57',1668596691)"
   ]
  },
  {
   "cell_type": "code",
   "execution_count": 60,
   "id": "6a6c9c9f-671f-49f9-9efc-0439e0da30e5",
   "metadata": {},
   "outputs": [
    {
     "name": "stdout",
     "output_type": "stream",
     "text": [
      "100\n",
      "1668571818\n"
     ]
    },
    {
     "name": "stderr",
     "output_type": "stream",
     "text": [
      "C:\\Users\\Sparrow\\AppData\\Local\\Temp\\ipykernel_15044\\4153611647.py:14: FutureWarning: The frame.append method is deprecated and will be removed from pandas in a future version. Use pandas.concat instead.\n",
      "  df.append(posts)\n"
     ]
    }
   ],
   "source": [
    "pushapi('RA58',1668583702)"
   ]
  },
  {
   "cell_type": "code",
   "execution_count": 61,
   "id": "73d84438-26c2-41cc-8ad9-ed1d095814e1",
   "metadata": {},
   "outputs": [
    {
     "name": "stdout",
     "output_type": "stream",
     "text": [
      "100\n",
      "1668561256\n"
     ]
    },
    {
     "name": "stderr",
     "output_type": "stream",
     "text": [
      "C:\\Users\\Sparrow\\AppData\\Local\\Temp\\ipykernel_15044\\4153611647.py:14: FutureWarning: The frame.append method is deprecated and will be removed from pandas in a future version. Use pandas.concat instead.\n",
      "  df.append(posts)\n"
     ]
    }
   ],
   "source": [
    "pushapi('RA59',1668571818)"
   ]
  },
  {
   "cell_type": "code",
   "execution_count": 62,
   "id": "95135a38-18cb-47c6-a70d-8aa98e5d5ffb",
   "metadata": {},
   "outputs": [
    {
     "name": "stdout",
     "output_type": "stream",
     "text": [
      "100\n",
      "1668550265\n"
     ]
    },
    {
     "name": "stderr",
     "output_type": "stream",
     "text": [
      "C:\\Users\\Sparrow\\AppData\\Local\\Temp\\ipykernel_15044\\4153611647.py:14: FutureWarning: The frame.append method is deprecated and will be removed from pandas in a future version. Use pandas.concat instead.\n",
      "  df.append(posts)\n"
     ]
    }
   ],
   "source": [
    "pushapi('RA60',1668561256)"
   ]
  },
  {
   "cell_type": "code",
   "execution_count": 63,
   "id": "0114c352-42a4-4e47-981e-dc46f4ed34df",
   "metadata": {},
   "outputs": [
    {
     "name": "stdout",
     "output_type": "stream",
     "text": [
      "100\n",
      "1668539519\n"
     ]
    },
    {
     "name": "stderr",
     "output_type": "stream",
     "text": [
      "C:\\Users\\Sparrow\\AppData\\Local\\Temp\\ipykernel_15044\\4153611647.py:14: FutureWarning: The frame.append method is deprecated and will be removed from pandas in a future version. Use pandas.concat instead.\n",
      "  df.append(posts)\n"
     ]
    }
   ],
   "source": [
    "pushapi('RA61',1668550265)"
   ]
  },
  {
   "cell_type": "code",
   "execution_count": 64,
   "id": "e2173829-f9bc-4a8e-9e17-2957c2da25c0",
   "metadata": {},
   "outputs": [
    {
     "name": "stdout",
     "output_type": "stream",
     "text": [
      "100\n",
      "1668528926\n"
     ]
    },
    {
     "name": "stderr",
     "output_type": "stream",
     "text": [
      "C:\\Users\\Sparrow\\AppData\\Local\\Temp\\ipykernel_15044\\4153611647.py:14: FutureWarning: The frame.append method is deprecated and will be removed from pandas in a future version. Use pandas.concat instead.\n",
      "  df.append(posts)\n"
     ]
    }
   ],
   "source": [
    "pushapi('RA62',1668539519)"
   ]
  },
  {
   "cell_type": "code",
   "execution_count": 65,
   "id": "fc2f1fbd-548c-41f6-9884-9954e8823daa",
   "metadata": {},
   "outputs": [
    {
     "name": "stdout",
     "output_type": "stream",
     "text": [
      "100\n",
      "1668517061\n"
     ]
    },
    {
     "name": "stderr",
     "output_type": "stream",
     "text": [
      "C:\\Users\\Sparrow\\AppData\\Local\\Temp\\ipykernel_15044\\4153611647.py:14: FutureWarning: The frame.append method is deprecated and will be removed from pandas in a future version. Use pandas.concat instead.\n",
      "  df.append(posts)\n"
     ]
    }
   ],
   "source": [
    "pushapi('RA63',1668528926)"
   ]
  },
  {
   "cell_type": "code",
   "execution_count": 66,
   "id": "c6a79da4-a25a-48da-9ce9-bc00121a0711",
   "metadata": {},
   "outputs": [
    {
     "name": "stdout",
     "output_type": "stream",
     "text": [
      "100\n",
      "1668502701\n"
     ]
    },
    {
     "name": "stderr",
     "output_type": "stream",
     "text": [
      "C:\\Users\\Sparrow\\AppData\\Local\\Temp\\ipykernel_15044\\4153611647.py:14: FutureWarning: The frame.append method is deprecated and will be removed from pandas in a future version. Use pandas.concat instead.\n",
      "  df.append(posts)\n"
     ]
    }
   ],
   "source": [
    "pushapi('RA64',1668517061)"
   ]
  },
  {
   "cell_type": "code",
   "execution_count": 67,
   "id": "3488a5ff-41f2-4dc1-920f-02f51fad020d",
   "metadata": {},
   "outputs": [
    {
     "name": "stdout",
     "output_type": "stream",
     "text": [
      "100\n",
      "1668489839\n"
     ]
    },
    {
     "name": "stderr",
     "output_type": "stream",
     "text": [
      "C:\\Users\\Sparrow\\AppData\\Local\\Temp\\ipykernel_15044\\4153611647.py:14: FutureWarning: The frame.append method is deprecated and will be removed from pandas in a future version. Use pandas.concat instead.\n",
      "  df.append(posts)\n"
     ]
    }
   ],
   "source": [
    "pushapi('RA65',1668502701)"
   ]
  },
  {
   "cell_type": "code",
   "execution_count": 68,
   "id": "2cdffa08-14d1-421e-8783-aab60fbb709e",
   "metadata": {},
   "outputs": [
    {
     "name": "stdout",
     "output_type": "stream",
     "text": [
      "100\n",
      "1668479379\n"
     ]
    },
    {
     "name": "stderr",
     "output_type": "stream",
     "text": [
      "C:\\Users\\Sparrow\\AppData\\Local\\Temp\\ipykernel_15044\\4153611647.py:14: FutureWarning: The frame.append method is deprecated and will be removed from pandas in a future version. Use pandas.concat instead.\n",
      "  df.append(posts)\n"
     ]
    }
   ],
   "source": [
    "pushapi('RA66',1668489839)"
   ]
  },
  {
   "cell_type": "code",
   "execution_count": 69,
   "id": "5afe3749-9eae-40c3-8e5e-8a6abdd8cab3",
   "metadata": {},
   "outputs": [
    {
     "name": "stdout",
     "output_type": "stream",
     "text": [
      "100\n",
      "1668468819\n"
     ]
    },
    {
     "name": "stderr",
     "output_type": "stream",
     "text": [
      "C:\\Users\\Sparrow\\AppData\\Local\\Temp\\ipykernel_15044\\4153611647.py:14: FutureWarning: The frame.append method is deprecated and will be removed from pandas in a future version. Use pandas.concat instead.\n",
      "  df.append(posts)\n"
     ]
    }
   ],
   "source": [
    "pushapi('RA67',1668479379)"
   ]
  },
  {
   "cell_type": "code",
   "execution_count": 70,
   "id": "4c04c88e-1308-400a-84ae-f98cbe886964",
   "metadata": {},
   "outputs": [
    {
     "name": "stdout",
     "output_type": "stream",
     "text": [
      "100\n",
      "1668458388\n"
     ]
    },
    {
     "name": "stderr",
     "output_type": "stream",
     "text": [
      "C:\\Users\\Sparrow\\AppData\\Local\\Temp\\ipykernel_15044\\4153611647.py:14: FutureWarning: The frame.append method is deprecated and will be removed from pandas in a future version. Use pandas.concat instead.\n",
      "  df.append(posts)\n"
     ]
    }
   ],
   "source": [
    "pushapi('RA68',1668468819)"
   ]
  },
  {
   "cell_type": "code",
   "execution_count": 71,
   "id": "32b0c7cc-4654-4fbb-ae1f-a01a4b01aa68",
   "metadata": {},
   "outputs": [
    {
     "name": "stdout",
     "output_type": "stream",
     "text": [
      "100\n",
      "1668448660\n"
     ]
    },
    {
     "name": "stderr",
     "output_type": "stream",
     "text": [
      "C:\\Users\\Sparrow\\AppData\\Local\\Temp\\ipykernel_15044\\4153611647.py:14: FutureWarning: The frame.append method is deprecated and will be removed from pandas in a future version. Use pandas.concat instead.\n",
      "  df.append(posts)\n"
     ]
    }
   ],
   "source": [
    "pushapi('RA69',1668458388)"
   ]
  },
  {
   "cell_type": "code",
   "execution_count": 72,
   "id": "4ffe9ba1-209a-4596-8390-0bd5a025853c",
   "metadata": {},
   "outputs": [
    {
     "name": "stdout",
     "output_type": "stream",
     "text": [
      "100\n",
      "1668438172\n"
     ]
    },
    {
     "name": "stderr",
     "output_type": "stream",
     "text": [
      "C:\\Users\\Sparrow\\AppData\\Local\\Temp\\ipykernel_15044\\4153611647.py:14: FutureWarning: The frame.append method is deprecated and will be removed from pandas in a future version. Use pandas.concat instead.\n",
      "  df.append(posts)\n"
     ]
    }
   ],
   "source": [
    "pushapi('RA70',1668448660)"
   ]
  },
  {
   "cell_type": "code",
   "execution_count": 73,
   "id": "80f3577d-e090-4b92-a465-f45f33eefff8",
   "metadata": {},
   "outputs": [
    {
     "name": "stdout",
     "output_type": "stream",
     "text": [
      "100\n",
      "1668426468\n"
     ]
    },
    {
     "name": "stderr",
     "output_type": "stream",
     "text": [
      "C:\\Users\\Sparrow\\AppData\\Local\\Temp\\ipykernel_15044\\4153611647.py:14: FutureWarning: The frame.append method is deprecated and will be removed from pandas in a future version. Use pandas.concat instead.\n",
      "  df.append(posts)\n"
     ]
    }
   ],
   "source": [
    "pushapi('RA71',1668438172)"
   ]
  },
  {
   "cell_type": "code",
   "execution_count": 74,
   "id": "49621a27-8e62-47a6-aed3-a71f196cf84f",
   "metadata": {},
   "outputs": [
    {
     "name": "stdout",
     "output_type": "stream",
     "text": [
      "100\n",
      "1668413207\n"
     ]
    },
    {
     "name": "stderr",
     "output_type": "stream",
     "text": [
      "C:\\Users\\Sparrow\\AppData\\Local\\Temp\\ipykernel_15044\\4153611647.py:14: FutureWarning: The frame.append method is deprecated and will be removed from pandas in a future version. Use pandas.concat instead.\n",
      "  df.append(posts)\n"
     ]
    }
   ],
   "source": [
    "pushapi('RA72',1668426468)"
   ]
  },
  {
   "cell_type": "code",
   "execution_count": 75,
   "id": "00b010ca-fac6-4957-b187-af6f5365da2d",
   "metadata": {},
   "outputs": [
    {
     "name": "stdout",
     "output_type": "stream",
     "text": [
      "100\n",
      "1668400523\n"
     ]
    },
    {
     "name": "stderr",
     "output_type": "stream",
     "text": [
      "C:\\Users\\Sparrow\\AppData\\Local\\Temp\\ipykernel_15044\\4153611647.py:14: FutureWarning: The frame.append method is deprecated and will be removed from pandas in a future version. Use pandas.concat instead.\n",
      "  df.append(posts)\n"
     ]
    }
   ],
   "source": [
    "pushapi('RA73',1668413207)"
   ]
  },
  {
   "cell_type": "code",
   "execution_count": 76,
   "id": "a963cd99-12fc-4b88-be35-5425cff4ca97",
   "metadata": {},
   "outputs": [
    {
     "name": "stdout",
     "output_type": "stream",
     "text": [
      "100\n",
      "1668390031\n"
     ]
    },
    {
     "name": "stderr",
     "output_type": "stream",
     "text": [
      "C:\\Users\\Sparrow\\AppData\\Local\\Temp\\ipykernel_15044\\4153611647.py:14: FutureWarning: The frame.append method is deprecated and will be removed from pandas in a future version. Use pandas.concat instead.\n",
      "  df.append(posts)\n"
     ]
    }
   ],
   "source": [
    "pushapi('RA74',1668400523)"
   ]
  },
  {
   "cell_type": "code",
   "execution_count": 77,
   "id": "dc158721-4b8f-4cee-baba-032d6039d9ab",
   "metadata": {},
   "outputs": [
    {
     "name": "stdout",
     "output_type": "stream",
     "text": [
      "100\n",
      "1668379501\n"
     ]
    },
    {
     "name": "stderr",
     "output_type": "stream",
     "text": [
      "C:\\Users\\Sparrow\\AppData\\Local\\Temp\\ipykernel_15044\\4153611647.py:14: FutureWarning: The frame.append method is deprecated and will be removed from pandas in a future version. Use pandas.concat instead.\n",
      "  df.append(posts)\n"
     ]
    }
   ],
   "source": [
    "pushapi('RA75',1668390031)"
   ]
  },
  {
   "cell_type": "code",
   "execution_count": 78,
   "id": "c209d6b6-01d4-49f4-8493-2799c96aaae1",
   "metadata": {},
   "outputs": [
    {
     "name": "stdout",
     "output_type": "stream",
     "text": [
      "100\n",
      "1668368934\n"
     ]
    },
    {
     "name": "stderr",
     "output_type": "stream",
     "text": [
      "C:\\Users\\Sparrow\\AppData\\Local\\Temp\\ipykernel_15044\\4153611647.py:14: FutureWarning: The frame.append method is deprecated and will be removed from pandas in a future version. Use pandas.concat instead.\n",
      "  df.append(posts)\n"
     ]
    }
   ],
   "source": [
    "pushapi('RA76',1668379501)"
   ]
  },
  {
   "cell_type": "code",
   "execution_count": 79,
   "id": "9c41425e-bb76-4929-aa01-64e854bd6b5e",
   "metadata": {},
   "outputs": [
    {
     "name": "stdout",
     "output_type": "stream",
     "text": [
      "100\n",
      "1668359045\n"
     ]
    },
    {
     "name": "stderr",
     "output_type": "stream",
     "text": [
      "C:\\Users\\Sparrow\\AppData\\Local\\Temp\\ipykernel_15044\\4153611647.py:14: FutureWarning: The frame.append method is deprecated and will be removed from pandas in a future version. Use pandas.concat instead.\n",
      "  df.append(posts)\n"
     ]
    }
   ],
   "source": [
    "pushapi('RA77',1668368934)"
   ]
  },
  {
   "cell_type": "code",
   "execution_count": 80,
   "id": "dfc5e02f-5c82-4d67-9e40-7aaf5ec2690e",
   "metadata": {},
   "outputs": [
    {
     "name": "stdout",
     "output_type": "stream",
     "text": [
      "100\n",
      "1668348610\n"
     ]
    },
    {
     "name": "stderr",
     "output_type": "stream",
     "text": [
      "C:\\Users\\Sparrow\\AppData\\Local\\Temp\\ipykernel_15044\\4153611647.py:14: FutureWarning: The frame.append method is deprecated and will be removed from pandas in a future version. Use pandas.concat instead.\n",
      "  df.append(posts)\n"
     ]
    }
   ],
   "source": [
    "pushapi('RA78',1668359045)"
   ]
  },
  {
   "cell_type": "code",
   "execution_count": 81,
   "id": "79652f06-cd7f-4ac8-a6cd-5a85883a407c",
   "metadata": {},
   "outputs": [
    {
     "name": "stdout",
     "output_type": "stream",
     "text": [
      "100\n",
      "1668337977\n"
     ]
    },
    {
     "name": "stderr",
     "output_type": "stream",
     "text": [
      "C:\\Users\\Sparrow\\AppData\\Local\\Temp\\ipykernel_15044\\4153611647.py:14: FutureWarning: The frame.append method is deprecated and will be removed from pandas in a future version. Use pandas.concat instead.\n",
      "  df.append(posts)\n"
     ]
    }
   ],
   "source": [
    "pushapi('RA79',1668348610)"
   ]
  },
  {
   "cell_type": "code",
   "execution_count": 82,
   "id": "bdac5bde-348f-4df0-bf97-6473038a7b5f",
   "metadata": {},
   "outputs": [
    {
     "name": "stdout",
     "output_type": "stream",
     "text": [
      "100\n",
      "1668325255\n"
     ]
    },
    {
     "name": "stderr",
     "output_type": "stream",
     "text": [
      "C:\\Users\\Sparrow\\AppData\\Local\\Temp\\ipykernel_15044\\4153611647.py:14: FutureWarning: The frame.append method is deprecated and will be removed from pandas in a future version. Use pandas.concat instead.\n",
      "  df.append(posts)\n"
     ]
    }
   ],
   "source": [
    "pushapi('RA80',1668337977)"
   ]
  },
  {
   "cell_type": "code",
   "execution_count": 83,
   "id": "73ad6f8b-4b78-4990-802b-05b314066cfc",
   "metadata": {},
   "outputs": [
    {
     "name": "stdout",
     "output_type": "stream",
     "text": [
      "100\n",
      "1668313393\n"
     ]
    },
    {
     "name": "stderr",
     "output_type": "stream",
     "text": [
      "C:\\Users\\Sparrow\\AppData\\Local\\Temp\\ipykernel_15044\\4153611647.py:14: FutureWarning: The frame.append method is deprecated and will be removed from pandas in a future version. Use pandas.concat instead.\n",
      "  df.append(posts)\n"
     ]
    }
   ],
   "source": [
    "pushapi('RA81',1668325255)"
   ]
  },
  {
   "cell_type": "code",
   "execution_count": 84,
   "id": "626c4f07-b89a-4454-8915-eb90b9323cf7",
   "metadata": {},
   "outputs": [
    {
     "name": "stdout",
     "output_type": "stream",
     "text": [
      "100\n",
      "1668302625\n"
     ]
    },
    {
     "name": "stderr",
     "output_type": "stream",
     "text": [
      "C:\\Users\\Sparrow\\AppData\\Local\\Temp\\ipykernel_15044\\4153611647.py:14: FutureWarning: The frame.append method is deprecated and will be removed from pandas in a future version. Use pandas.concat instead.\n",
      "  df.append(posts)\n"
     ]
    }
   ],
   "source": [
    "pushapi('RA82',1668313393)"
   ]
  },
  {
   "cell_type": "code",
   "execution_count": 85,
   "id": "d1ad2386-2f59-479e-8f8d-5fffa9ef1bd7",
   "metadata": {},
   "outputs": [
    {
     "name": "stdout",
     "output_type": "stream",
     "text": [
      "100\n",
      "1668291776\n"
     ]
    },
    {
     "name": "stderr",
     "output_type": "stream",
     "text": [
      "C:\\Users\\Sparrow\\AppData\\Local\\Temp\\ipykernel_15044\\4153611647.py:14: FutureWarning: The frame.append method is deprecated and will be removed from pandas in a future version. Use pandas.concat instead.\n",
      "  df.append(posts)\n"
     ]
    }
   ],
   "source": [
    "pushapi('RA83',1668302625)"
   ]
  },
  {
   "cell_type": "code",
   "execution_count": 86,
   "id": "9d719e53-a0fd-4391-acd9-cf55b604db70",
   "metadata": {},
   "outputs": [
    {
     "name": "stdout",
     "output_type": "stream",
     "text": [
      "100\n",
      "1668280665\n"
     ]
    },
    {
     "name": "stderr",
     "output_type": "stream",
     "text": [
      "C:\\Users\\Sparrow\\AppData\\Local\\Temp\\ipykernel_15044\\4153611647.py:14: FutureWarning: The frame.append method is deprecated and will be removed from pandas in a future version. Use pandas.concat instead.\n",
      "  df.append(posts)\n"
     ]
    }
   ],
   "source": [
    "pushapi('RA84',1668291776)"
   ]
  },
  {
   "cell_type": "code",
   "execution_count": 87,
   "id": "4adbad69-71ec-4d83-8973-83b1a906d085",
   "metadata": {},
   "outputs": [
    {
     "name": "stdout",
     "output_type": "stream",
     "text": [
      "100\n",
      "1668270489\n"
     ]
    },
    {
     "name": "stderr",
     "output_type": "stream",
     "text": [
      "C:\\Users\\Sparrow\\AppData\\Local\\Temp\\ipykernel_15044\\4153611647.py:14: FutureWarning: The frame.append method is deprecated and will be removed from pandas in a future version. Use pandas.concat instead.\n",
      "  df.append(posts)\n"
     ]
    }
   ],
   "source": [
    "pushapi('RA85',1668280665)"
   ]
  },
  {
   "cell_type": "code",
   "execution_count": 88,
   "id": "ff474623-9e18-415f-8535-c33bc5b8c854",
   "metadata": {},
   "outputs": [
    {
     "name": "stdout",
     "output_type": "stream",
     "text": [
      "100\n",
      "1668259859\n"
     ]
    },
    {
     "name": "stderr",
     "output_type": "stream",
     "text": [
      "C:\\Users\\Sparrow\\AppData\\Local\\Temp\\ipykernel_15044\\4153611647.py:14: FutureWarning: The frame.append method is deprecated and will be removed from pandas in a future version. Use pandas.concat instead.\n",
      "  df.append(posts)\n"
     ]
    }
   ],
   "source": [
    "pushapi('RA86',1668270489)"
   ]
  },
  {
   "cell_type": "code",
   "execution_count": 89,
   "id": "9775191f-06f0-4b85-bf91-ac33eb256696",
   "metadata": {},
   "outputs": [
    {
     "name": "stdout",
     "output_type": "stream",
     "text": [
      "100\n",
      "1668248091\n"
     ]
    },
    {
     "name": "stderr",
     "output_type": "stream",
     "text": [
      "C:\\Users\\Sparrow\\AppData\\Local\\Temp\\ipykernel_15044\\4153611647.py:14: FutureWarning: The frame.append method is deprecated and will be removed from pandas in a future version. Use pandas.concat instead.\n",
      "  df.append(posts)\n"
     ]
    }
   ],
   "source": [
    "pushapi('RA87',1668259859)"
   ]
  },
  {
   "cell_type": "code",
   "execution_count": 90,
   "id": "c5531acd-3bf8-48ad-aba4-f8810410aac3",
   "metadata": {},
   "outputs": [
    {
     "name": "stdout",
     "output_type": "stream",
     "text": [
      "100\n",
      "1668234907\n"
     ]
    },
    {
     "name": "stderr",
     "output_type": "stream",
     "text": [
      "C:\\Users\\Sparrow\\AppData\\Local\\Temp\\ipykernel_15044\\4153611647.py:14: FutureWarning: The frame.append method is deprecated and will be removed from pandas in a future version. Use pandas.concat instead.\n",
      "  df.append(posts)\n"
     ]
    }
   ],
   "source": [
    "pushapi('RA88',1668248091)"
   ]
  },
  {
   "cell_type": "code",
   "execution_count": 91,
   "id": "2c466270-70f9-465c-83ef-b024e9085db1",
   "metadata": {},
   "outputs": [
    {
     "name": "stdout",
     "output_type": "stream",
     "text": [
      "100\n",
      "1668223047\n"
     ]
    },
    {
     "name": "stderr",
     "output_type": "stream",
     "text": [
      "C:\\Users\\Sparrow\\AppData\\Local\\Temp\\ipykernel_15044\\4153611647.py:14: FutureWarning: The frame.append method is deprecated and will be removed from pandas in a future version. Use pandas.concat instead.\n",
      "  df.append(posts)\n"
     ]
    }
   ],
   "source": [
    "pushapi('RA89',1668234907)"
   ]
  },
  {
   "cell_type": "code",
   "execution_count": 92,
   "id": "a939d3ca-3f8c-4dcc-8284-f6045f4079c1",
   "metadata": {},
   "outputs": [
    {
     "name": "stdout",
     "output_type": "stream",
     "text": [
      "99\n",
      "1668211462\n"
     ]
    },
    {
     "name": "stderr",
     "output_type": "stream",
     "text": [
      "C:\\Users\\Sparrow\\AppData\\Local\\Temp\\ipykernel_15044\\4153611647.py:14: FutureWarning: The frame.append method is deprecated and will be removed from pandas in a future version. Use pandas.concat instead.\n",
      "  df.append(posts)\n"
     ]
    }
   ],
   "source": [
    "pushapi('RA90',1668223047)"
   ]
  },
  {
   "cell_type": "code",
   "execution_count": 93,
   "id": "30004e80-ef54-48a5-9443-89eadb7f00c0",
   "metadata": {},
   "outputs": [
    {
     "name": "stdout",
     "output_type": "stream",
     "text": [
      "100\n",
      "1668200512\n"
     ]
    },
    {
     "name": "stderr",
     "output_type": "stream",
     "text": [
      "C:\\Users\\Sparrow\\AppData\\Local\\Temp\\ipykernel_15044\\4153611647.py:14: FutureWarning: The frame.append method is deprecated and will be removed from pandas in a future version. Use pandas.concat instead.\n",
      "  df.append(posts)\n"
     ]
    }
   ],
   "source": [
    "pushapi('RA91',1668211462)"
   ]
  },
  {
   "cell_type": "code",
   "execution_count": 94,
   "id": "8b4aef08-c5a3-4a1d-8584-41c5ee89b586",
   "metadata": {},
   "outputs": [
    {
     "name": "stdout",
     "output_type": "stream",
     "text": [
      "100\n",
      "1668189739\n"
     ]
    },
    {
     "name": "stderr",
     "output_type": "stream",
     "text": [
      "C:\\Users\\Sparrow\\AppData\\Local\\Temp\\ipykernel_15044\\4153611647.py:14: FutureWarning: The frame.append method is deprecated and will be removed from pandas in a future version. Use pandas.concat instead.\n",
      "  df.append(posts)\n"
     ]
    }
   ],
   "source": [
    "pushapi('RA92',1668200512)"
   ]
  },
  {
   "cell_type": "code",
   "execution_count": 95,
   "id": "282d4c80-2ae9-4b83-ab99-44601daad8a2",
   "metadata": {},
   "outputs": [
    {
     "name": "stdout",
     "output_type": "stream",
     "text": [
      "100\n",
      "1668179310\n"
     ]
    },
    {
     "name": "stderr",
     "output_type": "stream",
     "text": [
      "C:\\Users\\Sparrow\\AppData\\Local\\Temp\\ipykernel_15044\\4153611647.py:14: FutureWarning: The frame.append method is deprecated and will be removed from pandas in a future version. Use pandas.concat instead.\n",
      "  df.append(posts)\n"
     ]
    }
   ],
   "source": [
    "pushapi('RA93',1668189739)"
   ]
  },
  {
   "cell_type": "code",
   "execution_count": 96,
   "id": "4758fd1c-0cbf-433e-ac9b-a2d22eea20cf",
   "metadata": {},
   "outputs": [
    {
     "name": "stdout",
     "output_type": "stream",
     "text": [
      "100\n",
      "1668167947\n"
     ]
    },
    {
     "name": "stderr",
     "output_type": "stream",
     "text": [
      "C:\\Users\\Sparrow\\AppData\\Local\\Temp\\ipykernel_15044\\4153611647.py:14: FutureWarning: The frame.append method is deprecated and will be removed from pandas in a future version. Use pandas.concat instead.\n",
      "  df.append(posts)\n"
     ]
    }
   ],
   "source": [
    "pushapi('RA94',1668179310)"
   ]
  },
  {
   "cell_type": "code",
   "execution_count": 97,
   "id": "a7676179-0f91-4201-abe2-ee3703d279d2",
   "metadata": {},
   "outputs": [
    {
     "name": "stdout",
     "output_type": "stream",
     "text": [
      "100\n",
      "1668153288\n"
     ]
    },
    {
     "name": "stderr",
     "output_type": "stream",
     "text": [
      "C:\\Users\\Sparrow\\AppData\\Local\\Temp\\ipykernel_15044\\4153611647.py:14: FutureWarning: The frame.append method is deprecated and will be removed from pandas in a future version. Use pandas.concat instead.\n",
      "  df.append(posts)\n"
     ]
    }
   ],
   "source": [
    "pushapi('RA95',1668167947)"
   ]
  },
  {
   "cell_type": "code",
   "execution_count": 98,
   "id": "bebb1f4f-a3c9-4008-9a7c-f9c7e6f8fe45",
   "metadata": {},
   "outputs": [
    {
     "name": "stdout",
     "output_type": "stream",
     "text": [
      "100\n",
      "1668140826\n"
     ]
    },
    {
     "name": "stderr",
     "output_type": "stream",
     "text": [
      "C:\\Users\\Sparrow\\AppData\\Local\\Temp\\ipykernel_15044\\4153611647.py:14: FutureWarning: The frame.append method is deprecated and will be removed from pandas in a future version. Use pandas.concat instead.\n",
      "  df.append(posts)\n"
     ]
    }
   ],
   "source": [
    "pushapi('RA96',1668153288)"
   ]
  },
  {
   "cell_type": "code",
   "execution_count": 99,
   "id": "d134ad46-4f85-4cd7-ba78-27acc57b2105",
   "metadata": {},
   "outputs": [
    {
     "name": "stdout",
     "output_type": "stream",
     "text": [
      "100\n",
      "1668129703\n"
     ]
    },
    {
     "name": "stderr",
     "output_type": "stream",
     "text": [
      "C:\\Users\\Sparrow\\AppData\\Local\\Temp\\ipykernel_15044\\4153611647.py:14: FutureWarning: The frame.append method is deprecated and will be removed from pandas in a future version. Use pandas.concat instead.\n",
      "  df.append(posts)\n"
     ]
    }
   ],
   "source": [
    "pushapi('RA97',1668140826)"
   ]
  },
  {
   "cell_type": "code",
   "execution_count": 100,
   "id": "d54636ea-7742-4ae8-ae5a-9370b52074d9",
   "metadata": {},
   "outputs": [
    {
     "name": "stdout",
     "output_type": "stream",
     "text": [
      "100\n",
      "1668118684\n"
     ]
    },
    {
     "name": "stderr",
     "output_type": "stream",
     "text": [
      "C:\\Users\\Sparrow\\AppData\\Local\\Temp\\ipykernel_15044\\4153611647.py:14: FutureWarning: The frame.append method is deprecated and will be removed from pandas in a future version. Use pandas.concat instead.\n",
      "  df.append(posts)\n"
     ]
    }
   ],
   "source": [
    "pushapi('RA98',1668129703)"
   ]
  },
  {
   "cell_type": "code",
   "execution_count": 101,
   "id": "d6efe22a-b224-4bc2-8acc-64f8f1e9ca4e",
   "metadata": {},
   "outputs": [
    {
     "name": "stdout",
     "output_type": "stream",
     "text": [
      "100\n",
      "1668107895\n"
     ]
    },
    {
     "name": "stderr",
     "output_type": "stream",
     "text": [
      "C:\\Users\\Sparrow\\AppData\\Local\\Temp\\ipykernel_15044\\4153611647.py:14: FutureWarning: The frame.append method is deprecated and will be removed from pandas in a future version. Use pandas.concat instead.\n",
      "  df.append(posts)\n"
     ]
    }
   ],
   "source": [
    "pushapi('RA99',1668118684)"
   ]
  },
  {
   "cell_type": "code",
   "execution_count": 102,
   "id": "739454d9-b4cb-4ea0-a9e4-ff52e317762f",
   "metadata": {},
   "outputs": [
    {
     "name": "stdout",
     "output_type": "stream",
     "text": [
      "100\n",
      "1668097070\n"
     ]
    },
    {
     "name": "stderr",
     "output_type": "stream",
     "text": [
      "C:\\Users\\Sparrow\\AppData\\Local\\Temp\\ipykernel_15044\\4153611647.py:14: FutureWarning: The frame.append method is deprecated and will be removed from pandas in a future version. Use pandas.concat instead.\n",
      "  df.append(posts)\n"
     ]
    }
   ],
   "source": [
    "pushapi('RA100',1668107895)"
   ]
  },
  {
   "cell_type": "markdown",
   "id": "5e8c365a-50ec-4114-95d5-76e76e8348eb",
   "metadata": {},
   "source": [
    "Now that I scraped 10,000 post from RelationshipAdvice, let's clean our data starting with AmITheAsshole"
   ]
  }
 ],
 "metadata": {
  "kernelspec": {
   "display_name": "Python 3 (ipykernel)",
   "language": "python",
   "name": "python3"
  },
  "language_info": {
   "codemirror_mode": {
    "name": "ipython",
    "version": 3
   },
   "file_extension": ".py",
   "mimetype": "text/x-python",
   "name": "python",
   "nbconvert_exporter": "python",
   "pygments_lexer": "ipython3",
   "version": "3.9.12"
  }
 },
 "nbformat": 4,
 "nbformat_minor": 5
}
