{
 "cells": [
  {
   "cell_type": "markdown",
   "id": "999a81c4-eb35-487d-8b25-b52e0f9ddb7d",
   "metadata": {},
   "source": [
    "# Model based on Polarity"
   ]
  },
  {
   "cell_type": "code",
   "execution_count": 3,
   "id": "6e054b9b-a5c1-423f-9210-c635e6524476",
   "metadata": {},
   "outputs": [
    {
     "name": "stdout",
     "output_type": "stream",
     "text": [
      "Collecting sklearn\n",
      "  Downloading sklearn-0.0.post1.tar.gz (3.6 kB)\n",
      "  Preparing metadata (setup.py): started\n",
      "Note: you may need to restart the kernel to use updated packages.\n",
      "  Preparing metadata (setup.py): finished with status 'done'\n",
      "Building wheels for collected packages: sklearn\n",
      "  Building wheel for sklearn (setup.py): started\n",
      "  Building wheel for sklearn (setup.py): finished with status 'done'\n",
      "  Created wheel for sklearn: filename=sklearn-0.0.post1-py3-none-any.whl size=2959 sha256=cafe9ebada95437946191e9ee9773c3b05e9c4519f2e8a9f306d9227b8ec3855\n",
      "  Stored in directory: c:\\users\\sparrow\\appdata\\local\\pip\\cache\\wheels\\f8\\e0\\3d\\9d0c2020c44a519b9f02ab4fa6d2a4a996c98d79ab2f569fa1\n",
      "Successfully built sklearn\n",
      "Installing collected packages: sklearn\n",
      "Successfully installed sklearn-0.0.post1\n"
     ]
    }
   ],
   "source": [
    "pip install sklearn"
   ]
  },
  {
   "cell_type": "code",
   "execution_count": 52,
   "id": "4a7a228d-81f9-483b-98ea-b0d4ba9e19b8",
   "metadata": {},
   "outputs": [],
   "source": [
    "import pandas as pd\n",
    "from sklearn import tree\n",
    "from sklearn.linear_model import LogisticRegression\n",
    "from sklearn.model_selection import train_test_split, cross_val_score\n",
    "from sklearn.preprocessing import StandardScaler\n",
    "from sklearn.pipeline import Pipeline, make_pipeline\n",
    "from sklearn.dummy import DummyClassifier\n",
    "from sklearn import tree\n",
    "import seaborn as sns\n",
    "from sklearn.naive_bayes import GaussianNB\n",
    "from sklearn.neighbors import KNeighborsClassifier\n",
    "from sklearn.metrics import confusion_matrix, ConfusionMatrixDisplay\n",
    "from sklearn import metrics\n",
    "from sklearn.ensemble import RandomForestClassifier\n",
    "from sklearn.datasets import make_classification"
   ]
  },
  {
   "cell_type": "code",
   "execution_count": 2,
   "id": "a54263ce-e1b1-4998-80a6-d685eecaf84f",
   "metadata": {},
   "outputs": [],
   "source": [
    "polarity = pd.read_csv('../data/polarity')\n",
    "word_count = pd.read_csv('../data/word_count')"
   ]
  },
  {
   "cell_type": "code",
   "execution_count": 3,
   "id": "9a3f0b8e-e99a-41d9-8000-ca10a6c62200",
   "metadata": {},
   "outputs": [
    {
     "data": {
      "text/html": [
       "<div>\n",
       "<style scoped>\n",
       "    .dataframe tbody tr th:only-of-type {\n",
       "        vertical-align: middle;\n",
       "    }\n",
       "\n",
       "    .dataframe tbody tr th {\n",
       "        vertical-align: top;\n",
       "    }\n",
       "\n",
       "    .dataframe thead th {\n",
       "        text-align: right;\n",
       "    }\n",
       "</style>\n",
       "<table border=\"1\" class=\"dataframe\">\n",
       "  <thead>\n",
       "    <tr style=\"text-align: right;\">\n",
       "      <th></th>\n",
       "      <th>Unnamed: 0</th>\n",
       "      <th>author</th>\n",
       "      <th>subreddit</th>\n",
       "      <th>selftext</th>\n",
       "      <th>title</th>\n",
       "      <th>when</th>\n",
       "      <th>neg</th>\n",
       "      <th>neu</th>\n",
       "      <th>pos</th>\n",
       "      <th>compound</th>\n",
       "    </tr>\n",
       "  </thead>\n",
       "  <tbody>\n",
       "    <tr>\n",
       "      <th>0</th>\n",
       "      <td>0</td>\n",
       "      <td>TaintedOne88</td>\n",
       "      <td>relationship_advice</td>\n",
       "      <td>i just text this man telling him how i felt ab...</td>\n",
       "      <td>A permanent memory</td>\n",
       "      <td>2022-11-24 00:15:02</td>\n",
       "      <td>0.000</td>\n",
       "      <td>0.854</td>\n",
       "      <td>0.146</td>\n",
       "      <td>0.8555</td>\n",
       "    </tr>\n",
       "    <tr>\n",
       "      <th>1</th>\n",
       "      <td>1</td>\n",
       "      <td>UncommonCow56</td>\n",
       "      <td>relationship_advice</td>\n",
       "      <td>ok so a the title say my (m18) girlfriend (f20...</td>\n",
       "      <td>My (M18) gf (F20) keeps dog sitting for a “fri...</td>\n",
       "      <td>2022-11-24 00:13:16</td>\n",
       "      <td>0.075</td>\n",
       "      <td>0.854</td>\n",
       "      <td>0.071</td>\n",
       "      <td>-0.5550</td>\n",
       "    </tr>\n",
       "    <tr>\n",
       "      <th>2</th>\n",
       "      <td>2</td>\n",
       "      <td>darkglassoverwater</td>\n",
       "      <td>relationship_advice</td>\n",
       "      <td>i'm a junior in high school (male). i have a l...</td>\n",
       "      <td>Friendzone or does she like me?</td>\n",
       "      <td>2022-11-24 00:13:06</td>\n",
       "      <td>0.089</td>\n",
       "      <td>0.726</td>\n",
       "      <td>0.185</td>\n",
       "      <td>0.9800</td>\n",
       "    </tr>\n",
       "    <tr>\n",
       "      <th>3</th>\n",
       "      <td>3</td>\n",
       "      <td>YourAverageThinker</td>\n",
       "      <td>relationship_advice</td>\n",
       "      <td>me and this girl used to talk at the beginning...</td>\n",
       "      <td>Girl (21F) is so confusing I (M21) just don’t ...</td>\n",
       "      <td>2022-11-24 00:12:56</td>\n",
       "      <td>0.075</td>\n",
       "      <td>0.709</td>\n",
       "      <td>0.217</td>\n",
       "      <td>0.9974</td>\n",
       "    </tr>\n",
       "    <tr>\n",
       "      <th>4</th>\n",
       "      <td>4</td>\n",
       "      <td>Illustrious-Ask1708</td>\n",
       "      <td>relationship_advice</td>\n",
       "      <td>i've been seeing this girl who's a the title s...</td>\n",
       "      <td>What's everyone's thoughts on an 18yr old fema...</td>\n",
       "      <td>2022-11-24 00:10:58</td>\n",
       "      <td>0.000</td>\n",
       "      <td>0.933</td>\n",
       "      <td>0.067</td>\n",
       "      <td>0.4380</td>\n",
       "    </tr>\n",
       "  </tbody>\n",
       "</table>\n",
       "</div>"
      ],
      "text/plain": [
       "   Unnamed: 0               author            subreddit  \\\n",
       "0           0         TaintedOne88  relationship_advice   \n",
       "1           1        UncommonCow56  relationship_advice   \n",
       "2           2   darkglassoverwater  relationship_advice   \n",
       "3           3   YourAverageThinker  relationship_advice   \n",
       "4           4  Illustrious-Ask1708  relationship_advice   \n",
       "\n",
       "                                            selftext  \\\n",
       "0  i just text this man telling him how i felt ab...   \n",
       "1  ok so a the title say my (m18) girlfriend (f20...   \n",
       "2  i'm a junior in high school (male). i have a l...   \n",
       "3  me and this girl used to talk at the beginning...   \n",
       "4  i've been seeing this girl who's a the title s...   \n",
       "\n",
       "                                               title                 when  \\\n",
       "0                                 A permanent memory  2022-11-24 00:15:02   \n",
       "1  My (M18) gf (F20) keeps dog sitting for a “fri...  2022-11-24 00:13:16   \n",
       "2                    Friendzone or does she like me?  2022-11-24 00:13:06   \n",
       "3  Girl (21F) is so confusing I (M21) just don’t ...  2022-11-24 00:12:56   \n",
       "4  What's everyone's thoughts on an 18yr old fema...  2022-11-24 00:10:58   \n",
       "\n",
       "     neg    neu    pos  compound  \n",
       "0  0.000  0.854  0.146    0.8555  \n",
       "1  0.075  0.854  0.071   -0.5550  \n",
       "2  0.089  0.726  0.185    0.9800  \n",
       "3  0.075  0.709  0.217    0.9974  \n",
       "4  0.000  0.933  0.067    0.4380  "
      ]
     },
     "execution_count": 3,
     "metadata": {},
     "output_type": "execute_result"
    }
   ],
   "source": [
    "polarity.head()"
   ]
  },
  {
   "cell_type": "code",
   "execution_count": 36,
   "id": "3bdd6b00-7835-4ce4-9703-478be5cfcd45",
   "metadata": {},
   "outputs": [
    {
     "data": {
      "text/html": [
       "<div>\n",
       "<style scoped>\n",
       "    .dataframe tbody tr th:only-of-type {\n",
       "        vertical-align: middle;\n",
       "    }\n",
       "\n",
       "    .dataframe tbody tr th {\n",
       "        vertical-align: top;\n",
       "    }\n",
       "\n",
       "    .dataframe thead th {\n",
       "        text-align: right;\n",
       "    }\n",
       "</style>\n",
       "<table border=\"1\" class=\"dataframe\">\n",
       "  <thead>\n",
       "    <tr style=\"text-align: right;\">\n",
       "      <th></th>\n",
       "      <th>author</th>\n",
       "      <th>subreddit</th>\n",
       "      <th>selftext</th>\n",
       "      <th>title</th>\n",
       "      <th>when</th>\n",
       "      <th>neg</th>\n",
       "      <th>neu</th>\n",
       "      <th>pos</th>\n",
       "      <th>compound</th>\n",
       "    </tr>\n",
       "  </thead>\n",
       "  <tbody>\n",
       "    <tr>\n",
       "      <th>12883</th>\n",
       "      <td>comradeshin</td>\n",
       "      <td>AmItheAsshole</td>\n",
       "      <td>my boyfriend's best friend (adam) is (reluctan...</td>\n",
       "      <td>AITA for \"ruining a birthday\" because my boyfr...</td>\n",
       "      <td>2022-11-15 08:59:29</td>\n",
       "      <td>0.113</td>\n",
       "      <td>0.716</td>\n",
       "      <td>0.171</td>\n",
       "      <td>0.9905</td>\n",
       "    </tr>\n",
       "    <tr>\n",
       "      <th>12884</th>\n",
       "      <td>LeMaskedUnicorn</td>\n",
       "      <td>AmItheAsshole</td>\n",
       "      <td>okay let me start off by saying i'm a 20 year ...</td>\n",
       "      <td>AITA my job sucks and I'm tired</td>\n",
       "      <td>2022-11-15 08:57:27</td>\n",
       "      <td>0.059</td>\n",
       "      <td>0.902</td>\n",
       "      <td>0.039</td>\n",
       "      <td>-0.6780</td>\n",
       "    </tr>\n",
       "    <tr>\n",
       "      <th>12885</th>\n",
       "      <td>PlentyBootz</td>\n",
       "      <td>AmItheAsshole</td>\n",
       "      <td>pretty much i only had one other roommate befo...</td>\n",
       "      <td>AITA For moving my roommate's laundry without ...</td>\n",
       "      <td>2022-11-15 08:47:09</td>\n",
       "      <td>0.140</td>\n",
       "      <td>0.786</td>\n",
       "      <td>0.074</td>\n",
       "      <td>-0.9581</td>\n",
       "    </tr>\n",
       "    <tr>\n",
       "      <th>12886</th>\n",
       "      <td>Savings-Invite974</td>\n",
       "      <td>AmItheAsshole</td>\n",
       "      <td>i’m a college student and agreed to live in a ...</td>\n",
       "      <td>AITA for wanting to re spin the wheel for room...</td>\n",
       "      <td>2022-11-15 08:45:47</td>\n",
       "      <td>0.050</td>\n",
       "      <td>0.890</td>\n",
       "      <td>0.060</td>\n",
       "      <td>0.0900</td>\n",
       "    </tr>\n",
       "    <tr>\n",
       "      <th>12887</th>\n",
       "      <td>Ill-Watercress-5632</td>\n",
       "      <td>AmItheAsshole</td>\n",
       "      <td>a few month ago i (m34) had just gone through ...</td>\n",
       "      <td>AITA for bailing on my sister's wedding?</td>\n",
       "      <td>2022-11-15 08:45:43</td>\n",
       "      <td>0.123</td>\n",
       "      <td>0.805</td>\n",
       "      <td>0.072</td>\n",
       "      <td>-0.9821</td>\n",
       "    </tr>\n",
       "  </tbody>\n",
       "</table>\n",
       "</div>"
      ],
      "text/plain": [
       "                    author      subreddit  \\\n",
       "12883          comradeshin  AmItheAsshole   \n",
       "12884      LeMaskedUnicorn  AmItheAsshole   \n",
       "12885          PlentyBootz  AmItheAsshole   \n",
       "12886    Savings-Invite974  AmItheAsshole   \n",
       "12887  Ill-Watercress-5632  AmItheAsshole   \n",
       "\n",
       "                                                selftext  \\\n",
       "12883  my boyfriend's best friend (adam) is (reluctan...   \n",
       "12884  okay let me start off by saying i'm a 20 year ...   \n",
       "12885  pretty much i only had one other roommate befo...   \n",
       "12886  i’m a college student and agreed to live in a ...   \n",
       "12887  a few month ago i (m34) had just gone through ...   \n",
       "\n",
       "                                                   title                 when  \\\n",
       "12883  AITA for \"ruining a birthday\" because my boyfr...  2022-11-15 08:59:29   \n",
       "12884                    AITA my job sucks and I'm tired  2022-11-15 08:57:27   \n",
       "12885  AITA For moving my roommate's laundry without ...  2022-11-15 08:47:09   \n",
       "12886  AITA for wanting to re spin the wheel for room...  2022-11-15 08:45:47   \n",
       "12887           AITA for bailing on my sister's wedding?  2022-11-15 08:45:43   \n",
       "\n",
       "         neg    neu    pos  compound  \n",
       "12883  0.113  0.716  0.171    0.9905  \n",
       "12884  0.059  0.902  0.039   -0.6780  \n",
       "12885  0.140  0.786  0.074   -0.9581  \n",
       "12886  0.050  0.890  0.060    0.0900  \n",
       "12887  0.123  0.805  0.072   -0.9821  "
      ]
     },
     "execution_count": 36,
     "metadata": {},
     "output_type": "execute_result"
    }
   ],
   "source": [
    "polarity.tail()"
   ]
  },
  {
   "cell_type": "code",
   "execution_count": 4,
   "id": "1b36c635-404b-47f8-b07e-afffd13d0ee2",
   "metadata": {},
   "outputs": [],
   "source": [
    "polarity.drop(columns='Unnamed: 0', inplace=True)\t"
   ]
  },
  {
   "cell_type": "code",
   "execution_count": 5,
   "id": "f3379666-90a6-4407-a050-5d0f5fa93a06",
   "metadata": {},
   "outputs": [],
   "source": [
    "X = polarity[['neg','neu','pos','compound']]\n",
    "y = polarity['subreddit']"
   ]
  },
  {
   "cell_type": "code",
   "execution_count": 6,
   "id": "d40345bc-f246-43d4-8578-7c756bc62eff",
   "metadata": {},
   "outputs": [],
   "source": [
    "X_train, X_test, y_train,y_test = train_test_split(X,y, test_size=0.3,random_state=20)"
   ]
  },
  {
   "cell_type": "code",
   "execution_count": 7,
   "id": "e9a0cac8-06a0-45b7-9e8a-f2e8844987d2",
   "metadata": {},
   "outputs": [
    {
     "name": "stdout",
     "output_type": "stream",
     "text": [
      "(9021, 4)\n",
      "(3867, 4)\n",
      "(9021,)\n",
      "(3867,)\n"
     ]
    }
   ],
   "source": [
    "print(X_train.shape)\n",
    "print(X_test.shape)\n",
    "print(y_train.shape)\n",
    "print(y_test.shape)"
   ]
  },
  {
   "cell_type": "markdown",
   "id": "5a96b697-0963-4a57-98e9-168ebd827420",
   "metadata": {},
   "source": [
    "# Baseline with Dummy Classifier"
   ]
  },
  {
   "cell_type": "code",
   "execution_count": 8,
   "id": "1c391dcf-ce25-43ee-bf20-1628e5647d9c",
   "metadata": {},
   "outputs": [],
   "source": [
    "dc = DummyClassifier()"
   ]
  },
  {
   "cell_type": "code",
   "execution_count": 10,
   "id": "30228dfd-7d80-4e8b-8559-7b934f709425",
   "metadata": {},
   "outputs": [
    {
     "data": {
      "text/html": [
       "<style>#sk-container-id-1 {color: black;background-color: white;}#sk-container-id-1 pre{padding: 0;}#sk-container-id-1 div.sk-toggleable {background-color: white;}#sk-container-id-1 label.sk-toggleable__label {cursor: pointer;display: block;width: 100%;margin-bottom: 0;padding: 0.3em;box-sizing: border-box;text-align: center;}#sk-container-id-1 label.sk-toggleable__label-arrow:before {content: \"▸\";float: left;margin-right: 0.25em;color: #696969;}#sk-container-id-1 label.sk-toggleable__label-arrow:hover:before {color: black;}#sk-container-id-1 div.sk-estimator:hover label.sk-toggleable__label-arrow:before {color: black;}#sk-container-id-1 div.sk-toggleable__content {max-height: 0;max-width: 0;overflow: hidden;text-align: left;background-color: #f0f8ff;}#sk-container-id-1 div.sk-toggleable__content pre {margin: 0.2em;color: black;border-radius: 0.25em;background-color: #f0f8ff;}#sk-container-id-1 input.sk-toggleable__control:checked~div.sk-toggleable__content {max-height: 200px;max-width: 100%;overflow: auto;}#sk-container-id-1 input.sk-toggleable__control:checked~label.sk-toggleable__label-arrow:before {content: \"▾\";}#sk-container-id-1 div.sk-estimator input.sk-toggleable__control:checked~label.sk-toggleable__label {background-color: #d4ebff;}#sk-container-id-1 div.sk-label input.sk-toggleable__control:checked~label.sk-toggleable__label {background-color: #d4ebff;}#sk-container-id-1 input.sk-hidden--visually {border: 0;clip: rect(1px 1px 1px 1px);clip: rect(1px, 1px, 1px, 1px);height: 1px;margin: -1px;overflow: hidden;padding: 0;position: absolute;width: 1px;}#sk-container-id-1 div.sk-estimator {font-family: monospace;background-color: #f0f8ff;border: 1px dotted black;border-radius: 0.25em;box-sizing: border-box;margin-bottom: 0.5em;}#sk-container-id-1 div.sk-estimator:hover {background-color: #d4ebff;}#sk-container-id-1 div.sk-parallel-item::after {content: \"\";width: 100%;border-bottom: 1px solid gray;flex-grow: 1;}#sk-container-id-1 div.sk-label:hover label.sk-toggleable__label {background-color: #d4ebff;}#sk-container-id-1 div.sk-serial::before {content: \"\";position: absolute;border-left: 1px solid gray;box-sizing: border-box;top: 0;bottom: 0;left: 50%;z-index: 0;}#sk-container-id-1 div.sk-serial {display: flex;flex-direction: column;align-items: center;background-color: white;padding-right: 0.2em;padding-left: 0.2em;position: relative;}#sk-container-id-1 div.sk-item {position: relative;z-index: 1;}#sk-container-id-1 div.sk-parallel {display: flex;align-items: stretch;justify-content: center;background-color: white;position: relative;}#sk-container-id-1 div.sk-item::before, #sk-container-id-1 div.sk-parallel-item::before {content: \"\";position: absolute;border-left: 1px solid gray;box-sizing: border-box;top: 0;bottom: 0;left: 50%;z-index: -1;}#sk-container-id-1 div.sk-parallel-item {display: flex;flex-direction: column;z-index: 1;position: relative;background-color: white;}#sk-container-id-1 div.sk-parallel-item:first-child::after {align-self: flex-end;width: 50%;}#sk-container-id-1 div.sk-parallel-item:last-child::after {align-self: flex-start;width: 50%;}#sk-container-id-1 div.sk-parallel-item:only-child::after {width: 0;}#sk-container-id-1 div.sk-dashed-wrapped {border: 1px dashed gray;margin: 0 0.4em 0.5em 0.4em;box-sizing: border-box;padding-bottom: 0.4em;background-color: white;}#sk-container-id-1 div.sk-label label {font-family: monospace;font-weight: bold;display: inline-block;line-height: 1.2em;}#sk-container-id-1 div.sk-label-container {text-align: center;}#sk-container-id-1 div.sk-container {/* jupyter's `normalize.less` sets `[hidden] { display: none; }` but bootstrap.min.css set `[hidden] { display: none !important; }` so we also need the `!important` here to be able to override the default hidden behavior on the sphinx rendered scikit-learn.org. See: https://github.com/scikit-learn/scikit-learn/issues/21755 */display: inline-block !important;position: relative;}#sk-container-id-1 div.sk-text-repr-fallback {display: none;}</style><div id=\"sk-container-id-1\" class=\"sk-top-container\"><div class=\"sk-text-repr-fallback\"><pre>DummyClassifier()</pre><b>In a Jupyter environment, please rerun this cell to show the HTML representation or trust the notebook. <br />On GitHub, the HTML representation is unable to render, please try loading this page with nbviewer.org.</b></div><div class=\"sk-container\" hidden><div class=\"sk-item\"><div class=\"sk-estimator sk-toggleable\"><input class=\"sk-toggleable__control sk-hidden--visually\" id=\"sk-estimator-id-1\" type=\"checkbox\" checked><label for=\"sk-estimator-id-1\" class=\"sk-toggleable__label sk-toggleable__label-arrow\">DummyClassifier</label><div class=\"sk-toggleable__content\"><pre>DummyClassifier()</pre></div></div></div></div></div>"
      ],
      "text/plain": [
       "DummyClassifier()"
      ]
     },
     "execution_count": 10,
     "metadata": {},
     "output_type": "execute_result"
    }
   ],
   "source": [
    "dc.fit(X,y)"
   ]
  },
  {
   "cell_type": "code",
   "execution_count": 11,
   "id": "111ab551-5bae-45f0-ba75-e0eda6fd41c8",
   "metadata": {},
   "outputs": [
    {
     "data": {
      "text/plain": [
       "0.5241104090455604"
      ]
     },
     "execution_count": 11,
     "metadata": {},
     "output_type": "execute_result"
    }
   ],
   "source": [
    "dc.score(X_train,y_train)"
   ]
  },
  {
   "cell_type": "code",
   "execution_count": 12,
   "id": "20d16b71-e541-4834-a2c0-67593460e3ce",
   "metadata": {},
   "outputs": [
    {
     "data": {
      "text/plain": [
       "0.5376260667183863"
      ]
     },
     "execution_count": 12,
     "metadata": {},
     "output_type": "execute_result"
    }
   ],
   "source": [
    "dc.score(X_test,y_test)"
   ]
  },
  {
   "cell_type": "code",
   "execution_count": 37,
   "id": "a278953d-e9dd-4b92-9911-f305c4ff91d1",
   "metadata": {},
   "outputs": [],
   "source": [
    "predictions_dc = dc.predict(X_test)"
   ]
  },
  {
   "cell_type": "code",
   "execution_count": 49,
   "id": "9f4b8eec-18eb-4407-90ac-17e82e9ab7fc",
   "metadata": {},
   "outputs": [
    {
     "name": "stdout",
     "output_type": "stream",
     "text": [
      "{'Accuracy': 0.5376260667183863, 'Precision': 0.0, 'Sensitivity_recall': 0.0, 'Specificity': 0.0, 'F1_score': 0.0}\n"
     ]
    },
    {
     "name": "stderr",
     "output_type": "stream",
     "text": [
      "C:\\Users\\Sparrow\\anaconda3\\lib\\site-packages\\sklearn\\metrics\\_classification.py:1334: UndefinedMetricWarning: Precision is ill-defined and being set to 0.0 due to no predicted samples. Use `zero_division` parameter to control this behavior.\n",
      "  _warn_prf(average, modifier, msg_start, len(result))\n"
     ]
    },
    {
     "data": {
      "image/png": "[encoded data removed]",
      "text/plain": [
       "<Figure size 432x288 with 2 Axes>"
      ]
     },
     "metadata": {
      "needs_background": "light"
     },
     "output_type": "display_data"
    }
   ],
   "source": [
    "cm = confusion_matrix(y_test, predictions_dc, labels=dc.classes_)\n",
    "disp = ConfusionMatrixDisplay(confusion_matrix=cm,\n",
    "                              display_labels=[False,True])\n",
    "disp.plot();\n",
    "Accuracy = metrics.accuracy_score(y_test, predictions_dc)\n",
    "Precision = metrics.precision_score(y_test, predictions_dc, pos_label='AmItheAsshole',)\n",
    "Sensitivity_recall = metrics.recall_score(y_test, predictions_dc, pos_label='AmItheAsshole',)\n",
    "Specificity = metrics.recall_score(y_test, predictions_dc, pos_label= 'AmItheAsshole',)\n",
    "F1_score = metrics.f1_score(y_test, predictions_dc,pos_label='AmItheAsshole',)\n",
    "print({\"Accuracy\":Accuracy,\n",
    "       \"Precision\":Precision,\n",
    "       \"Sensitivity_recall\":Sensitivity_recall,\n",
    "       \"Specificity\":Specificity,\n",
    "       \"F1_score\":F1_score})"
   ]
  },
  {
   "cell_type": "markdown",
   "id": "a3f61dda-bacc-4d63-9fdb-806b43d15df6",
   "metadata": {},
   "source": [
    "# Logistic Regression"
   ]
  },
  {
   "cell_type": "code",
   "execution_count": 13,
   "id": "e01bca67-4932-42c6-82a0-ff5ab26dc120",
   "metadata": {},
   "outputs": [],
   "source": [
    "logreg = LogisticRegression()"
   ]
  },
  {
   "cell_type": "code",
   "execution_count": 14,
   "id": "0dead5f6-389a-40db-a305-4939003c0c73",
   "metadata": {},
   "outputs": [
    {
     "data": {
      "text/html": [
       "<style>#sk-container-id-2 {color: black;background-color: white;}#sk-container-id-2 pre{padding: 0;}#sk-container-id-2 div.sk-toggleable {background-color: white;}#sk-container-id-2 label.sk-toggleable__label {cursor: pointer;display: block;width: 100%;margin-bottom: 0;padding: 0.3em;box-sizing: border-box;text-align: center;}#sk-container-id-2 label.sk-toggleable__label-arrow:before {content: \"▸\";float: left;margin-right: 0.25em;color: #696969;}#sk-container-id-2 label.sk-toggleable__label-arrow:hover:before {color: black;}#sk-container-id-2 div.sk-estimator:hover label.sk-toggleable__label-arrow:before {color: black;}#sk-container-id-2 div.sk-toggleable__content {max-height: 0;max-width: 0;overflow: hidden;text-align: left;background-color: #f0f8ff;}#sk-container-id-2 div.sk-toggleable__content pre {margin: 0.2em;color: black;border-radius: 0.25em;background-color: #f0f8ff;}#sk-container-id-2 input.sk-toggleable__control:checked~div.sk-toggleable__content {max-height: 200px;max-width: 100%;overflow: auto;}#sk-container-id-2 input.sk-toggleable__control:checked~label.sk-toggleable__label-arrow:before {content: \"▾\";}#sk-container-id-2 div.sk-estimator input.sk-toggleable__control:checked~label.sk-toggleable__label {background-color: #d4ebff;}#sk-container-id-2 div.sk-label input.sk-toggleable__control:checked~label.sk-toggleable__label {background-color: #d4ebff;}#sk-container-id-2 input.sk-hidden--visually {border: 0;clip: rect(1px 1px 1px 1px);clip: rect(1px, 1px, 1px, 1px);height: 1px;margin: -1px;overflow: hidden;padding: 0;position: absolute;width: 1px;}#sk-container-id-2 div.sk-estimator {font-family: monospace;background-color: #f0f8ff;border: 1px dotted black;border-radius: 0.25em;box-sizing: border-box;margin-bottom: 0.5em;}#sk-container-id-2 div.sk-estimator:hover {background-color: #d4ebff;}#sk-container-id-2 div.sk-parallel-item::after {content: \"\";width: 100%;border-bottom: 1px solid gray;flex-grow: 1;}#sk-container-id-2 div.sk-label:hover label.sk-toggleable__label {background-color: #d4ebff;}#sk-container-id-2 div.sk-serial::before {content: \"\";position: absolute;border-left: 1px solid gray;box-sizing: border-box;top: 0;bottom: 0;left: 50%;z-index: 0;}#sk-container-id-2 div.sk-serial {display: flex;flex-direction: column;align-items: center;background-color: white;padding-right: 0.2em;padding-left: 0.2em;position: relative;}#sk-container-id-2 div.sk-item {position: relative;z-index: 1;}#sk-container-id-2 div.sk-parallel {display: flex;align-items: stretch;justify-content: center;background-color: white;position: relative;}#sk-container-id-2 div.sk-item::before, #sk-container-id-2 div.sk-parallel-item::before {content: \"\";position: absolute;border-left: 1px solid gray;box-sizing: border-box;top: 0;bottom: 0;left: 50%;z-index: -1;}#sk-container-id-2 div.sk-parallel-item {display: flex;flex-direction: column;z-index: 1;position: relative;background-color: white;}#sk-container-id-2 div.sk-parallel-item:first-child::after {align-self: flex-end;width: 50%;}#sk-container-id-2 div.sk-parallel-item:last-child::after {align-self: flex-start;width: 50%;}#sk-container-id-2 div.sk-parallel-item:only-child::after {width: 0;}#sk-container-id-2 div.sk-dashed-wrapped {border: 1px dashed gray;margin: 0 0.4em 0.5em 0.4em;box-sizing: border-box;padding-bottom: 0.4em;background-color: white;}#sk-container-id-2 div.sk-label label {font-family: monospace;font-weight: bold;display: inline-block;line-height: 1.2em;}#sk-container-id-2 div.sk-label-container {text-align: center;}#sk-container-id-2 div.sk-container {/* jupyter's `normalize.less` sets `[hidden] { display: none; }` but bootstrap.min.css set `[hidden] { display: none !important; }` so we also need the `!important` here to be able to override the default hidden behavior on the sphinx rendered scikit-learn.org. See: https://github.com/scikit-learn/scikit-learn/issues/21755 */display: inline-block !important;position: relative;}#sk-container-id-2 div.sk-text-repr-fallback {display: none;}</style><div id=\"sk-container-id-2\" class=\"sk-top-container\"><div class=\"sk-text-repr-fallback\"><pre>LogisticRegression()</pre><b>In a Jupyter environment, please rerun this cell to show the HTML representation or trust the notebook. <br />On GitHub, the HTML representation is unable to render, please try loading this page with nbviewer.org.</b></div><div class=\"sk-container\" hidden><div class=\"sk-item\"><div class=\"sk-estimator sk-toggleable\"><input class=\"sk-toggleable__control sk-hidden--visually\" id=\"sk-estimator-id-2\" type=\"checkbox\" checked><label for=\"sk-estimator-id-2\" class=\"sk-toggleable__label sk-toggleable__label-arrow\">LogisticRegression</label><div class=\"sk-toggleable__content\"><pre>LogisticRegression()</pre></div></div></div></div></div>"
      ],
      "text/plain": [
       "LogisticRegression()"
      ]
     },
     "execution_count": 14,
     "metadata": {},
     "output_type": "execute_result"
    }
   ],
   "source": [
    "logreg.fit(X,y)"
   ]
  },
  {
   "cell_type": "code",
   "execution_count": 15,
   "id": "2b825360-c92d-41c5-b893-231bfbc37ab7",
   "metadata": {},
   "outputs": [
    {
     "data": {
      "text/plain": [
       "0.6352954217935928"
      ]
     },
     "execution_count": 15,
     "metadata": {},
     "output_type": "execute_result"
    }
   ],
   "source": [
    "logreg.score(X_train,y_train)"
   ]
  },
  {
   "cell_type": "code",
   "execution_count": 16,
   "id": "e40f1a84-a4ef-4b9a-bee2-7e23441f2221",
   "metadata": {},
   "outputs": [
    {
     "data": {
      "text/plain": [
       "0.6343418670804241"
      ]
     },
     "execution_count": 16,
     "metadata": {},
     "output_type": "execute_result"
    }
   ],
   "source": [
    "logreg.score(X_test,y_test)"
   ]
  },
  {
   "cell_type": "code",
   "execution_count": 39,
   "id": "9db73feb-c5f7-42a2-a4e2-f57da0c77ff2",
   "metadata": {},
   "outputs": [],
   "source": [
    "predictions_logreg = logreg.predict(X_test)"
   ]
  },
  {
   "cell_type": "code",
   "execution_count": 48,
   "id": "87b11004-ede9-4154-b247-1a787d1b9733",
   "metadata": {},
   "outputs": [
    {
     "name": "stdout",
     "output_type": "stream",
     "text": [
      "{'Accuracy': 0.6343418670804241, 'Precision': 0.6077188940092166, 'Sensitivity_recall': 0.5900447427293065, 'Specificity': 0.5900447427293065, 'F1_score': 0.5987514188422248}\n"
     ]
    },
    {
     "data": {
      "image/png": "[encoded data removed]",
      "text/plain": [
       "<Figure size 432x288 with 2 Axes>"
      ]
     },
     "metadata": {
      "needs_background": "light"
     },
     "output_type": "display_data"
    }
   ],
   "source": [
    "cm = confusion_matrix(y_test, predictions_logreg, labels=logreg.classes_)\n",
    "disp = ConfusionMatrixDisplay(confusion_matrix=cm,\n",
    "                              display_labels=[False,True])\n",
    "disp.plot();\n",
    "Accuracy = metrics.accuracy_score(y_test, predictions_logreg)\n",
    "Precision = metrics.precision_score(y_test, predictions_logreg, pos_label='AmItheAsshole',)\n",
    "Sensitivity_recall = metrics.recall_score(y_test, predictions_logreg, pos_label='AmItheAsshole',)\n",
    "Specificity = metrics.recall_score(y_test, predictions_logreg, pos_label= 'AmItheAsshole',)\n",
    "F1_score = metrics.f1_score(y_test, predictions_logreg,pos_label='AmItheAsshole',)\n",
    "print({\"Accuracy\":Accuracy,\n",
    "       \"Precision\":Precision,\n",
    "       \"Sensitivity_recall\":Sensitivity_recall,\n",
    "       \"Specificity\":Specificity,\n",
    "       \"F1_score\":F1_score})"
   ]
  },
  {
   "cell_type": "markdown",
   "id": "034e00fa-602d-4d17-8030-86deca48b54b",
   "metadata": {},
   "source": [
    "#  Gaussian Naive Bayes"
   ]
  },
  {
   "cell_type": "code",
   "execution_count": 17,
   "id": "97dc2229-3212-4c86-ad4b-189866776663",
   "metadata": {},
   "outputs": [],
   "source": [
    "gnb = GaussianNB()"
   ]
  },
  {
   "cell_type": "code",
   "execution_count": 18,
   "id": "639e9028-10ad-4500-9b5d-f45a0d96287c",
   "metadata": {},
   "outputs": [
    {
     "data": {
      "text/html": [
       "<style>#sk-container-id-3 {color: black;background-color: white;}#sk-container-id-3 pre{padding: 0;}#sk-container-id-3 div.sk-toggleable {background-color: white;}#sk-container-id-3 label.sk-toggleable__label {cursor: pointer;display: block;width: 100%;margin-bottom: 0;padding: 0.3em;box-sizing: border-box;text-align: center;}#sk-container-id-3 label.sk-toggleable__label-arrow:before {content: \"▸\";float: left;margin-right: 0.25em;color: #696969;}#sk-container-id-3 label.sk-toggleable__label-arrow:hover:before {color: black;}#sk-container-id-3 div.sk-estimator:hover label.sk-toggleable__label-arrow:before {color: black;}#sk-container-id-3 div.sk-toggleable__content {max-height: 0;max-width: 0;overflow: hidden;text-align: left;background-color: #f0f8ff;}#sk-container-id-3 div.sk-toggleable__content pre {margin: 0.2em;color: black;border-radius: 0.25em;background-color: #f0f8ff;}#sk-container-id-3 input.sk-toggleable__control:checked~div.sk-toggleable__content {max-height: 200px;max-width: 100%;overflow: auto;}#sk-container-id-3 input.sk-toggleable__control:checked~label.sk-toggleable__label-arrow:before {content: \"▾\";}#sk-container-id-3 div.sk-estimator input.sk-toggleable__control:checked~label.sk-toggleable__label {background-color: #d4ebff;}#sk-container-id-3 div.sk-label input.sk-toggleable__control:checked~label.sk-toggleable__label {background-color: #d4ebff;}#sk-container-id-3 input.sk-hidden--visually {border: 0;clip: rect(1px 1px 1px 1px);clip: rect(1px, 1px, 1px, 1px);height: 1px;margin: -1px;overflow: hidden;padding: 0;position: absolute;width: 1px;}#sk-container-id-3 div.sk-estimator {font-family: monospace;background-color: #f0f8ff;border: 1px dotted black;border-radius: 0.25em;box-sizing: border-box;margin-bottom: 0.5em;}#sk-container-id-3 div.sk-estimator:hover {background-color: #d4ebff;}#sk-container-id-3 div.sk-parallel-item::after {content: \"\";width: 100%;border-bottom: 1px solid gray;flex-grow: 1;}#sk-container-id-3 div.sk-label:hover label.sk-toggleable__label {background-color: #d4ebff;}#sk-container-id-3 div.sk-serial::before {content: \"\";position: absolute;border-left: 1px solid gray;box-sizing: border-box;top: 0;bottom: 0;left: 50%;z-index: 0;}#sk-container-id-3 div.sk-serial {display: flex;flex-direction: column;align-items: center;background-color: white;padding-right: 0.2em;padding-left: 0.2em;position: relative;}#sk-container-id-3 div.sk-item {position: relative;z-index: 1;}#sk-container-id-3 div.sk-parallel {display: flex;align-items: stretch;justify-content: center;background-color: white;position: relative;}#sk-container-id-3 div.sk-item::before, #sk-container-id-3 div.sk-parallel-item::before {content: \"\";position: absolute;border-left: 1px solid gray;box-sizing: border-box;top: 0;bottom: 0;left: 50%;z-index: -1;}#sk-container-id-3 div.sk-parallel-item {display: flex;flex-direction: column;z-index: 1;position: relative;background-color: white;}#sk-container-id-3 div.sk-parallel-item:first-child::after {align-self: flex-end;width: 50%;}#sk-container-id-3 div.sk-parallel-item:last-child::after {align-self: flex-start;width: 50%;}#sk-container-id-3 div.sk-parallel-item:only-child::after {width: 0;}#sk-container-id-3 div.sk-dashed-wrapped {border: 1px dashed gray;margin: 0 0.4em 0.5em 0.4em;box-sizing: border-box;padding-bottom: 0.4em;background-color: white;}#sk-container-id-3 div.sk-label label {font-family: monospace;font-weight: bold;display: inline-block;line-height: 1.2em;}#sk-container-id-3 div.sk-label-container {text-align: center;}#sk-container-id-3 div.sk-container {/* jupyter's `normalize.less` sets `[hidden] { display: none; }` but bootstrap.min.css set `[hidden] { display: none !important; }` so we also need the `!important` here to be able to override the default hidden behavior on the sphinx rendered scikit-learn.org. See: https://github.com/scikit-learn/scikit-learn/issues/21755 */display: inline-block !important;position: relative;}#sk-container-id-3 div.sk-text-repr-fallback {display: none;}</style><div id=\"sk-container-id-3\" class=\"sk-top-container\"><div class=\"sk-text-repr-fallback\"><pre>GaussianNB()</pre><b>In a Jupyter environment, please rerun this cell to show the HTML representation or trust the notebook. <br />On GitHub, the HTML representation is unable to render, please try loading this page with nbviewer.org.</b></div><div class=\"sk-container\" hidden><div class=\"sk-item\"><div class=\"sk-estimator sk-toggleable\"><input class=\"sk-toggleable__control sk-hidden--visually\" id=\"sk-estimator-id-3\" type=\"checkbox\" checked><label for=\"sk-estimator-id-3\" class=\"sk-toggleable__label sk-toggleable__label-arrow\">GaussianNB</label><div class=\"sk-toggleable__content\"><pre>GaussianNB()</pre></div></div></div></div></div>"
      ],
      "text/plain": [
       "GaussianNB()"
      ]
     },
     "execution_count": 18,
     "metadata": {},
     "output_type": "execute_result"
    }
   ],
   "source": [
    "gnb.fit(X,y)"
   ]
  },
  {
   "cell_type": "code",
   "execution_count": 19,
   "id": "9b3c9c11-c40a-4ea3-8618-d35025fe7395",
   "metadata": {},
   "outputs": [
    {
     "data": {
      "text/plain": [
       "0.6415031592949784"
      ]
     },
     "execution_count": 19,
     "metadata": {},
     "output_type": "execute_result"
    }
   ],
   "source": [
    "gnb.score(X_train, y_train)"
   ]
  },
  {
   "cell_type": "code",
   "execution_count": 20,
   "id": "90290a79-8c27-4425-a00b-5435b7040e6c",
   "metadata": {},
   "outputs": [
    {
     "data": {
      "text/plain": [
       "0.6389966382208431"
      ]
     },
     "execution_count": 20,
     "metadata": {},
     "output_type": "execute_result"
    }
   ],
   "source": [
    "gnb.score(X_test, y_test)"
   ]
  },
  {
   "cell_type": "code",
   "execution_count": 40,
   "id": "5210aa24-9674-4038-a3a0-0183a560c143",
   "metadata": {},
   "outputs": [],
   "source": [
    "predictions_gnb = gnb.predict(X_test)"
   ]
  },
  {
   "cell_type": "code",
   "execution_count": 47,
   "id": "cc6f7034-86e0-40d2-8b27-8b09d5229266",
   "metadata": {},
   "outputs": [
    {
     "name": "stdout",
     "output_type": "stream",
     "text": [
      "{'Accuracy': 0.6389966382208431, 'Precision': 0.5904893813481071, 'Sensitivity_recall': 0.7153243847874721, 'Specificity': 0.7153243847874721, 'F1_score': 0.6469398077895803}\n"
     ]
    },
    {
     "data": {
      "image/png": "[encoded data removed]",
      "text/plain": [
       "<Figure size 432x288 with 2 Axes>"
      ]
     },
     "metadata": {
      "needs_background": "light"
     },
     "output_type": "display_data"
    }
   ],
   "source": [
    "cm = confusion_matrix(y_test, predictions_gnb, labels=gnb.classes_)\n",
    "disp = ConfusionMatrixDisplay(confusion_matrix=cm,\n",
    "                              display_labels=[False,True])\n",
    "disp.plot();\n",
    "Accuracy = metrics.accuracy_score(y_test, predictions_gnb)\n",
    "Precision = metrics.precision_score(y_test, predictions_gnb, pos_label='AmItheAsshole',)\n",
    "Sensitivity_recall = metrics.recall_score(y_test, predictions_gnb, pos_label='AmItheAsshole',)\n",
    "Specificity = metrics.recall_score(y_test, predictions_gnb, pos_label= 'AmItheAsshole',)\n",
    "F1_score = metrics.f1_score(y_test, predictions_gnb,pos_label='AmItheAsshole',)\n",
    "print({\"Accuracy\":Accuracy,\n",
    "       \"Precision\":Precision,\n",
    "       \"Sensitivity_recall\":Sensitivity_recall,\n",
    "       \"Specificity\":Specificity,\n",
    "       \"F1_score\":F1_score})"
   ]
  },
  {
   "cell_type": "markdown",
   "id": "09270a11-7e0b-4c22-883a-7721a2fbb2f2",
   "metadata": {},
   "source": [
    "# KNN"
   ]
  },
  {
   "cell_type": "code",
   "execution_count": 21,
   "id": "9f6e02ce-2d0c-4528-ab71-c84f7f574dc0",
   "metadata": {},
   "outputs": [],
   "source": [
    "knn = KNeighborsClassifier()"
   ]
  },
  {
   "cell_type": "code",
   "execution_count": 22,
   "id": "3050cd4e-f0a3-4c7d-a50a-3e01317f6670",
   "metadata": {},
   "outputs": [
    {
     "data": {
      "text/html": [
       "<style>#sk-container-id-4 {color: black;background-color: white;}#sk-container-id-4 pre{padding: 0;}#sk-container-id-4 div.sk-toggleable {background-color: white;}#sk-container-id-4 label.sk-toggleable__label {cursor: pointer;display: block;width: 100%;margin-bottom: 0;padding: 0.3em;box-sizing: border-box;text-align: center;}#sk-container-id-4 label.sk-toggleable__label-arrow:before {content: \"▸\";float: left;margin-right: 0.25em;color: #696969;}#sk-container-id-4 label.sk-toggleable__label-arrow:hover:before {color: black;}#sk-container-id-4 div.sk-estimator:hover label.sk-toggleable__label-arrow:before {color: black;}#sk-container-id-4 div.sk-toggleable__content {max-height: 0;max-width: 0;overflow: hidden;text-align: left;background-color: #f0f8ff;}#sk-container-id-4 div.sk-toggleable__content pre {margin: 0.2em;color: black;border-radius: 0.25em;background-color: #f0f8ff;}#sk-container-id-4 input.sk-toggleable__control:checked~div.sk-toggleable__content {max-height: 200px;max-width: 100%;overflow: auto;}#sk-container-id-4 input.sk-toggleable__control:checked~label.sk-toggleable__label-arrow:before {content: \"▾\";}#sk-container-id-4 div.sk-estimator input.sk-toggleable__control:checked~label.sk-toggleable__label {background-color: #d4ebff;}#sk-container-id-4 div.sk-label input.sk-toggleable__control:checked~label.sk-toggleable__label {background-color: #d4ebff;}#sk-container-id-4 input.sk-hidden--visually {border: 0;clip: rect(1px 1px 1px 1px);clip: rect(1px, 1px, 1px, 1px);height: 1px;margin: -1px;overflow: hidden;padding: 0;position: absolute;width: 1px;}#sk-container-id-4 div.sk-estimator {font-family: monospace;background-color: #f0f8ff;border: 1px dotted black;border-radius: 0.25em;box-sizing: border-box;margin-bottom: 0.5em;}#sk-container-id-4 div.sk-estimator:hover {background-color: #d4ebff;}#sk-container-id-4 div.sk-parallel-item::after {content: \"\";width: 100%;border-bottom: 1px solid gray;flex-grow: 1;}#sk-container-id-4 div.sk-label:hover label.sk-toggleable__label {background-color: #d4ebff;}#sk-container-id-4 div.sk-serial::before {content: \"\";position: absolute;border-left: 1px solid gray;box-sizing: border-box;top: 0;bottom: 0;left: 50%;z-index: 0;}#sk-container-id-4 div.sk-serial {display: flex;flex-direction: column;align-items: center;background-color: white;padding-right: 0.2em;padding-left: 0.2em;position: relative;}#sk-container-id-4 div.sk-item {position: relative;z-index: 1;}#sk-container-id-4 div.sk-parallel {display: flex;align-items: stretch;justify-content: center;background-color: white;position: relative;}#sk-container-id-4 div.sk-item::before, #sk-container-id-4 div.sk-parallel-item::before {content: \"\";position: absolute;border-left: 1px solid gray;box-sizing: border-box;top: 0;bottom: 0;left: 50%;z-index: -1;}#sk-container-id-4 div.sk-parallel-item {display: flex;flex-direction: column;z-index: 1;position: relative;background-color: white;}#sk-container-id-4 div.sk-parallel-item:first-child::after {align-self: flex-end;width: 50%;}#sk-container-id-4 div.sk-parallel-item:last-child::after {align-self: flex-start;width: 50%;}#sk-container-id-4 div.sk-parallel-item:only-child::after {width: 0;}#sk-container-id-4 div.sk-dashed-wrapped {border: 1px dashed gray;margin: 0 0.4em 0.5em 0.4em;box-sizing: border-box;padding-bottom: 0.4em;background-color: white;}#sk-container-id-4 div.sk-label label {font-family: monospace;font-weight: bold;display: inline-block;line-height: 1.2em;}#sk-container-id-4 div.sk-label-container {text-align: center;}#sk-container-id-4 div.sk-container {/* jupyter's `normalize.less` sets `[hidden] { display: none; }` but bootstrap.min.css set `[hidden] { display: none !important; }` so we also need the `!important` here to be able to override the default hidden behavior on the sphinx rendered scikit-learn.org. See: https://github.com/scikit-learn/scikit-learn/issues/21755 */display: inline-block !important;position: relative;}#sk-container-id-4 div.sk-text-repr-fallback {display: none;}</style><div id=\"sk-container-id-4\" class=\"sk-top-container\"><div class=\"sk-text-repr-fallback\"><pre>KNeighborsClassifier()</pre><b>In a Jupyter environment, please rerun this cell to show the HTML representation or trust the notebook. <br />On GitHub, the HTML representation is unable to render, please try loading this page with nbviewer.org.</b></div><div class=\"sk-container\" hidden><div class=\"sk-item\"><div class=\"sk-estimator sk-toggleable\"><input class=\"sk-toggleable__control sk-hidden--visually\" id=\"sk-estimator-id-4\" type=\"checkbox\" checked><label for=\"sk-estimator-id-4\" class=\"sk-toggleable__label sk-toggleable__label-arrow\">KNeighborsClassifier</label><div class=\"sk-toggleable__content\"><pre>KNeighborsClassifier()</pre></div></div></div></div></div>"
      ],
      "text/plain": [
       "KNeighborsClassifier()"
      ]
     },
     "execution_count": 22,
     "metadata": {},
     "output_type": "execute_result"
    }
   ],
   "source": [
    "knn.fit(X,y)"
   ]
  },
  {
   "cell_type": "code",
   "execution_count": 23,
   "id": "6d1ac2d9-a780-40c3-b306-8d911424a1a6",
   "metadata": {},
   "outputs": [
    {
     "data": {
      "text/plain": [
       "0.7567897128921406"
      ]
     },
     "execution_count": 23,
     "metadata": {},
     "output_type": "execute_result"
    }
   ],
   "source": [
    "knn.score(X_train,y_train)"
   ]
  },
  {
   "cell_type": "code",
   "execution_count": 24,
   "id": "efeb1c6a-b1b1-48c5-8b7a-b388d2e4aef6",
   "metadata": {},
   "outputs": [
    {
     "data": {
      "text/plain": [
       "0.7584690974915955"
      ]
     },
     "execution_count": 24,
     "metadata": {},
     "output_type": "execute_result"
    }
   ],
   "source": [
    "knn.score(X_test, y_test)"
   ]
  },
  {
   "cell_type": "code",
   "execution_count": 41,
   "id": "57a17c7c-d97f-42c2-a926-6299ebe16e72",
   "metadata": {},
   "outputs": [],
   "source": [
    "predictions_knn = knn.predict(X_test)"
   ]
  },
  {
   "cell_type": "code",
   "execution_count": 46,
   "id": "2723e8cb-5610-48de-8d5e-2329975aa61d",
   "metadata": {},
   "outputs": [
    {
     "name": "stdout",
     "output_type": "stream",
     "text": [
      "{'Accuracy': 0.7584690974915955, 'Precision': 0.7330786026200873, 'Sensitivity_recall': 0.7511185682326622, 'Specificity': 0.7511185682326622, 'F1_score': 0.741988950276243}\n"
     ]
    },
    {
     "data": {
      "image/png": "[encoded data removed]",
      "text/plain": [
       "<Figure size 432x288 with 2 Axes>"
      ]
     },
     "metadata": {
      "needs_background": "light"
     },
     "output_type": "display_data"
    }
   ],
   "source": [
    "cm = confusion_matrix(y_test, predictions_knn, labels=knn.classes_)\n",
    "disp = ConfusionMatrixDisplay(confusion_matrix=cm,\n",
    "                              display_labels=[False,True])\n",
    "disp.plot();\n",
    "Accuracy = metrics.accuracy_score(y_test, predictions_knn)\n",
    "Precision = metrics.precision_score(y_test, predictions_knn, pos_label='AmItheAsshole',)\n",
    "Sensitivity_recall = metrics.recall_score(y_test, predictions_knn, pos_label='AmItheAsshole',)\n",
    "Specificity = metrics.recall_score(y_test, predictions_knn, pos_label= 'AmItheAsshole',)\n",
    "F1_score = metrics.f1_score(y_test, predictions_knn,pos_label='AmItheAsshole',)\n",
    "print({\"Accuracy\":Accuracy,\n",
    "       \"Precision\":Precision,\n",
    "       \"Sensitivity_recall\":Sensitivity_recall,\n",
    "       \"Specificity\":Specificity,\n",
    "       \"F1_score\":F1_score})"
   ]
  }
 ],
 "metadata": {
  "kernelspec": {
   "display_name": "Python 3 (ipykernel)",
   "language": "python",
   "name": "python3"
  },
  "language_info": {
   "codemirror_mode": {
    "name": "ipython",
    "version": 3
   },
   "file_extension": ".py",
   "mimetype": "text/x-python",
   "name": "python",
   "nbconvert_exporter": "python",
   "pygments_lexer": "ipython3",
   "version": "3.9.12"
  }
 },
 "nbformat": 4,
 "nbformat_minor": 5
}
