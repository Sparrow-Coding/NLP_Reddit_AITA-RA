{
 "cells": [
  {
   "cell_type": "markdown",
   "id": "d58d1473-71c0-4a93-90b6-d5f8b4cfdfae",
   "metadata": {},
   "source": [
    "Table of contents: AmITheAsshole\n",
    "- Imports\n",
    "- Read in data\n",
    "- Am_I_The_Asshole dataframe\n",
    "- Cleaning process\n",
    "- Cleaned data output\n"
   ]
  },
  {
   "cell_type": "markdown",
   "id": "91978a49-e0c7-4b7b-9fa8-b9a3662675e4",
   "metadata": {},
   "source": [
    "# Imports"
   ]
  },
  {
   "cell_type": "code",
   "execution_count": 1,
   "id": "a9263291-f77a-4204-a1f3-7a928a47e811",
   "metadata": {},
   "outputs": [],
   "source": [
    "import pandas as pd"
   ]
  },
  {
   "cell_type": "markdown",
   "id": "d0f4aa72-d86e-48c3-9e67-9e80e24ca203",
   "metadata": {},
   "source": [
    "# Read in data"
   ]
  },
  {
   "cell_type": "code",
   "execution_count": 2,
   "id": "b72875ba-6f0a-4e38-9bc9-3a952e6dd043",
   "metadata": {},
   "outputs": [],
   "source": [
    "AITA1 = pd.read_csv('../Data/csv_AITA/AITA1')\n",
    "AITA2 = pd.read_csv('../Data/csv_AITA/AITA2')\n",
    "AITA3 = pd.read_csv('../Data/csv_AITA/AITA3')\n",
    "AITA4 = pd.read_csv('../Data/csv_AITA/AITA4')\n",
    "AITA5 = pd.read_csv('../Data/csv_AITA/AITA5')\n",
    "AITA6 = pd.read_csv('../Data/csv_AITA/AITA6')\n",
    "AITA7 = pd.read_csv('../Data/csv_AITA/AITA7')\n",
    "AITA8 = pd.read_csv('../Data/csv_AITA/AITA8')\n",
    "AITA9 = pd.read_csv('../Data/csv_AITA/AITA9')\n",
    "AITA10 = pd.read_csv('../Data/csv_AITA/AITA10')"
   ]
  },
  {
   "cell_type": "code",
   "execution_count": 3,
   "id": "2ff11881-a1e1-4bf5-9454-27ea6438f1ff",
   "metadata": {},
   "outputs": [],
   "source": [
    "AITA11 = pd.read_csv('../Data/csv_AITA/AITA11')\n",
    "AITA12 = pd.read_csv('../Data/csv_AITA/AITA12')\n",
    "AITA13 = pd.read_csv('../Data/csv_AITA/AITA13')\n",
    "AITA14 = pd.read_csv('../Data/csv_AITA/AITA14')\n",
    "AITA15 = pd.read_csv('../Data/csv_AITA/AITA15')\n",
    "AITA16 = pd.read_csv('../Data/csv_AITA/AITA16')\n",
    "AITA17 = pd.read_csv('../Data/csv_AITA/AITA17')\n",
    "AITA18 = pd.read_csv('../Data/csv_AITA/AITA18')\n",
    "AITA19 = pd.read_csv('../Data/csv_AITA/AITA19')\n",
    "AITA20 = pd.read_csv('../Data/csv_AITA/AITA20')"
   ]
  },
  {
   "cell_type": "code",
   "execution_count": 4,
   "id": "6c7d749a-0347-4ba3-8632-0a01078210fd",
   "metadata": {},
   "outputs": [],
   "source": [
    "AITA21 = pd.read_csv('../Data/csv_AITA/AITA21')\n",
    "AITA22 = pd.read_csv('../Data/csv_AITA/AITA22')\n",
    "AITA23 = pd.read_csv('../Data/csv_AITA/AITA23')\n",
    "AITA24 = pd.read_csv('../Data/csv_AITA/AITA24')\n",
    "AITA25 = pd.read_csv('../Data/csv_AITA/AITA25')\n",
    "AITA26 = pd.read_csv('../Data/csv_AITA/AITA26')\n",
    "AITA27 = pd.read_csv('../Data/csv_AITA/AITA27')\n",
    "AITA28 = pd.read_csv('../Data/csv_AITA/AITA28')\n",
    "AITA29 = pd.read_csv('../Data/csv_AITA/AITA29')\n",
    "AITA30 = pd.read_csv('../Data/csv_AITA/AITA30')"
   ]
  },
  {
   "cell_type": "code",
   "execution_count": 5,
   "id": "dfd5f620-0bc4-444d-afe8-7d6343580caf",
   "metadata": {},
   "outputs": [],
   "source": [
    "AITA31 = pd.read_csv('../Data/csv_AITA/AITA31')\n",
    "AITA32 = pd.read_csv('../Data/csv_AITA/AITA32')\n",
    "AITA33 = pd.read_csv('../Data/csv_AITA/AITA33')\n",
    "AITA34 = pd.read_csv('../Data/csv_AITA/AITA34')\n",
    "AITA35 = pd.read_csv('../Data/csv_AITA/AITA35')\n",
    "AITA36 = pd.read_csv('../Data/csv_AITA/AITA36')\n",
    "AITA37 = pd.read_csv('../Data/csv_AITA/AITA37')\n",
    "AITA38 = pd.read_csv('../Data/csv_AITA/AITA38')\n",
    "AITA39 = pd.read_csv('../Data/csv_AITA/AITA39')\n",
    "AITA40 = pd.read_csv('../Data/csv_AITA/AITA40')"
   ]
  },
  {
   "cell_type": "code",
   "execution_count": 6,
   "id": "7c7fc69f-8097-44cb-ba9f-baa1df20a07e",
   "metadata": {},
   "outputs": [],
   "source": [
    "AITA41 = pd.read_csv('../Data/csv_AITA/AITA41')\n",
    "AITA42 = pd.read_csv('../Data/csv_AITA/AITA42')\n",
    "AITA43 = pd.read_csv('../Data/csv_AITA/AITA43')\n",
    "AITA44 = pd.read_csv('../Data/csv_AITA/AITA44')\n",
    "AITA45 = pd.read_csv('../Data/csv_AITA/AITA45')\n",
    "AITA46 = pd.read_csv('../Data/csv_AITA/AITA46')\n",
    "AITA47 = pd.read_csv('../Data/csv_AITA/AITA47')\n",
    "AITA48 = pd.read_csv('../Data/csv_AITA/AITA48')\n",
    "AITA49 = pd.read_csv('../Data/csv_AITA/AITA59')\n",
    "AITA50 = pd.read_csv('../Data/csv_AITA/AITA50')"
   ]
  },
  {
   "cell_type": "code",
   "execution_count": 7,
   "id": "301ad307-0af0-44a2-979d-d87921a88d8f",
   "metadata": {},
   "outputs": [],
   "source": [
    "AITA51 = pd.read_csv('../Data/csv_AITA/AITA51')\n",
    "AITA52 = pd.read_csv('../Data/csv_AITA/AITA52')\n",
    "AITA53 = pd.read_csv('../Data/csv_AITA/AITA53')\n",
    "AITA54 = pd.read_csv('../Data/csv_AITA/AITA54')\n",
    "AITA55 = pd.read_csv('../Data/csv_AITA/AITA55')\n",
    "AITA56 = pd.read_csv('../Data/csv_AITA/AITA56')\n",
    "AITA57 = pd.read_csv('../Data/csv_AITA/AITA57')\n",
    "AITA58 = pd.read_csv('../Data/csv_AITA/AITA58')\n",
    "AITA59 = pd.read_csv('../Data/csv_AITA/AITA59')\n",
    "AITA60 = pd.read_csv('../Data/csv_AITA/AITA60')"
   ]
  },
  {
   "cell_type": "code",
   "execution_count": 8,
   "id": "2d81ff6c-15a8-4641-9048-9b885b52acba",
   "metadata": {},
   "outputs": [],
   "source": [
    "AITA61 = pd.read_csv('../Data/csv_AITA/AITA61')\n",
    "AITA62 = pd.read_csv('../Data/csv_AITA/AITA62')\n",
    "AITA63 = pd.read_csv('../Data/csv_AITA/AITA63')\n",
    "AITA64 = pd.read_csv('../Data/csv_AITA/AITA64')\n",
    "AITA65 = pd.read_csv('../Data/csv_AITA/AITA65')\n",
    "AITA66 = pd.read_csv('../Data/csv_AITA/AITA66')\n",
    "AITA67 = pd.read_csv('../Data/csv_AITA/AITA67')\n",
    "AITA68 = pd.read_csv('../Data/csv_AITA/AITA68')\n",
    "AITA69 = pd.read_csv('../Data/csv_AITA/AITA69')\n",
    "AITA70 = pd.read_csv('../Data/csv_AITA/AITA70')"
   ]
  },
  {
   "cell_type": "code",
   "execution_count": 9,
   "id": "f07fabf6-8524-48d1-96ef-9ff7e3bc5d3a",
   "metadata": {},
   "outputs": [],
   "source": [
    "AITA71 = pd.read_csv('../Data/csv_AITA/AITA71')\n",
    "AITA72 = pd.read_csv('../Data/csv_AITA/AITA72')\n",
    "AITA73 = pd.read_csv('../Data/csv_AITA/AITA73')\n",
    "AITA74 = pd.read_csv('../Data/csv_AITA/AITA74')\n",
    "AITA75 = pd.read_csv('../Data/csv_AITA/AITA75')\n",
    "AITA76 = pd.read_csv('../Data/csv_AITA/AITA76')\n",
    "AITA77 = pd.read_csv('../Data/csv_AITA/AITA77')\n",
    "AITA78 = pd.read_csv('../Data/csv_AITA/AITA78')\n",
    "AITA79 = pd.read_csv('../Data/csv_AITA/AITA79')\n",
    "AITA80 = pd.read_csv('../Data/csv_AITA/AITA80')"
   ]
  },
  {
   "cell_type": "code",
   "execution_count": 10,
   "id": "9c6cd2c6-9208-477c-85aa-383cbca621ee",
   "metadata": {},
   "outputs": [],
   "source": [
    "AITA81 = pd.read_csv('../Data/csv_AITA/AITA81')\n",
    "AITA82 = pd.read_csv('../Data/csv_AITA/AITA82')\n",
    "AITA83 = pd.read_csv('../Data/csv_AITA/AITA83')\n",
    "AITA84 = pd.read_csv('../Data/csv_AITA/AITA84')\n",
    "AITA85 = pd.read_csv('../Data/csv_AITA/AITA85')\n",
    "AITA86 = pd.read_csv('../Data/csv_AITA/AITA86')\n",
    "AITA87 = pd.read_csv('../Data/csv_AITA/AITA87')\n",
    "AITA88 = pd.read_csv('../Data/csv_AITA/AITA88')\n",
    "AITA89 = pd.read_csv('../Data/csv_AITA/AITA89')\n",
    "AITA90 = pd.read_csv('../Data/csv_AITA/AITA90')"
   ]
  },
  {
   "cell_type": "code",
   "execution_count": 11,
   "id": "3f56e1a9-b6b1-4200-b522-b5a328806a8d",
   "metadata": {},
   "outputs": [],
   "source": [
    "AITA91 = pd.read_csv('../Data/csv_AITA/AITA91')\n",
    "AITA92 = pd.read_csv('../Data/csv_AITA/AITA92')\n",
    "AITA93 = pd.read_csv('../Data/csv_AITA/AITA93')\n",
    "AITA94 = pd.read_csv('../Data/csv_AITA/AITA94')\n",
    "AITA95 = pd.read_csv('../Data/csv_AITA/AITA95')\n",
    "AITA96 = pd.read_csv('../Data/csv_AITA/AITA96')\n",
    "AITA97 = pd.read_csv('../Data/csv_AITA/AITA97')\n",
    "AITA98 = pd.read_csv('../Data/csv_AITA/AITA98')\n",
    "AITA99 = pd.read_csv('../Data/csv_AITA/AITA99')\n",
    "AITA100 = pd.read_csv('../Data/csv_AITA/AITA100')"
   ]
  },
  {
   "cell_type": "markdown",
   "id": "140126a3-1a61-435d-bca9-05ff056cf427",
   "metadata": {},
   "source": [
    "# Am_I_The_Asshole dataframe"
   ]
  },
  {
   "cell_type": "code",
   "execution_count": 12,
   "id": "25c85609-11a3-4b7a-aab8-6ad6b3e90579",
   "metadata": {},
   "outputs": [],
   "source": [
    "Am_I_The_Asshole = (AITA1,AITA2,AITA3,AITA4,AITA5,AITA6,AITA7,AITA8,AITA9,AITA10,AITA11,AITA12,AITA13,AITA14,AITA15,AITA16,AITA17,AITA18,\n",
    "                    AITA19,AITA20,AITA21,AITA22,AITA23,AITA24,AITA25,AITA26,AITA27,AITA28,AITA29,AITA30,AITA31,AITA32,AITA33,AITA34,AITA35,AITA36,\n",
    "                    AITA37,AITA38,AITA39,AITA40,AITA41,AITA42,AITA43,AITA44,AITA45,AITA46,AITA47,AITA48,AITA49,AITA50,AITA51,AITA52,AITA53,AITA54,AITA55,\n",
    "                    AITA56,AITA57,AITA58,AITA59,AITA60,AITA61,AITA62,AITA63,AITA64,AITA65,AITA66,AITA67,AITA68,AITA69,AITA70,AITA71,AITA72,AITA73,\n",
    "                   AITA74,AITA75,AITA76,AITA77,AITA78,AITA79,AITA80,AITA81,AITA82,AITA83,AITA84,AITA85,AITA86,AITA87,AITA88,AITA89,AITA90,\n",
    "                   AITA91,AITA92,AITA93,AITA94,AITA95,AITA96,AITA97,AITA98,AITA99,AITA100)"
   ]
  },
  {
   "cell_type": "code",
   "execution_count": 13,
   "id": "13f14ef1-2966-4a6c-8821-4f4388b13730",
   "metadata": {},
   "outputs": [],
   "source": [
    "reddit_AITA = pd.concat(Am_I_The_Asshole)"
   ]
  },
  {
   "cell_type": "markdown",
   "id": "e3ed30c4-bd38-4484-8460-49c7fdb73101",
   "metadata": {},
   "source": [
    "# Cleaning Process"
   ]
  },
  {
   "cell_type": "code",
   "execution_count": 14,
   "id": "73b71090-0ae6-42ff-9768-57417e5b9a19",
   "metadata": {},
   "outputs": [
    {
     "data": {
      "text/plain": [
       "9996"
      ]
     },
     "execution_count": 14,
     "metadata": {},
     "output_type": "execute_result"
    }
   ],
   "source": [
    "len(reddit_AITA) #Inital data scrape got 9999 post"
   ]
  },
  {
   "cell_type": "code",
   "execution_count": 15,
   "id": "0b4390b0-38d7-4c0e-92ea-6c94d43f45e4",
   "metadata": {},
   "outputs": [
    {
     "data": {
      "text/plain": [
       "Index(['all_awardings', 'allow_live_comments', 'author',\n",
       "       'author_flair_css_class', 'author_flair_richtext', 'author_flair_text',\n",
       "       'author_flair_type', 'author_fullname', 'author_is_blocked',\n",
       "       'author_patreon_flair', 'author_premium', 'awarders', 'can_mod_post',\n",
       "       'contest_mode', 'created_utc', 'domain', 'full_link', 'gildings', 'id',\n",
       "       'is_created_from_ads_ui', 'is_crosspostable', 'is_meta',\n",
       "       'is_original_content', 'is_reddit_media_domain', 'is_robot_indexable',\n",
       "       'is_self', 'is_video', 'link_flair_background_color',\n",
       "       'link_flair_richtext', 'link_flair_text_color', 'link_flair_type',\n",
       "       'locked', 'media_only', 'no_follow', 'num_comments', 'num_crossposts',\n",
       "       'over_18', 'parent_whitelist_status', 'permalink', 'pinned', 'pwls',\n",
       "       'removed_by_category', 'retrieved_on', 'score', 'selftext',\n",
       "       'send_replies', 'spoiler', 'stickied', 'subreddit', 'subreddit_id',\n",
       "       'subreddit_subscribers', 'subreddit_type', 'suggested_sort',\n",
       "       'thumbnail', 'title', 'total_awards_received', 'treatment_tags',\n",
       "       'upvote_ratio', 'url', 'whitelist_status', 'wls',\n",
       "       'author_flair_background_color', 'author_flair_template_id',\n",
       "       'author_flair_text_color', 'link_flair_template_id', 'link_flair_text',\n",
       "       'author_cakeday', 'banned_by', 'post_hint', 'preview'],\n",
       "      dtype='object')"
      ]
     },
     "execution_count": 15,
     "metadata": {},
     "output_type": "execute_result"
    }
   ],
   "source": [
    "reddit_AITA.columns"
   ]
  },
  {
   "cell_type": "code",
   "execution_count": 16,
   "id": "ea1ca924-d1d0-4ade-afbf-4a76fb695f61",
   "metadata": {},
   "outputs": [],
   "source": [
    "df_AITA =reddit_AITA[['author','subreddit','selftext','title','created_utc']] #These are the columns I want to focus on"
   ]
  },
  {
   "cell_type": "code",
   "execution_count": 17,
   "id": "75ae002b-9f15-468d-b064-62281de669cf",
   "metadata": {},
   "outputs": [
    {
     "name": "stderr",
     "output_type": "stream",
     "text": [
      "C:\\Users\\Sparrow\\AppData\\Local\\Temp\\ipykernel_29960\\989182918.py:1: SettingWithCopyWarning: \n",
      "A value is trying to be set on a copy of a slice from a DataFrame\n",
      "\n",
      "See the caveats in the documentation: https://pandas.pydata.org/pandas-docs/stable/user_guide/indexing.html#returning-a-view-versus-a-copy\n",
      "  df_AITA.drop_duplicates(subset='author',inplace=True) #Dropping posts from the same author to avoid duplicates\n"
     ]
    }
   ],
   "source": [
    "df_AITA.drop_duplicates(subset='author',inplace=True) #Dropping posts from the same author to avoid duplicates"
   ]
  },
  {
   "cell_type": "code",
   "execution_count": 18,
   "id": "5e6c8de9-6841-44d3-a37b-2e86f4c8f2e8",
   "metadata": {},
   "outputs": [
    {
     "data": {
      "text/plain": [
       "8140"
      ]
     },
     "execution_count": 18,
     "metadata": {},
     "output_type": "execute_result"
    }
   ],
   "source": [
    "len(df_AITA) #Leaves me with 8140 post to use"
   ]
  },
  {
   "cell_type": "code",
   "execution_count": 19,
   "id": "a1b2a4d5-3179-4e23-847e-ca2ef02a3cf1",
   "metadata": {},
   "outputs": [],
   "source": [
    "df_AITA = df_AITA[df_AITA['selftext'] != '[removed]'] #let's remove post that got removed"
   ]
  },
  {
   "cell_type": "code",
   "execution_count": 20,
   "id": "1d6dd328-abef-45eb-930c-8cfee7e39c36",
   "metadata": {},
   "outputs": [
    {
     "data": {
      "text/plain": [
       "6409"
      ]
     },
     "execution_count": 20,
     "metadata": {},
     "output_type": "execute_result"
    }
   ],
   "source": [
    "len(df_AITA) #AITA will have 6409 post to utilize"
   ]
  },
  {
   "cell_type": "code",
   "execution_count": 21,
   "id": "33862829-0799-42d2-b461-5fbda371b1ff",
   "metadata": {},
   "outputs": [
    {
     "data": {
      "text/html": [
       "<div>\n",
       "<style scoped>\n",
       "    .dataframe tbody tr th:only-of-type {\n",
       "        vertical-align: middle;\n",
       "    }\n",
       "\n",
       "    .dataframe tbody tr th {\n",
       "        vertical-align: top;\n",
       "    }\n",
       "\n",
       "    .dataframe thead th {\n",
       "        text-align: right;\n",
       "    }\n",
       "</style>\n",
       "<table border=\"1\" class=\"dataframe\">\n",
       "  <thead>\n",
       "    <tr style=\"text-align: right;\">\n",
       "      <th></th>\n",
       "      <th>author</th>\n",
       "      <th>subreddit</th>\n",
       "      <th>selftext</th>\n",
       "      <th>title</th>\n",
       "      <th>created_utc</th>\n",
       "    </tr>\n",
       "  </thead>\n",
       "  <tbody>\n",
       "    <tr>\n",
       "      <th>1</th>\n",
       "      <td>Cain_Everest</td>\n",
       "      <td>AmItheAsshole</td>\n",
       "      <td>Let me preface this: I am one of those guys wh...</td>\n",
       "      <td>AITA for letting my former bff rot in prison f...</td>\n",
       "      <td>1669246532</td>\n",
       "    </tr>\n",
       "    <tr>\n",
       "      <th>2</th>\n",
       "      <td>TheVillagerC</td>\n",
       "      <td>AmItheAsshole</td>\n",
       "      <td>Recently, I (21F) met up with my (55M) father....</td>\n",
       "      <td>AITA for never choosing to get closer to my fa...</td>\n",
       "      <td>1669246470</td>\n",
       "    </tr>\n",
       "    <tr>\n",
       "      <th>3</th>\n",
       "      <td>Eat_yourHeart_0ut</td>\n",
       "      <td>AmItheAsshole</td>\n",
       "      <td>I know I probably am an asshole, but I want to...</td>\n",
       "      <td>WIBTA for listening to my mom's phone conversa...</td>\n",
       "      <td>1669246461</td>\n",
       "    </tr>\n",
       "    <tr>\n",
       "      <th>5</th>\n",
       "      <td>flxwsxndsxns</td>\n",
       "      <td>AmItheAsshole</td>\n",
       "      <td>My mum fell out with her whole family 15 years...</td>\n",
       "      <td>AITA for not wanting to attend my aunt's wedding?</td>\n",
       "      <td>1669246271</td>\n",
       "    </tr>\n",
       "    <tr>\n",
       "      <th>7</th>\n",
       "      <td>kixx20</td>\n",
       "      <td>AmItheAsshole</td>\n",
       "      <td>I’ll make it kinda quick but here it is. \\n\\nS...</td>\n",
       "      <td>AITA for not going to thanksgiving dinner?</td>\n",
       "      <td>1669246254</td>\n",
       "    </tr>\n",
       "    <tr>\n",
       "      <th>...</th>\n",
       "      <td>...</td>\n",
       "      <td>...</td>\n",
       "      <td>...</td>\n",
       "      <td>...</td>\n",
       "      <td>...</td>\n",
       "    </tr>\n",
       "    <tr>\n",
       "      <th>91</th>\n",
       "      <td>ameliajohnso</td>\n",
       "      <td>AmItheAsshole</td>\n",
       "      <td>So a lady came over to me and looking at my ba...</td>\n",
       "      <td>AITA for embarrassing a lady at the grocery st...</td>\n",
       "      <td>1669294774</td>\n",
       "    </tr>\n",
       "    <tr>\n",
       "      <th>93</th>\n",
       "      <td>DerangedUnicorn27</td>\n",
       "      <td>AmItheAsshole</td>\n",
       "      <td>Every year I always end up with a bunch of use...</td>\n",
       "      <td>AITA for being specific about what I want for ...</td>\n",
       "      <td>1669294479</td>\n",
       "    </tr>\n",
       "    <tr>\n",
       "      <th>94</th>\n",
       "      <td>silversteeledviking</td>\n",
       "      <td>AmItheAsshole</td>\n",
       "      <td>At my previous job (from 3 years ago) I worked...</td>\n",
       "      <td>AITA for leaving a mess of diarrhea for a cowo...</td>\n",
       "      <td>1669294421</td>\n",
       "    </tr>\n",
       "    <tr>\n",
       "      <th>96</th>\n",
       "      <td>Throw32432577</td>\n",
       "      <td>AmItheAsshole</td>\n",
       "      <td>\\nMy fiance m24, and I f25 are in the process ...</td>\n",
       "      <td>AITA for saying that my sister is trying to co...</td>\n",
       "      <td>1669294362</td>\n",
       "    </tr>\n",
       "    <tr>\n",
       "      <th>97</th>\n",
       "      <td>krisforsigns</td>\n",
       "      <td>AmItheAsshole</td>\n",
       "      <td>I (21f) am in third year of university. Recent...</td>\n",
       "      <td>AITA for not wanting to work on a project anym...</td>\n",
       "      <td>1669294239</td>\n",
       "    </tr>\n",
       "  </tbody>\n",
       "</table>\n",
       "<p>6409 rows × 5 columns</p>\n",
       "</div>"
      ],
      "text/plain": [
       "                 author      subreddit  \\\n",
       "1          Cain_Everest  AmItheAsshole   \n",
       "2          TheVillagerC  AmItheAsshole   \n",
       "3     Eat_yourHeart_0ut  AmItheAsshole   \n",
       "5          flxwsxndsxns  AmItheAsshole   \n",
       "7                kixx20  AmItheAsshole   \n",
       "..                  ...            ...   \n",
       "91         ameliajohnso  AmItheAsshole   \n",
       "93    DerangedUnicorn27  AmItheAsshole   \n",
       "94  silversteeledviking  AmItheAsshole   \n",
       "96        Throw32432577  AmItheAsshole   \n",
       "97         krisforsigns  AmItheAsshole   \n",
       "\n",
       "                                             selftext  \\\n",
       "1   Let me preface this: I am one of those guys wh...   \n",
       "2   Recently, I (21F) met up with my (55M) father....   \n",
       "3   I know I probably am an asshole, but I want to...   \n",
       "5   My mum fell out with her whole family 15 years...   \n",
       "7   I’ll make it kinda quick but here it is. \\n\\nS...   \n",
       "..                                                ...   \n",
       "91  So a lady came over to me and looking at my ba...   \n",
       "93  Every year I always end up with a bunch of use...   \n",
       "94  At my previous job (from 3 years ago) I worked...   \n",
       "96  \\nMy fiance m24, and I f25 are in the process ...   \n",
       "97  I (21f) am in third year of university. Recent...   \n",
       "\n",
       "                                                title  created_utc  \n",
       "1   AITA for letting my former bff rot in prison f...   1669246532  \n",
       "2   AITA for never choosing to get closer to my fa...   1669246470  \n",
       "3   WIBTA for listening to my mom's phone conversa...   1669246461  \n",
       "5   AITA for not wanting to attend my aunt's wedding?   1669246271  \n",
       "7          AITA for not going to thanksgiving dinner?   1669246254  \n",
       "..                                                ...          ...  \n",
       "91  AITA for embarrassing a lady at the grocery st...   1669294774  \n",
       "93  AITA for being specific about what I want for ...   1669294479  \n",
       "94  AITA for leaving a mess of diarrhea for a cowo...   1669294421  \n",
       "96  AITA for saying that my sister is trying to co...   1669294362  \n",
       "97  AITA for not wanting to work on a project anym...   1669294239  \n",
       "\n",
       "[6409 rows x 5 columns]"
      ]
     },
     "execution_count": 21,
     "metadata": {},
     "output_type": "execute_result"
    }
   ],
   "source": [
    "df_AITA"
   ]
  },
  {
   "cell_type": "code",
   "execution_count": 22,
   "id": "10a0e7f4-bc26-4c9b-99a5-0de3e33f55aa",
   "metadata": {},
   "outputs": [
    {
     "data": {
      "text/plain": [
       "author         0\n",
       "subreddit      0\n",
       "selftext       1\n",
       "title          0\n",
       "created_utc    0\n",
       "dtype: int64"
      ]
     },
     "execution_count": 22,
     "metadata": {},
     "output_type": "execute_result"
    }
   ],
   "source": [
    "df_AITA.isna().sum()"
   ]
  },
  {
   "cell_type": "code",
   "execution_count": 23,
   "id": "33909804-5a29-4676-8334-a57b4cbc7f13",
   "metadata": {},
   "outputs": [],
   "source": [
    "df_AITA.dropna(inplace=True)"
   ]
  },
  {
   "cell_type": "code",
   "execution_count": 24,
   "id": "09a87a05-9232-48eb-bcbd-2fb0c6460402",
   "metadata": {},
   "outputs": [
    {
     "data": {
      "text/plain": [
       "6408"
      ]
     },
     "execution_count": 24,
     "metadata": {},
     "output_type": "execute_result"
    }
   ],
   "source": [
    "len(df_AITA) #AITA will have 6408 post to utilize"
   ]
  },
  {
   "cell_type": "markdown",
   "id": "f00d9070-0b99-4dde-87a3-fe60fe4c7932",
   "metadata": {},
   "source": [
    "# Cleaned data output"
   ]
  },
  {
   "cell_type": "code",
   "execution_count": 26,
   "id": "1a5fea00-6c1e-43eb-90c3-34ccbc9ae432",
   "metadata": {},
   "outputs": [],
   "source": [
    "#df_AITA.to_csv('AITA')"
   ]
  },
  {
   "cell_type": "code",
   "execution_count": null,
   "id": "36363095-fb25-4a9e-adb1-8369733e7d36",
   "metadata": {},
   "outputs": [],
   "source": []
  }
 ],
 "metadata": {
  "kernelspec": {
   "display_name": "Python 3 (ipykernel)",
   "language": "python",
   "name": "python3"
  },
  "language_info": {
   "codemirror_mode": {
    "name": "ipython",
    "version": 3
   },
   "file_extension": ".py",
   "mimetype": "text/x-python",
   "name": "python",
   "nbconvert_exporter": "python",
   "pygments_lexer": "ipython3",
   "version": "3.9.12"
  }
 },
 "nbformat": 4,
 "nbformat_minor": 5
}
