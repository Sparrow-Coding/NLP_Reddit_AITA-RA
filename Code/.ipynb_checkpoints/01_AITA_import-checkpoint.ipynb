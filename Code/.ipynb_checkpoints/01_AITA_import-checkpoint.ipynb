{
 "cells": [
  {
   "cell_type": "markdown",
   "id": "ac460a36-be72-4d81-ae15-8a6d1887c696",
   "metadata": {},
   "source": [
    "Table of contents : AmITheAsshole\n",
    "- imports\n",
    "- funtion to scrape post\n",
    "- 100 calls of function/10,000 post scraped \n",
    "\n"
   ]
  },
  {
   "cell_type": "markdown",
   "id": "587e300e-7ab7-4f2e-8f31-6acd42077d46",
   "metadata": {},
   "source": [
    "Imports"
   ]
  },
  {
   "cell_type": "code",
   "execution_count": 4,
   "id": "5f39abb2-dd4b-4f24-98df-53dfc67f5387",
   "metadata": {},
   "outputs": [],
   "source": [
    "# web\n",
    "import requests\n",
    "import json\n",
    "\n",
    "\n",
    "# others\n",
    "import time\n",
    "import datetime \n",
    "import pandas as pd"
   ]
  },
  {
   "cell_type": "markdown",
   "id": "e213eac4-a29c-4eeb-b04a-c46b936c4e8a",
   "metadata": {},
   "source": [
    "Function"
   ]
  },
  {
   "cell_type": "code",
   "execution_count": 5,
   "id": "ad815371-7c11-4185-9e4f-2945c233e48f",
   "metadata": {},
   "outputs": [],
   "source": [
    "#Function to scrape 100 post and save as a csv file to use later\n",
    "def pushapi(file_name,date):\n",
    "    url = 'https://api.pushshift.io/reddit/search/submission?'\n",
    "    params = {\n",
    "    'subreddit': 'AmItheAsshole',\n",
    "    'size': 100,\n",
    "    'before':date}\n",
    "    res = requests.get(url, params)\n",
    "    data = res.json()\n",
    "    posts = data['data']\n",
    "    len(posts)\n",
    "    df =[]\n",
    "    df = pd.DataFrame(posts)\n",
    "    df.append(posts)\n",
    "    print(len(df))\n",
    "    print(posts[-1]['created_utc']) # With the help of Ben, I have discovered that UTC could've been stored as a variable ad=nd automated\n",
    "    #df.to_csv(file_name, index=False, sep=\",\")\n",
    "   \n",
    "    \n",
    "    \n"
   ]
  },
  {
   "cell_type": "markdown",
   "id": "6e9620a0-a3e2-4bca-adf6-79a5ff17502d",
   "metadata": {},
   "source": [
    "I had some troule with pushshift.py so this function will suffice as a way to store files,\n",
    "goal is to scrape 10,000 posts with the assumption that half of those will be junk"
   ]
  },
  {
   "cell_type": "code",
   "execution_count": 6,
   "id": "a6fe54be-73f6-4ba2-bd8a-f55bdcf2677b",
   "metadata": {},
   "outputs": [
    {
     "name": "stdout",
     "output_type": "stream",
     "text": [
      "100\n",
      "1669240799\n"
     ]
    },
    {
     "name": "stderr",
     "output_type": "stream",
     "text": [
      "C:\\Users\\Sparrow\\AppData\\Local\\Temp\\ipykernel_5424\\3506137734.py:14: FutureWarning: The frame.append method is deprecated and will be removed from pandas in a future version. Use pandas.concat instead.\n",
      "  df.append(posts)\n"
     ]
    }
   ],
   "source": [
    "pushapi('AITA1',1669246590)"
   ]
  },
  {
   "cell_type": "code",
   "execution_count": 7,
   "id": "0e8ebd4f-1db8-4151-8e9c-9dc5fb11b15d",
   "metadata": {},
   "outputs": [
    {
     "name": "stdout",
     "output_type": "stream",
     "text": [
      "100\n",
      "1669246586\n"
     ]
    },
    {
     "name": "stderr",
     "output_type": "stream",
     "text": [
      "C:\\Users\\Sparrow\\AppData\\Local\\Temp\\ipykernel_5424\\3506137734.py:14: FutureWarning: The frame.append method is deprecated and will be removed from pandas in a future version. Use pandas.concat instead.\n",
      "  df.append(posts)\n"
     ]
    }
   ],
   "source": [
    "pushapi('AITA2',1669252929)"
   ]
  },
  {
   "cell_type": "code",
   "execution_count": 101,
   "id": "94e7e184-ff6f-4e62-82a4-8bc91aff08ee",
   "metadata": {},
   "outputs": [
    {
     "name": "stdout",
     "output_type": "stream",
     "text": [
      "100\n",
      "{'all_awardings': [], 'allow_live_comments': False, 'author': 'Local_Split_5093', 'author_flair_css_class': None, 'author_flair_richtext': [], 'author_flair_text': None, 'author_flair_type': 'text', 'author_fullname': 't2_f4oq3bf1', 'author_is_blocked': False, 'author_patreon_flair': False, 'author_premium': False, 'awarders': [], 'can_mod_post': False, 'contest_mode': True, 'created_utc': 1669240788, 'domain': 'self.AmItheAsshole', 'full_link': 'https://www.reddit.com/r/AmItheAsshole/comments/z31vk1/aita_for_not_seeing_my_son_since_he_was_a_baby/', 'gildings': {}, 'id': 'z31vk1', 'is_created_from_ads_ui': False, 'is_crosspostable': True, 'is_meta': False, 'is_original_content': False, 'is_reddit_media_domain': False, 'is_robot_indexable': True, 'is_self': True, 'is_video': False, 'link_flair_background_color': '', 'link_flair_richtext': [], 'link_flair_text_color': 'dark', 'link_flair_type': 'text', 'locked': False, 'media_only': False, 'no_follow': True, 'num_comments': 1, 'num_crossposts': 0, 'over_18': False, 'parent_whitelist_status': 'all_ads', 'permalink': '/r/AmItheAsshole/comments/z31vk1/aita_for_not_seeing_my_son_since_he_was_a_baby/', 'pinned': False, 'pwls': 6, 'retrieved_on': 1669240799, 'score': 1, 'selftext': 'I had a casual relationship with a girl - we hooked up probably 10 or so times and I had known her for a few years. \\n\\nShe got pregnant in Feb 2017 - I didn’t want to keep it and tried to convince her to have an abortion - she wasn’t 100% for having it but I think she felt morally obliged to not have an abortion. \\n\\nMy son was born in November 2017 - I made an effort to try and see him but just found it too intense and abandoned them both when he was around 10 months old. I then blocked the mother on all forms of communication - she could only contact me through my parents. \\n\\nAnyways fast forward to summer 2022 - she decides to make a claim for maintenance (I had been paying it but a lesser amount then I should have been) - so I got back in contact with her to try and sort the maintenance amicably - understandably she was a little angry about having to go through my parents for the last 4 years and she came up with some demands, including being able to speak to me directly about our son. \\n\\nAll was okay for a few months and we were planning for me to see my son in the new year - but she wants me to see him every other weekend which, is a bit too much of a commitment for me - I have a new girlfriend and we don’t live that close.\\n\\nMy ex is also very intense - our son was taken to hospital and she called me 40 times in a row which really freaked me out. There always seems to be a drama with her - like it was our son’s birthday on the weekend - I sent a card but not present and she wasn’t happy so I’ve blocked her again.\\n Thoughts?', 'send_replies': True, 'spoiler': False, 'stickied': False, 'subreddit': 'AmItheAsshole', 'subreddit_id': 't5_2xhvq', 'subreddit_subscribers': 4819175, 'subreddit_type': 'public', 'suggested_sort': 'top', 'thumbnail': 'self', 'title': 'AITA for not seeing my son since he was a baby?', 'total_awards_received': 0, 'treatment_tags': [], 'upvote_ratio': 1.0, 'url': 'https://www.reddit.com/r/AmItheAsshole/comments/z31vk1/aita_for_not_seeing_my_son_since_he_was_a_baby/', 'whitelist_status': 'all_ads', 'wls': 6}\n"
     ]
    },
    {
     "name": "stderr",
     "output_type": "stream",
     "text": [
      "C:\\Users\\Sparrow\\AppData\\Local\\Temp\\ipykernel_22000\\1226572919.py:13: FutureWarning: The frame.append method is deprecated and will be removed from pandas in a future version. Use pandas.concat instead.\n",
      "  df.append(posts)\n"
     ]
    }
   ],
   "source": [
    "pushapi('AITA3',1669246586)"
   ]
  },
  {
   "cell_type": "code",
   "execution_count": 102,
   "id": "c0420641-d50d-487b-8f4a-55811f57a243",
   "metadata": {},
   "outputs": [
    {
     "name": "stdout",
     "output_type": "stream",
     "text": [
      "100\n",
      "{'all_awardings': [], 'allow_live_comments': False, 'author': 'Able_Extension5334', 'author_flair_css_class': None, 'author_flair_richtext': [], 'author_flair_text': None, 'author_flair_type': 'text', 'author_fullname': 't2_uif9i1k1', 'author_is_blocked': False, 'author_patreon_flair': False, 'author_premium': False, 'awarders': [], 'can_mod_post': False, 'contest_mode': True, 'created_utc': 1669236406, 'domain': 'self.AmItheAsshole', 'full_link': 'https://www.reddit.com/r/AmItheAsshole/comments/z302n0/aita_for_how_i_interacted_with_this_plumbing/', 'gildings': {}, 'id': 'z302n0', 'is_created_from_ads_ui': False, 'is_crosspostable': True, 'is_meta': False, 'is_original_content': False, 'is_reddit_media_domain': False, 'is_robot_indexable': True, 'is_self': True, 'is_video': False, 'link_flair_background_color': '', 'link_flair_richtext': [], 'link_flair_text_color': 'dark', 'link_flair_type': 'text', 'locked': False, 'media_only': False, 'no_follow': True, 'num_comments': 1, 'num_crossposts': 0, 'over_18': False, 'parent_whitelist_status': 'all_ads', 'permalink': '/r/AmItheAsshole/comments/z302n0/aita_for_how_i_interacted_with_this_plumbing/', 'pinned': False, 'pwls': 6, 'retrieved_on': 1669236417, 'score': 1, 'selftext': 'Our sink is having issues and I called a plumber to help us out. A lady named \"Bethany\" answered. \\n\\nI described the problem, saying the kitchen sink wasn\\'t draining well, and she asked if I had tried a plunger or reset the disposal. I said no to both and laughed and said I wasn\\'t very handy. \\n\\nBethany didn\\'t seem to find it very funny and just said to look for a red or black button to reset the disposal. I asked when her company would be available and she said Friday.\\n\\nI asked her for a quote, and she said $200+ to start. I thanked her and said that I\\'d call her back if it got to that point.\\n\\nI called her again 15 minutes later and got no reply. I later got a text saying they were closed for the night (it was 9:30 PM) and to text them the issue.\\n\\nI texted them about it and they never got back to me. Did I do something wrong? Their yelp page says they were open 24 hours a day.', 'send_replies': True, 'spoiler': False, 'stickied': False, 'subreddit': 'AmItheAsshole', 'subreddit_id': 't5_2xhvq', 'subreddit_subscribers': 4818994, 'subreddit_type': 'public', 'suggested_sort': 'top', 'thumbnail': 'self', 'title': 'AITA for how I interacted with this plumbing company?', 'total_awards_received': 0, 'treatment_tags': [], 'upvote_ratio': 1.0, 'url': 'https://www.reddit.com/r/AmItheAsshole/comments/z302n0/aita_for_how_i_interacted_with_this_plumbing/', 'whitelist_status': 'all_ads', 'wls': 6}\n"
     ]
    },
    {
     "name": "stderr",
     "output_type": "stream",
     "text": [
      "C:\\Users\\Sparrow\\AppData\\Local\\Temp\\ipykernel_22000\\1226572919.py:13: FutureWarning: The frame.append method is deprecated and will be removed from pandas in a future version. Use pandas.concat instead.\n",
      "  df.append(posts)\n"
     ]
    }
   ],
   "source": [
    "pushapi('AITA4',1669240788)"
   ]
  },
  {
   "cell_type": "code",
   "execution_count": 103,
   "id": "d5979e09-e175-46f8-bece-d4c48c0928b1",
   "metadata": {},
   "outputs": [
    {
     "name": "stdout",
     "output_type": "stream",
     "text": [
      "100\n",
      "{'all_awardings': [], 'allow_live_comments': False, 'author': 'Opposite_Bad_2532', 'author_flair_css_class': None, 'author_flair_richtext': [], 'author_flair_text': None, 'author_flair_type': 'text', 'author_fullname': 't2_7aviev20', 'author_is_blocked': False, 'author_patreon_flair': False, 'author_premium': False, 'awarders': [], 'can_mod_post': False, 'contest_mode': True, 'created_utc': 1669231211, 'domain': 'self.AmItheAsshole', 'full_link': 'https://www.reddit.com/r/AmItheAsshole/comments/z2xwta/aita_for_uninviting_my_best_friend_to_my_wedding/', 'gildings': {}, 'id': 'z2xwta', 'is_created_from_ads_ui': False, 'is_crosspostable': True, 'is_meta': False, 'is_original_content': False, 'is_reddit_media_domain': False, 'is_robot_indexable': True, 'is_self': True, 'is_video': False, 'link_flair_background_color': '', 'link_flair_richtext': [], 'link_flair_text_color': 'dark', 'link_flair_type': 'text', 'locked': False, 'media_only': False, 'no_follow': False, 'num_comments': 1, 'num_crossposts': 0, 'over_18': False, 'parent_whitelist_status': 'all_ads', 'permalink': '/r/AmItheAsshole/comments/z2xwta/aita_for_uninviting_my_best_friend_to_my_wedding/', 'pinned': False, 'pwls': 6, 'retrieved_on': 1669231222, 'score': 2, 'selftext': 'I (25F) got engaged four months ago. My best friend Sara (25F) has a girlfriend Kayla (30F). When I told them I got engaged she told me her girlfriend started sending her rings that night that they needed to be engaged too. I told my best friend I might elope to have a baby ASAP. The next day she called me telling me she needed to pick a ring out for her girlfriend &amp; that her girlfriend pressured her to get a ring with the little money she had. She proposed and I congratulated. I told her I decided not to elope. She called and told me her girlfriend wanted to know which day I was going to get married on. Well a couple days later Sara’s mom let it slip that they will be getting married a week before me but when I asked my best friend Sara she pretended not to know and she was being secretive about her wedding planning. Kayla her girlfriend is also making it seem like it’s a competition. AITA if I uninvited them? That way they play whatever game they’re playing with themselves because they’re not going to know what they’re comparing to. \\nAlso Kayla doesn’t even like my fiancé and I don’t want the negative energy during my wedding which is all she brings.', 'send_replies': True, 'spoiler': False, 'stickied': False, 'subreddit': 'AmItheAsshole', 'subreddit_id': 't5_2xhvq', 'subreddit_subscribers': 4818770, 'subreddit_type': 'public', 'suggested_sort': 'top', 'thumbnail': 'self', 'title': 'AITA for uninviting my best friend to my wedding?', 'total_awards_received': 0, 'treatment_tags': [], 'upvote_ratio': 1.0, 'url': 'https://www.reddit.com/r/AmItheAsshole/comments/z2xwta/aita_for_uninviting_my_best_friend_to_my_wedding/', 'whitelist_status': 'all_ads', 'wls': 6}\n"
     ]
    },
    {
     "name": "stderr",
     "output_type": "stream",
     "text": [
      "C:\\Users\\Sparrow\\AppData\\Local\\Temp\\ipykernel_22000\\1226572919.py:13: FutureWarning: The frame.append method is deprecated and will be removed from pandas in a future version. Use pandas.concat instead.\n",
      "  df.append(posts)\n"
     ]
    }
   ],
   "source": [
    "pushapi('AITA5',1669236406)"
   ]
  },
  {
   "cell_type": "code",
   "execution_count": 104,
   "id": "472e1e2b-32cd-4052-bf7e-a80140db13ff",
   "metadata": {},
   "outputs": [
    {
     "name": "stdout",
     "output_type": "stream",
     "text": [
      "100\n",
      "{'all_awardings': [], 'allow_live_comments': False, 'author': 'That_lonely_cutie', 'author_flair_css_class': None, 'author_flair_richtext': [], 'author_flair_text': None, 'author_flair_type': 'text', 'author_fullname': 't2_bfaghuem', 'author_is_blocked': False, 'author_patreon_flair': False, 'author_premium': False, 'awarders': [], 'can_mod_post': False, 'contest_mode': True, 'created_utc': 1669224900, 'domain': 'self.AmItheAsshole', 'full_link': 'https://www.reddit.com/r/AmItheAsshole/comments/z2v8e2/aita_for_not_wanting_to_unblock_my_mother_before/', 'gildings': {}, 'id': 'z2v8e2', 'is_created_from_ads_ui': False, 'is_crosspostable': True, 'is_meta': False, 'is_original_content': False, 'is_reddit_media_domain': False, 'is_robot_indexable': True, 'is_self': True, 'is_video': False, 'link_flair_background_color': '', 'link_flair_richtext': [], 'link_flair_text_color': 'dark', 'link_flair_type': 'text', 'locked': False, 'media_only': False, 'no_follow': False, 'num_comments': 1, 'num_crossposts': 0, 'over_18': False, 'parent_whitelist_status': 'all_ads', 'permalink': '/r/AmItheAsshole/comments/z2v8e2/aita_for_not_wanting_to_unblock_my_mother_before/', 'pinned': False, 'pwls': 6, 'retrieved_on': 1669224910, 'score': 1, 'selftext': '\\n\\nI 20f live with my parents because I can’t find a place on my own. My family is very emotionally unstable and I feel like walking on eggshells to not set them off.\\n\\nA few days ago my grandmother was helping me go through clothes. My boyfriend called so I talked to him while we did it and my mom demanded I get off the phone even though my grandmother didn’t mind.\\n\\nI felt that I should have the right to talk to my boyfriend because I pay the phone bill, and he wasn’t being very distracting.\\n\\nShe also went ballistic because my grandmother was helping me so she was “babying” me even though she helps her other children out (I’m the oldest grandchild)\\n\\nShe also complained that my grandmother never helps her even though she declines every offer my grandmother makes. \\n\\nThis turned into a huge fight and my mom called me bad names like a little bitch and an ungrateful little girl. \\n\\nShe demanded I leave her house so I’m now at my grandparents house. \\n\\nI now have her blocked because I do not want her contacting me. I don’t care if she wants to apologize because this has happened many many times before and she won’t change.\\n\\nMy grandmother is trying to guilt me into unblocking her because she’s sick of seeing us fight but I just don’t want someone like this contacting me.\\n\\nSo AITA?', 'send_replies': True, 'spoiler': False, 'stickied': False, 'subreddit': 'AmItheAsshole', 'subreddit_id': 't5_2xhvq', 'subreddit_subscribers': 4818534, 'subreddit_type': 'public', 'suggested_sort': 'top', 'thumbnail': 'self', 'title': 'AITA for not wanting to unblock my mother before Thanksgiving?', 'total_awards_received': 0, 'treatment_tags': [], 'upvote_ratio': 1.0, 'url': 'https://www.reddit.com/r/AmItheAsshole/comments/z2v8e2/aita_for_not_wanting_to_unblock_my_mother_before/', 'whitelist_status': 'all_ads', 'wls': 6}\n"
     ]
    },
    {
     "name": "stderr",
     "output_type": "stream",
     "text": [
      "C:\\Users\\Sparrow\\AppData\\Local\\Temp\\ipykernel_22000\\1226572919.py:13: FutureWarning: The frame.append method is deprecated and will be removed from pandas in a future version. Use pandas.concat instead.\n",
      "  df.append(posts)\n"
     ]
    }
   ],
   "source": [
    "pushapi('AITA6',1669231211)"
   ]
  },
  {
   "cell_type": "code",
   "execution_count": 105,
   "id": "a3de2b08-a905-4959-9494-75c051513b8e",
   "metadata": {},
   "outputs": [
    {
     "name": "stdout",
     "output_type": "stream",
     "text": [
      "100\n",
      "{'all_awardings': [], 'allow_live_comments': False, 'author': 'Lute_Extrodinaire', 'author_flair_css_class': None, 'author_flair_richtext': [], 'author_flair_text': None, 'author_flair_type': 'text', 'author_fullname': 't2_aesjl0n9', 'author_is_blocked': False, 'author_patreon_flair': False, 'author_premium': False, 'awarders': [], 'can_mod_post': False, 'contest_mode': True, 'created_utc': 1669217747, 'domain': 'self.AmItheAsshole', 'full_link': 'https://www.reddit.com/r/AmItheAsshole/comments/z2s6ya/aita_for_kinda_losing_my_cool_on_a_truck_driver/', 'gildings': {}, 'id': 'z2s6ya', 'is_created_from_ads_ui': False, 'is_crosspostable': True, 'is_meta': False, 'is_original_content': False, 'is_reddit_media_domain': False, 'is_robot_indexable': True, 'is_self': True, 'is_video': False, 'link_flair_background_color': '', 'link_flair_richtext': [], 'link_flair_text_color': 'dark', 'link_flair_type': 'text', 'locked': False, 'media_only': False, 'no_follow': False, 'num_comments': 1, 'num_crossposts': 0, 'over_18': False, 'parent_whitelist_status': 'all_ads', 'permalink': '/r/AmItheAsshole/comments/z2s6ya/aita_for_kinda_losing_my_cool_on_a_truck_driver/', 'pinned': False, 'pwls': 6, 'retrieved_on': 1669217757, 'score': 1, 'selftext': 'A little context before the story, I work as a security guard at a grocery distribution center and we deal with truck drivers and lost prevention calls. \\n\\nSo this story takes place on a Saturday morning, me and my coworker, let’s call him Greg, were signing drivers in and out like we normally do. We had a driver come in and park in the drive way, I told Greg that I’ll take care of him and turn him around. I head outside and over to the driver side of the truck and ask the driver, let’s call him Tom, how he was doing today, Tom replied with I’m doing good, I just want to head in for my 0930 appointment time. I explained to him that the company rules state that over the road drivers have to park on the street before they could get signed in, as I was explaining that to him one of the company trucks, a FFA truck( fake company name for privacy) pulls up behind Tom. Tom decided to back up, I told him that he couldn’t do that since there was another truck behind him, but Tom continued to back up, almost hitting the truck just to park blocking the intersection, causing a traffic jam for the company. Tom got out and headed towards our security shack, I asked him again to please move and park on the side of the street correctly he told me that he was not f***** moving for you, you dumb n***er. At that point I was pissed and here’s where I think I was an AH. I grabbed him by his shirt and said if you ever call me that again me and you are going to have a problem, now move your f****** truck and park correctly and take a moment to cool yourself off. So Tom got back into hi truck and parked it correctly, I called receiving and asked them what they would like me to do about this driver that wouldn’t listen and called me a slur. They told me to not take him in at all. After that day I kinda feel like I was an AH but I don’t know if I am or not. So AITA?', 'send_replies': True, 'spoiler': False, 'stickied': False, 'subreddit': 'AmItheAsshole', 'subreddit_id': 't5_2xhvq', 'subreddit_subscribers': 4818288, 'subreddit_type': 'public', 'suggested_sort': 'top', 'thumbnail': 'self', 'title': 'AITA for kinda losing my cool on a truck driver?', 'total_awards_received': 0, 'treatment_tags': [], 'upvote_ratio': 1.0, 'url': 'https://www.reddit.com/r/AmItheAsshole/comments/z2s6ya/aita_for_kinda_losing_my_cool_on_a_truck_driver/', 'whitelist_status': 'all_ads', 'wls': 6}\n"
     ]
    },
    {
     "name": "stderr",
     "output_type": "stream",
     "text": [
      "C:\\Users\\Sparrow\\AppData\\Local\\Temp\\ipykernel_22000\\1226572919.py:13: FutureWarning: The frame.append method is deprecated and will be removed from pandas in a future version. Use pandas.concat instead.\n",
      "  df.append(posts)\n"
     ]
    }
   ],
   "source": [
    "pushapi('AITA7',1669224900)"
   ]
  },
  {
   "cell_type": "code",
   "execution_count": 106,
   "id": "479f61c3-7d82-499a-a3f7-a8b943ff4fbc",
   "metadata": {},
   "outputs": [
    {
     "name": "stdout",
     "output_type": "stream",
     "text": [
      "100\n",
      "{'all_awardings': [], 'allow_live_comments': False, 'author': 'sadmothereffer', 'author_flair_css_class': None, 'author_flair_richtext': [], 'author_flair_text': None, 'author_flair_type': 'text', 'author_fullname': 't2_ui3tg03b', 'author_is_blocked': False, 'author_patreon_flair': False, 'author_premium': False, 'awarders': [], 'can_mod_post': False, 'contest_mode': True, 'created_utc': 1669209038, 'domain': 'self.AmItheAsshole', 'full_link': 'https://www.reddit.com/r/AmItheAsshole/comments/z2or1c/aita_for_my_reaction_to_my_anniversary_gift/', 'gildings': {}, 'id': 'z2or1c', 'is_created_from_ads_ui': False, 'is_crosspostable': True, 'is_meta': False, 'is_original_content': False, 'is_reddit_media_domain': False, 'is_robot_indexable': True, 'is_self': True, 'is_video': False, 'link_flair_background_color': '', 'link_flair_richtext': [], 'link_flair_text_color': 'dark', 'link_flair_type': 'text', 'locked': False, 'media_only': False, 'no_follow': True, 'num_comments': 1, 'num_crossposts': 0, 'over_18': False, 'parent_whitelist_status': 'all_ads', 'permalink': '/r/AmItheAsshole/comments/z2or1c/aita_for_my_reaction_to_my_anniversary_gift/', 'pinned': False, 'pwls': 6, 'retrieved_on': 1669209048, 'score': 1, 'selftext': 'AITA for my (28f) reaction to my partners (36m) anniversary gift? We have been together for 8 years now, we have 3 young children together ages 6,4 and 3. I am a stay at home mom and he works a labor intensive job outside. The 21st was technically our anniversary, but it has been a couple years since we’ve celebrated. We don’t go on dates, I can’t tell you the last time we’ve even spent time together as a family with our kids. Most days I feel like I parent alone, because he comes home from work and goes to smoke, and does whatever outside things need done. He doesn’t eat dinner with us citing he’s not hungry yet. We don’t spend time together on the weekends, that time is used for what he needs done. just trying to paint the picture here. \\nSo I mention our anniversary the night of the 21st. He said “oh That’s why I’ve wanted to buy you jewelry” I said “I don’t want jewelry. I was just telling you we’ve been together 8 years now.” He comes home the next night with a jewelry box. Price tag says $900 on it. That was all I could focus on, why are you spending that much on me as an afterthought? I don’t typically wear jewelry these days, but I do like it. Open the box up and it’s a gold necklace, which I don’t wear gold, I prefer silver or white gold. So needless to say, I wasn’t happy. The first thing I said was “You did not spend $900 on this” and he just laughed. I repeated it again and he got agitated. I asked for the receipt and he refused to let me see. After some back and forth over it he stormed out the house to go smoke in the garage.\\nI checked the bank account and saw a ~$300 purchase. I went to the garage to try to get him to understand my perceptive. That it felt like an afterthought gift, that I don’t need to be bought things, I need a present partner and coparent. He thinks I’m ungrateful and he can’t do anything right. So AITA?', 'send_replies': True, 'spoiler': False, 'stickied': False, 'subreddit': 'AmItheAsshole', 'subreddit_id': 't5_2xhvq', 'subreddit_subscribers': 4818007, 'subreddit_type': 'public', 'suggested_sort': 'top', 'thumbnail': 'self', 'title': 'AITA for my reaction to my anniversary gift', 'total_awards_received': 0, 'treatment_tags': [], 'upvote_ratio': 1.0, 'url': 'https://www.reddit.com/r/AmItheAsshole/comments/z2or1c/aita_for_my_reaction_to_my_anniversary_gift/', 'whitelist_status': 'all_ads', 'wls': 6}\n"
     ]
    },
    {
     "name": "stderr",
     "output_type": "stream",
     "text": [
      "C:\\Users\\Sparrow\\AppData\\Local\\Temp\\ipykernel_22000\\1226572919.py:13: FutureWarning: The frame.append method is deprecated and will be removed from pandas in a future version. Use pandas.concat instead.\n",
      "  df.append(posts)\n"
     ]
    }
   ],
   "source": [
    "pushapi('AITA8',1669217747)"
   ]
  },
  {
   "cell_type": "code",
   "execution_count": 107,
   "id": "80d27e91-6858-4771-8397-f6c873be28bd",
   "metadata": {},
   "outputs": [
    {
     "name": "stdout",
     "output_type": "stream",
     "text": [
      "100\n",
      "{'all_awardings': [], 'allow_live_comments': False, 'author': 'sleepyhollow9', 'author_flair_css_class': None, 'author_flair_richtext': [], 'author_flair_text': None, 'author_flair_type': 'text', 'author_fullname': 't2_ui0r9bxn', 'author_is_blocked': False, 'author_patreon_flair': False, 'author_premium': False, 'awarders': [], 'can_mod_post': False, 'contest_mode': True, 'created_utc': 1669195599, 'domain': 'self.AmItheAsshole', 'full_link': 'https://www.reddit.com/r/AmItheAsshole/comments/z2kmam/aita_for_not_wanting_my_family_at_my_wedding/', 'gildings': {}, 'id': 'z2kmam', 'is_created_from_ads_ui': False, 'is_crosspostable': True, 'is_meta': False, 'is_original_content': False, 'is_reddit_media_domain': False, 'is_robot_indexable': True, 'is_self': True, 'is_video': False, 'link_flair_background_color': '', 'link_flair_richtext': [], 'link_flair_text_color': 'dark', 'link_flair_type': 'text', 'locked': False, 'media_only': False, 'no_follow': True, 'num_comments': 1, 'num_crossposts': 0, 'over_18': False, 'parent_whitelist_status': 'all_ads', 'permalink': '/r/AmItheAsshole/comments/z2kmam/aita_for_not_wanting_my_family_at_my_wedding/', 'pinned': False, 'pwls': 6, 'retrieved_on': 1669195610, 'score': 1, 'selftext': 'My fiance (23f) and I (22f) are due to get married in just about 7 months. We\\'re really excited and have been planning this since we first started dating back in our sophomore year of high school. As we were going through who we wanted to invite the subject of my family came up and I just winced at the thought. A little background on my family, they aren\\'t very supportive of me or my so-called \"choices\" They even kicked me out of the house when they found out I was with my fiance. I was lucky enough to stay with her and her parents until cps was called but of course, nothing was done. So for the next 3 years, my parents made my life miserable. It wasn\\'t until recently that they started to reach out again but the damage has already been done. So you could imagine my reaction when she said their names. Immediately I said no they won\\'t be coming. But my fiance said that they are still my family and deserve to be a part of our special day. I argued back saying they were just going to ruin it and cause a scene but she said I was being childish for not wanting them there. I ended up leaving the table before we could fight anymore. I just don\\'t want to see them after all the pain they caused me through the years but my fiance says I\\'m in the wrong if I don\\'t, so AITA?', 'send_replies': True, 'spoiler': False, 'stickied': False, 'subreddit': 'AmItheAsshole', 'subreddit_id': 't5_2xhvq', 'subreddit_subscribers': 4817740, 'subreddit_type': 'public', 'suggested_sort': 'top', 'thumbnail': 'self', 'title': 'AITA for not wanting my family at my wedding?', 'total_awards_received': 0, 'treatment_tags': [], 'upvote_ratio': 1.0, 'url': 'https://www.reddit.com/r/AmItheAsshole/comments/z2kmam/aita_for_not_wanting_my_family_at_my_wedding/', 'whitelist_status': 'all_ads', 'wls': 6}\n"
     ]
    },
    {
     "name": "stderr",
     "output_type": "stream",
     "text": [
      "C:\\Users\\Sparrow\\AppData\\Local\\Temp\\ipykernel_22000\\1226572919.py:13: FutureWarning: The frame.append method is deprecated and will be removed from pandas in a future version. Use pandas.concat instead.\n",
      "  df.append(posts)\n"
     ]
    }
   ],
   "source": [
    "pushapi('AITA9',1669209038)"
   ]
  },
  {
   "cell_type": "code",
   "execution_count": 108,
   "id": "71f97420-32bc-4c71-9051-a3c8f6b81006",
   "metadata": {},
   "outputs": [
    {
     "name": "stdout",
     "output_type": "stream",
     "text": [
      "100\n",
      "{'all_awardings': [], 'allow_live_comments': False, 'author': 'Educational-Leg-1825', 'author_flair_css_class': None, 'author_flair_richtext': [], 'author_flair_text': None, 'author_flair_type': 'text', 'author_fullname': 't2_uhsvbdyu', 'author_is_blocked': False, 'author_patreon_flair': False, 'author_premium': False, 'awarders': [], 'can_mod_post': False, 'contest_mode': True, 'created_utc': 1669185869, 'domain': 'self.AmItheAsshole', 'full_link': 'https://www.reddit.com/r/AmItheAsshole/comments/z2hvi5/aita_for_not_making_a_big_enough_deal_that_my/', 'gildings': {}, 'id': 'z2hvi5', 'is_created_from_ads_ui': False, 'is_crosspostable': True, 'is_meta': False, 'is_original_content': False, 'is_reddit_media_domain': False, 'is_robot_indexable': True, 'is_self': True, 'is_video': False, 'link_flair_background_color': '', 'link_flair_richtext': [], 'link_flair_text_color': 'dark', 'link_flair_type': 'text', 'locked': False, 'media_only': False, 'no_follow': True, 'num_comments': 1, 'num_crossposts': 0, 'over_18': False, 'parent_whitelist_status': 'all_ads', 'permalink': '/r/AmItheAsshole/comments/z2hvi5/aita_for_not_making_a_big_enough_deal_that_my/', 'pinned': False, 'pwls': 6, 'retrieved_on': 1669185880, 'score': 1, 'selftext': 'My (18f) little brother (15) is pretty obviously gay. He doesn\\'t have that stereotypical \"gay guy voice\" but if you know him it\\'s pretty obvious. Like I can\\'t explain it, it wouldn\\'t really make sense unless you knew him.\\n\\nAnyways earlier today he came out to me and when he said it I said \"I know, I\\'ve known\". He said is it really that obvious? I told my friends months ago and they all said practically the same thing. I said yeah my guy it\\'s really obvious. He said it can\\'t be THAT obvious. I said my guy have you seen yourself. He laughed then said anyways I\\'m goin to the liquor store you want anything, and I said I was fine. \\n\\nIg our step-sister (21f) was kinda just there and she over heard and said, I didn\\'t know and besides thats a pretty big deal for him you shoulda reacted better. I told her that I\\'ve lived with this dude his entire life, you\\'ve known him for 3 and lived under the same roof for 2, trust me if you knew him for longer you would agree with me. She said that he came out and that knowing that I should have done better. I told her that he knew I wasn\\'t homophobic and that it rlly wasn\\'t a big deal. She said it was. I asked her what she wanted me to do, throw him a surprise party or something (in a sarcastic tone). She said what\\'s with the tone? I\\'m just tryna help you be a better sister, you didn\\'t have to be such a jerk about it.\\n\\nShe stormed off and I\\'m starting to feel bad and think that maybe I was a little rude, AITA?', 'send_replies': True, 'spoiler': False, 'stickied': False, 'subreddit': 'AmItheAsshole', 'subreddit_id': 't5_2xhvq', 'subreddit_subscribers': 4817512, 'subreddit_type': 'public', 'suggested_sort': 'top', 'thumbnail': 'self', 'title': 'AITA for not \"making a big enough deal\" that my brother came out as gay.', 'total_awards_received': 0, 'treatment_tags': [], 'upvote_ratio': 1.0, 'url': 'https://www.reddit.com/r/AmItheAsshole/comments/z2hvi5/aita_for_not_making_a_big_enough_deal_that_my/', 'whitelist_status': 'all_ads', 'wls': 6}\n"
     ]
    },
    {
     "name": "stderr",
     "output_type": "stream",
     "text": [
      "C:\\Users\\Sparrow\\AppData\\Local\\Temp\\ipykernel_22000\\1226572919.py:13: FutureWarning: The frame.append method is deprecated and will be removed from pandas in a future version. Use pandas.concat instead.\n",
      "  df.append(posts)\n"
     ]
    }
   ],
   "source": [
    "pushapi('AITA10',1669195599)"
   ]
  },
  {
   "cell_type": "code",
   "execution_count": 109,
   "id": "51a5ec8b-e192-45b8-a402-26674409f749",
   "metadata": {},
   "outputs": [
    {
     "name": "stdout",
     "output_type": "stream",
     "text": [
      "100\n",
      "{'all_awardings': [], 'allow_live_comments': False, 'author': 'Every_Win_395', 'author_flair_css_class': None, 'author_flair_richtext': [], 'author_flair_text': None, 'author_flair_type': 'text', 'author_fullname': 't2_ng6h48dy', 'author_is_blocked': False, 'author_patreon_flair': False, 'author_premium': False, 'awarders': [], 'can_mod_post': False, 'contest_mode': True, 'created_utc': 1669176506, 'domain': 'self.AmItheAsshole', 'full_link': 'https://www.reddit.com/r/AmItheAsshole/comments/z2evfy/aita_for_telling_my_friend_i_wont_go_into_public/', 'gildings': {}, 'id': 'z2evfy', 'is_created_from_ads_ui': False, 'is_crosspostable': True, 'is_meta': False, 'is_original_content': False, 'is_reddit_media_domain': False, 'is_robot_indexable': True, 'is_self': True, 'is_video': False, 'link_flair_background_color': '', 'link_flair_richtext': [], 'link_flair_text_color': 'dark', 'link_flair_type': 'text', 'locked': False, 'media_only': False, 'no_follow': True, 'num_comments': 1, 'num_crossposts': 0, 'over_18': False, 'parent_whitelist_status': 'all_ads', 'permalink': '/r/AmItheAsshole/comments/z2evfy/aita_for_telling_my_friend_i_wont_go_into_public/', 'pinned': False, 'pwls': 6, 'retrieved_on': 1669176517, 'score': 1, 'selftext': 'I (28F) have a friend “Amanda” (28F). I’m a goofy person who has a good sense of humor. I try not to care what others think, but, I also know how to behave myself in public. \\n\\nAmanda has a “larger than life personality” and when we became friends a year ago, confided in me that she’s tired of people trying to change her. I thought nothing of it until the following happened…\\n\\nIncident A- we were at Applebees and the waiter was taking a while to get back to our table. Amanda walks into the back kitchen and pops her head in and says, “excuse me! We are ready to order!” \\n\\nAmanda was friendly about it and the place was empty, but I was still embarrassed. \\n\\nIncident B- we are at bdubs and she ordered mac and cheese. At the end of the meal, Amanda picks up the empty bowl and starts licking the cheese out above her head in the middle of a packed restaurant. Again, I was so dumbfounded.\\n\\nIncident C- we are walking through the mall and Amanda literally begins farting so f-kn loud the windows in front of Forever 21 quake. People look up at us and I am so incredibly embarrassed. Amanda is crying laughing (I am too, but I’m embarrassed bc everyone thought I did it).\\n\\nAnyway, the other day Amanda asked if I wanted to go to dinner with her. I was blunt, and told her that I didn’t want to go into public if she wasn’t going to act civilized. She accused me of not accepting her weird-ness and said that I am trying to dull her personality. I told her that having basic decency in public and following social rules isn’t “dulling her personality”. \\n\\nShe said, “I have spent so long hiding who I am from the world and I’m so hurt that you’re wanting me to do that now.” I told her that she was being dramatic, and in private I don’t care if she rips ass or licks cheese up off the damn floor- but we are almost 30 and it’s embarrassing that she’s acting like a child in public. It blew up onto a huge argument and now she won’t speak to me. AITA here?', 'send_replies': True, 'spoiler': False, 'stickied': False, 'subreddit': 'AmItheAsshole', 'subreddit_id': 't5_2xhvq', 'subreddit_subscribers': 4817231, 'subreddit_type': 'public', 'suggested_sort': 'top', 'thumbnail': 'self', 'title': 'AITA for telling my friend I won’t go into public with her anymore', 'total_awards_received': 0, 'treatment_tags': [], 'upvote_ratio': 1.0, 'url': 'https://www.reddit.com/r/AmItheAsshole/comments/z2evfy/aita_for_telling_my_friend_i_wont_go_into_public/', 'whitelist_status': 'all_ads', 'wls': 6}\n"
     ]
    },
    {
     "name": "stderr",
     "output_type": "stream",
     "text": [
      "C:\\Users\\Sparrow\\AppData\\Local\\Temp\\ipykernel_22000\\1226572919.py:13: FutureWarning: The frame.append method is deprecated and will be removed from pandas in a future version. Use pandas.concat instead.\n",
      "  df.append(posts)\n"
     ]
    }
   ],
   "source": [
    "pushapi('AITA11',1669185869)"
   ]
  },
  {
   "cell_type": "code",
   "execution_count": 110,
   "id": "f3a8b79c-a3ed-44f8-8e50-772228cdd8f3",
   "metadata": {},
   "outputs": [
    {
     "name": "stdout",
     "output_type": "stream",
     "text": [
      "100\n",
      "{'all_awardings': [], 'allow_live_comments': False, 'author': 'Mangomanango', 'author_flair_css_class': None, 'author_flair_richtext': [], 'author_flair_text': None, 'author_flair_type': 'text', 'author_fullname': 't2_uczvbrg4', 'author_is_blocked': False, 'author_patreon_flair': False, 'author_premium': False, 'awarders': [], 'can_mod_post': False, 'contest_mode': False, 'created_utc': 1669170202, 'domain': 'self.AmItheAsshole', 'full_link': 'https://www.reddit.com/r/AmItheAsshole/comments/z2comv/aita_for_sleeping_w_someone_when_me_and_my_bf/', 'gildings': {}, 'id': 'z2comv', 'is_created_from_ads_ui': False, 'is_crosspostable': False, 'is_meta': False, 'is_original_content': False, 'is_reddit_media_domain': False, 'is_robot_indexable': False, 'is_self': True, 'is_video': False, 'link_flair_background_color': '', 'link_flair_richtext': [], 'link_flair_text_color': 'dark', 'link_flair_type': 'text', 'locked': True, 'media_only': False, 'no_follow': True, 'num_comments': 1, 'num_crossposts': 0, 'over_18': False, 'parent_whitelist_status': 'all_ads', 'permalink': '/r/AmItheAsshole/comments/z2comv/aita_for_sleeping_w_someone_when_me_and_my_bf/', 'pinned': False, 'pwls': 6, 'removed_by_category': 'moderator', 'retrieved_on': 1669170212, 'score': 1, 'selftext': '[removed]', 'send_replies': True, 'spoiler': False, 'stickied': False, 'subreddit': 'AmItheAsshole', 'subreddit_id': 't5_2xhvq', 'subreddit_subscribers': 4816983, 'subreddit_type': 'public', 'suggested_sort': 'top', 'thumbnail': 'self', 'title': 'AITA for sleeping w/ someone when me and my bf broke up for 3 months but we got back together?', 'total_awards_received': 0, 'treatment_tags': [], 'upvote_ratio': 1.0, 'url': 'https://www.reddit.com/r/AmItheAsshole/comments/z2comv/aita_for_sleeping_w_someone_when_me_and_my_bf/', 'whitelist_status': 'all_ads', 'wls': 6}\n"
     ]
    },
    {
     "name": "stderr",
     "output_type": "stream",
     "text": [
      "C:\\Users\\Sparrow\\AppData\\Local\\Temp\\ipykernel_22000\\1226572919.py:13: FutureWarning: The frame.append method is deprecated and will be removed from pandas in a future version. Use pandas.concat instead.\n",
      "  df.append(posts)\n"
     ]
    }
   ],
   "source": [
    "pushapi('AITA12',1669176506)"
   ]
  },
  {
   "cell_type": "code",
   "execution_count": 111,
   "id": "19803dba-45b2-4d0d-9035-5c90f60fb44c",
   "metadata": {},
   "outputs": [
    {
     "name": "stdout",
     "output_type": "stream",
     "text": [
      "100\n",
      "{'all_awardings': [], 'allow_live_comments': False, 'author': 'Osiris_311', 'author_flair_css_class': None, 'author_flair_richtext': [], 'author_flair_text': None, 'author_flair_type': 'text', 'author_fullname': 't2_8h68wy57', 'author_is_blocked': False, 'author_patreon_flair': False, 'author_premium': False, 'awarders': [], 'can_mod_post': False, 'contest_mode': True, 'created_utc': 1669163812, 'domain': 'self.AmItheAsshole', 'full_link': 'https://www.reddit.com/r/AmItheAsshole/comments/z2ad4o/aita_for_telling_my_uncle_that_i_dont_care_about/', 'gildings': {}, 'id': 'z2ad4o', 'is_created_from_ads_ui': False, 'is_crosspostable': True, 'is_meta': False, 'is_original_content': False, 'is_reddit_media_domain': False, 'is_robot_indexable': True, 'is_self': True, 'is_video': False, 'link_flair_background_color': '', 'link_flair_richtext': [], 'link_flair_text_color': 'dark', 'link_flair_type': 'text', 'locked': False, 'media_only': False, 'no_follow': True, 'num_comments': 1, 'num_crossposts': 0, 'over_18': False, 'parent_whitelist_status': 'all_ads', 'permalink': '/r/AmItheAsshole/comments/z2ad4o/aita_for_telling_my_uncle_that_i_dont_care_about/', 'pinned': False, 'pwls': 6, 'retrieved_on': 1669163823, 'score': 1, 'selftext': \" My uncle has no relationship with me. We( my family) visit his house every Christmas. Now, my uncle doesn't care about my well-being Never asks me how I am, never spent time with me and he just always talked with my parents. Now he is by relation, my mother's brother-in-law.\\n\\nI remember during a Christmas dinner, my cousin(his son) teased him that he didn't even know my name. So he tried to guess it, in front of everyone. Now this is a man that I've seen for the past 10 years. He is in his mid 30s and very sharp otherwise.\\n\\nSo I don't think I'm that overweight. I needed to lose just 15 pounds to be buff and I was very fit for a while until I got really depressed. I had a very bad childhood since I studied in an army boarding school, lot of abuse: sexual, mental, physical you name. So, when it hits, I just breakdown.\\n\\nThis dude, all he does, before I was fit and after I gained weight, is lose weight. When he visited our home, when we visited their home. When I was fit, he said, he nodded when my parents claimed I should be a little more easy and relaxed with my exercise routine. This mofo, who doesn't even know my name or what I'm going through, told me again to lose my weight and I lost it. I told him to back off and mind his own business. My parents told that it was nothing and I overreacted. AITA here? Because if I am I genuinely want to improve.\", 'send_replies': True, 'spoiler': False, 'stickied': False, 'subreddit': 'AmItheAsshole', 'subreddit_id': 't5_2xhvq', 'subreddit_subscribers': 4816746, 'subreddit_type': 'public', 'suggested_sort': 'top', 'thumbnail': 'self', 'title': \"AITA for telling my uncle that I don't care about his advice?\", 'total_awards_received': 0, 'treatment_tags': [], 'upvote_ratio': 1.0, 'url': 'https://www.reddit.com/r/AmItheAsshole/comments/z2ad4o/aita_for_telling_my_uncle_that_i_dont_care_about/', 'whitelist_status': 'all_ads', 'wls': 6}\n"
     ]
    },
    {
     "name": "stderr",
     "output_type": "stream",
     "text": [
      "C:\\Users\\Sparrow\\AppData\\Local\\Temp\\ipykernel_22000\\1226572919.py:13: FutureWarning: The frame.append method is deprecated and will be removed from pandas in a future version. Use pandas.concat instead.\n",
      "  df.append(posts)\n"
     ]
    }
   ],
   "source": [
    "pushapi('AITA13',1669170202)"
   ]
  },
  {
   "cell_type": "code",
   "execution_count": 112,
   "id": "6c947f9c-db1f-43ed-96bd-5f63cc87a7e7",
   "metadata": {},
   "outputs": [
    {
     "name": "stdout",
     "output_type": "stream",
     "text": [
      "100\n",
      "{'all_awardings': [], 'allow_live_comments': False, 'author': 'Classic-Minute4759', 'author_flair_css_class': None, 'author_flair_richtext': [], 'author_flair_text': None, 'author_flair_type': 'text', 'author_fullname': 't2_al07ft7s', 'author_is_blocked': False, 'author_patreon_flair': False, 'author_premium': False, 'awarders': [], 'can_mod_post': False, 'contest_mode': True, 'created_utc': 1669156519, 'domain': 'self.AmItheAsshole', 'full_link': 'https://www.reddit.com/r/AmItheAsshole/comments/z27e8c/aita_for_not_making_out_with_my_girlfriend/', 'gildings': {}, 'id': 'z27e8c', 'is_created_from_ads_ui': False, 'is_crosspostable': True, 'is_meta': False, 'is_original_content': False, 'is_reddit_media_domain': False, 'is_robot_indexable': True, 'is_self': True, 'is_video': False, 'link_flair_background_color': '', 'link_flair_richtext': [], 'link_flair_text_color': 'dark', 'link_flair_type': 'text', 'locked': False, 'media_only': False, 'no_follow': True, 'num_comments': 1, 'num_crossposts': 0, 'over_18': False, 'parent_whitelist_status': 'all_ads', 'permalink': '/r/AmItheAsshole/comments/z27e8c/aita_for_not_making_out_with_my_girlfriend/', 'pinned': False, 'pwls': 6, 'retrieved_on': 1669156530, 'score': 1, 'selftext': 'So me (18m) and my girlfriend (18F). Have been dating for almost a year now and our relationship is a little weird because my sex drive is a lot lower than hers is, at least from what I’ve seen in society it tends to be the opposite but anyway. We’re hanging out with some friends and she pulls me to the side and asks me if we can makeout tonight. (She’s been here two days and we haven’t done anything spicy). I thought about it for a second and said no, I’m not really feeling it. So now she hasn’t said anything to me in about half a hour despite my attempts to communicate with her. Instead she’s trailing behind the group and pouting. I feel really bad seeing her down and I kinda feel like a asshole when it really wouldn’t be that hard for me to just bite the bullet and make out with her even though I really don’t want to.', 'send_replies': True, 'spoiler': False, 'stickied': False, 'subreddit': 'AmItheAsshole', 'subreddit_id': 't5_2xhvq', 'subreddit_subscribers': 4816419, 'subreddit_type': 'public', 'suggested_sort': 'top', 'thumbnail': 'self', 'title': 'AITA for not making out with my girlfriend?', 'total_awards_received': 0, 'treatment_tags': [], 'upvote_ratio': 1.0, 'url': 'https://www.reddit.com/r/AmItheAsshole/comments/z27e8c/aita_for_not_making_out_with_my_girlfriend/', 'whitelist_status': 'all_ads', 'wls': 6}\n"
     ]
    },
    {
     "name": "stderr",
     "output_type": "stream",
     "text": [
      "C:\\Users\\Sparrow\\AppData\\Local\\Temp\\ipykernel_22000\\1226572919.py:13: FutureWarning: The frame.append method is deprecated and will be removed from pandas in a future version. Use pandas.concat instead.\n",
      "  df.append(posts)\n"
     ]
    }
   ],
   "source": [
    "pushapi('AITA14',1669163812)"
   ]
  },
  {
   "cell_type": "code",
   "execution_count": 113,
   "id": "05c7d3ed-a023-4b42-b38f-73851936368f",
   "metadata": {},
   "outputs": [
    {
     "name": "stdout",
     "output_type": "stream",
     "text": [
      "100\n",
      "{'all_awardings': [], 'allow_live_comments': False, 'author': 'LibrarianHonest1580', 'author_flair_css_class': None, 'author_flair_richtext': [], 'author_flair_text': None, 'author_flair_type': 'text', 'author_fullname': 't2_uhma0fbk', 'author_is_blocked': False, 'author_patreon_flair': False, 'author_premium': False, 'awarders': [], 'can_mod_post': False, 'contest_mode': True, 'created_utc': 1669150600, 'domain': 'self.AmItheAsshole', 'full_link': 'https://www.reddit.com/r/AmItheAsshole/comments/z24rjn/aita_for_telling_my_bf_that_he_despises_any_girl/', 'gildings': {}, 'id': 'z24rjn', 'is_created_from_ads_ui': False, 'is_crosspostable': True, 'is_meta': False, 'is_original_content': False, 'is_reddit_media_domain': False, 'is_robot_indexable': True, 'is_self': True, 'is_video': False, 'link_flair_background_color': '', 'link_flair_richtext': [], 'link_flair_text_color': 'dark', 'link_flair_type': 'text', 'locked': False, 'media_only': False, 'no_follow': True, 'num_comments': 1, 'num_crossposts': 0, 'over_18': False, 'parent_whitelist_status': 'all_ads', 'permalink': '/r/AmItheAsshole/comments/z24rjn/aita_for_telling_my_bf_that_he_despises_any_girl/', 'pinned': False, 'pwls': 6, 'retrieved_on': 1669150611, 'score': 1, 'selftext': 'I (18f) have a bf (18m) who has severe mommy issues and tends to show this by detesting any girl who resembles his mother (whether in looks or attributes). \\n\\nHis mother and their relationship is a tumultuous one, where she actively chose her affairs over her sons state of being or she would dismiss him and then become overly loving.\\n\\nHere is my dilemma, say if we are at school and we talk to some girl asking for directions or in the same class, he would just become so bitter because she has a similar face to his mother or speaks like his mother. We would watch a movie and the character would be a mother like his and he would hate the movie &amp; tell me to turn it off. \\n\\nBut recently I’ve made a dear friend of mine who I’ll call “julie”, who actually looks scarily similar to his mother in her youth. I invited her over to mine multiple times and he would be there sometimes. He would then proceed to give her the cold shoulder and be quite dismissive, to the point where she thinks she said something wrong or that he doesn’t like her. Which I informed her she didn’t but she continued to think she did.\\n\\nSo that night (yesterday, monday 21st nov), I sat him down and informed him that he can’t keep on giving the cold shoulder to everyone who resembles his mother in the slightest. He would deny but it was obvious. I said if he “keeps on despising girls who are similar to your mother, then I will have no friendships”. \\n\\nHe got irritated and told me that I was “making stuff up in my head”. Then proceeded to tell me that “I’m starting something with nothing”.\\n\\nAITA?', 'send_replies': True, 'spoiler': False, 'stickied': False, 'subreddit': 'AmItheAsshole', 'subreddit_id': 't5_2xhvq', 'subreddit_subscribers': 4816195, 'subreddit_type': 'public', 'suggested_sort': 'top', 'thumbnail': 'self', 'title': 'AITA for telling my bf that he “despises any girl who resembles his mother”?', 'total_awards_received': 0, 'treatment_tags': [], 'upvote_ratio': 1.0, 'url': 'https://www.reddit.com/r/AmItheAsshole/comments/z24rjn/aita_for_telling_my_bf_that_he_despises_any_girl/', 'whitelist_status': 'all_ads', 'wls': 6}\n"
     ]
    },
    {
     "name": "stderr",
     "output_type": "stream",
     "text": [
      "C:\\Users\\Sparrow\\AppData\\Local\\Temp\\ipykernel_22000\\1226572919.py:13: FutureWarning: The frame.append method is deprecated and will be removed from pandas in a future version. Use pandas.concat instead.\n",
      "  df.append(posts)\n"
     ]
    }
   ],
   "source": [
    "pushapi('AITA15',1669156519)"
   ]
  },
  {
   "cell_type": "code",
   "execution_count": 114,
   "id": "0b87f4e4-12ab-46a9-92fe-1fa6aa348ac4",
   "metadata": {},
   "outputs": [
    {
     "name": "stdout",
     "output_type": "stream",
     "text": [
      "100\n",
      "{'all_awardings': [], 'allow_live_comments': False, 'author': 'lnvidias', 'author_flair_css_class': None, 'author_flair_richtext': [], 'author_flair_text': None, 'author_flair_type': 'text', 'author_fullname': 't2_8d7e462', 'author_is_blocked': False, 'author_patreon_flair': False, 'author_premium': False, 'awarders': [], 'can_mod_post': False, 'contest_mode': True, 'created_utc': 1669144201, 'domain': 'self.AmItheAsshole', 'full_link': 'https://www.reddit.com/r/AmItheAsshole/comments/z2209h/wibta_if_i_asked_a_woman_to_stop_wearing_her/', 'gildings': {}, 'id': 'z2209h', 'is_created_from_ads_ui': False, 'is_crosspostable': True, 'is_meta': False, 'is_original_content': False, 'is_reddit_media_domain': False, 'is_robot_indexable': True, 'is_self': True, 'is_video': False, 'link_flair_background_color': '', 'link_flair_richtext': [], 'link_flair_text_color': 'dark', 'link_flair_type': 'text', 'locked': False, 'media_only': False, 'no_follow': False, 'num_comments': 1, 'num_crossposts': 0, 'over_18': False, 'parent_whitelist_status': 'all_ads', 'permalink': '/r/AmItheAsshole/comments/z2209h/wibta_if_i_asked_a_woman_to_stop_wearing_her/', 'pinned': False, 'pwls': 6, 'retrieved_on': 1669144212, 'score': 1, 'selftext': 'I’ll preface by saying I’m very into fragrances as a hobby and have a collection myself. That being said, I think a critical part of the hobby is knowing that there’s a time and place for them, and to prioritize how others may feel about it.  \\n \\nA woman at my gym that unfortunately seems to go at the same time goes very heavy on the sugar vanilla cupcake perfume. I’m talking heavy as in fills the entire room. I can’t stand sweet food fragrances and it genuinely makes me nauseous long after my workout. IMO, the holy trinity of places that ANY fragrance doesn’t belong is public transport, medical offices, and the gym. It’s one giant room, so I’m not able to just go somewhere else to avoid it.  \\n \\nWould I be an asshole for asking her to stop using it?', 'send_replies': True, 'spoiler': False, 'stickied': False, 'subreddit': 'AmItheAsshole', 'subreddit_id': 't5_2xhvq', 'subreddit_subscribers': 4815919, 'subreddit_type': 'public', 'suggested_sort': 'top', 'thumbnail': 'self', 'title': 'WIBTA if I asked a woman to stop wearing her sickening vanilla cupcake body spray to the gym?', 'total_awards_received': 0, 'treatment_tags': [], 'upvote_ratio': 1.0, 'url': 'https://www.reddit.com/r/AmItheAsshole/comments/z2209h/wibta_if_i_asked_a_woman_to_stop_wearing_her/', 'whitelist_status': 'all_ads', 'wls': 6}\n"
     ]
    },
    {
     "name": "stderr",
     "output_type": "stream",
     "text": [
      "C:\\Users\\Sparrow\\AppData\\Local\\Temp\\ipykernel_22000\\1226572919.py:13: FutureWarning: The frame.append method is deprecated and will be removed from pandas in a future version. Use pandas.concat instead.\n",
      "  df.append(posts)\n"
     ]
    }
   ],
   "source": [
    "pushapi('AITA16',1669150600)"
   ]
  },
  {
   "cell_type": "code",
   "execution_count": 115,
   "id": "2d7ab93b-32d5-4749-9eb6-c0cf0509985c",
   "metadata": {},
   "outputs": [
    {
     "name": "stdout",
     "output_type": "stream",
     "text": [
      "100\n",
      "{'all_awardings': [], 'allow_live_comments': False, 'author': 'throwaway_010110010', 'author_flair_css_class': None, 'author_flair_richtext': [], 'author_flair_text': None, 'author_flair_type': 'text', 'author_fullname': 't2_uhbu20hc', 'author_is_blocked': False, 'author_patreon_flair': False, 'author_premium': False, 'awarders': [], 'can_mod_post': False, 'contest_mode': True, 'created_utc': 1669137675, 'domain': 'self.AmItheAsshole', 'full_link': 'https://www.reddit.com/r/AmItheAsshole/comments/z1z8k9/aita_for_refusing_to_hang_out_with_my_friend_if/', 'gildings': {}, 'id': 'z1z8k9', 'is_created_from_ads_ui': False, 'is_crosspostable': True, 'is_meta': False, 'is_original_content': False, 'is_reddit_media_domain': False, 'is_robot_indexable': True, 'is_self': True, 'is_video': False, 'link_flair_background_color': '', 'link_flair_richtext': [], 'link_flair_text_color': 'dark', 'link_flair_type': 'text', 'locked': False, 'media_only': False, 'no_follow': False, 'num_comments': 1, 'num_crossposts': 0, 'over_18': False, 'parent_whitelist_status': 'all_ads', 'permalink': '/r/AmItheAsshole/comments/z1z8k9/aita_for_refusing_to_hang_out_with_my_friend_if/', 'pinned': False, 'pwls': 6, 'retrieved_on': 1669137686, 'score': 1, 'selftext': \"I (23m) have been close friends with kate (23f) for abt 10 yrs. abt 1.5 yrs ago she started casually seeing her neighbor karl (23m). Kate tells me that she doesnt really see it going anywhere but says that she thinks she should either commit or stop jerking him around. This seems unwise to me, but I know him and I think he's an alright dude, so no problems there ultimately. My relationship with kate naturally goes on the backburner out of respect for karl; we still saw each other obviously in groups and such, we just spent considerably less time alone together.\\n\\nYada yada idrk the details of their relationship but eventually karl reveals that he doesnt ever want to get married. Their relationship starts to spiral -- kate's a christian, karl's not a christian and doesn't plan to become one; kate wants to get married (but doesn't see herself marrying karl, allegedly ?) karl doesn't want to get married. At some point both of them told me that they felt like the other cared less abt the relationship than they did.\\n\\nAnyway while theyre apart, karl starts talking to someone new. Kate and karl eventually reconcile but dont get back together. Karl lies abt seeing anyone else and they proceed to start fucking again. Kate finds out that he lied abt continuing to see the other girl and confronts him abt it. Despite this, karl continues to see the other girl until she leaves for college (approx. 1 month).\\n\\n2 months later (beginning of this month), kate finds out that karl lied to her and went behind her back with this other girl. She was a wreck for a while, but he continued to text her even when she told him to stop talking to her, bought her gifts, started talking abt how he sees them together and that he can see himself getting married. I guess this wore her down after a while, especially since theyre neighbors so he's very accessible.\\n\\nA few days ago she told me that theyre probably going to get back together. I was honest and told her that I wouldnt be spending time with them. In my eyes, the only reason they're getting back together is bc he didnt respect the boundaries she put in place when she found out he lied to her for months abt going behind her back. He seems kind of emotionally manipulative to me, so I see it as a total waste of her time since there were valid reasons for their initial split. Him saying that he now sees himself getting married seems like desperation rather than genuine change. I told kate as much, but she thinks I'm being dramatic and should suck it up and still spend time with them.\\n\\nI should mention that me not spending time with them would effectively end our friendship for as long as theyre together. That's not really my intent, but since kate and I aren't going to be spending one on one time together while she has a boyfriend, it's just going to be an unhappy outcome.\\n\\nSo am I the asshole for ending a ten year friendship over this?\", 'send_replies': True, 'spoiler': False, 'stickied': False, 'subreddit': 'AmItheAsshole', 'subreddit_id': 't5_2xhvq', 'subreddit_subscribers': 4815630, 'subreddit_type': 'public', 'suggested_sort': 'top', 'thumbnail': 'self', 'title': 'AITA for refusing to hang out with my friend if she gets back together with her ex?', 'total_awards_received': 0, 'treatment_tags': [], 'upvote_ratio': 1.0, 'url': 'https://www.reddit.com/r/AmItheAsshole/comments/z1z8k9/aita_for_refusing_to_hang_out_with_my_friend_if/', 'whitelist_status': 'all_ads', 'wls': 6}\n"
     ]
    },
    {
     "name": "stderr",
     "output_type": "stream",
     "text": [
      "C:\\Users\\Sparrow\\AppData\\Local\\Temp\\ipykernel_22000\\1226572919.py:13: FutureWarning: The frame.append method is deprecated and will be removed from pandas in a future version. Use pandas.concat instead.\n",
      "  df.append(posts)\n"
     ]
    }
   ],
   "source": [
    "pushapi('AITA17',1669144201)"
   ]
  },
  {
   "cell_type": "code",
   "execution_count": 116,
   "id": "0afc49ba-cb32-4f98-b046-9794a56e028f",
   "metadata": {},
   "outputs": [
    {
     "name": "stdout",
     "output_type": "stream",
     "text": [
      "100\n",
      "{'all_awardings': [], 'allow_live_comments': False, 'author': 'ResponsiblePrimary14', 'author_flair_css_class': None, 'author_flair_richtext': [], 'author_flair_text': None, 'author_flair_type': 'text', 'author_fullname': 't2_c39o4h4k', 'author_is_blocked': False, 'author_patreon_flair': False, 'author_premium': False, 'awarders': [], 'can_mod_post': False, 'contest_mode': True, 'created_utc': 1669131631, 'domain': 'self.AmItheAsshole', 'full_link': 'https://www.reddit.com/r/AmItheAsshole/comments/z1wq9c/wibta_for_asking_for_my_money_back_after_my/', 'gildings': {}, 'id': 'z1wq9c', 'is_created_from_ads_ui': False, 'is_crosspostable': True, 'is_meta': False, 'is_original_content': False, 'is_reddit_media_domain': False, 'is_robot_indexable': True, 'is_self': True, 'is_video': False, 'link_flair_background_color': '', 'link_flair_richtext': [], 'link_flair_text_color': 'dark', 'link_flair_type': 'text', 'locked': False, 'media_only': False, 'no_follow': True, 'num_comments': 1, 'num_crossposts': 0, 'over_18': False, 'parent_whitelist_status': 'all_ads', 'permalink': '/r/AmItheAsshole/comments/z1wq9c/wibta_for_asking_for_my_money_back_after_my/', 'pinned': False, 'pwls': 6, 'retrieved_on': 1669131642, 'score': 1, 'selftext': 'Basically, I\\'ve been staying at a total of 3 airbnbs for a 4 month work trip in the US. The second one I\\'m currently at has been pretty bad.\\n\\nThis is a private basement stay where I\\'m at with my parents. These stays weren\\'t cheap and, even though my parents paid most of it, I have also paid for a share.\\n\\nTwo weeks ago, the heating stopped working and we\\'re getting very low temperatures. Where we\\'re from doesn\\'t get this cold and my dad has a history of heart problems so cold temperatures are dangerous. The owner  had 4 repairmen come to check the problem throughout these two weeks, most of these times without warning, which was super uncomfortable.\\n\\nOne of the times I was home alone, and being 21F I was even more uncomfortable, but I would tolerate because at least she was there.\\n\\nIn order to manage the heating problem she gave us a couple of small heaters but the electricity on this house is horrible so if we turn them both on + the tv for example, it all shuts off.\\n\\nBesides that, me and my parents had ordered some stuff online (with her permission) and some of our packages said \"delivered\" around two weeks ago. We didn\\'t ask her because we didn\\'t want to imply she had stolen our stuff, apparently it\\'s pretty common to have packages stolen from your porch, but on the days that we were supposed to receive them we would usually send a warning message to no response. She came in here multiple times after she had allegedly already gotten the packages and she didn\\'t say a thing so I figured they had been stolen and got a refund. \\n\\nWell, a couple of days ago she leaves the packages on our counter (she came when no one was home) and said \"sorry for the opened ones, I thought they were mine\". At this point I had already gotten refunds, and, upon checking the packages, I saw they had my name on very large letters.\\n\\nThe last straw: At this moment there\\'s yet another guy who came here at 8:30 am (she mentioned he\\'d come in the morning so \"ok\") but she didn\\'t even come in with him! She had him knock on our private door which is right next to my bed, waking me up after a very long night shift. Hell, it\\'s _her house_ shouldn\\'t SHE supervise what these repairmen are doing? Because of that we had to cancel our morning plans and are here because we won\\'t let a stranger alone with all of our stuff. \\n\\nAnyway, I had enough, I told my parents I\\'ll make a complaint, I don\\'t wanna make a public post because you do that when you want a service to get better, and , I just want to maybe see a portion of my money back. \\n\\nMy parents think I\\'m TA and just wanna move on from this because it might affect her, I understand that but we had a customer/seller contract and her attitude was just completely disrespectful (especially with the packages!). \\n\\nAnyway, WIBTA for asking for at least a partial refund?', 'send_replies': True, 'spoiler': False, 'stickied': False, 'subreddit': 'AmItheAsshole', 'subreddit_id': 't5_2xhvq', 'subreddit_subscribers': 4815425, 'subreddit_type': 'public', 'suggested_sort': 'top', 'thumbnail': 'self', 'title': 'WIBTA for asking for my money back after my Airbnb stay?', 'total_awards_received': 0, 'treatment_tags': [], 'upvote_ratio': 1.0, 'url': 'https://www.reddit.com/r/AmItheAsshole/comments/z1wq9c/wibta_for_asking_for_my_money_back_after_my/', 'whitelist_status': 'all_ads', 'wls': 6}\n"
     ]
    },
    {
     "name": "stderr",
     "output_type": "stream",
     "text": [
      "C:\\Users\\Sparrow\\AppData\\Local\\Temp\\ipykernel_22000\\1226572919.py:13: FutureWarning: The frame.append method is deprecated and will be removed from pandas in a future version. Use pandas.concat instead.\n",
      "  df.append(posts)\n"
     ]
    }
   ],
   "source": [
    "pushapi('AITA18',1669137675)"
   ]
  },
  {
   "cell_type": "code",
   "execution_count": 117,
   "id": "4a9a444f-afd0-4aa2-8e22-c2f95afcc344",
   "metadata": {},
   "outputs": [
    {
     "name": "stdout",
     "output_type": "stream",
     "text": [
      "100\n",
      "{'all_awardings': [], 'allow_live_comments': False, 'author': 'raiderscarr', 'author_flair_css_class': None, 'author_flair_richtext': [], 'author_flair_text': None, 'author_flair_type': 'text', 'author_fullname': 't2_uh7v4e6t', 'author_is_blocked': False, 'author_patreon_flair': False, 'author_premium': False, 'awarders': [], 'can_mod_post': False, 'contest_mode': False, 'created_utc': 1669121433, 'domain': 'self.AmItheAsshole', 'full_link': 'https://www.reddit.com/r/AmItheAsshole/comments/z1ssu9/wibta_for_telling_my_brother_in_law_about_a/', 'gildings': {}, 'id': 'z1ssu9', 'is_created_from_ads_ui': False, 'is_crosspostable': False, 'is_meta': False, 'is_original_content': False, 'is_reddit_media_domain': False, 'is_robot_indexable': False, 'is_self': True, 'is_video': False, 'link_flair_background_color': '', 'link_flair_richtext': [], 'link_flair_text_color': 'dark', 'link_flair_type': 'text', 'locked': True, 'media_only': False, 'no_follow': True, 'num_comments': 1, 'num_crossposts': 0, 'over_18': False, 'parent_whitelist_status': 'all_ads', 'permalink': '/r/AmItheAsshole/comments/z1ssu9/wibta_for_telling_my_brother_in_law_about_a/', 'pinned': False, 'pwls': 6, 'removed_by_category': 'moderator', 'retrieved_on': 1669121446, 'score': 1, 'selftext': '[removed]', 'send_replies': True, 'spoiler': False, 'stickied': False, 'subreddit': 'AmItheAsshole', 'subreddit_id': 't5_2xhvq', 'subreddit_subscribers': 4815129, 'subreddit_type': 'public', 'suggested_sort': 'top', 'thumbnail': 'self', 'title': 'WIBTA for telling my brother in law about a secret recording of him during an argument with my sister in law?', 'total_awards_received': 0, 'treatment_tags': [], 'upvote_ratio': 1.0, 'url': 'https://www.reddit.com/r/AmItheAsshole/comments/z1ssu9/wibta_for_telling_my_brother_in_law_about_a/', 'whitelist_status': 'all_ads', 'wls': 6}\n"
     ]
    },
    {
     "name": "stderr",
     "output_type": "stream",
     "text": [
      "C:\\Users\\Sparrow\\AppData\\Local\\Temp\\ipykernel_22000\\1226572919.py:13: FutureWarning: The frame.append method is deprecated and will be removed from pandas in a future version. Use pandas.concat instead.\n",
      "  df.append(posts)\n"
     ]
    }
   ],
   "source": [
    "pushapi('AITA19',1669131631)"
   ]
  },
  {
   "cell_type": "code",
   "execution_count": 118,
   "id": "4447fae4-86ab-49ad-9409-86c993e0ec7a",
   "metadata": {},
   "outputs": [
    {
     "name": "stdout",
     "output_type": "stream",
     "text": [
      "100\n",
      "{'all_awardings': [], 'allow_live_comments': False, 'author': 'Obvious_Sorbet_3837', 'author_flair_css_class': None, 'author_flair_richtext': [], 'author_flair_text': None, 'author_flair_type': 'text', 'author_fullname': 't2_6ov8vsf0', 'author_is_blocked': False, 'author_patreon_flair': False, 'author_premium': False, 'awarders': [], 'can_mod_post': False, 'contest_mode': True, 'created_utc': 1669108106, 'domain': 'self.AmItheAsshole', 'full_link': 'https://www.reddit.com/r/AmItheAsshole/comments/z1ozkm/aita_for_not_nannying_longer_for_a_parents/', 'gildings': {}, 'id': 'z1ozkm', 'is_created_from_ads_ui': False, 'is_crosspostable': True, 'is_meta': False, 'is_original_content': False, 'is_reddit_media_domain': False, 'is_robot_indexable': True, 'is_self': True, 'is_video': False, 'link_flair_background_color': '', 'link_flair_richtext': [], 'link_flair_text_color': 'dark', 'link_flair_type': 'text', 'locked': False, 'media_only': False, 'no_follow': True, 'num_comments': 1, 'num_crossposts': 0, 'over_18': False, 'parent_whitelist_status': 'all_ads', 'permalink': '/r/AmItheAsshole/comments/z1ozkm/aita_for_not_nannying_longer_for_a_parents/', 'pinned': False, 'pwls': 6, 'retrieved_on': 1669108117, 'score': 1, 'selftext': 'I’m a backup nanny, I provide childcare for families who need help last minute. I chose to work for a family last Friday from 6:45-11:45pm. From the very first intro call, I knew that respect was not high on the list of attributes for these parents. There was no friendly chit chat, talk of expectations… nothing. I did make sure to ask when they would be coming home, since sometimes weekend care can go a little later. I made it very clear that I can only stay until 12am since I had an early shift the next day. The mom informed me that nannies in the past have stayed longer and they just sign off on it so they can get paid for longer. This was a red flag to me, since she only told me this after I had made it clear how long I can work. But, we agreed on 12am and her and the Dad left.\\n\\n11:42pm rolls around and the Dad texts me (using his wife’s phone) that his wife has to go to urgent care because his wife is not well and that he needs to assist her while they wait to be admitted. I express my empathy but make it clear that I can not stay for very much longer (I should have been more clear with the Dad, but I meant about 1.5 hours longer). I asked what happened and only then does he tell me “she is severely allergic and having a reaction”. The Dad tells me he is trying to call friends to come over to relieve me and how he’ll pay me extra with cash. He knows I have to get up early so he offers his guest room for me to sleep.\\n\\nI am not about to sleep in this damn house. I feel myself getting selfish. But the whole thing feels fishy so I almost feel justified. The mom gave me bad vibes from the start and she admitted to taking advantage of nannies in the past. I push my selfishness and put some pressure on the situation. The dad agrees to leave at 12:30am no matter the situation. I agree to this and thank him, but then he turns it back on me and tells me I am not being empathic. At this point things are getting uncomfortable so I call my boss (a literal saint). I tell her everything I know, she agrees that the Dad should come home. She calls her boss, they agree. They contact him and he finally arrives at 1am. I leave quickly when he arrives, wanting to avoid any conflict. The wife is nowhere in sight.\\n\\nAfter all this I can’t help feeling that I was being an asshole. I know it was an emergency, but something tells me it might not have been. The admittance to taking advantage of the service, the texting me *right* at my end time, the light manipulation. We could theorize all day but at the end of the day… I have to believe them. Right? And couldn’t he have dropped off his wife, came home, and she could Uber home? I know that would have been really rough, but the way he was framing this was that I’d could be staying the night. I just could not do that. I made my end time very clear, and when that time comes, their children are their responsibility. \\n\\nSo… am I the asshole?', 'send_replies': True, 'spoiler': False, 'stickied': False, 'subreddit': 'AmItheAsshole', 'subreddit_id': 't5_2xhvq', 'subreddit_subscribers': 4814849, 'subreddit_type': 'public', 'suggested_sort': 'top', 'thumbnail': 'self', 'title': 'AITA for not nannying longer for a parent’s emergency', 'total_awards_received': 0, 'treatment_tags': [], 'upvote_ratio': 1.0, 'url': 'https://www.reddit.com/r/AmItheAsshole/comments/z1ozkm/aita_for_not_nannying_longer_for_a_parents/', 'whitelist_status': 'all_ads', 'wls': 6}\n"
     ]
    },
    {
     "name": "stderr",
     "output_type": "stream",
     "text": [
      "C:\\Users\\Sparrow\\AppData\\Local\\Temp\\ipykernel_22000\\1226572919.py:13: FutureWarning: The frame.append method is deprecated and will be removed from pandas in a future version. Use pandas.concat instead.\n",
      "  df.append(posts)\n"
     ]
    }
   ],
   "source": [
    "pushapi('AITA20',1669121433)"
   ]
  },
  {
   "cell_type": "code",
   "execution_count": 119,
   "id": "950135b1-bb4c-4e07-b12d-6704e8b4d07c",
   "metadata": {},
   "outputs": [
    {
     "name": "stdout",
     "output_type": "stream",
     "text": [
      "100\n",
      "{'all_awardings': [], 'allow_live_comments': False, 'author': 'elisaexisting', 'author_flair_css_class': None, 'author_flair_richtext': [], 'author_flair_text': None, 'author_flair_type': 'text', 'author_fullname': 't2_ovo5fmub', 'author_is_blocked': False, 'author_patreon_flair': False, 'author_premium': False, 'awarders': [], 'can_mod_post': False, 'contest_mode': True, 'created_utc': 1669097474, 'domain': 'self.AmItheAsshole', 'full_link': 'https://www.reddit.com/r/AmItheAsshole/comments/z1m63i/aita_for_planning_to_not_attend_bfs_familys/', 'gildings': {}, 'id': 'z1m63i', 'is_created_from_ads_ui': False, 'is_crosspostable': True, 'is_meta': False, 'is_original_content': False, 'is_reddit_media_domain': False, 'is_robot_indexable': True, 'is_self': True, 'is_video': False, 'link_flair_background_color': '', 'link_flair_richtext': [], 'link_flair_text_color': 'dark', 'link_flair_type': 'text', 'locked': False, 'media_only': False, 'no_follow': True, 'num_comments': 1, 'num_crossposts': 0, 'over_18': False, 'parent_whitelist_status': 'all_ads', 'permalink': '/r/AmItheAsshole/comments/z1m63i/aita_for_planning_to_not_attend_bfs_familys/', 'pinned': False, 'pwls': 6, 'retrieved_on': 1669097485, 'score': 1, 'selftext': 'so about a week ago my boyfriends little sister (F17)  called me absolutely sobbing, asking if i could pick her up from the grocery store parking lot (we are very close). i was freaking out so when i picked her up i started asking abt what the hell was going on and she told me that her friend took her to a girl she knew that did lip injections but she botched it and now she looks crazy.\\n\\n of course i was like wtf so i took her back to my apartment and she told me everything and i let her lay down and got her whatever she needed and kind of let her get it out and cry and everything. \\n\\nthen i called her brother (my bf) to come home ASAP (we live tg), and when we got there she told/shows him and he did chuckle but like in disbelief, but then she was crying harder so he told her that we’d figure it out don’t worry it’s not that bad. \\n\\nand so i pulled him aside and asked about thanksgiving because it’s coming up and she def won’t wanna go. he said that he didn’t think it’s a big deal and she can just wear a mask or something. but his family (specifically dads side) is very anti-mask/anti-covid whatever. \\n\\nand so i’m like cant she just not go, i will stay with her. but he said no and that everything will be fine because his family really does take the holidays very seriously and if anything goes even a little wrong it’s like the world is freaking on fire. \\n\\nso i TELL him basically i will stay back with his sis because she doesn’t feel comfortable and why should she have to. he told me i can do what i want but it won’t be a good idea because then his family will create drama about me and stuff and resent me for like keeping sis away from the family/not coming. \\n\\nfast forward i called his mom and told her what’s up. (their mom and dad thought that she just suddenly spent the night at her brothers) she then came over and saw for herself and was like jesus. i said we could stay back because she doesn’t want to go, and ofc she said that would be an uproar but the dad would never go for the mask either. she said she would bring it up to the dad anyways. \\n\\nso she told the dad what happened and that sis is not comfortable going so i will not be attending as well as sis, and now he’s saying i’m trying to break apart his family and i’m disrespecting him and i’m manipulative and \\ni’m holding sis hostage and all this bs yk. the whole family hates me now because of him and his influence. from what i know the mom is trying to reason w him (my bf and her are on my side), but sis is still staying with me and her brother. \\n\\nnow im starting to think i’ve done more harm than good and i’ve broken the family apart and i’m kind of scared', 'send_replies': True, 'spoiler': False, 'stickied': False, 'subreddit': 'AmItheAsshole', 'subreddit_id': 't5_2xhvq', 'subreddit_subscribers': 4814556, 'subreddit_type': 'public', 'suggested_sort': 'top', 'thumbnail': 'self', 'title': 'AITA for planning to not attend bfs family’s holidays in support of his little sis and her bad nose job?', 'total_awards_received': 0, 'treatment_tags': [], 'upvote_ratio': 1.0, 'url': 'https://www.reddit.com/r/AmItheAsshole/comments/z1m63i/aita_for_planning_to_not_attend_bfs_familys/', 'whitelist_status': 'all_ads', 'wls': 6}\n"
     ]
    },
    {
     "name": "stderr",
     "output_type": "stream",
     "text": [
      "C:\\Users\\Sparrow\\AppData\\Local\\Temp\\ipykernel_22000\\1226572919.py:13: FutureWarning: The frame.append method is deprecated and will be removed from pandas in a future version. Use pandas.concat instead.\n",
      "  df.append(posts)\n"
     ]
    }
   ],
   "source": [
    "pushapi('AITA21',1669108106)"
   ]
  },
  {
   "cell_type": "code",
   "execution_count": 120,
   "id": "77bb1d44-28f9-4c67-96af-47e3775eaa1b",
   "metadata": {},
   "outputs": [
    {
     "name": "stdout",
     "output_type": "stream",
     "text": [
      "100\n",
      "{'all_awardings': [], 'allow_live_comments': False, 'author': 'Sister-problems', 'author_flair_css_class': None, 'author_flair_richtext': [], 'author_flair_text': None, 'author_flair_type': 'text', 'author_fullname': 't2_sutynhos', 'author_is_blocked': False, 'author_patreon_flair': False, 'author_premium': False, 'awarders': [], 'can_mod_post': False, 'contest_mode': False, 'created_utc': 1669090400, 'domain': 'self.AmItheAsshole', 'full_link': 'https://www.reddit.com/r/AmItheAsshole/comments/z1k0eu/aita_for_exposing_my_sister_and_possibly_ruining/', 'gildings': {}, 'id': 'z1k0eu', 'is_created_from_ads_ui': False, 'is_crosspostable': False, 'is_meta': False, 'is_original_content': False, 'is_reddit_media_domain': False, 'is_robot_indexable': False, 'is_self': True, 'is_video': False, 'link_flair_background_color': '', 'link_flair_richtext': [], 'link_flair_text_color': 'dark', 'link_flair_type': 'text', 'locked': True, 'media_only': False, 'no_follow': True, 'num_comments': 1, 'num_crossposts': 0, 'over_18': True, 'parent_whitelist_status': 'all_ads', 'permalink': '/r/AmItheAsshole/comments/z1k0eu/aita_for_exposing_my_sister_and_possibly_ruining/', 'pinned': False, 'pwls': 6, 'removed_by_category': 'moderator', 'retrieved_on': 1669090411, 'score': 1, 'selftext': '[removed]', 'send_replies': True, 'spoiler': False, 'stickied': False, 'subreddit': 'AmItheAsshole', 'subreddit_id': 't5_2xhvq', 'subreddit_subscribers': 4814289, 'subreddit_type': 'public', 'suggested_sort': 'top', 'thumbnail': 'nsfw', 'title': 'AITA for exposing my sister and possibly ruining my siblings relationship?', 'total_awards_received': 0, 'treatment_tags': [], 'upvote_ratio': 1.0, 'url': 'https://www.reddit.com/r/AmItheAsshole/comments/z1k0eu/aita_for_exposing_my_sister_and_possibly_ruining/', 'whitelist_status': 'promo_adult_nsfw', 'wls': 3}\n"
     ]
    },
    {
     "name": "stderr",
     "output_type": "stream",
     "text": [
      "C:\\Users\\Sparrow\\AppData\\Local\\Temp\\ipykernel_22000\\1226572919.py:13: FutureWarning: The frame.append method is deprecated and will be removed from pandas in a future version. Use pandas.concat instead.\n",
      "  df.append(posts)\n"
     ]
    }
   ],
   "source": [
    "pushapi('AITA22',1669097474)"
   ]
  },
  {
   "cell_type": "code",
   "execution_count": 121,
   "id": "d92cfa0d-4216-4fda-8334-69e1793831fc",
   "metadata": {},
   "outputs": [
    {
     "name": "stdout",
     "output_type": "stream",
     "text": [
      "100\n",
      "{'all_awardings': [], 'allow_live_comments': False, 'author': 'throwaway_dystopia', 'author_flair_css_class': None, 'author_flair_richtext': [], 'author_flair_text': None, 'author_flair_type': 'text', 'author_fullname': 't2_inx93ry2', 'author_is_blocked': False, 'author_patreon_flair': False, 'author_premium': False, 'awarders': [], 'can_mod_post': False, 'contest_mode': True, 'created_utc': 1669084842, 'domain': 'self.AmItheAsshole', 'full_link': 'https://www.reddit.com/r/AmItheAsshole/comments/z1i4xr/aita_for_not_wanting_to_spend_a_week_with_my/', 'gildings': {}, 'id': 'z1i4xr', 'is_created_from_ads_ui': False, 'is_crosspostable': True, 'is_meta': False, 'is_original_content': False, 'is_reddit_media_domain': False, 'is_robot_indexable': True, 'is_self': True, 'is_video': False, 'link_flair_background_color': '', 'link_flair_richtext': [], 'link_flair_text_color': 'dark', 'link_flair_type': 'text', 'locked': False, 'media_only': False, 'no_follow': True, 'num_comments': 1, 'num_crossposts': 0, 'over_18': False, 'parent_whitelist_status': 'all_ads', 'permalink': '/r/AmItheAsshole/comments/z1i4xr/aita_for_not_wanting_to_spend_a_week_with_my/', 'pinned': False, 'pwls': 6, 'retrieved_on': 1669084852, 'score': 1, 'selftext': '\\n\\nWe plan on going to a state about 12 hours away for thanksgiving every year. We borrow a family members van and pack a family of four in it. We stay with my sister in law and her husband. She is the kind of person that has to be the center of attention yet at the same time is an airhead so I can’t stand to be around her. She’s just fake and tries so hard to be act like some rich celebrity that she’ll never be. I told my wife that I don’t want to go about 24 hours before we were supposed to leave. I was supposed to tell her earlier but the timing was never right. We work opposite hours. If I go, I will be giving up about $1900 at work and spending 6 days on this trip.', 'send_replies': True, 'spoiler': False, 'stickied': False, 'subreddit': 'AmItheAsshole', 'subreddit_id': 't5_2xhvq', 'subreddit_subscribers': 4814069, 'subreddit_type': 'public', 'suggested_sort': 'top', 'thumbnail': 'self', 'title': 'AITA for not wanting to spend a week with my sister in law', 'total_awards_received': 0, 'treatment_tags': [], 'upvote_ratio': 1.0, 'url': 'https://www.reddit.com/r/AmItheAsshole/comments/z1i4xr/aita_for_not_wanting_to_spend_a_week_with_my/', 'whitelist_status': 'all_ads', 'wls': 6}\n"
     ]
    },
    {
     "name": "stderr",
     "output_type": "stream",
     "text": [
      "C:\\Users\\Sparrow\\AppData\\Local\\Temp\\ipykernel_22000\\1226572919.py:13: FutureWarning: The frame.append method is deprecated and will be removed from pandas in a future version. Use pandas.concat instead.\n",
      "  df.append(posts)\n"
     ]
    }
   ],
   "source": [
    "pushapi('AITA23',1669090400)"
   ]
  },
  {
   "cell_type": "code",
   "execution_count": 122,
   "id": "8753d3a0-771d-4a00-b4eb-ca2a55f112b8",
   "metadata": {},
   "outputs": [
    {
     "name": "stdout",
     "output_type": "stream",
     "text": [
      "100\n",
      "{'all_awardings': [], 'allow_live_comments': False, 'author': 'Throwawayoftheday98', 'author_flair_css_class': None, 'author_flair_richtext': [], 'author_flair_text': None, 'author_flair_type': 'text', 'author_fullname': 't2_u8z7gxe5', 'author_is_blocked': False, 'author_patreon_flair': False, 'author_premium': False, 'awarders': [], 'can_mod_post': False, 'contest_mode': True, 'created_utc': 1669077839, 'domain': 'self.AmItheAsshole', 'full_link': 'https://www.reddit.com/r/AmItheAsshole/comments/z1flma/aita_for_asking_my_cousin_not_to_invite_my_ex_to/', 'gildings': {}, 'id': 'z1flma', 'is_created_from_ads_ui': False, 'is_crosspostable': True, 'is_meta': False, 'is_original_content': False, 'is_reddit_media_domain': False, 'is_robot_indexable': True, 'is_self': True, 'is_video': False, 'link_flair_background_color': '', 'link_flair_richtext': [], 'link_flair_text_color': 'dark', 'link_flair_type': 'text', 'locked': False, 'media_only': False, 'no_follow': True, 'num_comments': 1, 'num_crossposts': 0, 'over_18': False, 'parent_whitelist_status': 'all_ads', 'permalink': '/r/AmItheAsshole/comments/z1flma/aita_for_asking_my_cousin_not_to_invite_my_ex_to/', 'pinned': False, 'pwls': 6, 'retrieved_on': 1669077849, 'score': 1, 'selftext': 'I (32 F) am an only child but have a big family. I’ve always been close with my cousin Ray (28M). I had a toxic relationship with one of his good friends when I was in my 20s. Let’s call him Luke.\\n\\nRay and Luke met in college, they were teammates on the basketball team. Once they graduated, Ray moved back to our hometown, Luke followed and they got an apartment together.\\n\\nI met Luke through Ray and we started intensely dating.\\n\\nThen I got pregnant and he started acting strangely toward me, told me he wasn’t ready for kids and it would get in the way of his future (which he thought was an NBA career 🙄). I had a miscarriage, which was absolutely devastating and traumatic at the time. He ghosted me shortly after, stopped returning any calls or texts. \\n\\nI didn’t see or talk to him again for years. That was 2015. In 2018, Rays little sister, got into a car accident. I went back home to be with family. At the hospital Luke apologized to me for how things ended and said he wasnt immature and didn’t appreciate what we had. We started hooking up again, poorest of judgment of my part. Things were good until I realized he had a girlfriend, who was pregnant. He had kicked her out and she was living with her parents, but they were still together.\\n\\nOnce, I found about her I flipped out. All the unresolved emotions of the miscarriage and the fact that he was having a baby with someone else sent me over the edge. I found her on media and messaged her that we had been hooking up and that same night I slashed his tires.\\n\\nHe was livid I told her. We had a big blow up resulting in him getting in my face. Told me to delete his number and he never wanted to see me again. It caused a bit a rift between Ray and I, I feel like he didn’t defend me. I get Luke is his best friend but I didn’t think a 6’7 dude should be in my face yelling and I expected my cousin to do more.\\n\\nAnyway life went on. I followed Luke’s instructions and haven’t seen or talked to  him since. He never made it to the NBA, but did manage to have another kid with another woman. I have since gotten married to an amazing man and we have a one year old. \\n\\nWe spent thanksgiving with my husbands family last year and had planned to spend with mine this year.\\n\\nRay and his wife recently bought a house and want to host, awesome. Rays wife let me know Luke will be at thanksgiving, not awesome. \\n\\nThe thought of seeing or talking to this man makes me sick. I cannot think of anything more awkward than sitting at a dinner table with my husband and someone I had such a dramatic past with.\\n\\nRays wife tried to talk to him about it and he told her I need to “get over it,” I told her to tell him if that’s the case he’s choosing friends over family and I won’t be there. \\n\\nI’m so upset. It’s not like this man is an orphan, he has a mother, a father, and not to mention 2 children he can spend the day with. Why does he have to spend thanksgiving with my family?', 'send_replies': True, 'spoiler': False, 'stickied': False, 'subreddit': 'AmItheAsshole', 'subreddit_id': 't5_2xhvq', 'subreddit_subscribers': 4813773, 'subreddit_type': 'public', 'suggested_sort': 'top', 'thumbnail': 'self', 'title': 'AITA for asking my cousin not to invite my ex to thanksgiving', 'total_awards_received': 0, 'treatment_tags': [], 'upvote_ratio': 1.0, 'url': 'https://www.reddit.com/r/AmItheAsshole/comments/z1flma/aita_for_asking_my_cousin_not_to_invite_my_ex_to/', 'whitelist_status': 'all_ads', 'wls': 6}\n"
     ]
    },
    {
     "name": "stderr",
     "output_type": "stream",
     "text": [
      "C:\\Users\\Sparrow\\AppData\\Local\\Temp\\ipykernel_22000\\1226572919.py:13: FutureWarning: The frame.append method is deprecated and will be removed from pandas in a future version. Use pandas.concat instead.\n",
      "  df.append(posts)\n"
     ]
    }
   ],
   "source": [
    "pushapi('AITA24',1669084842)"
   ]
  },
  {
   "cell_type": "code",
   "execution_count": 123,
   "id": "ca7748bb-1c05-480a-9355-392c2880c7db",
   "metadata": {},
   "outputs": [
    {
     "name": "stdout",
     "output_type": "stream",
     "text": [
      "100\n",
      "{'all_awardings': [], 'allow_live_comments': False, 'author': 'onlypratt', 'author_flair_background_color': '#3b2921', 'author_flair_css_class': None, 'author_flair_richtext': [], 'author_flair_template_id': '0f8d1b4a-f8a7-11e8-920b-0e93c922efde', 'author_flair_text': 'Partassipant [1]', 'author_flair_text_color': 'light', 'author_flair_type': 'text', 'author_fullname': 't2_45k3p14x', 'author_is_blocked': False, 'author_patreon_flair': False, 'author_premium': False, 'awarders': [], 'can_mod_post': False, 'contest_mode': True, 'created_utc': 1669072842, 'domain': 'self.AmItheAsshole', 'full_link': 'https://www.reddit.com/r/AmItheAsshole/comments/z1dpmt/aita_for_avoiding_my_friend_because_of_her_funny/', 'gildings': {}, 'id': 'z1dpmt', 'is_created_from_ads_ui': False, 'is_crosspostable': True, 'is_meta': False, 'is_original_content': False, 'is_reddit_media_domain': False, 'is_robot_indexable': True, 'is_self': True, 'is_video': False, 'link_flair_background_color': '', 'link_flair_richtext': [], 'link_flair_text_color': 'dark', 'link_flair_type': 'text', 'locked': False, 'media_only': False, 'no_follow': True, 'num_comments': 1, 'num_crossposts': 0, 'over_18': False, 'parent_whitelist_status': 'all_ads', 'permalink': '/r/AmItheAsshole/comments/z1dpmt/aita_for_avoiding_my_friend_because_of_her_funny/', 'pinned': False, 'pwls': 6, 'retrieved_on': 1669072853, 'score': 1, 'selftext': \"I (22F) have been friends with K (21F) for two years now. I consider her one of my best friends and she has expressed the same sentiments to me. She introduced me to a group of friends a year ago that quickly accepted me as one of their own. \\n\\nFour months ago one of our mutual friends B (28) used a slur that I found offensive. I privately asked B if they'd avoid saying that slur around me in the future. B freaked out on me and harassed me to the point where I needed to take a mental health break from the group. \\n\\nA month ago I began slowly talking to the group again and seemed to be welcome back with open arms. Last week, a mutual friend of K's reached out to me and told me that in order to remain in the group, I need to apologize to B. I refused, mainly because B hadn't apologized to me. 6/8 members of the group have deleted my number, blocked me, and refuse to meet up with me in person. \\n\\nK has remained my friend, but continues to be friends with the group. It doesn't bother me that she's still friends with them. I expected her to be. What bothers me is that she continues to talk about the group as if I never left. I've asked her to not talk about it for a few days because of how upsetting the situation is... yet she continues to tell me about the fun things they're doing with me gone. \\n\\nI understand that it's been a stressful time for her as well, but she didn't lose 6 close friends in the span of 24 hours. I have been avoiding her for three days now. I feel horrible for avoiding her, but I am not in the mental state to listen to stories involving my former friends. \\n\\nSo, AITA?\", 'send_replies': True, 'spoiler': False, 'stickied': False, 'subreddit': 'AmItheAsshole', 'subreddit_id': 't5_2xhvq', 'subreddit_subscribers': 4813557, 'subreddit_type': 'public', 'suggested_sort': 'top', 'thumbnail': 'self', 'title': 'AITA for avoiding my friend because of her funny stories?', 'total_awards_received': 0, 'treatment_tags': [], 'upvote_ratio': 1.0, 'url': 'https://www.reddit.com/r/AmItheAsshole/comments/z1dpmt/aita_for_avoiding_my_friend_because_of_her_funny/', 'whitelist_status': 'all_ads', 'wls': 6}\n"
     ]
    },
    {
     "name": "stderr",
     "output_type": "stream",
     "text": [
      "C:\\Users\\Sparrow\\AppData\\Local\\Temp\\ipykernel_22000\\1226572919.py:13: FutureWarning: The frame.append method is deprecated and will be removed from pandas in a future version. Use pandas.concat instead.\n",
      "  df.append(posts)\n"
     ]
    }
   ],
   "source": [
    "pushapi('AITA25',1669077839)"
   ]
  },
  {
   "cell_type": "code",
   "execution_count": 124,
   "id": "741c4fab-21fd-4e24-831d-210ccf772b18",
   "metadata": {},
   "outputs": [
    {
     "name": "stdout",
     "output_type": "stream",
     "text": [
      "100\n",
      "{'all_awardings': [], 'allow_live_comments': False, 'author': 'LezBeOwn', 'author_flair_css_class': None, 'author_flair_richtext': [], 'author_flair_text': None, 'author_flair_type': 'text', 'author_fullname': 't2_8w3nf', 'author_is_blocked': False, 'author_patreon_flair': False, 'author_premium': False, 'awarders': [], 'can_mod_post': False, 'contest_mode': False, 'created_utc': 1669066996, 'domain': 'self.AmItheAsshole', 'full_link': 'https://www.reddit.com/r/AmItheAsshole/comments/z1b80t/aita_if_i_tell_my_sister_exactly_why_i_blocked/', 'gildings': {}, 'id': 'z1b80t', 'is_created_from_ads_ui': False, 'is_crosspostable': False, 'is_meta': False, 'is_original_content': False, 'is_reddit_media_domain': False, 'is_robot_indexable': False, 'is_self': True, 'is_video': False, 'link_flair_background_color': '', 'link_flair_richtext': [], 'link_flair_text_color': 'dark', 'link_flair_type': 'text', 'locked': True, 'media_only': False, 'no_follow': True, 'num_comments': 1, 'num_crossposts': 0, 'over_18': False, 'parent_whitelist_status': 'all_ads', 'permalink': '/r/AmItheAsshole/comments/z1b80t/aita_if_i_tell_my_sister_exactly_why_i_blocked/', 'pinned': False, 'pwls': 6, 'removed_by_category': 'moderator', 'retrieved_on': 1669067007, 'score': 1, 'selftext': '[removed]', 'send_replies': True, 'spoiler': False, 'stickied': False, 'subreddit': 'AmItheAsshole', 'subreddit_id': 't5_2xhvq', 'subreddit_subscribers': 4813274, 'subreddit_type': 'public', 'suggested_sort': 'top', 'thumbnail': 'self', 'title': 'AITA if I tell my sister exactly why I blocked her husband on Facebook o', 'total_awards_received': 0, 'treatment_tags': [], 'upvote_ratio': 1.0, 'url': 'https://www.reddit.com/r/AmItheAsshole/comments/z1b80t/aita_if_i_tell_my_sister_exactly_why_i_blocked/', 'whitelist_status': 'all_ads', 'wls': 6}\n"
     ]
    },
    {
     "name": "stderr",
     "output_type": "stream",
     "text": [
      "C:\\Users\\Sparrow\\AppData\\Local\\Temp\\ipykernel_22000\\1226572919.py:13: FutureWarning: The frame.append method is deprecated and will be removed from pandas in a future version. Use pandas.concat instead.\n",
      "  df.append(posts)\n"
     ]
    }
   ],
   "source": [
    "pushapi('AITA26',1669072842)"
   ]
  },
  {
   "cell_type": "code",
   "execution_count": 125,
   "id": "346977a6-04e3-46f3-9b94-36a0bbb8001a",
   "metadata": {},
   "outputs": [
    {
     "name": "stdout",
     "output_type": "stream",
     "text": [
      "100\n",
      "{'all_awardings': [], 'allow_live_comments': False, 'author': 'Chemical_Anxiety_135', 'author_flair_css_class': None, 'author_flair_richtext': [], 'author_flair_text': None, 'author_flair_type': 'text', 'author_fullname': 't2_bzwf0b5i', 'author_is_blocked': False, 'author_patreon_flair': False, 'author_premium': False, 'awarders': [], 'can_mod_post': False, 'contest_mode': True, 'created_utc': 1669060972, 'domain': 'self.AmItheAsshole', 'full_link': 'https://www.reddit.com/r/AmItheAsshole/comments/z18n2o/aita_for_only_refunding_what_i_was_originally_paid/', 'gildings': {}, 'id': 'z18n2o', 'is_created_from_ads_ui': False, 'is_crosspostable': True, 'is_meta': False, 'is_original_content': False, 'is_reddit_media_domain': False, 'is_robot_indexable': True, 'is_self': True, 'is_video': False, 'link_flair_background_color': '', 'link_flair_richtext': [], 'link_flair_text_color': 'dark', 'link_flair_type': 'text', 'locked': False, 'media_only': False, 'no_follow': False, 'num_comments': 1, 'num_crossposts': 0, 'over_18': False, 'parent_whitelist_status': 'all_ads', 'permalink': '/r/AmItheAsshole/comments/z18n2o/aita_for_only_refunding_what_i_was_originally_paid/', 'pinned': False, 'pwls': 6, 'retrieved_on': 1669060982, 'score': 1, 'selftext': \"This is kind of a boring story but I've been genuinely wondering if I behaved badly here.\\n\\nOur house has a small guest area that we use for family visits and put on Air BnB when no one needs it. In 2020 we rented it out through the site to a grad student who was visiting our city for 3 months. She had financial support from her university for this. Before she actually arrived the pandemic hit. According to our Air BnB settings we did not have to give her a refund but we agreed to anyway because it w the right thing to do. Thing is that she never actually arranged to get the money and just kind of vanished.\\n\\nTwo years later I get a call, she is back in our city and wants to come stay with us or get the money back. This all felt a bit demanding coming out of the blue but I agreed to try get cash together. She went quiet again. Then a few days ago, at about 7pm on Friday night, she messaged me insisting that I must go to Western Union that weekend and pay her back. By now I'm quite annoyed because this has gone on for a while and I have a lot on, it's not that easy to just pop to Western Union. We argue a bit and eventually agree that I'll use Wise Transfer. She's about to go back to her home country and doesn't want my currency. She gives me an amount in her currency which I check before I pay her, and it's almost 25% more than I was paid her for original stay two years ago.\\n\\nI tell her she's made a mistake so she sends me the proof of what she paid to Air BnB in 2020, which was in her currency. Clearly exchange rates have changed in the last 2 years, so she paid me x in her money and I received y in mine but these amounts are no longer the same. \\n\\nI have told her sorry but I can only refund her  what I was paid. She's very upset and says at least we should split the difference because she's a student and this is a lot of money for her, which she needs for her family. I said no.\\n\\nShe does have a point that she's a student and we are employed. But I feel like if she was that desperate for the money she would not have waited 2 years to get it back, or at least would have requested it at the start of her trip here rather than waiting till she was leaving. So since this clearly isn't a financial emergency for her, I don't think I should have to take the hit for the exchange rate changing, which was obviously a strong possibility since she waited so long to sort this out. I'm also I'm super annoyed that she's made this so stressful, when I wasn't even obliged to refund her in the first place, and that's probably impacting my decision. AITA for pocky refunding exactly what I was paid in my own currency?\", 'send_replies': True, 'spoiler': False, 'stickied': False, 'subreddit': 'AmItheAsshole', 'subreddit_id': 't5_2xhvq', 'subreddit_subscribers': 4812972, 'subreddit_type': 'public', 'suggested_sort': 'top', 'thumbnail': 'self', 'title': 'AITA for only refunding what I was originally paid?', 'total_awards_received': 0, 'treatment_tags': [], 'upvote_ratio': 1.0, 'url': 'https://www.reddit.com/r/AmItheAsshole/comments/z18n2o/aita_for_only_refunding_what_i_was_originally_paid/', 'whitelist_status': 'all_ads', 'wls': 6}\n"
     ]
    },
    {
     "name": "stderr",
     "output_type": "stream",
     "text": [
      "C:\\Users\\Sparrow\\AppData\\Local\\Temp\\ipykernel_22000\\1226572919.py:13: FutureWarning: The frame.append method is deprecated and will be removed from pandas in a future version. Use pandas.concat instead.\n",
      "  df.append(posts)\n"
     ]
    }
   ],
   "source": [
    "pushapi('AITA27',1669066996)"
   ]
  },
  {
   "cell_type": "code",
   "execution_count": 126,
   "id": "ae40c73b-5d2d-4cba-b8da-d816b7d7aa83",
   "metadata": {},
   "outputs": [
    {
     "name": "stdout",
     "output_type": "stream",
     "text": [
      "100\n",
      "{'all_awardings': [], 'allow_live_comments': False, 'author': 'Fit-Acanthocephala-1', 'author_flair_css_class': None, 'author_flair_richtext': [], 'author_flair_text': None, 'author_flair_type': 'text', 'author_fullname': 't2_20vgh4tf', 'author_is_blocked': False, 'author_patreon_flair': False, 'author_premium': False, 'awarders': [], 'can_mod_post': False, 'contest_mode': True, 'created_utc': 1669055095, 'domain': 'self.AmItheAsshole', 'full_link': 'https://www.reddit.com/r/AmItheAsshole/comments/z162z7/wibta_if_i_dont_forgivelet_go_of_what_my_in_laws/', 'gildings': {}, 'id': 'z162z7', 'is_created_from_ads_ui': False, 'is_crosspostable': True, 'is_meta': False, 'is_original_content': False, 'is_reddit_media_domain': False, 'is_robot_indexable': True, 'is_self': True, 'is_video': False, 'link_flair_background_color': '', 'link_flair_richtext': [], 'link_flair_text_color': 'dark', 'link_flair_type': 'text', 'locked': False, 'media_only': False, 'no_follow': True, 'num_comments': 1, 'num_crossposts': 0, 'over_18': False, 'parent_whitelist_status': 'all_ads', 'permalink': '/r/AmItheAsshole/comments/z162z7/wibta_if_i_dont_forgivelet_go_of_what_my_in_laws/', 'pinned': False, 'pwls': 6, 'retrieved_on': 1669055106, 'score': 1, 'selftext': \"So my (28F) long-term boyfriend (29M) and I have had a dicey relationship with his parents for a while. The last couple of years have been especially bad. Here's some context: It seems like every time we make big decisions they have a problem with it. It feels like they still think we're children and aren't responsible enough to make our own decisions. Mind you, we've lived together for years and rarely have money issues. We've been together for almost 10 years, and at the mention of us getting engaged they blow up and tell us it's too soon. We just try to ignore that but it's hard to not feel like they don't like us together (specifically me). \\n\\nOn to the issue: \\n\\nEarlier this year we got sick on a trip, and had to cancel our plans with them. (The Rona) They we're furious, and basically told us to stop making excuses not to see them. We went low contact for a few months. The next time we saw them was at a wedding this summer, and they refused to talk to us the whole time we were there. They gave us the cold shoulder, and so we gave it back. Now it's been months since then, and they invited us for Thanksgiving. I told my bf that I wasn't planning to forgive them, and he got really upset with me. We got in an argument, and I ended up leaving for work shortly after. He says that they're getting old, and that it isn't worth it to continue to hold this grudge. I told him that I think that dropping it without an apology from them for their behavior will just teach them that they can walk all over us, and that we'll continue to forgive them everytime. I'm starting to feel like this might be petty to continue to hold this grudge. So reddit, WIBTA?\", 'send_replies': True, 'spoiler': False, 'stickied': False, 'subreddit': 'AmItheAsshole', 'subreddit_id': 't5_2xhvq', 'subreddit_subscribers': 4812727, 'subreddit_type': 'public', 'suggested_sort': 'top', 'thumbnail': 'self', 'title': \"WIBTA if I don't forgive/let go of what my in laws did?\", 'total_awards_received': 0, 'treatment_tags': [], 'upvote_ratio': 1.0, 'url': 'https://www.reddit.com/r/AmItheAsshole/comments/z162z7/wibta_if_i_dont_forgivelet_go_of_what_my_in_laws/', 'whitelist_status': 'all_ads', 'wls': 6}\n"
     ]
    },
    {
     "name": "stderr",
     "output_type": "stream",
     "text": [
      "C:\\Users\\Sparrow\\AppData\\Local\\Temp\\ipykernel_22000\\1226572919.py:13: FutureWarning: The frame.append method is deprecated and will be removed from pandas in a future version. Use pandas.concat instead.\n",
      "  df.append(posts)\n"
     ]
    }
   ],
   "source": [
    "pushapi('AITA28',1669060972)"
   ]
  },
  {
   "cell_type": "code",
   "execution_count": 127,
   "id": "036b3e3d-c4bd-423f-a02d-7ead3fb64d55",
   "metadata": {},
   "outputs": [
    {
     "name": "stdout",
     "output_type": "stream",
     "text": [
      "100\n",
      "{'all_awardings': [], 'allow_live_comments': False, 'author': 'remus_r3', 'author_flair_css_class': None, 'author_flair_richtext': [], 'author_flair_text': None, 'author_flair_type': 'text', 'author_fullname': 't2_7sqfu05h', 'author_is_blocked': False, 'author_patreon_flair': False, 'author_premium': False, 'awarders': [], 'can_mod_post': False, 'contest_mode': True, 'created_utc': 1669048868, 'domain': 'self.AmItheAsshole', 'full_link': 'https://www.reddit.com/r/AmItheAsshole/comments/z13hvp/aita_for_sitting_in_priority_seating_when_i_was/', 'gildings': {}, 'id': 'z13hvp', 'is_created_from_ads_ui': False, 'is_crosspostable': True, 'is_meta': False, 'is_original_content': False, 'is_reddit_media_domain': False, 'is_robot_indexable': True, 'is_self': True, 'is_video': False, 'link_flair_background_color': '', 'link_flair_richtext': [], 'link_flair_text_color': 'dark', 'link_flair_type': 'text', 'locked': False, 'media_only': False, 'no_follow': True, 'num_comments': 1, 'num_crossposts': 0, 'over_18': False, 'parent_whitelist_status': 'all_ads', 'permalink': '/r/AmItheAsshole/comments/z13hvp/aita_for_sitting_in_priority_seating_when_i_was/', 'pinned': False, 'pwls': 6, 'retrieved_on': 1669048879, 'score': 1, 'selftext': \"I (17F) went with a group of my friends (all also 17) to a Christmas event in my town, despite the fact I'm a strict no Christmas stuff till December 1st girl it was alot of fun and we really enjoyed ourselves \\n\\nNow I have a form of scoliosis where my back curves inwards more then most people's spines do, this leaves me with chronic pain \\n\\nEven just an hour of 2 of standing or walking can really start to hurt my back and I was stood in the cold for about 3 and half hours for this event not to mention a decent amount of walking to get food since all the food places were packed due to the event \\n\\nBy the time we got to the bus station I was in absolute agony to the point where litreal tears started out of one of my eyes is how bad it was \\n\\nThe bus was full to capacity cause of the event and everything so the only seats left were the two at the front for priority seating \\n\\nUsually I avoid those seats as I'm fully capable of standing but that night I just couldn't, a few people much older then me got on as well as a young mum and her friend and kids \\n\\nI had my bag on the seat near the window while I sat on the aisle, I don't usually want people sitting next to me on a bus due to events in past I'm not fully over \\n\\nI did however move over to allow a woman's little girl to sit down as she was young and couldn't really hold onto anything properly \\n\\nI heard the young mum whispering about how I should give up my seat and that the seats are for old people \\n\\nI know from the outset I don't look disabled or anything, I don't anything to help me walk (Walking stick, wheel chair, back brace, ect) simply cause I don't need them 99% of the time \\n\\nNon of the older people on the bus seemed to care or asked me to move (which if they had I'd have quietly explained about my scoliosis and why I needed to sit)\\n\\nBut it still made me feel like an asshole for not giving up my seat for someone who may have needed it more\", 'send_replies': True, 'spoiler': False, 'stickied': False, 'subreddit': 'AmItheAsshole', 'subreddit_id': 't5_2xhvq', 'subreddit_subscribers': 4812492, 'subreddit_type': 'public', 'suggested_sort': 'top', 'thumbnail': 'self', 'title': 'AITA for sitting in priority seating when I was having a pain flair up', 'total_awards_received': 0, 'treatment_tags': [], 'upvote_ratio': 1.0, 'url': 'https://www.reddit.com/r/AmItheAsshole/comments/z13hvp/aita_for_sitting_in_priority_seating_when_i_was/', 'whitelist_status': 'all_ads', 'wls': 6}\n"
     ]
    },
    {
     "name": "stderr",
     "output_type": "stream",
     "text": [
      "C:\\Users\\Sparrow\\AppData\\Local\\Temp\\ipykernel_22000\\1226572919.py:13: FutureWarning: The frame.append method is deprecated and will be removed from pandas in a future version. Use pandas.concat instead.\n",
      "  df.append(posts)\n"
     ]
    }
   ],
   "source": [
    "pushapi('AITA29',1669055095)"
   ]
  },
  {
   "cell_type": "code",
   "execution_count": 128,
   "id": "b40004ab-850c-4b14-bbc7-70c32e93d29a",
   "metadata": {},
   "outputs": [
    {
     "name": "stdout",
     "output_type": "stream",
     "text": [
      "100\n",
      "{'all_awardings': [], 'allow_live_comments': False, 'author': 'Bb_Ghosty', 'author_flair_css_class': None, 'author_flair_richtext': [], 'author_flair_text': None, 'author_flair_type': 'text', 'author_fullname': 't2_b45atafm', 'author_is_blocked': False, 'author_patreon_flair': False, 'author_premium': False, 'awarders': [], 'can_mod_post': False, 'contest_mode': False, 'created_utc': 1669042390, 'domain': 'self.AmItheAsshole', 'full_link': 'https://www.reddit.com/r/AmItheAsshole/comments/z10w4m/wibta_if_i_go_no_contact_with_all_my_parents/', 'gildings': {}, 'id': 'z10w4m', 'is_created_from_ads_ui': False, 'is_crosspostable': False, 'is_meta': False, 'is_original_content': False, 'is_reddit_media_domain': False, 'is_robot_indexable': False, 'is_self': True, 'is_video': False, 'link_flair_background_color': '', 'link_flair_richtext': [], 'link_flair_text_color': 'dark', 'link_flair_type': 'text', 'locked': True, 'media_only': False, 'no_follow': True, 'num_comments': 1, 'num_crossposts': 0, 'over_18': False, 'parent_whitelist_status': 'all_ads', 'permalink': '/r/AmItheAsshole/comments/z10w4m/wibta_if_i_go_no_contact_with_all_my_parents/', 'pinned': False, 'pwls': 6, 'removed_by_category': 'moderator', 'retrieved_on': 1669042401, 'score': 1, 'selftext': '[removed]', 'send_replies': True, 'spoiler': False, 'stickied': False, 'subreddit': 'AmItheAsshole', 'subreddit_id': 't5_2xhvq', 'subreddit_subscribers': 4812242, 'subreddit_type': 'public', 'suggested_sort': 'top', 'thumbnail': 'self', 'title': 'WIBTA if I go no contact with all my parents until someone finally tells me the truth?', 'total_awards_received': 0, 'treatment_tags': [], 'upvote_ratio': 1.0, 'url': 'https://www.reddit.com/r/AmItheAsshole/comments/z10w4m/wibta_if_i_go_no_contact_with_all_my_parents/', 'whitelist_status': 'all_ads', 'wls': 6}\n"
     ]
    },
    {
     "name": "stderr",
     "output_type": "stream",
     "text": [
      "C:\\Users\\Sparrow\\AppData\\Local\\Temp\\ipykernel_22000\\1226572919.py:13: FutureWarning: The frame.append method is deprecated and will be removed from pandas in a future version. Use pandas.concat instead.\n",
      "  df.append(posts)\n"
     ]
    }
   ],
   "source": [
    "pushapi('AITA30',1669048868)"
   ]
  },
  {
   "cell_type": "code",
   "execution_count": 129,
   "id": "7a568f31-0e8a-4c19-8da0-89720a809381",
   "metadata": {},
   "outputs": [
    {
     "name": "stdout",
     "output_type": "stream",
     "text": [
      "100\n",
      "{'all_awardings': [], 'allow_live_comments': False, 'author': 'McNunu_', 'author_flair_css_class': None, 'author_flair_richtext': [], 'author_flair_text': None, 'author_flair_type': 'text', 'author_fullname': 't2_haczf7vl', 'author_is_blocked': False, 'author_patreon_flair': False, 'author_premium': False, 'awarders': [], 'can_mod_post': False, 'contest_mode': True, 'created_utc': 1669031332, 'domain': 'self.AmItheAsshole', 'full_link': 'https://www.reddit.com/r/AmItheAsshole/comments/z0x16n/aita_for_demanding_an_answer_and_getting_pissed/', 'gildings': {}, 'id': 'z0x16n', 'is_created_from_ads_ui': False, 'is_crosspostable': True, 'is_meta': False, 'is_original_content': False, 'is_reddit_media_domain': False, 'is_robot_indexable': True, 'is_self': True, 'is_video': False, 'link_flair_background_color': '', 'link_flair_richtext': [], 'link_flair_text_color': 'dark', 'link_flair_type': 'text', 'locked': False, 'media_only': False, 'no_follow': True, 'num_comments': 1, 'num_crossposts': 0, 'over_18': False, 'parent_whitelist_status': 'all_ads', 'permalink': '/r/AmItheAsshole/comments/z0x16n/aita_for_demanding_an_answer_and_getting_pissed/', 'pinned': False, 'pwls': 6, 'retrieved_on': 1669031342, 'score': 1, 'selftext': 'I 26F fought with my husband (31m) last night.\\n\\nWe have fought a lot lately. He suddenly became quiet and stopped talking to me yesterday. I asked if I did something wrong, he shake his head no. I asked if he was tired. He said yeah. So I let it go.\\n\\nDuring dinner, I asked him again if everything is okay. Since he has been very quiet, barely talked to me. He kept saying \"it\\'s nothing. It\\'s nothing he hasn\\'t said before.\"\\n\\nI know then he was mad at me. There was something I did. I asked want did I do this time? What did I do wrong? \\n\\nHe just kept repeating\"it\\'s nothing he hasn\\'t said before. If I had to ask what I did wrong, then there\\'s no point saying.\" \\n\\nTo be very honest, I messed up a lot in this relationship. Recently I found out I have ADHD. And it explains a lot but it doesn\\'t really help in my relationships. Especially the fact that I have a memory of a goldfish. I have a hard time remembering my F ups. So unfortunately, I repeat my mistakes a lot.\\n\\nAnyway, I get why it\\'s frustrating to be with me. I know he is having a hard time. \\n\\nSo yesterday, I got really frustrated with him because he refused to say what I did wrong. I was so angry that I feels like my chest wanted to explode. I got verbally aggressive.\\n\\nI know I\\'m the AH for getting aggressive and verbally attacked with him. But AITA for asking him what I did wrong, probably for the hundred time in this relationship? Am I toxic?', 'send_replies': True, 'spoiler': False, 'stickied': False, 'subreddit': 'AmItheAsshole', 'subreddit_id': 't5_2xhvq', 'subreddit_subscribers': 4811928, 'subreddit_type': 'public', 'suggested_sort': 'top', 'thumbnail': 'self', 'title': 'AITA for demanding an answer and getting pissed for not getting an answer?', 'total_awards_received': 0, 'treatment_tags': [], 'upvote_ratio': 1.0, 'url': 'https://www.reddit.com/r/AmItheAsshole/comments/z0x16n/aita_for_demanding_an_answer_and_getting_pissed/', 'whitelist_status': 'all_ads', 'wls': 6}\n"
     ]
    },
    {
     "name": "stderr",
     "output_type": "stream",
     "text": [
      "C:\\Users\\Sparrow\\AppData\\Local\\Temp\\ipykernel_22000\\1226572919.py:13: FutureWarning: The frame.append method is deprecated and will be removed from pandas in a future version. Use pandas.concat instead.\n",
      "  df.append(posts)\n"
     ]
    }
   ],
   "source": [
    "pushapi('AITA31',1669042390)"
   ]
  },
  {
   "cell_type": "code",
   "execution_count": 130,
   "id": "895f216c-3083-47c5-89d3-de0b2fbbc6de",
   "metadata": {},
   "outputs": [
    {
     "name": "stdout",
     "output_type": "stream",
     "text": [
      "100\n",
      "{'all_awardings': [], 'allow_live_comments': False, 'author': 'ja_ty_', 'author_flair_css_class': None, 'author_flair_richtext': [], 'author_flair_text': None, 'author_flair_type': 'text', 'author_fullname': 't2_s42a75at', 'author_is_blocked': False, 'author_patreon_flair': False, 'author_premium': False, 'awarders': [], 'can_mod_post': False, 'contest_mode': True, 'created_utc': 1669016719, 'domain': 'self.AmItheAsshole', 'full_link': 'https://www.reddit.com/r/AmItheAsshole/comments/z0sy64/aita_for_kicking_my_friend_out_of_my_birthday/', 'gildings': {}, 'id': 'z0sy64', 'is_created_from_ads_ui': False, 'is_crosspostable': True, 'is_meta': False, 'is_original_content': False, 'is_reddit_media_domain': False, 'is_robot_indexable': True, 'is_self': True, 'is_video': False, 'link_flair_background_color': '', 'link_flair_richtext': [], 'link_flair_text_color': 'dark', 'link_flair_type': 'text', 'locked': False, 'media_only': False, 'no_follow': False, 'num_comments': 1, 'num_crossposts': 0, 'over_18': False, 'parent_whitelist_status': 'all_ads', 'permalink': '/r/AmItheAsshole/comments/z0sy64/aita_for_kicking_my_friend_out_of_my_birthday/', 'pinned': False, 'pwls': 6, 'retrieved_on': 1669016730, 'score': 1, 'selftext': 'It was my 21st birthday recently. For all my previous birthdays, I\\'ve had to do what my family wanted me to do, but this birthday, I finally got to plan my own party, and I went a bit overboard with it. I had really been wanting to go to this aesthetic Bistro in the town for a long time, and decided that I would finally go this time around with my friends. One of my friends (we\\'ll call her Alison) is a strict vegetarian, and does not eat anything in a restaurant that serves meat, due to religious reasons. She does not eat at my place either, so every time she\\'s over, I order food for her from an exclusively vegetarian restaurant. I always accomodate her wishes. I presented her with two alternatives: She could accompany us on my birthday if she wanted to, and have some drinks and I\\'d treat her later to food from a vegetarian restaurant. Or if she\\'d rather not come along, I could just meet her later and treat her. \\n\\nWell, to this, Alison told me that she\\'d rather just go to an exclusive vegetarian place and asked me to pick one. I told her that I had been wanting to go to this Bistro for a long time and wanted to celebrate my birthday there, but she told me that I should take her religious choices into consideration. We went back and forth about this before she agreed to let it go and come with for the celebration. \\n\\nOn the day of, everything went wrong. Alison would not stop making comments about me. I was wearing this cut out dress that was tight on the hips, and she kept telling me to go change the whole time because the dress \"wasn\\'t meant for my body type\". At the restaurant, Alison kept discussing her loudly, and whenever someone tried to talk about anything else, she\\'d end up diverting the topic to herself. She even kept asking my boyfriend if she looked pretty, and at one point, she grabbed his hand, and compared it to hers, exclaiming that hers was very small. I somehow stayed composed and let her comments pass, but couldn\\'t anymore when she asked me if she could borrow my dress sometime, adding how much better it would fit her body. I excused myself to the washroom, because I was close to tears. When I came back, my best friend and boyfriend were arguing with her, asking her to leave. Alison turns to me, and asks me if I wanted her to go. I told her I did. She started crying and told me that I was being a bitch. She said she wanted me to feel how disincluded she felt when I didn\\'t choose a vegetarian restaurant and that is why she was being mean all evening. I still told her she needed to go, and she did. \\n\\nI know what she did was messed up, but I\\'ve been feeling torn about my decision. I don\\'t know if I should have chosen an exclusive veg restaurant for her, or if I should have talked to her instead of throwing her out, now that I know that she was being mean because she felt disincluded. She\\'s pretty angry, and it\\'s gotten a bit ugly and I don\\'t know who is in the wrong anymore. \\n\\nAita?', 'send_replies': True, 'spoiler': False, 'stickied': False, 'subreddit': 'AmItheAsshole', 'subreddit_id': 't5_2xhvq', 'subreddit_subscribers': 4811567, 'subreddit_type': 'public', 'suggested_sort': 'top', 'thumbnail': 'self', 'title': 'AITA for kicking my friend out of my birthday celebration?', 'total_awards_received': 0, 'treatment_tags': [], 'upvote_ratio': 1.0, 'url': 'https://www.reddit.com/r/AmItheAsshole/comments/z0sy64/aita_for_kicking_my_friend_out_of_my_birthday/', 'whitelist_status': 'all_ads', 'wls': 6}\n"
     ]
    },
    {
     "name": "stderr",
     "output_type": "stream",
     "text": [
      "C:\\Users\\Sparrow\\AppData\\Local\\Temp\\ipykernel_22000\\1226572919.py:13: FutureWarning: The frame.append method is deprecated and will be removed from pandas in a future version. Use pandas.concat instead.\n",
      "  df.append(posts)\n"
     ]
    }
   ],
   "source": [
    "pushapi('AITA32',1669031332)"
   ]
  },
  {
   "cell_type": "code",
   "execution_count": 131,
   "id": "da823db8-8364-4e95-ba48-10151e68f88e",
   "metadata": {},
   "outputs": [
    {
     "name": "stdout",
     "output_type": "stream",
     "text": [
      "100\n",
      "{'all_awardings': [], 'allow_live_comments': False, 'author': 'welc2verizonwireless', 'author_flair_css_class': None, 'author_flair_richtext': [], 'author_flair_text': None, 'author_flair_type': 'text', 'author_fullname': 't2_ug6xhej9', 'author_is_blocked': False, 'author_patreon_flair': False, 'author_premium': False, 'awarders': [], 'can_mod_post': False, 'contest_mode': True, 'created_utc': 1669007854, 'domain': 'self.AmItheAsshole', 'full_link': 'https://www.reddit.com/r/AmItheAsshole/comments/z0qcax/aita_for_being_whitewashed/', 'gildings': {}, 'id': 'z0qcax', 'is_created_from_ads_ui': False, 'is_crosspostable': True, 'is_meta': False, 'is_original_content': False, 'is_reddit_media_domain': False, 'is_robot_indexable': True, 'is_self': True, 'is_video': False, 'link_flair_background_color': '', 'link_flair_richtext': [], 'link_flair_text_color': 'dark', 'link_flair_type': 'text', 'locked': False, 'media_only': False, 'no_follow': False, 'num_comments': 1, 'num_crossposts': 0, 'over_18': False, 'parent_whitelist_status': 'all_ads', 'permalink': '/r/AmItheAsshole/comments/z0qcax/aita_for_being_whitewashed/', 'pinned': False, 'pwls': 6, 'retrieved_on': 1669007865, 'score': 1, 'selftext': 'Throwaway account because some of my family members have Reddit.\\n\\nI (37f) was born and raised in the United States, though my parents came from India a few years before I was born.\\n\\nAs a teenager, I grew up in a very racist small town. People in high school made me hate my own culture. Some of my teachers use to also make fun of me because I\\'m Indian. Every night, I would cry. I would pray that I was white. So one day, I decided to start hating my own culture. I would secretly throw away the food my mom made me. I would stop listening to Tamil songs. At this point, my family knew how brainwashed I was, though they never did anything about it. I haven\\'t heard of the term, \"whitewashed\" until recently.\\n\\nOn the other hand, my sister (46F) came to the States when she was around 5 or 6. She was able to deal with the racist comments made at her. She still embraced her culture no matter what was in the way.\\n\\nAnyways, a few days ago me and my sister were planning a family get-together. She asked what type of Indian food should we get for the get-together. I asked her if we could also get fast food since my daughter (7F), husband (40M) and I didn\\'t prefer Indian food (P.S.: My husband\\'s family are white).\\n\\nMy sister got angry and said that my family was brainwashed by white people and should not even bother to come to the get-together, because I\\'m apparently not Indian at all. She stated that I never taught my daughter anything about my culture, and that I don\\'t think I identify as Indian.\\n\\nI got furious, me and my husband are living a happy life. We didn\\'t need my judgemental, fat sister to ruin it. I started cussing out at her and eventually it turned into an argument. I stormed out of her house.\\n\\nThat night, I was thinking about if I was whitewashed. I wanted to start knowing more of Indian culture, though at the same time I thought it was weird.\\n\\nI\\'m not sure what to do.\\n\\nAITA?', 'send_replies': True, 'spoiler': False, 'stickied': False, 'subreddit': 'AmItheAsshole', 'subreddit_id': 't5_2xhvq', 'subreddit_subscribers': 4811286, 'subreddit_type': 'public', 'suggested_sort': 'top', 'thumbnail': 'self', 'title': 'AITA for being whitewashed?', 'total_awards_received': 0, 'treatment_tags': [], 'upvote_ratio': 1.0, 'url': 'https://www.reddit.com/r/AmItheAsshole/comments/z0qcax/aita_for_being_whitewashed/', 'whitelist_status': 'all_ads', 'wls': 6}\n"
     ]
    },
    {
     "name": "stderr",
     "output_type": "stream",
     "text": [
      "C:\\Users\\Sparrow\\AppData\\Local\\Temp\\ipykernel_22000\\1226572919.py:13: FutureWarning: The frame.append method is deprecated and will be removed from pandas in a future version. Use pandas.concat instead.\n",
      "  df.append(posts)\n"
     ]
    }
   ],
   "source": [
    "pushapi('AITA33',1669016719)"
   ]
  },
  {
   "cell_type": "code",
   "execution_count": 132,
   "id": "79dcb8da-f61f-46d8-b20f-48728aaaf155",
   "metadata": {},
   "outputs": [
    {
     "name": "stdout",
     "output_type": "stream",
     "text": [
      "100\n",
      "{'all_awardings': [], 'allow_live_comments': False, 'author': 'Forward-Ad4409', 'author_flair_css_class': None, 'author_flair_richtext': [], 'author_flair_text': None, 'author_flair_type': 'text', 'author_fullname': 't2_sg2p415m', 'author_is_blocked': False, 'author_patreon_flair': False, 'author_premium': False, 'awarders': [], 'can_mod_post': False, 'contest_mode': True, 'created_utc': 1669001496, 'domain': 'self.AmItheAsshole', 'full_link': 'https://www.reddit.com/r/AmItheAsshole/comments/z0o8d2/aita_for_not_believing_in_a_forced_religion/', 'gildings': {}, 'id': 'z0o8d2', 'is_created_from_ads_ui': False, 'is_crosspostable': False, 'is_meta': False, 'is_original_content': False, 'is_reddit_media_domain': False, 'is_robot_indexable': False, 'is_self': True, 'is_video': False, 'link_flair_background_color': '', 'link_flair_richtext': [], 'link_flair_text_color': 'dark', 'link_flair_type': 'text', 'locked': False, 'media_only': False, 'no_follow': True, 'num_comments': 1, 'num_crossposts': 0, 'over_18': False, 'parent_whitelist_status': 'all_ads', 'permalink': '/r/AmItheAsshole/comments/z0o8d2/aita_for_not_believing_in_a_forced_religion/', 'pinned': False, 'pwls': 6, 'removed_by_category': 'reddit', 'retrieved_on': 1669001506, 'score': 1, 'selftext': '[removed]', 'send_replies': True, 'spoiler': False, 'stickied': False, 'subreddit': 'AmItheAsshole', 'subreddit_id': 't5_2xhvq', 'subreddit_subscribers': 4811009, 'subreddit_type': 'public', 'suggested_sort': 'top', 'thumbnail': 'self', 'title': 'AITA for not believing in a forced religion', 'total_awards_received': 0, 'treatment_tags': [], 'upvote_ratio': 1.0, 'url': 'https://www.reddit.com/r/AmItheAsshole/comments/z0o8d2/aita_for_not_believing_in_a_forced_religion/', 'whitelist_status': 'all_ads', 'wls': 6}\n"
     ]
    },
    {
     "name": "stderr",
     "output_type": "stream",
     "text": [
      "C:\\Users\\Sparrow\\AppData\\Local\\Temp\\ipykernel_22000\\1226572919.py:13: FutureWarning: The frame.append method is deprecated and will be removed from pandas in a future version. Use pandas.concat instead.\n",
      "  df.append(posts)\n"
     ]
    }
   ],
   "source": [
    "pushapi('AITA34',1669007854)"
   ]
  },
  {
   "cell_type": "code",
   "execution_count": 133,
   "id": "bd08031d-0ccb-4486-bcf6-67a18b5e6473",
   "metadata": {},
   "outputs": [
    {
     "name": "stdout",
     "output_type": "stream",
     "text": [
      "100\n",
      "{'all_awardings': [], 'allow_live_comments': False, 'author': 'FalconF4323V', 'author_flair_css_class': None, 'author_flair_richtext': [], 'author_flair_text': None, 'author_flair_type': 'text', 'author_fullname': 't2_2r0try1s', 'author_is_blocked': False, 'author_patreon_flair': False, 'author_premium': False, 'awarders': [], 'can_mod_post': False, 'contest_mode': True, 'created_utc': 1668994779, 'domain': 'self.AmItheAsshole', 'full_link': 'https://www.reddit.com/r/AmItheAsshole/comments/z0lu8p/wibta_if_i_withdraw_from_hostel_after_my_parents/', 'gildings': {}, 'id': 'z0lu8p', 'is_created_from_ads_ui': False, 'is_crosspostable': True, 'is_meta': False, 'is_original_content': False, 'is_reddit_media_domain': False, 'is_robot_indexable': True, 'is_self': True, 'is_video': False, 'link_flair_background_color': '', 'link_flair_richtext': [], 'link_flair_text_color': 'dark', 'link_flair_type': 'text', 'locked': False, 'media_only': False, 'no_follow': True, 'num_comments': 1, 'num_crossposts': 0, 'over_18': False, 'parent_whitelist_status': 'all_ads', 'permalink': '/r/AmItheAsshole/comments/z0lu8p/wibta_if_i_withdraw_from_hostel_after_my_parents/', 'pinned': False, 'pwls': 6, 'retrieved_on': 1668994789, 'score': 1, 'selftext': \"I [20F] just started college this year and since I plan to study abroad for my higher education, I thought it would be important to experience living away from home and my family.\\nAlthough the university I go to isn't that far from my place (45 mins approx without rush hour traffic) I still thought it would be important to kinda gain this experience.\\nFor some background info, I have OCD and BPD because of which the past few years have been very cruel on me. I knew I wasn't ready for this major change but still pushed myself as a means of overcoming my fears.\\n\\nMy parents are generally supportive but they don't really think mental health is a very important factor so a lot of times I've been dismissed by them. While applying for the hostel, right before my dad paid the fees he had specifically told me that this is an expensive payment and asked if I was totally sure.\\nOfc I nodded and he went ahead with it. Now, about 2 months in, I'm having the worst experience ever in hostel.\\nI feel lonely, disconnected and have started having nightmares about my hostel room, not to mention the almost daily breakdowns.\\nI've been home since the past 2 weeks and even though I'm not in the best position mentally, it is FAR better than the situation in hostel.\\nI want to withdraw and come back home because I don't mind traveling the distance daily now (initially I had a misunderstanding and thought it would take about 2 hrs to travel which would really exhaust me)\\n\\nThe biggest problem however is the fee policy. The university clearly states that if you withdraw after having stayed for 2 months or more, they will not refund the fees.\\nThe fees were really expensive and the thought of all that money going to waste is killing me with guilt but at the same time, I'm finally being able to cope with academics and take them seriously after a long time and don't want to jeopardize my mental health on purpose again.\\nI've spoken about feeling low whenever I go there with my parents but haven't talked to them about leaving yet. Knowing my parents, I'm sure this conversation will cause a lot of drama and honestly I'm just in a frail state rn and can't take fights.\", 'send_replies': True, 'spoiler': False, 'stickied': False, 'subreddit': 'AmItheAsshole', 'subreddit_id': 't5_2xhvq', 'subreddit_subscribers': 4810661, 'subreddit_type': 'public', 'suggested_sort': 'top', 'thumbnail': 'self', 'title': 'WIBTA if I withdraw from hostel after my parents specifically warned me about this potential situation?', 'total_awards_received': 0, 'treatment_tags': [], 'upvote_ratio': 1.0, 'url': 'https://www.reddit.com/r/AmItheAsshole/comments/z0lu8p/wibta_if_i_withdraw_from_hostel_after_my_parents/', 'whitelist_status': 'all_ads', 'wls': 6}\n"
     ]
    },
    {
     "name": "stderr",
     "output_type": "stream",
     "text": [
      "C:\\Users\\Sparrow\\AppData\\Local\\Temp\\ipykernel_22000\\1226572919.py:13: FutureWarning: The frame.append method is deprecated and will be removed from pandas in a future version. Use pandas.concat instead.\n",
      "  df.append(posts)\n"
     ]
    }
   ],
   "source": [
    "pushapi('AITA35',1669001496)"
   ]
  },
  {
   "cell_type": "code",
   "execution_count": 134,
   "id": "47cef390-587b-4189-9308-0457efbc7cd9",
   "metadata": {},
   "outputs": [
    {
     "name": "stdout",
     "output_type": "stream",
     "text": [
      "100\n",
      "{'all_awardings': [], 'allow_live_comments': False, 'author': 'Plane-Brush13fqe', 'author_flair_css_class': None, 'author_flair_richtext': [], 'author_flair_text': None, 'author_flair_type': 'text', 'author_fullname': 't2_ufznfylo', 'author_is_blocked': False, 'author_patreon_flair': False, 'author_premium': False, 'awarders': [], 'can_mod_post': False, 'contest_mode': False, 'created_utc': 1668988661, 'domain': 'self.AmItheAsshole', 'full_link': 'https://www.reddit.com/r/AmItheAsshole/comments/z0jk1f/aita_for_asking_my_girlfriend_not_to_like_a_photo/', 'gildings': {}, 'id': 'z0jk1f', 'is_created_from_ads_ui': False, 'is_crosspostable': False, 'is_meta': False, 'is_original_content': False, 'is_reddit_media_domain': False, 'is_robot_indexable': False, 'is_self': True, 'is_video': False, 'link_flair_background_color': '', 'link_flair_richtext': [], 'link_flair_text_color': 'dark', 'link_flair_type': 'text', 'locked': True, 'media_only': False, 'no_follow': True, 'num_comments': 1, 'num_crossposts': 0, 'over_18': False, 'parent_whitelist_status': 'all_ads', 'permalink': '/r/AmItheAsshole/comments/z0jk1f/aita_for_asking_my_girlfriend_not_to_like_a_photo/', 'pinned': False, 'pwls': 6, 'removed_by_category': 'moderator', 'retrieved_on': 1668988672, 'score': 1, 'selftext': '[removed]', 'send_replies': True, 'spoiler': False, 'stickied': False, 'subreddit': 'AmItheAsshole', 'subreddit_id': 't5_2xhvq', 'subreddit_subscribers': 4810380, 'subreddit_type': 'public', 'suggested_sort': 'top', 'thumbnail': 'self', 'title': 'AITA for asking my girlfriend not to like a photo of the guy who has feelings for her?', 'total_awards_received': 0, 'treatment_tags': [], 'upvote_ratio': 1.0, 'url': 'https://www.reddit.com/r/AmItheAsshole/comments/z0jk1f/aita_for_asking_my_girlfriend_not_to_like_a_photo/', 'whitelist_status': 'all_ads', 'wls': 6}\n"
     ]
    },
    {
     "name": "stderr",
     "output_type": "stream",
     "text": [
      "C:\\Users\\Sparrow\\AppData\\Local\\Temp\\ipykernel_22000\\1226572919.py:13: FutureWarning: The frame.append method is deprecated and will be removed from pandas in a future version. Use pandas.concat instead.\n",
      "  df.append(posts)\n"
     ]
    }
   ],
   "source": [
    "pushapi('AITA36',1668994779)"
   ]
  },
  {
   "cell_type": "code",
   "execution_count": 135,
   "id": "dff964c5-6283-4aa5-845b-3d9d3d0ee1b1",
   "metadata": {},
   "outputs": [
    {
     "name": "stdout",
     "output_type": "stream",
     "text": [
      "100\n",
      "{'all_awardings': [], 'allow_live_comments': False, 'author': 'Maxja1-SB2015', 'author_flair_css_class': None, 'author_flair_richtext': [], 'author_flair_text': None, 'author_flair_type': 'text', 'author_fullname': 't2_skm3pb3f', 'author_is_blocked': False, 'author_patreon_flair': False, 'author_premium': False, 'awarders': [], 'can_mod_post': False, 'contest_mode': False, 'created_utc': 1668982650, 'domain': 'self.AmItheAsshole', 'full_link': 'https://www.reddit.com/r/AmItheAsshole/comments/z0h3sj/aitah_for_blowing_over_leftover_soup_being_thrown/', 'gildings': {}, 'id': 'z0h3sj', 'is_created_from_ads_ui': False, 'is_crosspostable': True, 'is_meta': False, 'is_original_content': False, 'is_reddit_media_domain': False, 'is_robot_indexable': True, 'is_self': True, 'is_video': False, 'link_flair_background_color': '', 'link_flair_richtext': [], 'link_flair_text_color': 'dark', 'link_flair_type': 'text', 'locked': False, 'media_only': False, 'no_follow': False, 'num_comments': 1, 'num_crossposts': 0, 'over_18': False, 'parent_whitelist_status': 'all_ads', 'permalink': '/r/AmItheAsshole/comments/z0h3sj/aitah_for_blowing_over_leftover_soup_being_thrown/', 'pinned': False, 'pwls': 6, 'retrieved_on': 1668982660, 'score': 1, 'selftext': 'That\\'s exactly  what I said.  Finally, that time of the year were I can make my delicious homemade Italian tortellini sausage cream soup... yes, it\\'s my comfort  food. \\nMy MIL is staying with us, and she tends to clean the house while here, which I deeply  appreciate it.  But she has a tendency to ruin the things  I own.  I\\'m not overreacting or being over dramatic . Washing clothes  while we\\'re at work  my clothes have bleach  marks.  Everyone else\\'s is perfectly  fine.  Things of mine come up missing  and show up  in her room where she is staying example I had just received a brand new perfume I had been asking for  for a couple of years at that point . It went missing, and  she had no idea what I was talking  about. Then, when she left and we went to change out her sheets, I found my perfume bottles broken being used as a little flower vase. \\n\\n\\n\\nOf course, I spoke to my wife about this.  She blows me off by stating oh you know how my mom is  or \"she\\'s old, we won\\'t have her for that long let it go.  I don\\'t want to be the one who disrespects my wife\\'s  my mom, but damn her pettiness  gets old, especially  since my wife blows my issues off.\\n\\n\\nBut this woman does this to all the other siblings\\' spouses in regards to moving things around. \\n\\nOk, so to my beautiful delicious soup. \\n\\nI took my time and prepared  it. I was the only one to have a bowl cause by this time it was ready it was late in the day and everyone had eaten already. \\n\\nI see no one\\'s going to eat any, so I put the entire pot in the fridge  cause in my mind that\\'s my brunch, and I\\'m just going reheat it straight from the pot. \\n\\nIt should be noted I let my wife know that I put the soup in the fridge before laying  down for bed.\\n\\nI wake up I\\'m excited  for the fridge and no pot!\\nLook around and my pot is in the sink empty..... look around  maybe someone  put it in a to-go container. Don\\'t see it anywhere. \\n\\nSo I called my wife, and she said I threw it out.... I\\'m like, why? Why would you throw it out???\\nShe says we\\'ll you left it out all night...\\nNo, I didn\\'t  it was safe in the fridge, and I let you know this when I came to bed....\\n\\nI\\'m so upset 😡  I\\'m know what happened .... my MIL happened, and my wife is taking the blame,  so I won\\'t tell her mom anything .\\n\\nSo I\\'ve put my wife in the no talk no touch zone!  \\n\\nAm I the asshole???  I know it soup but  not just soup.... like I\\'m beyond pissed.\\n\\nSorry, all. I\\'m so mad it\\'s kinda laughable, and I\\'m just sad of the consistent disregard and disrespect', 'send_replies': True, 'spoiler': False, 'stickied': False, 'subreddit': 'AmItheAsshole', 'subreddit_id': 't5_2xhvq', 'subreddit_subscribers': 4810092, 'subreddit_type': 'public', 'suggested_sort': 'top', 'thumbnail': 'self', 'title': 'AITAH for blowing over leftover soup being thrown out', 'total_awards_received': 0, 'treatment_tags': [], 'upvote_ratio': 1.0, 'url': 'https://www.reddit.com/r/AmItheAsshole/comments/z0h3sj/aitah_for_blowing_over_leftover_soup_being_thrown/', 'whitelist_status': 'all_ads', 'wls': 6}\n"
     ]
    },
    {
     "name": "stderr",
     "output_type": "stream",
     "text": [
      "C:\\Users\\Sparrow\\AppData\\Local\\Temp\\ipykernel_22000\\1226572919.py:13: FutureWarning: The frame.append method is deprecated and will be removed from pandas in a future version. Use pandas.concat instead.\n",
      "  df.append(posts)\n"
     ]
    }
   ],
   "source": [
    "pushapi('AITA37',1668988661)"
   ]
  },
  {
   "cell_type": "code",
   "execution_count": 136,
   "id": "23f3dc94-5bc1-46a8-978e-3a602e21db08",
   "metadata": {},
   "outputs": [
    {
     "name": "stdout",
     "output_type": "stream",
     "text": [
      "100\n",
      "{'all_awardings': [], 'allow_live_comments': False, 'author': 'MadarasDragon', 'author_flair_css_class': None, 'author_flair_richtext': [], 'author_flair_text': None, 'author_flair_type': 'text', 'author_fullname': 't2_s54sy58x', 'author_is_blocked': False, 'author_patreon_flair': False, 'author_premium': False, 'awarders': [], 'can_mod_post': False, 'contest_mode': False, 'created_utc': 1668978624, 'domain': 'self.AmItheAsshole', 'full_link': 'https://www.reddit.com/r/AmItheAsshole/comments/z0fdyu/aita_for_not_wanting_to_attend_celebrations_or/', 'gildings': {}, 'id': 'z0fdyu', 'is_created_from_ads_ui': False, 'is_crosspostable': False, 'is_meta': False, 'is_original_content': False, 'is_reddit_media_domain': False, 'is_robot_indexable': False, 'is_self': True, 'is_video': False, 'link_flair_background_color': '', 'link_flair_richtext': [], 'link_flair_text_color': 'dark', 'link_flair_type': 'text', 'locked': True, 'media_only': False, 'no_follow': True, 'num_comments': 1, 'num_crossposts': 0, 'over_18': False, 'parent_whitelist_status': 'all_ads', 'permalink': '/r/AmItheAsshole/comments/z0fdyu/aita_for_not_wanting_to_attend_celebrations_or/', 'pinned': False, 'pwls': 6, 'removed_by_category': 'moderator', 'retrieved_on': 1668978635, 'score': 1, 'selftext': '[removed]', 'send_replies': True, 'spoiler': False, 'stickied': False, 'subreddit': 'AmItheAsshole', 'subreddit_id': 't5_2xhvq', 'subreddit_subscribers': 4809874, 'subreddit_type': 'public', 'suggested_sort': 'top', 'thumbnail': 'self', 'title': 'AITA for not wanting to attend celebrations or family events where my sister will be present to preserve my boundaries and peace of mind?', 'total_awards_received': 0, 'treatment_tags': [], 'upvote_ratio': 1.0, 'url': 'https://www.reddit.com/r/AmItheAsshole/comments/z0fdyu/aita_for_not_wanting_to_attend_celebrations_or/', 'whitelist_status': 'all_ads', 'wls': 6}\n"
     ]
    },
    {
     "name": "stderr",
     "output_type": "stream",
     "text": [
      "C:\\Users\\Sparrow\\AppData\\Local\\Temp\\ipykernel_22000\\1226572919.py:13: FutureWarning: The frame.append method is deprecated and will be removed from pandas in a future version. Use pandas.concat instead.\n",
      "  df.append(posts)\n"
     ]
    }
   ],
   "source": [
    "pushapi('AITA38',1668982650)"
   ]
  },
  {
   "cell_type": "code",
   "execution_count": 137,
   "id": "48b9918e-e949-4019-8273-0a601bf5471d",
   "metadata": {},
   "outputs": [
    {
     "name": "stdout",
     "output_type": "stream",
     "text": [
      "100\n",
      "{'all_awardings': [], 'allow_live_comments': False, 'author': 'Electrical_Cut_2643', 'author_flair_css_class': None, 'author_flair_richtext': [], 'author_flair_text': None, 'author_flair_type': 'text', 'author_fullname': 't2_q1ap88km', 'author_is_blocked': False, 'author_patreon_flair': False, 'author_premium': False, 'awarders': [], 'can_mod_post': False, 'contest_mode': True, 'created_utc': 1668973840, 'domain': 'self.AmItheAsshole', 'full_link': 'https://www.reddit.com/r/AmItheAsshole/comments/z0degr/aita_for_making_it_all_about_me/', 'gildings': {}, 'id': 'z0degr', 'is_created_from_ads_ui': False, 'is_crosspostable': True, 'is_meta': False, 'is_original_content': False, 'is_reddit_media_domain': False, 'is_robot_indexable': True, 'is_self': True, 'is_video': False, 'link_flair_background_color': '', 'link_flair_richtext': [], 'link_flair_text_color': 'dark', 'link_flair_type': 'text', 'locked': False, 'media_only': False, 'no_follow': True, 'num_comments': 1, 'num_crossposts': 0, 'over_18': False, 'parent_whitelist_status': 'all_ads', 'permalink': '/r/AmItheAsshole/comments/z0degr/aita_for_making_it_all_about_me/', 'pinned': False, 'pwls': 6, 'retrieved_on': 1668973851, 'score': 1, 'selftext': 'Im a highschool senior who just moved for my senior year I\\'m reaching the end of my first semester and I have to say I have had it good so far. I\\'m the Beta Club president (it was by default but still) I\\'ve been able to avoid tons of drama and I\\'ve got many places to sit at lunch. But, I wouldn\\'t be here if I was just saying that my life is all sunshine and rainbows. I met another new senior (I\\'ll call her C) who had a similar experience as me. I started talking to her at the third week of school when C got her new schedule and had started going to her new classes, which were almost similar to mine I saw her talking to the teacher at the end of US history I saw her schedule when and offered to help her to her new classes, C agreed and we talked while walking to French, she mentioned her situation and once I noticed it was the same as mine we hit off. Fast forward, I\\'m having lunch with my new friends, since I got lucky and was invited to sit with them, the rest of the table welcomed me with open arms. C used to sit at a different table and tried getting me to sit there but I declined since I liked where I was sitting. C then decided to sit with my table, who also welcomed her. Now for the \"problem\" Everytime I want to bring up a story from when I used to live in Chicago she\\'d bring up our similar situations and then say we had a lot in common, which was fine the first few times but now is real annoying because I constantly get cut off when I want to talk about my experience living in Chicago. I don\\'t know if this has to do with this but... -the extrovert of the table has noticed that she only sits there because of me and asked both of us about it, me being confused and C going silent - C and I are polar opposites in personalities, C being the model student, the kind of student your parents would compare you to and me being a reckless, loud, outspoken person. - C also refused to let me talk about the Beta Club all because she missed the application deadline and is still mad about it. -During AP Calc, me and this other guy trade answers now and then and C is like \"You shouldn\\'t talk to him, he\\'s not a good student like us,\" -C has really high standards for who she wants to hang out with people who are smart, nice, humble, normal and somewhat mature. Not to be rude but in day and age, you can only find people with 1 or 2 of these qualities. the normal one not being one since everyone is trying to be unique in some way and the people who she\\'s looking for are already with people they trust Getting back on track, am I the asshole for not liking when she cuts me off to tell everyone about our similar situations? I know I have a tendency to get mad over the tiniest things and make it about me, so if it is me then I\\'ll make sure to change for the better. I really don\\'t want there to be any problems between us since this is our first and last year together..', 'send_replies': True, 'spoiler': False, 'stickied': False, 'subreddit': 'AmItheAsshole', 'subreddit_id': 't5_2xhvq', 'subreddit_subscribers': 4809619, 'subreddit_type': 'public', 'suggested_sort': 'top', 'thumbnail': 'self', 'title': 'AITA for making it all about me?', 'total_awards_received': 0, 'treatment_tags': [], 'upvote_ratio': 1.0, 'url': 'https://www.reddit.com/r/AmItheAsshole/comments/z0degr/aita_for_making_it_all_about_me/', 'whitelist_status': 'all_ads', 'wls': 6}\n"
     ]
    },
    {
     "name": "stderr",
     "output_type": "stream",
     "text": [
      "C:\\Users\\Sparrow\\AppData\\Local\\Temp\\ipykernel_22000\\1226572919.py:13: FutureWarning: The frame.append method is deprecated and will be removed from pandas in a future version. Use pandas.concat instead.\n",
      "  df.append(posts)\n"
     ]
    }
   ],
   "source": [
    "pushapi('AITA39',1668978624)"
   ]
  },
  {
   "cell_type": "code",
   "execution_count": 138,
   "id": "f395465b-ed1b-4390-a90f-141f27a51f07",
   "metadata": {},
   "outputs": [
    {
     "name": "stdout",
     "output_type": "stream",
     "text": [
      "100\n",
      "{'all_awardings': [], 'allow_live_comments': False, 'author': 'Electrical_Cut_2643', 'author_flair_css_class': None, 'author_flair_richtext': [], 'author_flair_text': None, 'author_flair_type': 'text', 'author_fullname': 't2_q1ap88km', 'author_is_blocked': False, 'author_patreon_flair': False, 'author_premium': False, 'awarders': [], 'can_mod_post': False, 'contest_mode': False, 'created_utc': 1668969611, 'domain': 'self.AmItheAsshole', 'full_link': 'https://www.reddit.com/r/AmItheAsshole/comments/z0bo8m/aita_for_making_it_all_about_me/', 'gildings': {}, 'id': 'z0bo8m', 'is_created_from_ads_ui': False, 'is_crosspostable': False, 'is_meta': False, 'is_original_content': False, 'is_reddit_media_domain': False, 'is_robot_indexable': False, 'is_self': True, 'is_video': False, 'link_flair_background_color': '', 'link_flair_richtext': [], 'link_flair_text_color': 'dark', 'link_flair_type': 'text', 'locked': True, 'media_only': False, 'no_follow': True, 'num_comments': 1, 'num_crossposts': 0, 'over_18': False, 'parent_whitelist_status': 'all_ads', 'permalink': '/r/AmItheAsshole/comments/z0bo8m/aita_for_making_it_all_about_me/', 'pinned': False, 'pwls': 6, 'removed_by_category': 'moderator', 'retrieved_on': 1668969622, 'score': 1, 'selftext': '[removed]', 'send_replies': True, 'spoiler': False, 'stickied': False, 'subreddit': 'AmItheAsshole', 'subreddit_id': 't5_2xhvq', 'subreddit_subscribers': 4809403, 'subreddit_type': 'public', 'suggested_sort': 'top', 'thumbnail': 'self', 'title': 'AITA for making it all about me?', 'total_awards_received': 0, 'treatment_tags': [], 'upvote_ratio': 1.0, 'url': 'https://www.reddit.com/r/AmItheAsshole/comments/z0bo8m/aita_for_making_it_all_about_me/', 'whitelist_status': 'all_ads', 'wls': 6}\n"
     ]
    },
    {
     "name": "stderr",
     "output_type": "stream",
     "text": [
      "C:\\Users\\Sparrow\\AppData\\Local\\Temp\\ipykernel_22000\\1226572919.py:13: FutureWarning: The frame.append method is deprecated and will be removed from pandas in a future version. Use pandas.concat instead.\n",
      "  df.append(posts)\n"
     ]
    }
   ],
   "source": [
    "pushapi('AITA40',1668973840)"
   ]
  },
  {
   "cell_type": "code",
   "execution_count": 139,
   "id": "bd1c89b0-b8ef-4e8f-a045-b65a6ab71d92",
   "metadata": {},
   "outputs": [
    {
     "name": "stdout",
     "output_type": "stream",
     "text": [
      "100\n",
      "{'all_awardings': [], 'allow_live_comments': False, 'author': 'goosedrinkwine369', 'author_flair_css_class': None, 'author_flair_richtext': [], 'author_flair_text': None, 'author_flair_type': 'text', 'author_fullname': 't2_5kmyku99', 'author_is_blocked': False, 'author_patreon_flair': False, 'author_premium': False, 'awarders': [], 'can_mod_post': False, 'contest_mode': True, 'created_utc': 1668964076, 'domain': 'self.AmItheAsshole', 'full_link': 'https://www.reddit.com/r/AmItheAsshole/comments/z09bn4/aita_i_want_to_charge_my_brother_rent/', 'gildings': {}, 'id': 'z09bn4', 'is_created_from_ads_ui': False, 'is_crosspostable': True, 'is_meta': False, 'is_original_content': False, 'is_reddit_media_domain': False, 'is_robot_indexable': True, 'is_self': True, 'is_video': False, 'link_flair_background_color': '', 'link_flair_richtext': [], 'link_flair_text_color': 'dark', 'link_flair_type': 'text', 'locked': False, 'media_only': False, 'no_follow': True, 'num_comments': 1, 'num_crossposts': 0, 'over_18': False, 'parent_whitelist_status': 'all_ads', 'permalink': '/r/AmItheAsshole/comments/z09bn4/aita_i_want_to_charge_my_brother_rent/', 'pinned': False, 'pwls': 6, 'retrieved_on': 1668964087, 'score': 1, 'selftext': \"My younger brother (27M) is changing his job. His previous employer paid for his flat, all bills and he makes roughly £4000 a month. He is changing jobs and in the interim has no place to live. I've told he is more than welcome to stay with me (30F and my husband 32M) my husband and I agreed to charge him rent. We agreed on £200 and my brother says he is okay with this. My mother (62F) has said I am an asshole for thinking of charging him rent because he is finding his feet in a new job. Mind you...this new job will be paying him £400 A DAY. so he will be absolutely stacked. I figured £200 a month was doable but my Mum is really hamming it in that I am an awful sister, will land him in debt, shouldn't charge family rent etc etc to the point I am really second guessing myself?! So Reddit, make up my mind. AITA?\", 'send_replies': True, 'spoiler': False, 'stickied': False, 'subreddit': 'AmItheAsshole', 'subreddit_id': 't5_2xhvq', 'subreddit_subscribers': 4809160, 'subreddit_type': 'public', 'suggested_sort': 'top', 'thumbnail': 'self', 'title': 'AITA - I want to charge my brother rent', 'total_awards_received': 0, 'treatment_tags': [], 'upvote_ratio': 1.0, 'url': 'https://www.reddit.com/r/AmItheAsshole/comments/z09bn4/aita_i_want_to_charge_my_brother_rent/', 'whitelist_status': 'all_ads', 'wls': 6}\n"
     ]
    },
    {
     "name": "stderr",
     "output_type": "stream",
     "text": [
      "C:\\Users\\Sparrow\\AppData\\Local\\Temp\\ipykernel_22000\\1226572919.py:13: FutureWarning: The frame.append method is deprecated and will be removed from pandas in a future version. Use pandas.concat instead.\n",
      "  df.append(posts)\n"
     ]
    }
   ],
   "source": [
    "pushapi('AITA41',1668969611)"
   ]
  },
  {
   "cell_type": "code",
   "execution_count": 140,
   "id": "79fbb2b3-0b06-49cc-9373-97ae4cb1cd69",
   "metadata": {},
   "outputs": [
    {
     "name": "stdout",
     "output_type": "stream",
     "text": [
      "100\n",
      "{'all_awardings': [], 'allow_live_comments': False, 'author': 'CuteHeart2566', 'author_flair_css_class': None, 'author_flair_richtext': [], 'author_flair_text': None, 'author_flair_type': 'text', 'author_fullname': 't2_47u1mq8n', 'author_is_blocked': False, 'author_patreon_flair': False, 'author_premium': False, 'awarders': [], 'can_mod_post': False, 'contest_mode': True, 'created_utc': 1668958232, 'domain': 'self.AmItheAsshole', 'full_link': 'https://www.reddit.com/r/AmItheAsshole/comments/z06yeq/aita_for_not_wanting_to_like_peppers_and_tomatoes/', 'gildings': {}, 'id': 'z06yeq', 'is_created_from_ads_ui': False, 'is_crosspostable': True, 'is_meta': False, 'is_original_content': False, 'is_reddit_media_domain': False, 'is_robot_indexable': True, 'is_self': True, 'is_video': False, 'link_flair_background_color': '', 'link_flair_richtext': [], 'link_flair_text_color': 'dark', 'link_flair_type': 'text', 'locked': False, 'media_only': False, 'no_follow': True, 'num_comments': 1, 'num_crossposts': 0, 'over_18': False, 'parent_whitelist_status': 'all_ads', 'permalink': '/r/AmItheAsshole/comments/z06yeq/aita_for_not_wanting_to_like_peppers_and_tomatoes/', 'pinned': False, 'pwls': 6, 'retrieved_on': 1668958243, 'score': 1, 'selftext': \"I'm trying to eat healthier so more fruits and vegetables included in my diet and all that. I'm mainly fine with fruits since I have a sweet tooth. There are few vegetables I like however. Only carrots and cucumbers do I truly like and that's cuz the water in them make them taste sweet. I'll eat vegetables still but a couple of them that I refuse to have the most are sweet peppers and tomatoes. I don't know why. They just make me gag the second I put them in my mouth. Cooked or raw. And my mother knows this. I've felt that way about them all my life.\\n  \\nShe's telling me I need to expand my palete and somehow that means I need to force myself to like my two most hated vegetables? She hasn't been giving them to me more often, but she doesn't let me pick them out of my meals anymore when they're there and they just ruin the entire plate for me. And then when I make a face or something as someone naturally would when they're eating something they don't like she takes it as me being ungrateful. And I don't meant to disrespect her efforts to feed me. It's not like I'm entirely against expanding my palete either. There are a few vegetables other than carrots and cucumbers that taste good when they're cooked and seasoned right so I'd eat those. I've just been trying to tell her I can find other vegetables to like and I really don't see why I HAVE to like peppers and tomatoes.\", 'send_replies': True, 'spoiler': False, 'stickied': False, 'subreddit': 'AmItheAsshole', 'subreddit_id': 't5_2xhvq', 'subreddit_subscribers': 4808920, 'subreddit_type': 'public', 'suggested_sort': 'top', 'thumbnail': 'self', 'title': 'AITA for not wanting to like peppers and tomatoes like my mother wants me to?', 'total_awards_received': 0, 'treatment_tags': [], 'upvote_ratio': 1.0, 'url': 'https://www.reddit.com/r/AmItheAsshole/comments/z06yeq/aita_for_not_wanting_to_like_peppers_and_tomatoes/', 'whitelist_status': 'all_ads', 'wls': 6}\n"
     ]
    },
    {
     "name": "stderr",
     "output_type": "stream",
     "text": [
      "C:\\Users\\Sparrow\\AppData\\Local\\Temp\\ipykernel_22000\\1226572919.py:13: FutureWarning: The frame.append method is deprecated and will be removed from pandas in a future version. Use pandas.concat instead.\n",
      "  df.append(posts)\n"
     ]
    }
   ],
   "source": [
    "pushapi('AITA42',1668964076)"
   ]
  },
  {
   "cell_type": "code",
   "execution_count": 141,
   "id": "6ca252b9-ce12-4fa1-966b-69b17b10d63f",
   "metadata": {},
   "outputs": [
    {
     "name": "stdout",
     "output_type": "stream",
     "text": [
      "100\n",
      "{'all_awardings': [], 'allow_live_comments': False, 'author': 'Guilty_Mistake7504', 'author_flair_css_class': None, 'author_flair_richtext': [], 'author_flair_text': None, 'author_flair_type': 'text', 'author_fullname': 't2_uflcqe3k', 'author_is_blocked': False, 'author_patreon_flair': False, 'author_premium': False, 'awarders': [], 'can_mod_post': False, 'contest_mode': False, 'created_utc': 1668949475, 'domain': 'self.AmItheAsshole', 'full_link': 'https://www.reddit.com/r/AmItheAsshole/comments/z03mw3/aita_am_i_the_asshole_for_cheating_on_my_bf_after/', 'gildings': {}, 'id': 'z03mw3', 'is_created_from_ads_ui': False, 'is_crosspostable': False, 'is_meta': False, 'is_original_content': False, 'is_reddit_media_domain': False, 'is_robot_indexable': False, 'is_self': True, 'is_video': False, 'link_flair_background_color': '', 'link_flair_richtext': [], 'link_flair_text_color': 'dark', 'link_flair_type': 'text', 'locked': True, 'media_only': False, 'no_follow': True, 'num_comments': 1, 'num_crossposts': 0, 'over_18': False, 'parent_whitelist_status': 'all_ads', 'permalink': '/r/AmItheAsshole/comments/z03mw3/aita_am_i_the_asshole_for_cheating_on_my_bf_after/', 'pinned': False, 'pwls': 6, 'removed_by_category': 'moderator', 'retrieved_on': 1668949486, 'score': 1, 'selftext': '[removed]', 'send_replies': True, 'spoiler': False, 'stickied': False, 'subreddit': 'AmItheAsshole', 'subreddit_id': 't5_2xhvq', 'subreddit_subscribers': 4808637, 'subreddit_type': 'public', 'suggested_sort': 'top', 'thumbnail': 'self', 'title': 'AITA? Am i the asshole for cheating on my bf after being blackmailed by and old friend', 'total_awards_received': 0, 'treatment_tags': [], 'upvote_ratio': 1.0, 'url': 'https://www.reddit.com/r/AmItheAsshole/comments/z03mw3/aita_am_i_the_asshole_for_cheating_on_my_bf_after/', 'whitelist_status': 'all_ads', 'wls': 6}\n"
     ]
    },
    {
     "name": "stderr",
     "output_type": "stream",
     "text": [
      "C:\\Users\\Sparrow\\AppData\\Local\\Temp\\ipykernel_22000\\1226572919.py:13: FutureWarning: The frame.append method is deprecated and will be removed from pandas in a future version. Use pandas.concat instead.\n",
      "  df.append(posts)\n"
     ]
    }
   ],
   "source": [
    "pushapi('AITA43',1668958232)"
   ]
  },
  {
   "cell_type": "code",
   "execution_count": 142,
   "id": "de7a2f52-6e85-432e-912d-0fac3b340a37",
   "metadata": {},
   "outputs": [
    {
     "name": "stdout",
     "output_type": "stream",
     "text": [
      "100\n",
      "{'all_awardings': [], 'allow_live_comments': False, 'author': 'thatguy8290', 'author_flair_css_class': None, 'author_flair_richtext': [], 'author_flair_text': None, 'author_flair_type': 'text', 'author_fullname': 't2_nufjzbj1', 'author_is_blocked': False, 'author_patreon_flair': False, 'author_premium': False, 'awarders': [], 'can_mod_post': False, 'contest_mode': False, 'created_utc': 1668939288, 'domain': 'self.AmItheAsshole', 'full_link': 'https://www.reddit.com/r/AmItheAsshole/comments/z00lv4/aita_for_making_my_sister_and_her_gf_pay_a_hefty/', 'gildings': {}, 'id': 'z00lv4', 'is_created_from_ads_ui': False, 'is_crosspostable': False, 'is_meta': False, 'is_original_content': False, 'is_reddit_media_domain': False, 'is_robot_indexable': False, 'is_self': True, 'is_video': False, 'link_flair_background_color': '', 'link_flair_richtext': [], 'link_flair_text_color': 'dark', 'link_flair_type': 'text', 'locked': True, 'media_only': False, 'no_follow': True, 'num_comments': 1, 'num_crossposts': 0, 'over_18': False, 'parent_whitelist_status': 'all_ads', 'permalink': '/r/AmItheAsshole/comments/z00lv4/aita_for_making_my_sister_and_her_gf_pay_a_hefty/', 'pinned': False, 'pwls': 6, 'removed_by_category': 'moderator', 'retrieved_on': 1668939299, 'score': 1, 'selftext': '[removed]', 'send_replies': True, 'spoiler': False, 'stickied': False, 'subreddit': 'AmItheAsshole', 'subreddit_id': 't5_2xhvq', 'subreddit_subscribers': 4808374, 'subreddit_type': 'public', 'suggested_sort': 'top', 'thumbnail': 'self', 'title': 'AITA for making my sister and her gf pay a hefty hotel bill despite my husband and I saying we will?', 'total_awards_received': 0, 'treatment_tags': [], 'upvote_ratio': 1.0, 'url': 'https://www.reddit.com/r/AmItheAsshole/comments/z00lv4/aita_for_making_my_sister_and_her_gf_pay_a_hefty/', 'whitelist_status': 'all_ads', 'wls': 6}\n"
     ]
    },
    {
     "name": "stderr",
     "output_type": "stream",
     "text": [
      "C:\\Users\\Sparrow\\AppData\\Local\\Temp\\ipykernel_22000\\1226572919.py:13: FutureWarning: The frame.append method is deprecated and will be removed from pandas in a future version. Use pandas.concat instead.\n",
      "  df.append(posts)\n"
     ]
    }
   ],
   "source": [
    "pushapi('AITA44',1668949475)"
   ]
  },
  {
   "cell_type": "code",
   "execution_count": 143,
   "id": "9fe3da8a-a10e-4b73-91a3-4770f9029981",
   "metadata": {},
   "outputs": [
    {
     "name": "stdout",
     "output_type": "stream",
     "text": [
      "100\n",
      "{'all_awardings': [], 'allow_live_comments': False, 'author': 'Super-Zone-4778', 'author_flair_css_class': None, 'author_flair_richtext': [], 'author_flair_text': None, 'author_flair_type': 'text', 'author_fullname': 't2_8l7p3boz', 'author_is_blocked': False, 'author_patreon_flair': False, 'author_premium': False, 'awarders': [], 'can_mod_post': False, 'contest_mode': True, 'created_utc': 1668928504, 'domain': 'self.AmItheAsshole', 'full_link': 'https://www.reddit.com/r/AmItheAsshole/comments/yzxubl/aita_for_leaving_my_dads_house_early/', 'gildings': {}, 'id': 'yzxubl', 'is_created_from_ads_ui': False, 'is_crosspostable': True, 'is_meta': False, 'is_original_content': False, 'is_reddit_media_domain': False, 'is_robot_indexable': True, 'is_self': True, 'is_video': False, 'link_flair_background_color': '', 'link_flair_richtext': [], 'link_flair_text_color': 'dark', 'link_flair_type': 'text', 'locked': False, 'media_only': False, 'no_follow': True, 'num_comments': 1, 'num_crossposts': 0, 'over_18': False, 'parent_whitelist_status': 'all_ads', 'permalink': '/r/AmItheAsshole/comments/yzxubl/aita_for_leaving_my_dads_house_early/', 'pinned': False, 'pwls': 6, 'retrieved_on': 1668928515, 'score': 1, 'selftext': 'I(21F) have always had a good relationship with my dad(45M). He\\'s always been the one to spoil us whenever we see him. We know and appreciate all the things he\\'s done for us but it sorta ruined a portion of our relationship with him.My dad is technically a Disney dad, the type of dad who doesn\\'t know how to parent at all but can take his kids on trips.\\nOver the years My sister (18F) and I have realized our fathers flaws time and time again, But no flaw is more apparent than his drinking. Throughout my life my father has never not had a drink in his hand, where ever he goes, whatever time of day he always has a drink.\\nI feel like I\\'m damage control whenever he gets like that more than I am his kid.\\nAnyway my 21st birthday passed recently and this day is the reason I\\'m making this post\\nI had planned my birthday weeks in advance making sure everyone involved was aware of my plans every step of the way. I planned Thursday my sister and I would travel the hour and fifteen minutes to my dads house to go mini golfing with him, Friday my sister and I would drive back home and spend my actual birthday with my mom and stepdad, then Saturday I would spend the day shopping and spending the night at my best friends house. It\\'s a very long plan I can admit, the week of my birthday my best friend came down with strep throat then we decided to cancel our Saturday plans. So I updated the plan and informed everyone the change.\\nOn my birthday, my sister and I head over to my dads house, we get there at around 5pm, when we walked in the door my dad had invited a client to his house and didn\\'t tell us. My sister and are pretty shy and reserved so we don\\'t really like meeting new people, we decided to introduce ourselves and then go hang out in our shared room until our father was finished.\\n5 hours later at 10pm they still showed no signs of stoping. The mini golf places were probably close to closing and my sister and I were angry. If he was busy he could\\'ve told me the multiple times I told him the plan even the new plan.\\nMy sister finally tired of waiting just said \"so I got ready and came all the way over here for nothing\". I wasn\\'t even upset that what she said was mean or whatever all could do was agree.\\nWe made up a lie saying my sister couldn\\'t get her shift the next morning covered so we had to leave early to make sure she would get there for her 8am shift.\\nWe made sure we texted our dad when our stuff was already packed and asked him to come see us off. He was upset to say that least, he\\'s always been emotional especially about his kids so it wasn\\'t out of the usual to see him start to tear up but it still sucks to see no matter how angry I was at the time.\\nLater on the road on the phone with our mom telling her about what had just happened. I get a text from my dad saying\\n\\n\"Don\\'t blame me for anything\"\\n\\n\"Cool glad to know I ain\\'t sh*t to you\"\\n\\n\"Your so fu*king mean! You have no idea how much y\\'all hurt me!\"\\n\\nSo AITA?', 'send_replies': True, 'spoiler': False, 'stickied': False, 'subreddit': 'AmItheAsshole', 'subreddit_id': 't5_2xhvq', 'subreddit_subscribers': 4808121, 'subreddit_type': 'public', 'suggested_sort': 'top', 'thumbnail': 'self', 'title': 'AITA for leaving my dads house early', 'total_awards_received': 0, 'treatment_tags': [], 'upvote_ratio': 1.0, 'url': 'https://www.reddit.com/r/AmItheAsshole/comments/yzxubl/aita_for_leaving_my_dads_house_early/', 'whitelist_status': 'all_ads', 'wls': 6}\n"
     ]
    },
    {
     "name": "stderr",
     "output_type": "stream",
     "text": [
      "C:\\Users\\Sparrow\\AppData\\Local\\Temp\\ipykernel_22000\\1226572919.py:13: FutureWarning: The frame.append method is deprecated and will be removed from pandas in a future version. Use pandas.concat instead.\n",
      "  df.append(posts)\n"
     ]
    }
   ],
   "source": [
    "pushapi('AITA45',1668939288)"
   ]
  },
  {
   "cell_type": "code",
   "execution_count": 144,
   "id": "fc9d602d-4d32-4f0e-af8f-cbf8a1e5c38e",
   "metadata": {},
   "outputs": [
    {
     "name": "stdout",
     "output_type": "stream",
     "text": [
      "100\n",
      "{'all_awardings': [], 'allow_live_comments': False, 'author': 'Bumblebee_1238', 'author_flair_css_class': None, 'author_flair_richtext': [], 'author_flair_text': None, 'author_flair_type': 'text', 'author_fullname': 't2_c3ooa1i9', 'author_is_blocked': False, 'author_patreon_flair': False, 'author_premium': False, 'awarders': [], 'can_mod_post': False, 'contest_mode': True, 'created_utc': 1668921315, 'domain': 'self.AmItheAsshole', 'full_link': 'https://www.reddit.com/r/AmItheAsshole/comments/yzvvxv/aita_for_applying_to_college_without_my_mom/', 'gildings': {}, 'id': 'yzvvxv', 'is_created_from_ads_ui': False, 'is_crosspostable': True, 'is_meta': False, 'is_original_content': False, 'is_reddit_media_domain': False, 'is_robot_indexable': True, 'is_self': True, 'is_video': False, 'link_flair_background_color': '', 'link_flair_richtext': [], 'link_flair_text_color': 'dark', 'link_flair_type': 'text', 'locked': False, 'media_only': False, 'no_follow': True, 'num_comments': 1, 'num_crossposts': 0, 'over_18': False, 'parent_whitelist_status': 'all_ads', 'permalink': '/r/AmItheAsshole/comments/yzvvxv/aita_for_applying_to_college_without_my_mom/', 'pinned': False, 'pwls': 6, 'retrieved_on': 1668921325, 'score': 1, 'selftext': 'I (17F)am in my last year of high school. Ive told both my parents my plan and kept them updated on schools I wanted to go to. I have a rocky relationship with both my parents. They separated when I was 3 and I lived with my mom until I was 16 but moved in with my dad a little over a year ago mainly because of COVID (my mom has illnesses that put her at risk and cause her sensory sensitivities) but I was glad to move out because my mom was very toxic and emotional abusive for most of my life. I dont see her but she still tries to control what I do and where I go. Shes asked me to let her know every time I leave the house. I usually dont because I communicate with my dad when Im going out and forget to let her know. A while ago I heard from a friend, a college in our city was having a day they would pay the fee to apply to 5 colleges. So two days ago my friend told me she was going to the college and asked if I wanted to come. I thought we were going for a tour. My friend and I are very close and her mom will often bring me along on small things they do as a family. I told my dad where I was going and he was totally fine with it. When my friend and her mom picked me up I realized it was the day for applying and felt relieved that I could do it at the school instead of at home. We looked around at some programs and were there for a few hours. Her mom took a picture of me applying and sent it to my mom (she takes pictures of things were doing and sends them to my mom to help her feel included. My mom is usually very appreciative). A minute later my mom texted asking where I was. I told her I was at the college and that I applied with a smiley face. Didnt hear anything back. Then my dad texted asking where I was. I told him I was still at the college and I applied with a smiley face. Then he called and started yelling that my mom was freaking out on him asking why no one told her. He was mad that she was yelling at him and was essentially blaming me for making her angry (He does this a lot) and he asked me to call her to get her to stop bothering him. I called her and right away she said how embarrassed she was that she got this photo didnt know what was happening, she didnt know how to respond, she asked my dad where I was, he said something that triggered her, she was tired of being the bad guy just because people didnt follow her rules and that she could have taken me if she knew about it(which I dont agree with because of her disabilities)I told her that it was pretty spontaneous and I didnt intentionally not tell her. I apologized a bunch but she still kept yelling so I told her I had to go to work and hung up because my shift was soon and we were still at the college. My friends mom felt bad for starting the whole thing and my whole experience of applying for college was tainted. Its been 8 hours and I still havent heard from her. I feel bad. I could have just let her know what was happening so AITA?', 'send_replies': True, 'spoiler': False, 'stickied': False, 'subreddit': 'AmItheAsshole', 'subreddit_id': 't5_2xhvq', 'subreddit_subscribers': 4807914, 'subreddit_type': 'public', 'suggested_sort': 'top', 'thumbnail': 'self', 'title': 'AITA for applying to college without my mom', 'total_awards_received': 0, 'treatment_tags': [], 'upvote_ratio': 1.0, 'url': 'https://www.reddit.com/r/AmItheAsshole/comments/yzvvxv/aita_for_applying_to_college_without_my_mom/', 'whitelist_status': 'all_ads', 'wls': 6}\n"
     ]
    },
    {
     "name": "stderr",
     "output_type": "stream",
     "text": [
      "C:\\Users\\Sparrow\\AppData\\Local\\Temp\\ipykernel_22000\\1226572919.py:13: FutureWarning: The frame.append method is deprecated and will be removed from pandas in a future version. Use pandas.concat instead.\n",
      "  df.append(posts)\n"
     ]
    }
   ],
   "source": [
    "pushapi('AITA46',1668928504)"
   ]
  },
  {
   "cell_type": "code",
   "execution_count": 145,
   "id": "807f7e02-00c0-4b85-8a01-2859a01b1c87",
   "metadata": {},
   "outputs": [
    {
     "name": "stdout",
     "output_type": "stream",
     "text": [
      "100\n",
      "{'all_awardings': [], 'allow_live_comments': False, 'author': 'ivys2feet', 'author_flair_css_class': None, 'author_flair_richtext': [], 'author_flair_text': None, 'author_flair_type': 'text', 'author_fullname': 't2_u61lsv8o', 'author_is_blocked': False, 'author_patreon_flair': False, 'author_premium': False, 'awarders': [], 'can_mod_post': False, 'contest_mode': False, 'created_utc': 1668915547, 'domain': 'self.AmItheAsshole', 'full_link': 'https://www.reddit.com/r/AmItheAsshole/comments/yzu6gy/aita_for_treating_my_mil_like_a_child/', 'gildings': {}, 'id': 'yzu6gy', 'is_created_from_ads_ui': False, 'is_crosspostable': False, 'is_meta': False, 'is_original_content': False, 'is_reddit_media_domain': False, 'is_robot_indexable': False, 'is_self': True, 'is_video': False, 'link_flair_background_color': '', 'link_flair_richtext': [], 'link_flair_text_color': 'dark', 'link_flair_type': 'text', 'locked': True, 'media_only': False, 'no_follow': True, 'num_comments': 1, 'num_crossposts': 0, 'over_18': False, 'parent_whitelist_status': 'all_ads', 'permalink': '/r/AmItheAsshole/comments/yzu6gy/aita_for_treating_my_mil_like_a_child/', 'pinned': False, 'pwls': 6, 'removed_by_category': 'moderator', 'retrieved_on': 1668915557, 'score': 1, 'selftext': '[removed]', 'send_replies': True, 'spoiler': False, 'stickied': False, 'subreddit': 'AmItheAsshole', 'subreddit_id': 't5_2xhvq', 'subreddit_subscribers': 4807734, 'subreddit_type': 'public', 'suggested_sort': 'top', 'thumbnail': 'self', 'title': 'AITA For Treating My MIL Like a Child?', 'total_awards_received': 0, 'treatment_tags': [], 'upvote_ratio': 1.0, 'url': 'https://www.reddit.com/r/AmItheAsshole/comments/yzu6gy/aita_for_treating_my_mil_like_a_child/', 'whitelist_status': 'all_ads', 'wls': 6}\n"
     ]
    },
    {
     "name": "stderr",
     "output_type": "stream",
     "text": [
      "C:\\Users\\Sparrow\\AppData\\Local\\Temp\\ipykernel_22000\\1226572919.py:13: FutureWarning: The frame.append method is deprecated and will be removed from pandas in a future version. Use pandas.concat instead.\n",
      "  df.append(posts)\n"
     ]
    }
   ],
   "source": [
    "pushapi('AITA47',1668921315)"
   ]
  },
  {
   "cell_type": "code",
   "execution_count": 146,
   "id": "05ac8fa0-2e27-4d0e-9ccc-0cf3c3bdda0c",
   "metadata": {},
   "outputs": [
    {
     "name": "stdout",
     "output_type": "stream",
     "text": [
      "100\n",
      "{'all_awardings': [], 'allow_live_comments': False, 'author': 'Few-Suspect-tru', 'author_flair_css_class': None, 'author_flair_richtext': [], 'author_flair_text': None, 'author_flair_type': 'text', 'author_fullname': 't2_uf8wxufh', 'author_is_blocked': False, 'author_patreon_flair': False, 'author_premium': False, 'awarders': [], 'can_mod_post': False, 'contest_mode': False, 'created_utc': 1668908702, 'domain': 'self.AmItheAsshole', 'full_link': 'https://www.reddit.com/r/AmItheAsshole/comments/yzs13k/aita_for_a_too_hard_to_explain_title_but/', 'gildings': {}, 'id': 'yzs13k', 'is_created_from_ads_ui': False, 'is_crosspostable': False, 'is_meta': False, 'is_original_content': False, 'is_reddit_media_domain': False, 'is_robot_indexable': False, 'is_self': True, 'is_video': False, 'link_flair_background_color': '', 'link_flair_richtext': [], 'link_flair_text_color': 'dark', 'link_flair_type': 'text', 'locked': True, 'media_only': False, 'no_follow': True, 'num_comments': 1, 'num_crossposts': 0, 'over_18': False, 'parent_whitelist_status': 'all_ads', 'permalink': '/r/AmItheAsshole/comments/yzs13k/aita_for_a_too_hard_to_explain_title_but/', 'pinned': False, 'pwls': 6, 'removed_by_category': 'moderator', 'retrieved_on': 1668908712, 'score': 1, 'selftext': '[removed]', 'send_replies': True, 'spoiler': False, 'stickied': False, 'subreddit': 'AmItheAsshole', 'subreddit_id': 't5_2xhvq', 'subreddit_subscribers': 4807485, 'subreddit_type': 'public', 'suggested_sort': 'top', 'thumbnail': 'self', 'title': 'AITA for a too hard to explain title but seriously need to know so please read -&gt;', 'total_awards_received': 0, 'treatment_tags': [], 'upvote_ratio': 1.0, 'url': 'https://www.reddit.com/r/AmItheAsshole/comments/yzs13k/aita_for_a_too_hard_to_explain_title_but/', 'whitelist_status': 'all_ads', 'wls': 6}\n"
     ]
    },
    {
     "name": "stderr",
     "output_type": "stream",
     "text": [
      "C:\\Users\\Sparrow\\AppData\\Local\\Temp\\ipykernel_22000\\1226572919.py:13: FutureWarning: The frame.append method is deprecated and will be removed from pandas in a future version. Use pandas.concat instead.\n",
      "  df.append(posts)\n"
     ]
    }
   ],
   "source": [
    "pushapi('AITA48',1668915547)"
   ]
  },
  {
   "cell_type": "code",
   "execution_count": 147,
   "id": "fd103589-feb4-4f98-a86c-9d4b16cae3cd",
   "metadata": {},
   "outputs": [
    {
     "name": "stdout",
     "output_type": "stream",
     "text": [
      "100\n",
      "{'all_awardings': [], 'allow_live_comments': False, 'author': 'ladysaturno', 'author_flair_css_class': None, 'author_flair_richtext': [], 'author_flair_text': None, 'author_flair_type': 'text', 'author_fullname': 't2_udptvozz', 'author_is_blocked': False, 'author_patreon_flair': False, 'author_premium': False, 'awarders': [], 'can_mod_post': False, 'contest_mode': False, 'created_utc': 1668901213, 'domain': 'self.AmItheAsshole', 'full_link': 'https://www.reddit.com/r/AmItheAsshole/comments/yzpi5s/aita_for_reading_the_messages_my_friends/', 'gildings': {}, 'id': 'yzpi5s', 'is_created_from_ads_ui': False, 'is_crosspostable': False, 'is_meta': False, 'is_original_content': False, 'is_reddit_media_domain': False, 'is_robot_indexable': False, 'is_self': True, 'is_video': False, 'link_flair_background_color': '', 'link_flair_richtext': [], 'link_flair_text_color': 'dark', 'link_flair_type': 'text', 'locked': True, 'media_only': False, 'no_follow': True, 'num_comments': 1, 'num_crossposts': 0, 'over_18': False, 'parent_whitelist_status': 'all_ads', 'permalink': '/r/AmItheAsshole/comments/yzpi5s/aita_for_reading_the_messages_my_friends/', 'pinned': False, 'pwls': 6, 'removed_by_category': 'moderator', 'retrieved_on': 1668901224, 'score': 1, 'selftext': '[removed]', 'send_replies': True, 'spoiler': False, 'stickied': False, 'subreddit': 'AmItheAsshole', 'subreddit_id': 't5_2xhvq', 'subreddit_subscribers': 4807192, 'subreddit_type': 'public', 'suggested_sort': 'top', 'thumbnail': 'self', 'title': \"AITA for reading the messages my friend's boyfriend sent to her?\", 'total_awards_received': 0, 'treatment_tags': [], 'upvote_ratio': 1.0, 'url': 'https://www.reddit.com/r/AmItheAsshole/comments/yzpi5s/aita_for_reading_the_messages_my_friends/', 'whitelist_status': 'all_ads', 'wls': 6}\n"
     ]
    },
    {
     "name": "stderr",
     "output_type": "stream",
     "text": [
      "C:\\Users\\Sparrow\\AppData\\Local\\Temp\\ipykernel_22000\\1226572919.py:13: FutureWarning: The frame.append method is deprecated and will be removed from pandas in a future version. Use pandas.concat instead.\n",
      "  df.append(posts)\n"
     ]
    }
   ],
   "source": [
    "pushapi('AITA49',1668908702)"
   ]
  },
  {
   "cell_type": "code",
   "execution_count": 148,
   "id": "2773f708-f9d7-4f2e-91f1-9b36b1787e3b",
   "metadata": {},
   "outputs": [
    {
     "name": "stdout",
     "output_type": "stream",
     "text": [
      "100\n",
      "{'all_awardings': [], 'allow_live_comments': False, 'author': 'alejandravegaa', 'author_flair_css_class': None, 'author_flair_richtext': [], 'author_flair_text': None, 'author_flair_type': 'text', 'author_fullname': 't2_uf0zp8ix', 'author_is_blocked': False, 'author_patreon_flair': False, 'author_premium': False, 'awarders': [], 'can_mod_post': False, 'contest_mode': False, 'created_utc': 1668894655, 'domain': 'self.AmItheAsshole', 'full_link': 'https://www.reddit.com/r/AmItheAsshole/comments/yzn40x/aita_for_escaping_my_mothers_house/', 'gildings': {}, 'id': 'yzn40x', 'is_created_from_ads_ui': False, 'is_crosspostable': False, 'is_meta': False, 'is_original_content': False, 'is_reddit_media_domain': False, 'is_robot_indexable': False, 'is_self': True, 'is_video': False, 'link_flair_background_color': '', 'link_flair_richtext': [], 'link_flair_text_color': 'dark', 'link_flair_type': 'text', 'locked': True, 'media_only': False, 'no_follow': True, 'num_comments': 1, 'num_crossposts': 0, 'over_18': False, 'parent_whitelist_status': 'all_ads', 'permalink': '/r/AmItheAsshole/comments/yzn40x/aita_for_escaping_my_mothers_house/', 'pinned': False, 'pwls': 6, 'removed_by_category': 'moderator', 'retrieved_on': 1668894666, 'score': 1, 'selftext': '[removed]', 'send_replies': True, 'spoiler': False, 'stickied': False, 'subreddit': 'AmItheAsshole', 'subreddit_id': 't5_2xhvq', 'subreddit_subscribers': 4806932, 'subreddit_type': 'public', 'suggested_sort': 'top', 'thumbnail': 'self', 'title': \"AITA for escaping my mother's house?\", 'total_awards_received': 0, 'treatment_tags': [], 'upvote_ratio': 0.99, 'url': 'https://www.reddit.com/r/AmItheAsshole/comments/yzn40x/aita_for_escaping_my_mothers_house/', 'whitelist_status': 'all_ads', 'wls': 6}\n"
     ]
    },
    {
     "name": "stderr",
     "output_type": "stream",
     "text": [
      "C:\\Users\\Sparrow\\AppData\\Local\\Temp\\ipykernel_22000\\1226572919.py:13: FutureWarning: The frame.append method is deprecated and will be removed from pandas in a future version. Use pandas.concat instead.\n",
      "  df.append(posts)\n"
     ]
    }
   ],
   "source": [
    "pushapi('AITA50',1668901213)"
   ]
  },
  {
   "cell_type": "code",
   "execution_count": 149,
   "id": "ced0143c-e1ca-47fe-a7c3-704c0cb361fc",
   "metadata": {},
   "outputs": [
    {
     "name": "stdout",
     "output_type": "stream",
     "text": [
      "100\n",
      "{'all_awardings': [], 'allow_live_comments': False, 'author': 'urmom69-_-', 'author_flair_css_class': None, 'author_flair_richtext': [], 'author_flair_text': None, 'author_flair_type': 'text', 'author_fullname': 't2_d1eoyqoq', 'author_is_blocked': False, 'author_patreon_flair': False, 'author_premium': False, 'awarders': [], 'can_mod_post': False, 'contest_mode': True, 'created_utc': 1668889364, 'domain': 'self.AmItheAsshole', 'full_link': 'https://www.reddit.com/r/AmItheAsshole/comments/yzl5am/aita_for_using_the_washroom_at_work/', 'gildings': {}, 'id': 'yzl5am', 'is_created_from_ads_ui': False, 'is_crosspostable': True, 'is_meta': False, 'is_original_content': False, 'is_reddit_media_domain': False, 'is_robot_indexable': True, 'is_self': True, 'is_video': False, 'link_flair_background_color': '', 'link_flair_richtext': [], 'link_flair_text_color': 'dark', 'link_flair_type': 'text', 'locked': False, 'media_only': False, 'no_follow': False, 'num_comments': 1, 'num_crossposts': 0, 'over_18': False, 'parent_whitelist_status': 'all_ads', 'permalink': '/r/AmItheAsshole/comments/yzl5am/aita_for_using_the_washroom_at_work/', 'pinned': False, 'pwls': 6, 'retrieved_on': 1668889375, 'score': 1, 'selftext': 'i just started at a new job (cook at a theatre) and yesterday was the opening night. the place has been under repair for the past year due to a flood and so a majority of the bathrooms have been under repair. there are 3 washrooms in the building (downstairs/customer, backstage and upstairs) the upstairs bathrooms have not worked in over a year and so all the staff(kitchen staff included) have been using the backstage bathroom especially since we had customers in last night. no one except a few people are aware the upstairs bathrooms finally work and we have all been using the backstage washroom. the backstage washrooms have a toilet that randomly floods all the time. as customers were entering i was going to use the washroom and as customers were entering i went to the backstage bathrooms as i didn’t want to use the customer washroom. when i enter i flushed the toilet as there was paper in it but it starts flooding so i run out and get the mop and some stage crew comes to help and tells me to not to worry as the kitchen is slammed so i apologize and head back to the kitchen. half an hour later one of the stage crew comes into the kitchen screaming asking who used the bathroom last i say it was me and explain the situation. she starts cussing me out and calling me incompetent screaming at me i should never go backstage (not true as my manager told me) keep in mind this woman is not a manager and everything cleaned up quickly as everyone is used to this happening. i am in shock and break down crying, some coworkers comfort me and told me i did nothing wrong but i was very shaken up. i have been told this is a common occurrence with this lady as she excuses her behaviour with the explanation she is on the spectrum and has poor emotional disregulation, i am on the spectrum as well and completely understand that. i’m not sure what to do, i understand being corrected but how she acted was borderline abusive \\nand this seems to be a common occurrence. am i overreacting?', 'send_replies': True, 'spoiler': False, 'stickied': False, 'subreddit': 'AmItheAsshole', 'subreddit_id': 't5_2xhvq', 'subreddit_subscribers': 4806725, 'subreddit_type': 'public', 'suggested_sort': 'top', 'thumbnail': 'self', 'title': 'AITA for using the washroom at work', 'total_awards_received': 0, 'treatment_tags': [], 'upvote_ratio': 1.0, 'url': 'https://www.reddit.com/r/AmItheAsshole/comments/yzl5am/aita_for_using_the_washroom_at_work/', 'whitelist_status': 'all_ads', 'wls': 6}\n"
     ]
    },
    {
     "name": "stderr",
     "output_type": "stream",
     "text": [
      "C:\\Users\\Sparrow\\AppData\\Local\\Temp\\ipykernel_22000\\1226572919.py:13: FutureWarning: The frame.append method is deprecated and will be removed from pandas in a future version. Use pandas.concat instead.\n",
      "  df.append(posts)\n"
     ]
    }
   ],
   "source": [
    "pushapi('AITA51',1668894655)"
   ]
  },
  {
   "cell_type": "code",
   "execution_count": 150,
   "id": "25b840ea-1aee-4840-9786-37b1bac33a52",
   "metadata": {},
   "outputs": [
    {
     "name": "stdout",
     "output_type": "stream",
     "text": [
      "100\n",
      "{'all_awardings': [], 'allow_live_comments': False, 'author': 'UughAsIf', 'author_flair_css_class': None, 'author_flair_richtext': [], 'author_flair_text': None, 'author_flair_type': 'text', 'author_fullname': 't2_rxl997b0', 'author_is_blocked': False, 'author_patreon_flair': False, 'author_premium': False, 'awarders': [], 'can_mod_post': False, 'contest_mode': False, 'created_utc': 1668883995, 'domain': 'self.AmItheAsshole', 'full_link': 'https://www.reddit.com/r/AmItheAsshole/comments/yzj4co/aita_for_not_talking_to_my_dad_and_his_side_of/', 'gildings': {}, 'id': 'yzj4co', 'is_created_from_ads_ui': False, 'is_crosspostable': False, 'is_meta': False, 'is_original_content': False, 'is_reddit_media_domain': False, 'is_robot_indexable': False, 'is_self': True, 'is_video': False, 'link_flair_background_color': '', 'link_flair_richtext': [], 'link_flair_text_color': 'dark', 'link_flair_type': 'text', 'locked': True, 'media_only': False, 'no_follow': True, 'num_comments': 1, 'num_crossposts': 0, 'over_18': False, 'parent_whitelist_status': 'all_ads', 'permalink': '/r/AmItheAsshole/comments/yzj4co/aita_for_not_talking_to_my_dad_and_his_side_of/', 'pinned': False, 'pwls': 6, 'removed_by_category': 'moderator', 'retrieved_on': 1668884005, 'score': 1, 'selftext': '[removed]', 'send_replies': True, 'spoiler': False, 'stickied': False, 'subreddit': 'AmItheAsshole', 'subreddit_id': 't5_2xhvq', 'subreddit_subscribers': 4806528, 'subreddit_type': 'public', 'suggested_sort': 'top', 'thumbnail': 'self', 'title': 'AITA for not talking to my dad and his side of the family', 'total_awards_received': 0, 'treatment_tags': [], 'upvote_ratio': 1.0, 'url': 'https://www.reddit.com/r/AmItheAsshole/comments/yzj4co/aita_for_not_talking_to_my_dad_and_his_side_of/', 'whitelist_status': 'all_ads', 'wls': 6}\n"
     ]
    },
    {
     "name": "stderr",
     "output_type": "stream",
     "text": [
      "C:\\Users\\Sparrow\\AppData\\Local\\Temp\\ipykernel_22000\\1226572919.py:13: FutureWarning: The frame.append method is deprecated and will be removed from pandas in a future version. Use pandas.concat instead.\n",
      "  df.append(posts)\n"
     ]
    }
   ],
   "source": [
    "pushapi('AITA52',1668889364)"
   ]
  },
  {
   "cell_type": "code",
   "execution_count": 151,
   "id": "f5fb8bf6-6b78-4e1f-8d9b-3b9ed849112f",
   "metadata": {},
   "outputs": [
    {
     "name": "stdout",
     "output_type": "stream",
     "text": [
      "100\n",
      "{'all_awardings': [], 'allow_live_comments': False, 'author': 'binkiebootiesxx', 'author_flair_css_class': None, 'author_flair_richtext': [], 'author_flair_text': None, 'author_flair_type': 'text', 'author_fullname': 't2_s954furg', 'author_is_blocked': False, 'author_patreon_flair': False, 'author_premium': False, 'awarders': [], 'can_mod_post': False, 'contest_mode': False, 'created_utc': 1668877090, 'domain': 'self.AmItheAsshole', 'full_link': 'https://www.reddit.com/r/AmItheAsshole/comments/yzggdy/aita_if_i_told_my_boyfriend_im_going_to_take_the/', 'gildings': {}, 'id': 'yzggdy', 'is_created_from_ads_ui': False, 'is_crosspostable': False, 'is_meta': False, 'is_original_content': False, 'is_reddit_media_domain': False, 'is_robot_indexable': False, 'is_self': True, 'is_video': False, 'link_flair_background_color': '', 'link_flair_richtext': [], 'link_flair_text_color': 'dark', 'link_flair_type': 'text', 'locked': True, 'media_only': False, 'no_follow': True, 'num_comments': 1, 'num_crossposts': 0, 'over_18': False, 'parent_whitelist_status': 'all_ads', 'permalink': '/r/AmItheAsshole/comments/yzggdy/aita_if_i_told_my_boyfriend_im_going_to_take_the/', 'pinned': False, 'pwls': 6, 'removed_by_category': 'moderator', 'retrieved_on': 1668877100, 'score': 1, 'selftext': '[removed]', 'send_replies': True, 'spoiler': False, 'stickied': False, 'subreddit': 'AmItheAsshole', 'subreddit_id': 't5_2xhvq', 'subreddit_subscribers': 4806292, 'subreddit_type': 'public', 'suggested_sort': 'top', 'thumbnail': 'self', 'title': 'AITA if I told my boyfriend I’m going to take the money he owes me out of his tax refund?', 'total_awards_received': 0, 'treatment_tags': [], 'upvote_ratio': 1.0, 'url': 'https://www.reddit.com/r/AmItheAsshole/comments/yzggdy/aita_if_i_told_my_boyfriend_im_going_to_take_the/', 'whitelist_status': 'all_ads', 'wls': 6}\n"
     ]
    },
    {
     "name": "stderr",
     "output_type": "stream",
     "text": [
      "C:\\Users\\Sparrow\\AppData\\Local\\Temp\\ipykernel_22000\\1226572919.py:13: FutureWarning: The frame.append method is deprecated and will be removed from pandas in a future version. Use pandas.concat instead.\n",
      "  df.append(posts)\n"
     ]
    }
   ],
   "source": [
    "pushapi('AITA53',1668883995)"
   ]
  },
  {
   "cell_type": "code",
   "execution_count": 152,
   "id": "70501053-d7bf-4be7-9ad7-01d4eab38421",
   "metadata": {},
   "outputs": [
    {
     "name": "stdout",
     "output_type": "stream",
     "text": [
      "100\n",
      "{'all_awardings': [], 'allow_live_comments': False, 'author': 'Wonderful_Detail_923', 'author_flair_css_class': None, 'author_flair_richtext': [], 'author_flair_text': None, 'author_flair_type': 'text', 'author_fullname': 't2_nio7uutm', 'author_is_blocked': False, 'author_patreon_flair': False, 'author_premium': False, 'awarders': [], 'can_mod_post': False, 'contest_mode': False, 'created_utc': 1668869398, 'domain': 'self.AmItheAsshole', 'full_link': 'https://www.reddit.com/r/AmItheAsshole/comments/yzdk6c/aita_for_being_upset_that_my_husband_locked_me/', 'gildings': {}, 'id': 'yzdk6c', 'is_created_from_ads_ui': False, 'is_crosspostable': False, 'is_meta': False, 'is_original_content': False, 'is_reddit_media_domain': False, 'is_robot_indexable': False, 'is_self': True, 'is_video': False, 'link_flair_background_color': '', 'link_flair_richtext': [], 'link_flair_text_color': 'dark', 'link_flair_type': 'text', 'locked': True, 'media_only': False, 'no_follow': True, 'num_comments': 1, 'num_crossposts': 0, 'over_18': False, 'parent_whitelist_status': 'all_ads', 'permalink': '/r/AmItheAsshole/comments/yzdk6c/aita_for_being_upset_that_my_husband_locked_me/', 'pinned': False, 'pwls': 6, 'removed_by_category': 'moderator', 'retrieved_on': 1668869409, 'score': 1, 'selftext': '[removed]', 'send_replies': True, 'spoiler': False, 'stickied': False, 'subreddit': 'AmItheAsshole', 'subreddit_id': 't5_2xhvq', 'subreddit_subscribers': 4806050, 'subreddit_type': 'public', 'suggested_sort': 'top', 'thumbnail': 'self', 'title': 'AITA for being upset that my husband locked me out of the house, “accidentally”?', 'total_awards_received': 0, 'treatment_tags': [], 'upvote_ratio': 1.0, 'url': 'https://www.reddit.com/r/AmItheAsshole/comments/yzdk6c/aita_for_being_upset_that_my_husband_locked_me/', 'whitelist_status': 'all_ads', 'wls': 6}\n"
     ]
    },
    {
     "name": "stderr",
     "output_type": "stream",
     "text": [
      "C:\\Users\\Sparrow\\AppData\\Local\\Temp\\ipykernel_22000\\1226572919.py:13: FutureWarning: The frame.append method is deprecated and will be removed from pandas in a future version. Use pandas.concat instead.\n",
      "  df.append(posts)\n"
     ]
    }
   ],
   "source": [
    "pushapi('AITA54',1668877090)"
   ]
  },
  {
   "cell_type": "code",
   "execution_count": 153,
   "id": "0e804774-c23d-4977-8fae-5b1470ec1c0c",
   "metadata": {},
   "outputs": [
    {
     "name": "stdout",
     "output_type": "stream",
     "text": [
      "100\n",
      "{'all_awardings': [], 'allow_live_comments': False, 'author': 'gwyneth_maxene', 'author_flair_css_class': None, 'author_flair_richtext': [], 'author_flair_text': None, 'author_flair_type': 'text', 'author_fullname': 't2_dbhcdcp0', 'author_is_blocked': False, 'author_patreon_flair': False, 'author_premium': False, 'awarders': [], 'can_mod_post': False, 'contest_mode': True, 'created_utc': 1668854950, 'domain': 'self.AmItheAsshole', 'full_link': 'https://www.reddit.com/r/AmItheAsshole/comments/yz96rx/aita_for_yelling_at_my_sister_to_get_out/', 'gildings': {}, 'id': 'yz96rx', 'is_created_from_ads_ui': False, 'is_crosspostable': True, 'is_meta': False, 'is_original_content': False, 'is_reddit_media_domain': False, 'is_robot_indexable': True, 'is_self': True, 'is_video': False, 'link_flair_background_color': '', 'link_flair_richtext': [], 'link_flair_text_color': 'dark', 'link_flair_type': 'text', 'locked': False, 'media_only': False, 'no_follow': True, 'num_comments': 1, 'num_crossposts': 0, 'over_18': False, 'parent_whitelist_status': 'all_ads', 'permalink': '/r/AmItheAsshole/comments/yz96rx/aita_for_yelling_at_my_sister_to_get_out/', 'pinned': False, 'pwls': 6, 'retrieved_on': 1668854961, 'score': 1, 'selftext': \"I'm a 14 yr old female with two older sisters. My sister and I don't get along that much, and between the three of us, I was the one who was always left out. This incident happened during the weekend. It was 1 AM, and I was asleep until I heard the water faucet in the bathroom running. ( I currently sleep in my grandparent's room alone, and the room has its own bathroom) When I went to check who opened the faucet, I saw my second-oldest sister filling the mop bucket with water. I asked her what she was doing she said that she was going to mop so she was filling the bucket with water. I got annoyed since it was 1 AM and was telling her to get out, but she didn't, and she just stayed silent and continued filling the bucket with water. I got progressively more annoyed, and I started raising my voice. \\n\\nMy eldest sister went into the room and told us that we were too loud and that we might wake up my grandmother. I was trying to explain what was happening, and she said that I was being entitled. I got angry and was telling them to get out. I started to give little kicks (which I didn't put much strength into) for them to get out, and when I did that, my eldest sister got angry and started kicking me for real. She kicked me right in the middle of my chest, and it hurt a lot that it was hard for me to breathe for a good minute. After that, I kept crying because it hurt, and they said I was being dramatic.\\n\\nWas I in the wrong for telling her to get out?\", 'send_replies': True, 'spoiler': False, 'stickied': False, 'subreddit': 'AmItheAsshole', 'subreddit_id': 't5_2xhvq', 'subreddit_subscribers': 4805687, 'subreddit_type': 'public', 'suggested_sort': 'top', 'thumbnail': 'self', 'title': 'AITA for yelling at my sister to get out?', 'total_awards_received': 0, 'treatment_tags': [], 'upvote_ratio': 1.0, 'url': 'https://www.reddit.com/r/AmItheAsshole/comments/yz96rx/aita_for_yelling_at_my_sister_to_get_out/', 'whitelist_status': 'all_ads', 'wls': 6}\n"
     ]
    },
    {
     "name": "stderr",
     "output_type": "stream",
     "text": [
      "C:\\Users\\Sparrow\\AppData\\Local\\Temp\\ipykernel_22000\\1226572919.py:13: FutureWarning: The frame.append method is deprecated and will be removed from pandas in a future version. Use pandas.concat instead.\n",
      "  df.append(posts)\n"
     ]
    }
   ],
   "source": [
    "pushapi('AITA55',1668869398)"
   ]
  },
  {
   "cell_type": "code",
   "execution_count": 154,
   "id": "ebd096f9-7c58-458c-b0c0-92665b6b0c31",
   "metadata": {},
   "outputs": [
    {
     "name": "stdout",
     "output_type": "stream",
     "text": [
      "100\n",
      "{'all_awardings': [], 'allow_live_comments': False, 'author': 'kayleewrites', 'author_flair_css_class': None, 'author_flair_richtext': [], 'author_flair_text': None, 'author_flair_type': 'text', 'author_fullname': 't2_baoy8waq', 'author_is_blocked': False, 'author_patreon_flair': False, 'author_premium': False, 'awarders': [], 'can_mod_post': False, 'contest_mode': True, 'created_utc': 1668844655, 'domain': 'self.AmItheAsshole', 'full_link': 'https://www.reddit.com/r/AmItheAsshole/comments/yz6q04/aita_for_only_giving_my_exs_mom_35_hours_a_week/', 'gildings': {}, 'id': 'yz6q04', 'is_created_from_ads_ui': False, 'is_crosspostable': True, 'is_meta': False, 'is_original_content': False, 'is_reddit_media_domain': False, 'is_robot_indexable': True, 'is_self': True, 'is_video': False, 'link_flair_background_color': '', 'link_flair_richtext': [], 'link_flair_text_color': 'dark', 'link_flair_type': 'text', 'locked': False, 'media_only': False, 'no_follow': True, 'num_comments': 1, 'num_crossposts': 0, 'over_18': False, 'parent_whitelist_status': 'all_ads', 'permalink': '/r/AmItheAsshole/comments/yz6q04/aita_for_only_giving_my_exs_mom_35_hours_a_week/', 'pinned': False, 'pwls': 6, 'retrieved_on': 1668844665, 'score': 1, 'selftext': 'I am on a mobile so I will keep this short.\\n\\nI (38F) have a 9 month daughter.  Her dad and I broke up while k was pregnant and even though co parenting is going well, we have had our ups and downs.  He lives about two and a half hours away and works nights, so he comes down about once a week on his day off but he video chats every single day. \\n\\nHis mom also lives about two hours away but she is OBSESSED with our daughter.  I know it is her first grand baby but she is cookoo for coco puffs over her.  She has made comments about killing herself if she cannot see her (I told her if I ever heard that talk again I would hang up, call  an ambulance and have her committed) \\n\\nShe also isn’t nice, when she doesn’t get her way she attacks verbally, saying I’m the anti christ because I’m not Catholic, saying her son is a coward because he won’t stick up for his mom, she has made fun of my other two children from a previous relationship.  I gave her one final chance and said if she attacked me again I wouldn’t allow her to be around myself or my other children.  That lasted about a day and she verbally attacked us all again.  \\nMoving forward I told her that she can see our daughter every Tuesday from 11:30 ( the time her bus gets in) until 3.  She is complaining to her son that it isn’t long enough and our daughter will suffer, but he keeps telling her that she made her own bed and to be lucky she gets any time at all with how she treats me. \\n\\nI maybe the a-h because it is only a short amount of time but I’m just not comfortable putting her around my other children.', 'send_replies': True, 'spoiler': False, 'stickied': False, 'subreddit': 'AmItheAsshole', 'subreddit_id': 't5_2xhvq', 'subreddit_subscribers': 4805484, 'subreddit_type': 'public', 'suggested_sort': 'top', 'thumbnail': 'self', 'title': 'AITA for only giving my ex’s mom 3.5 hours a week with our child?', 'total_awards_received': 0, 'treatment_tags': [], 'upvote_ratio': 1.0, 'url': 'https://www.reddit.com/r/AmItheAsshole/comments/yz6q04/aita_for_only_giving_my_exs_mom_35_hours_a_week/', 'whitelist_status': 'all_ads', 'wls': 6}\n"
     ]
    },
    {
     "name": "stderr",
     "output_type": "stream",
     "text": [
      "C:\\Users\\Sparrow\\AppData\\Local\\Temp\\ipykernel_22000\\1226572919.py:13: FutureWarning: The frame.append method is deprecated and will be removed from pandas in a future version. Use pandas.concat instead.\n",
      "  df.append(posts)\n"
     ]
    }
   ],
   "source": [
    "pushapi('AITA56',1668854950)"
   ]
  },
  {
   "cell_type": "code",
   "execution_count": 155,
   "id": "199d383b-d180-4d43-ae41-b14b0036f16d",
   "metadata": {},
   "outputs": [
    {
     "name": "stdout",
     "output_type": "stream",
     "text": [
      "100\n",
      "{'all_awardings': [], 'allow_live_comments': False, 'author': 'eydasgdf', 'author_flair_css_class': None, 'author_flair_richtext': [], 'author_flair_text': None, 'author_flair_type': 'text', 'author_fullname': 't2_ciqt77b4', 'author_is_blocked': False, 'author_patreon_flair': False, 'author_premium': False, 'awarders': [], 'can_mod_post': False, 'contest_mode': True, 'created_utc': 1668835514, 'domain': 'self.AmItheAsshole', 'full_link': 'https://www.reddit.com/r/AmItheAsshole/comments/yz4flq/aita_for_making_a_counteroffer_on_ebay/', 'gildings': {}, 'id': 'yz4flq', 'is_created_from_ads_ui': False, 'is_crosspostable': True, 'is_meta': False, 'is_original_content': False, 'is_reddit_media_domain': False, 'is_robot_indexable': True, 'is_self': True, 'is_video': False, 'link_flair_background_color': '', 'link_flair_richtext': [], 'link_flair_text_color': 'dark', 'link_flair_type': 'text', 'locked': False, 'media_only': False, 'no_follow': False, 'num_comments': 1, 'num_crossposts': 0, 'over_18': False, 'parent_whitelist_status': 'all_ads', 'permalink': '/r/AmItheAsshole/comments/yz4flq/aita_for_making_a_counteroffer_on_ebay/', 'pinned': False, 'pwls': 6, 'retrieved_on': 1668835525, 'score': 1, 'selftext': 'So, for context, my brother an I share an ebay account which we use to sell stuff. The reason why we both share an ebay account is because on ebay, you need to be over the age of 18 to sell stuff and you need to send in ID to verify that, so the ebay account is under our mums name with her ID, so technically its her account.\\n\\nNow, I had an item listed on that ebay account, with the starting bid being around 90 AUD, however I did allow offers on this item. So, a buyer sent in an offer for 75 dollars, and I decided to make a counteroffer for 82 dollars. Now this is where the issues began, my brother knew about that I had received an offer on my item, and he wanted me to just accept the offer, but when he found out that I had sent in a counteroffer to the buyer instead of just accepting their offer, he got mad at me.\\n\\nHe said that I should\\'ve just accepted their offer of 75 dollars rather then make a \"fuss\" about an extra 7 dollars. He said he didn\\'t want anybody leaving a bad review on the account, and that it was stupid that I made a counteroffer for a 82 dollars, when its only an extra 7 dollars. He even went as far as changing the password to the account so I couldn\\'t access it, and delisting the item I had listed on it. After that, he called our mum, and she seemed to side with him, saying that I should have just accepted the offer for 75 dollars.  \\n\\n\\nYes, I know 7 dollars isn\\'t exactly a lot of extra money, but I figured I\\'d send the counteroffer and then negotiate with the buyer from there. \\n\\nAfter a while, he said that he would let me list items on the account, but HE would have to list them since it is \"his\" account, even though it uses our mums name.\\n\\nI honestly don\\'t even get why he thinks someone will leave a bad review over receiving a counteroffer, and its not like I was being rude to any of our customers at all, I was always polite when communicating with them, and if they don\\'t like the counteroffer, they can just deny it..\\n\\nI\\'m honestly not sure what to do, I didn\\'t see anything wrong with me sending in a counteroffer, especially when it is MY item, so I figured I would be fine to make a counteroffer on my item.\\n\\nSo, with all that said, AITA for making a counteroffer on ebay?', 'send_replies': True, 'spoiler': False, 'stickied': False, 'subreddit': 'AmItheAsshole', 'subreddit_id': 't5_2xhvq', 'subreddit_subscribers': 4805283, 'subreddit_type': 'public', 'suggested_sort': 'top', 'thumbnail': 'self', 'title': 'AITA for making a counteroffer on ebay?', 'total_awards_received': 0, 'treatment_tags': [], 'upvote_ratio': 1.0, 'url': 'https://www.reddit.com/r/AmItheAsshole/comments/yz4flq/aita_for_making_a_counteroffer_on_ebay/', 'whitelist_status': 'all_ads', 'wls': 6}\n"
     ]
    },
    {
     "name": "stderr",
     "output_type": "stream",
     "text": [
      "C:\\Users\\Sparrow\\AppData\\Local\\Temp\\ipykernel_22000\\1226572919.py:13: FutureWarning: The frame.append method is deprecated and will be removed from pandas in a future version. Use pandas.concat instead.\n",
      "  df.append(posts)\n"
     ]
    }
   ],
   "source": [
    "pushapi('AITA57',1668844655)"
   ]
  },
  {
   "cell_type": "code",
   "execution_count": 156,
   "id": "30dacebf-f792-4733-b284-2ef7833fb9e3",
   "metadata": {},
   "outputs": [
    {
     "name": "stdout",
     "output_type": "stream",
     "text": [
      "100\n",
      "{'all_awardings': [], 'allow_live_comments': False, 'author': 'end_me_alreadyy', 'author_flair_css_class': None, 'author_flair_richtext': [], 'author_flair_text': None, 'author_flair_type': 'text', 'author_fullname': 't2_pva9pea3', 'author_is_blocked': False, 'author_patreon_flair': False, 'author_premium': False, 'awarders': [], 'can_mod_post': False, 'contest_mode': True, 'created_utc': 1668827761, 'domain': 'self.AmItheAsshole', 'full_link': 'https://www.reddit.com/r/AmItheAsshole/comments/yz27n6/aita_for_not_explaining_myself_after_i_cheated_on/', 'gildings': {}, 'id': 'yz27n6', 'is_created_from_ads_ui': False, 'is_crosspostable': True, 'is_meta': False, 'is_original_content': False, 'is_reddit_media_domain': False, 'is_robot_indexable': True, 'is_self': True, 'is_video': False, 'link_flair_background_color': '', 'link_flair_richtext': [], 'link_flair_text_color': 'dark', 'link_flair_type': 'text', 'locked': False, 'media_only': False, 'no_follow': True, 'num_comments': 1, 'num_crossposts': 0, 'over_18': False, 'parent_whitelist_status': 'all_ads', 'permalink': '/r/AmItheAsshole/comments/yz27n6/aita_for_not_explaining_myself_after_i_cheated_on/', 'pinned': False, 'pwls': 6, 'retrieved_on': 1668827771, 'score': 1, 'selftext': \"I (19F) and my bf (19M) have been together for 3 years everything was going great at first he was the type of partner that most people would want,caring doesn't forget even the little stuff about me and always tries to help me with school stuff and takes care of me when sick.\\nLast year everything changed even tho he was still really kind to me he would follow my every move and text me 24/7 to know where i am not only that but even sometimes show up to my place if i don't answer his text in the next hour,at first it wasn't that bad to deal with i just thought it was his way to show his love to me and somehow found it cute but the last straw was that one time i caught him going through my phone after i got out of the shower and instead of being remorseful he went off on me about how ungrateful i was to cheat on someone like him called me names and just left i was so confused on what made him that mad so i texted him but no response.\\nThe next day i texted him again only for him to tell me that he doesn't wanna be with me anymore because i am a worthless cheater and that i should be ashamed of myself i felt heartbroken after that the only person i saw as a future partner broke up with me without even an explanation it was really hard to go throught it specially because i had some other stuff to deal with but ended up moving on on my own 2 months later i get a text from him telling me that he is sorry for not giving me a chance to speak and that it was because he heard me talking to a guy on the phone about coming to his place but he had learned from a mutual friend that it was my brother, who i was planning to see after my finals as i had told that same friend.\\nhe then blamed it on me for not coming to his place to explain it to him after he had blocked me without reason so i obviously didn't get back with him and didn't answer his texts\\n i thought what he was saying was absurd because he is the one at fault for not letting me explain myself in the first place and blocking me so going to his place after he had called me names wasn't an option for me at the time but when i talked to my friends they all sided with him telling me that they would have thought the same if they were him and it was my place to do whatever i can to get in contact with him and explain myself\", 'send_replies': True, 'spoiler': False, 'stickied': False, 'subreddit': 'AmItheAsshole', 'subreddit_id': 't5_2xhvq', 'subreddit_subscribers': 4805030, 'subreddit_type': 'public', 'suggested_sort': 'top', 'thumbnail': 'self', 'title': 'AITA for not explaining myself after i \"cheated\" on my bf', 'total_awards_received': 0, 'treatment_tags': [], 'upvote_ratio': 1.0, 'url': 'https://www.reddit.com/r/AmItheAsshole/comments/yz27n6/aita_for_not_explaining_myself_after_i_cheated_on/', 'whitelist_status': 'all_ads', 'wls': 6}\n"
     ]
    },
    {
     "name": "stderr",
     "output_type": "stream",
     "text": [
      "C:\\Users\\Sparrow\\AppData\\Local\\Temp\\ipykernel_22000\\1226572919.py:13: FutureWarning: The frame.append method is deprecated and will be removed from pandas in a future version. Use pandas.concat instead.\n",
      "  df.append(posts)\n"
     ]
    }
   ],
   "source": [
    "pushapi('AITA58',1668835514)"
   ]
  },
  {
   "cell_type": "code",
   "execution_count": 157,
   "id": "5240737e-84a2-403e-bcb5-cb94003a4493",
   "metadata": {},
   "outputs": [
    {
     "name": "stdout",
     "output_type": "stream",
     "text": [
      "100\n",
      "{'all_awardings': [], 'allow_live_comments': False, 'author': 'killerfrostfanatic', 'author_flair_css_class': None, 'author_flair_richtext': [], 'author_flair_text': None, 'author_flair_type': 'text', 'author_fullname': 't2_95164zhh', 'author_is_blocked': False, 'author_patreon_flair': False, 'author_premium': False, 'awarders': [], 'can_mod_post': False, 'contest_mode': False, 'created_utc': 1668821849, 'domain': 'self.AmItheAsshole', 'full_link': 'https://www.reddit.com/r/AmItheAsshole/comments/yz0e5b/aita_for_being_mad_at_my_best_friend_for_dating/', 'gildings': {}, 'id': 'yz0e5b', 'is_created_from_ads_ui': False, 'is_crosspostable': False, 'is_meta': False, 'is_original_content': False, 'is_reddit_media_domain': False, 'is_robot_indexable': False, 'is_self': True, 'is_video': False, 'link_flair_background_color': '', 'link_flair_richtext': [], 'link_flair_text_color': 'dark', 'link_flair_type': 'text', 'locked': True, 'media_only': False, 'no_follow': True, 'num_comments': 1, 'num_crossposts': 0, 'over_18': False, 'parent_whitelist_status': 'all_ads', 'permalink': '/r/AmItheAsshole/comments/yz0e5b/aita_for_being_mad_at_my_best_friend_for_dating/', 'pinned': False, 'pwls': 6, 'removed_by_category': 'moderator', 'retrieved_on': 1668821860, 'score': 1, 'selftext': '[removed]', 'send_replies': True, 'spoiler': False, 'stickied': False, 'subreddit': 'AmItheAsshole', 'subreddit_id': 't5_2xhvq', 'subreddit_subscribers': 4804829, 'subreddit_type': 'public', 'suggested_sort': 'top', 'thumbnail': 'self', 'title': 'AITA for being mad at my best friend for dating my other best friend', 'total_awards_received': 0, 'treatment_tags': [], 'upvote_ratio': 1.0, 'url': 'https://www.reddit.com/r/AmItheAsshole/comments/yz0e5b/aita_for_being_mad_at_my_best_friend_for_dating/', 'whitelist_status': 'all_ads', 'wls': 6}\n"
     ]
    },
    {
     "name": "stderr",
     "output_type": "stream",
     "text": [
      "C:\\Users\\Sparrow\\AppData\\Local\\Temp\\ipykernel_22000\\1226572919.py:13: FutureWarning: The frame.append method is deprecated and will be removed from pandas in a future version. Use pandas.concat instead.\n",
      "  df.append(posts)\n"
     ]
    }
   ],
   "source": [
    "pushapi('AITA59',1668827761)"
   ]
  },
  {
   "cell_type": "code",
   "execution_count": 158,
   "id": "f0ce0ead-dffa-4766-8c55-cd201825a76c",
   "metadata": {},
   "outputs": [
    {
     "name": "stdout",
     "output_type": "stream",
     "text": [
      "100\n",
      "{'all_awardings': [], 'allow_live_comments': False, 'author': 'NoViolinist5338', 'author_flair_css_class': None, 'author_flair_richtext': [], 'author_flair_text': None, 'author_flair_type': 'text', 'author_fullname': 't2_mg5bjb3s', 'author_is_blocked': False, 'author_patreon_flair': False, 'author_premium': False, 'awarders': [], 'can_mod_post': False, 'contest_mode': False, 'created_utc': 1668813976, 'domain': 'self.AmItheAsshole', 'full_link': 'https://www.reddit.com/r/AmItheAsshole/comments/yyxr59/aita_for_not_wanting_to_spend_time_with_a_friend/', 'gildings': {}, 'id': 'yyxr59', 'is_created_from_ads_ui': False, 'is_crosspostable': False, 'is_meta': False, 'is_original_content': False, 'is_reddit_media_domain': False, 'is_robot_indexable': False, 'is_self': True, 'is_video': False, 'link_flair_background_color': '', 'link_flair_richtext': [], 'link_flair_text_color': 'dark', 'link_flair_type': 'text', 'locked': True, 'media_only': False, 'no_follow': True, 'num_comments': 1, 'num_crossposts': 0, 'over_18': False, 'parent_whitelist_status': 'all_ads', 'permalink': '/r/AmItheAsshole/comments/yyxr59/aita_for_not_wanting_to_spend_time_with_a_friend/', 'pinned': False, 'pwls': 6, 'removed_by_category': 'moderator', 'retrieved_on': 1668813987, 'score': 1, 'selftext': '[removed]', 'send_replies': True, 'spoiler': False, 'stickied': False, 'subreddit': 'AmItheAsshole', 'subreddit_id': 't5_2xhvq', 'subreddit_subscribers': 4804558, 'subreddit_type': 'public', 'suggested_sort': 'top', 'thumbnail': 'self', 'title': 'AITA for not wanting to spend time with a friend?', 'total_awards_received': 0, 'treatment_tags': [], 'upvote_ratio': 1.0, 'url': 'https://www.reddit.com/r/AmItheAsshole/comments/yyxr59/aita_for_not_wanting_to_spend_time_with_a_friend/', 'whitelist_status': 'all_ads', 'wls': 6}\n"
     ]
    },
    {
     "name": "stderr",
     "output_type": "stream",
     "text": [
      "C:\\Users\\Sparrow\\AppData\\Local\\Temp\\ipykernel_22000\\1226572919.py:13: FutureWarning: The frame.append method is deprecated and will be removed from pandas in a future version. Use pandas.concat instead.\n",
      "  df.append(posts)\n"
     ]
    }
   ],
   "source": [
    "pushapi('AITA60',1668821849)"
   ]
  },
  {
   "cell_type": "code",
   "execution_count": 159,
   "id": "aea06874-58ac-48f0-b014-156f25f7731e",
   "metadata": {},
   "outputs": [
    {
     "name": "stdout",
     "output_type": "stream",
     "text": [
      "100\n",
      "{'all_awardings': [], 'allow_live_comments': False, 'author': 'derc_4742_agrg', 'author_flair_css_class': None, 'author_flair_richtext': [], 'author_flair_text': None, 'author_flair_type': 'text', 'author_fullname': 't2_5xa8c8is', 'author_is_blocked': False, 'author_patreon_flair': False, 'author_premium': False, 'awarders': [], 'can_mod_post': False, 'contest_mode': False, 'created_utc': 1668808022, 'domain': 'self.AmItheAsshole', 'full_link': 'https://www.reddit.com/r/AmItheAsshole/comments/yyvj69/update_aita_for_getting_sick_of_my_classmates/', 'gildings': {}, 'id': 'yyvj69', 'is_created_from_ads_ui': False, 'is_crosspostable': False, 'is_meta': False, 'is_original_content': False, 'is_reddit_media_domain': False, 'is_robot_indexable': False, 'is_self': True, 'is_video': False, 'link_flair_background_color': '#ffd635', 'link_flair_richtext': [], 'link_flair_template_id': 'ca4006b8-f14a-11e9-9b18-0e179a5854dc', 'link_flair_text': 'UPDATE', 'link_flair_type': 'text', 'locked': True, 'media_only': False, 'no_follow': True, 'num_comments': 1, 'num_crossposts': 0, 'over_18': False, 'parent_whitelist_status': 'all_ads', 'permalink': '/r/AmItheAsshole/comments/yyvj69/update_aita_for_getting_sick_of_my_classmates/', 'pinned': False, 'pwls': 6, 'removed_by_category': 'moderator', 'retrieved_on': 1668808033, 'score': 1, 'selftext': '[removed]', 'send_replies': True, 'spoiler': False, 'stickied': False, 'subreddit': 'AmItheAsshole', 'subreddit_id': 't5_2xhvq', 'subreddit_subscribers': 4804322, 'subreddit_type': 'public', 'suggested_sort': 'top', 'thumbnail': 'self', 'title': 'UPDATE AITA for getting sick of my classmate\\'s \"love\" for me?', 'total_awards_received': 0, 'treatment_tags': [], 'upvote_ratio': 1.0, 'url': 'https://www.reddit.com/r/AmItheAsshole/comments/yyvj69/update_aita_for_getting_sick_of_my_classmates/', 'whitelist_status': 'all_ads', 'wls': 6}\n"
     ]
    },
    {
     "name": "stderr",
     "output_type": "stream",
     "text": [
      "C:\\Users\\Sparrow\\AppData\\Local\\Temp\\ipykernel_22000\\1226572919.py:13: FutureWarning: The frame.append method is deprecated and will be removed from pandas in a future version. Use pandas.concat instead.\n",
      "  df.append(posts)\n"
     ]
    }
   ],
   "source": [
    "pushapi('AITA61',1668813976)"
   ]
  },
  {
   "cell_type": "code",
   "execution_count": 160,
   "id": "4a7a5aff-fe52-4e8f-b72f-0c88fd146d7e",
   "metadata": {},
   "outputs": [
    {
     "name": "stdout",
     "output_type": "stream",
     "text": [
      "100\n",
      "{'all_awardings': [], 'allow_live_comments': False, 'author': 'YannyWolf', 'author_flair_css_class': None, 'author_flair_richtext': [], 'author_flair_text': None, 'author_flair_type': 'text', 'author_fullname': 't2_o8fs83iq', 'author_is_blocked': False, 'author_patreon_flair': False, 'author_premium': False, 'awarders': [], 'can_mod_post': False, 'contest_mode': False, 'created_utc': 1668799895, 'domain': 'self.AmItheAsshole', 'full_link': 'https://www.reddit.com/r/AmItheAsshole/comments/yysfs4/aita_in_every_single_disagreement_i_have_with_my/', 'gildings': {}, 'id': 'yysfs4', 'is_created_from_ads_ui': False, 'is_crosspostable': False, 'is_meta': False, 'is_original_content': False, 'is_reddit_media_domain': False, 'is_robot_indexable': False, 'is_self': True, 'is_video': False, 'link_flair_background_color': '', 'link_flair_richtext': [], 'link_flair_text_color': 'dark', 'link_flair_type': 'text', 'locked': True, 'media_only': False, 'no_follow': True, 'num_comments': 1, 'num_crossposts': 0, 'over_18': False, 'parent_whitelist_status': 'all_ads', 'permalink': '/r/AmItheAsshole/comments/yysfs4/aita_in_every_single_disagreement_i_have_with_my/', 'pinned': False, 'pwls': 6, 'removed_by_category': 'moderator', 'retrieved_on': 1668799906, 'score': 1, 'selftext': '[removed]', 'send_replies': True, 'spoiler': False, 'stickied': False, 'subreddit': 'AmItheAsshole', 'subreddit_id': 't5_2xhvq', 'subreddit_subscribers': 4803999, 'subreddit_type': 'public', 'suggested_sort': 'top', 'thumbnail': 'self', 'title': 'AITA in every single disagreement I have with my fiancé?', 'total_awards_received': 0, 'treatment_tags': [], 'upvote_ratio': 1.0, 'url': 'https://www.reddit.com/r/AmItheAsshole/comments/yysfs4/aita_in_every_single_disagreement_i_have_with_my/', 'whitelist_status': 'all_ads', 'wls': 6}\n"
     ]
    },
    {
     "name": "stderr",
     "output_type": "stream",
     "text": [
      "C:\\Users\\Sparrow\\AppData\\Local\\Temp\\ipykernel_22000\\1226572919.py:13: FutureWarning: The frame.append method is deprecated and will be removed from pandas in a future version. Use pandas.concat instead.\n",
      "  df.append(posts)\n"
     ]
    }
   ],
   "source": [
    "pushapi('AITA62',1668808022)"
   ]
  },
  {
   "cell_type": "code",
   "execution_count": 161,
   "id": "5836bd6e-6f41-4892-810f-b8d58c2d6d38",
   "metadata": {},
   "outputs": [
    {
     "name": "stdout",
     "output_type": "stream",
     "text": [
      "100\n",
      "{'all_awardings': [], 'allow_live_comments': False, 'author': 'GhstHvntr', 'author_flair_css_class': None, 'author_flair_richtext': [], 'author_flair_text': None, 'author_flair_type': 'text', 'author_fullname': 't2_p11jospg', 'author_is_blocked': False, 'author_patreon_flair': False, 'author_premium': False, 'awarders': [], 'can_mod_post': False, 'contest_mode': False, 'created_utc': 1668794355, 'domain': 'self.AmItheAsshole', 'full_link': 'https://www.reddit.com/r/AmItheAsshole/comments/yyqb5r/aita_for_not_caring_about_being_mean_to_my_9yo/', 'gildings': {}, 'id': 'yyqb5r', 'is_created_from_ads_ui': False, 'is_crosspostable': False, 'is_meta': False, 'is_original_content': False, 'is_reddit_media_domain': False, 'is_robot_indexable': False, 'is_self': True, 'is_video': False, 'link_flair_background_color': '', 'link_flair_richtext': [], 'link_flair_text_color': 'dark', 'link_flair_type': 'text', 'locked': True, 'media_only': False, 'no_follow': True, 'num_comments': 1, 'num_crossposts': 0, 'over_18': False, 'parent_whitelist_status': 'all_ads', 'permalink': '/r/AmItheAsshole/comments/yyqb5r/aita_for_not_caring_about_being_mean_to_my_9yo/', 'pinned': False, 'pwls': 6, 'removed_by_category': 'moderator', 'retrieved_on': 1668794366, 'score': 1, 'selftext': '[removed]', 'send_replies': True, 'spoiler': False, 'stickied': False, 'subreddit': 'AmItheAsshole', 'subreddit_id': 't5_2xhvq', 'subreddit_subscribers': 4803809, 'subreddit_type': 'public', 'suggested_sort': 'top', 'thumbnail': 'self', 'title': 'AITA for not caring about being mean to my 9yo brother?', 'total_awards_received': 0, 'treatment_tags': [], 'upvote_ratio': 1.0, 'url': 'https://www.reddit.com/r/AmItheAsshole/comments/yyqb5r/aita_for_not_caring_about_being_mean_to_my_9yo/', 'whitelist_status': 'all_ads', 'wls': 6}\n"
     ]
    },
    {
     "name": "stderr",
     "output_type": "stream",
     "text": [
      "C:\\Users\\Sparrow\\AppData\\Local\\Temp\\ipykernel_22000\\1226572919.py:13: FutureWarning: The frame.append method is deprecated and will be removed from pandas in a future version. Use pandas.concat instead.\n",
      "  df.append(posts)\n"
     ]
    }
   ],
   "source": [
    "pushapi('AITA63',1668799895)"
   ]
  },
  {
   "cell_type": "code",
   "execution_count": 162,
   "id": "7b8484a7-d003-4706-85a3-8538ff331bb6",
   "metadata": {},
   "outputs": [
    {
     "name": "stdout",
     "output_type": "stream",
     "text": [
      "100\n",
      "{'all_awardings': [], 'allow_live_comments': False, 'author': 'Inmyhumbleopinion24', 'author_flair_css_class': None, 'author_flair_richtext': [], 'author_flair_text': None, 'author_flair_type': 'text', 'author_fullname': 't2_p0jp7dkz', 'author_is_blocked': False, 'author_patreon_flair': False, 'author_premium': False, 'awarders': [], 'can_mod_post': False, 'contest_mode': True, 'created_utc': 1668785837, 'domain': 'self.AmItheAsshole', 'full_link': 'https://www.reddit.com/r/AmItheAsshole/comments/yymzcb/aita_for_having_two_very_annoying_as_hell/', 'gildings': {}, 'id': 'yymzcb', 'is_created_from_ads_ui': False, 'is_crosspostable': True, 'is_meta': False, 'is_original_content': False, 'is_reddit_media_domain': False, 'is_robot_indexable': True, 'is_self': True, 'is_video': False, 'link_flair_background_color': '', 'link_flair_richtext': [], 'link_flair_text_color': 'dark', 'link_flair_type': 'text', 'locked': False, 'media_only': False, 'no_follow': True, 'num_comments': 1, 'num_crossposts': 0, 'over_18': False, 'parent_whitelist_status': 'all_ads', 'permalink': '/r/AmItheAsshole/comments/yymzcb/aita_for_having_two_very_annoying_as_hell/', 'pinned': False, 'pwls': 6, 'retrieved_on': 1668785848, 'score': 1, 'selftext': 'So I am a thirty five year old citizen of a town called bikini bottom. Yes life is perfect except for the two neighbors I am stuck living with. One of them is a excessively annoying colleague at work too how I loathe his positive optimism. Can’t you realize some people like their fucking peace and quite and not some grown ass man-baby who cries after a toy breaks. \\n\\nThen my other neighbor a dumb starfish who just lazes around all day everyday. I admit that is more tolerable compared to when he is with the man child of a sponge that is my other neighbor! These two have broken into my house numerous times and even destroyed my property numerous times. \\n\\nSo my fellow ladies and gentle fish? Answer me this am I wrong to hate these two?', 'send_replies': True, 'spoiler': False, 'stickied': False, 'subreddit': 'AmItheAsshole', 'subreddit_id': 't5_2xhvq', 'subreddit_subscribers': 4803553, 'subreddit_type': 'public', 'suggested_sort': 'top', 'thumbnail': 'self', 'title': 'AITA: for having two very annoying as hell neighbors that act like man children that are sometimes creepily obsessed with me and thus I feel have a right to hate.', 'total_awards_received': 0, 'treatment_tags': [], 'upvote_ratio': 0.99, 'url': 'https://www.reddit.com/r/AmItheAsshole/comments/yymzcb/aita_for_having_two_very_annoying_as_hell/', 'whitelist_status': 'all_ads', 'wls': 6}\n"
     ]
    },
    {
     "name": "stderr",
     "output_type": "stream",
     "text": [
      "C:\\Users\\Sparrow\\AppData\\Local\\Temp\\ipykernel_22000\\1226572919.py:13: FutureWarning: The frame.append method is deprecated and will be removed from pandas in a future version. Use pandas.concat instead.\n",
      "  df.append(posts)\n"
     ]
    }
   ],
   "source": [
    "pushapi('AITA64',1668794355)"
   ]
  },
  {
   "cell_type": "code",
   "execution_count": 163,
   "id": "c9620f05-e921-4f2c-9662-cb6609763644",
   "metadata": {},
   "outputs": [
    {
     "name": "stdout",
     "output_type": "stream",
     "text": [
      "100\n",
      "{'all_awardings': [], 'allow_live_comments': False, 'author': 'uungii', 'author_flair_css_class': None, 'author_flair_richtext': [], 'author_flair_text': None, 'author_flair_type': 'text', 'author_fullname': 't2_2th8sup5', 'author_is_blocked': False, 'author_patreon_flair': False, 'author_premium': False, 'awarders': [], 'can_mod_post': False, 'contest_mode': True, 'created_utc': 1668779018, 'domain': 'self.AmItheAsshole', 'full_link': 'https://www.reddit.com/r/AmItheAsshole/comments/yykesj/aita_for_being_mad_at_a_friend/', 'gildings': {}, 'id': 'yykesj', 'is_created_from_ads_ui': False, 'is_crosspostable': True, 'is_meta': False, 'is_original_content': False, 'is_reddit_media_domain': False, 'is_robot_indexable': True, 'is_self': True, 'is_video': False, 'link_flair_background_color': '', 'link_flair_richtext': [], 'link_flair_text_color': 'dark', 'link_flair_type': 'text', 'locked': False, 'media_only': False, 'no_follow': True, 'num_comments': 1, 'num_crossposts': 0, 'over_18': False, 'parent_whitelist_status': 'all_ads', 'permalink': '/r/AmItheAsshole/comments/yykesj/aita_for_being_mad_at_a_friend/', 'pinned': False, 'pwls': 6, 'retrieved_on': 1668779028, 'score': 1, 'selftext': 'So me (19f) and this girl from my class (18f) were really good friends for 2 years, over the summer holiday she started to see some guy and didn’t say a word. She went into the cinema with him and a friend of both of us etc. We talked it out and most of the problems were solved, then I got vivid and when I came back to school she was like a different human. She talked and behaved like our other friend which confused me. Fast forward I became more and more unimportant, at some point a group that I got along with well included me more because they noticed that I was alone a lot. The girl and I texted at some point and she told me she felt extremely left alone by me, like I hated her for her bf and so on, she didn’t even TRY to understand my pov. Now she’s talking shit about me in class, a lot of people are looking at me like I committed a crime or smth just because she has the imagine of the cute shy girl. At this point all I feel in anger towards her. I feel like I wasted two years being there for someone who talks shit about me now. She’s the reason people treat me differently and give me weird looks, so AITA?', 'send_replies': True, 'spoiler': False, 'stickied': False, 'subreddit': 'AmItheAsshole', 'subreddit_id': 't5_2xhvq', 'subreddit_subscribers': 4803314, 'subreddit_type': 'public', 'suggested_sort': 'top', 'thumbnail': 'self', 'title': 'AITA for being mad at a friend', 'total_awards_received': 0, 'treatment_tags': [], 'upvote_ratio': 1.0, 'url': 'https://www.reddit.com/r/AmItheAsshole/comments/yykesj/aita_for_being_mad_at_a_friend/', 'whitelist_status': 'all_ads', 'wls': 6}\n"
     ]
    },
    {
     "name": "stderr",
     "output_type": "stream",
     "text": [
      "C:\\Users\\Sparrow\\AppData\\Local\\Temp\\ipykernel_22000\\1226572919.py:13: FutureWarning: The frame.append method is deprecated and will be removed from pandas in a future version. Use pandas.concat instead.\n",
      "  df.append(posts)\n"
     ]
    }
   ],
   "source": [
    "pushapi('AITA65',1668785837)"
   ]
  },
  {
   "cell_type": "code",
   "execution_count": 164,
   "id": "f2cb6c49-8792-46bd-821c-783a70a972e5",
   "metadata": {},
   "outputs": [
    {
     "name": "stdout",
     "output_type": "stream",
     "text": [
      "100\n",
      "{'all_awardings': [], 'allow_live_comments': False, 'author': 'psshhhhhhhhhhh', 'author_flair_css_class': None, 'author_flair_richtext': [], 'author_flair_text': None, 'author_flair_type': 'text', 'author_fullname': 't2_pjb6wlkz', 'author_is_blocked': False, 'author_patreon_flair': False, 'author_premium': False, 'awarders': [], 'can_mod_post': False, 'contest_mode': False, 'created_utc': 1668766370, 'domain': 'self.AmItheAsshole', 'full_link': 'https://www.reddit.com/r/AmItheAsshole/comments/yyglpq/aita_for_being_angry_at_my_mother_after_she/', 'gildings': {}, 'id': 'yyglpq', 'is_created_from_ads_ui': False, 'is_crosspostable': False, 'is_meta': False, 'is_original_content': False, 'is_reddit_media_domain': False, 'is_robot_indexable': False, 'is_self': True, 'is_video': False, 'link_flair_background_color': '', 'link_flair_richtext': [], 'link_flair_text_color': 'dark', 'link_flair_type': 'text', 'locked': True, 'media_only': False, 'no_follow': True, 'num_comments': 1, 'num_crossposts': 0, 'over_18': False, 'parent_whitelist_status': 'all_ads', 'permalink': '/r/AmItheAsshole/comments/yyglpq/aita_for_being_angry_at_my_mother_after_she/', 'pinned': False, 'pwls': 6, 'removed_by_category': 'moderator', 'retrieved_on': 1668766381, 'score': 1, 'selftext': '[removed]', 'send_replies': True, 'spoiler': False, 'stickied': False, 'subreddit': 'AmItheAsshole', 'subreddit_id': 't5_2xhvq', 'subreddit_subscribers': 4803009, 'subreddit_type': 'public', 'suggested_sort': 'top', 'thumbnail': 'self', 'title': 'AITA for being angry at my mother after she threatened to give away my cats?', 'total_awards_received': 0, 'treatment_tags': [], 'upvote_ratio': 1.0, 'url': 'https://www.reddit.com/r/AmItheAsshole/comments/yyglpq/aita_for_being_angry_at_my_mother_after_she/', 'whitelist_status': 'all_ads', 'wls': 6}\n"
     ]
    },
    {
     "name": "stderr",
     "output_type": "stream",
     "text": [
      "C:\\Users\\Sparrow\\AppData\\Local\\Temp\\ipykernel_22000\\1226572919.py:13: FutureWarning: The frame.append method is deprecated and will be removed from pandas in a future version. Use pandas.concat instead.\n",
      "  df.append(posts)\n"
     ]
    }
   ],
   "source": [
    "pushapi('AITA66',1668779018)"
   ]
  },
  {
   "cell_type": "code",
   "execution_count": 165,
   "id": "59586c73-d43f-44e4-82c2-31f239d30530",
   "metadata": {},
   "outputs": [
    {
     "name": "stdout",
     "output_type": "stream",
     "text": [
      "100\n",
      "{'all_awardings': [], 'allow_live_comments': False, 'author': 'TOGETHAAA-FOREVAAA', 'author_flair_css_class': None, 'author_flair_richtext': [], 'author_flair_text': None, 'author_flair_type': 'text', 'author_fullname': 't2_r0fbhmx1', 'author_is_blocked': False, 'author_patreon_flair': False, 'author_premium': False, 'awarders': [], 'can_mod_post': False, 'contest_mode': False, 'created_utc': 1668751257, 'domain': 'self.AmItheAsshole', 'full_link': 'https://www.reddit.com/r/AmItheAsshole/comments/yycnu6/aita_for_ending_my_friendship/', 'gildings': {}, 'id': 'yycnu6', 'is_created_from_ads_ui': False, 'is_crosspostable': False, 'is_meta': False, 'is_original_content': False, 'is_reddit_media_domain': False, 'is_robot_indexable': False, 'is_self': True, 'is_video': False, 'link_flair_background_color': '', 'link_flair_richtext': [], 'link_flair_text_color': 'dark', 'link_flair_type': 'text', 'locked': True, 'media_only': False, 'no_follow': True, 'num_comments': 1, 'num_crossposts': 0, 'over_18': True, 'parent_whitelist_status': 'all_ads', 'permalink': '/r/AmItheAsshole/comments/yycnu6/aita_for_ending_my_friendship/', 'pinned': False, 'pwls': 6, 'removed_by_category': 'moderator', 'retrieved_on': 1668751267, 'score': 1, 'selftext': '[removed]', 'send_replies': True, 'spoiler': False, 'stickied': False, 'subreddit': 'AmItheAsshole', 'subreddit_id': 't5_2xhvq', 'subreddit_subscribers': 4802656, 'subreddit_type': 'public', 'suggested_sort': 'top', 'thumbnail': 'nsfw', 'title': 'AITA for ending my friendship', 'total_awards_received': 0, 'treatment_tags': [], 'upvote_ratio': 1.0, 'url': 'https://www.reddit.com/r/AmItheAsshole/comments/yycnu6/aita_for_ending_my_friendship/', 'whitelist_status': 'promo_adult_nsfw', 'wls': 3}\n"
     ]
    },
    {
     "name": "stderr",
     "output_type": "stream",
     "text": [
      "C:\\Users\\Sparrow\\AppData\\Local\\Temp\\ipykernel_22000\\1226572919.py:13: FutureWarning: The frame.append method is deprecated and will be removed from pandas in a future version. Use pandas.concat instead.\n",
      "  df.append(posts)\n"
     ]
    }
   ],
   "source": [
    "pushapi('AITA67',1668766370)"
   ]
  },
  {
   "cell_type": "code",
   "execution_count": 166,
   "id": "5ce3183c-b8fa-4de1-a583-f5810975dbb1",
   "metadata": {},
   "outputs": [
    {
     "name": "stdout",
     "output_type": "stream",
     "text": [
      "100\n",
      "{'all_awardings': [], 'allow_live_comments': False, 'author': 'jaeunlee17', 'author_flair_css_class': None, 'author_flair_richtext': [], 'author_flair_text': None, 'author_flair_type': 'text', 'author_fullname': 't2_36xs4jwo', 'author_is_blocked': False, 'author_patreon_flair': False, 'author_premium': False, 'awarders': [], 'can_mod_post': False, 'contest_mode': True, 'created_utc': 1668743450, 'domain': 'self.AmItheAsshole', 'full_link': 'https://www.reddit.com/r/AmItheAsshole/comments/yyabm9/aita_for_not_personally_inviting_my_bil_to_my/', 'gildings': {}, 'id': 'yyabm9', 'is_created_from_ads_ui': False, 'is_crosspostable': True, 'is_meta': False, 'is_original_content': False, 'is_reddit_media_domain': False, 'is_robot_indexable': True, 'is_self': True, 'is_video': False, 'link_flair_background_color': '', 'link_flair_richtext': [], 'link_flair_text_color': 'dark', 'link_flair_type': 'text', 'locked': False, 'media_only': False, 'no_follow': True, 'num_comments': 1, 'num_crossposts': 0, 'over_18': False, 'parent_whitelist_status': 'all_ads', 'permalink': '/r/AmItheAsshole/comments/yyabm9/aita_for_not_personally_inviting_my_bil_to_my/', 'pinned': False, 'pwls': 6, 'retrieved_on': 1668743461, 'score': 1, 'selftext': 'AITA for not personally inviting my BIL to my wedding?\\n\\nI(27F) am NC with my BIL(40M) and LC with most of my family for a whole array of reasons. But with my BIL, I went no contact after he harassed me while I was pregnant. The issue is, there\\'s a lot of debate about if it was harassment or not. \\n\\nDuring my pregnancy my BIL started being really... aggressive? He would call me constantly. I had a HARD pregnancy already so sometimes I would just ignore his calls. But then he would just show up to our business the next day 😮\\u200d💨 as someone who has been assaulted and harassed before, BIL started to make me really uncomfortable... I had asked him to give me space and even asked my sister and mom to help talk to him but they all dismissed me as being overreacting and he \"just loves and cares about me.\" When I finally stopped responding to him, he tried to call me 7 times, spam texted me on multiple platforms and tried to video call me over and over. I felt like i was breaking up with a stalker. I was legitimately afraid so I just shut my phone off (luckily at this point we sold our business so he had no way of getting to me). \\n\\nThat happened about a year ago. I have since avoided all family functions and rarely visit home.\\n\\nMy Husband and I got legally married 2 years ago but are just now having a ceremony. I invited my family to my wedding. I didn\\'t directly invite my BIL and just added his name under my sister\\'s RSVP along with their kids. My sister called me to ask if I invited BIL. I told her his invite was attached to hers. She told me I had to personally invite him or none of them would attend.... I told her again that BIL has made me very uncomfortable in the past and didn\\'t want to directly speak to him.\\n\\nShe told me she was sorry I \"thought\" he was harassing me but he was just being a \"overly concerned big brother\" 🥴🥴 I stood by my statement and that I was being harassed and that no actual brother acts the way he did. She pulled out of the wedding after that... \\n\\nSo now my parents have been calling me to go apologize and make amends with them so they\\'ll come to my wedding... my mom is pretty angry with me. No one is on my side besides my husband and one of my brothers (33M)... my brother thinks BIL should have respected my boundaries since I\\'m a lady and he\\'s a guy. He even asked my sis (42F) and BIL to grow up and just apologize to me since they\\'re older and I\\'m valid for feeling uncomfortable when I was pregnant and feeling vulnerable.\\n\\nMy family is telling me I should just apologize. My mom blames me for my nieces not being at my wedding and tried to guilt trip me about how sad they\\'ll be when they find out I got married without them 😭😭 it\\'s all starting to get to me and I\\'m starting to feel like I\\'m the crazy one...\\n\\nAITA for causing all this drama? Am I really just overreacting over BIL spam calling me? I need some outside opinions here... and please be kind 😅', 'send_replies': True, 'spoiler': False, 'stickied': False, 'subreddit': 'AmItheAsshole', 'subreddit_id': 't5_2xhvq', 'subreddit_subscribers': 4802376, 'subreddit_type': 'public', 'suggested_sort': 'top', 'thumbnail': 'self', 'title': 'AITA for not personally inviting my BIL to my wedding?', 'total_awards_received': 0, 'treatment_tags': [], 'upvote_ratio': 1.0, 'url': 'https://www.reddit.com/r/AmItheAsshole/comments/yyabm9/aita_for_not_personally_inviting_my_bil_to_my/', 'whitelist_status': 'all_ads', 'wls': 6}\n"
     ]
    },
    {
     "name": "stderr",
     "output_type": "stream",
     "text": [
      "C:\\Users\\Sparrow\\AppData\\Local\\Temp\\ipykernel_22000\\1226572919.py:13: FutureWarning: The frame.append method is deprecated and will be removed from pandas in a future version. Use pandas.concat instead.\n",
      "  df.append(posts)\n"
     ]
    }
   ],
   "source": [
    "pushapi('AITA68',1668751257)"
   ]
  },
  {
   "cell_type": "code",
   "execution_count": 167,
   "id": "42d720ff-352f-43e5-8874-ca67cddfa6c1",
   "metadata": {},
   "outputs": [
    {
     "name": "stdout",
     "output_type": "stream",
     "text": [
      "100\n",
      "{'all_awardings': [], 'allow_live_comments': False, 'author': 'TheOnlyScapeGoat', 'author_flair_css_class': None, 'author_flair_richtext': [], 'author_flair_text': None, 'author_flair_type': 'text', 'author_fullname': 't2_le2neccy', 'author_is_blocked': False, 'author_patreon_flair': False, 'author_premium': False, 'awarders': [], 'can_mod_post': False, 'contest_mode': False, 'created_utc': 1668738879, 'domain': 'self.AmItheAsshole', 'full_link': 'https://www.reddit.com/r/AmItheAsshole/comments/yy8u2a/aita_for_asking_my_sil_to_move_her_dogs_then/', 'gildings': {}, 'id': 'yy8u2a', 'is_created_from_ads_ui': False, 'is_crosspostable': False, 'is_meta': False, 'is_original_content': False, 'is_reddit_media_domain': False, 'is_robot_indexable': False, 'is_self': True, 'is_video': False, 'link_flair_background_color': '', 'link_flair_richtext': [], 'link_flair_text_color': 'dark', 'link_flair_type': 'text', 'locked': True, 'media_only': False, 'no_follow': True, 'num_comments': 1, 'num_crossposts': 0, 'over_18': False, 'parent_whitelist_status': 'all_ads', 'permalink': '/r/AmItheAsshole/comments/yy8u2a/aita_for_asking_my_sil_to_move_her_dogs_then/', 'pinned': False, 'pwls': 6, 'removed_by_category': 'moderator', 'retrieved_on': 1668738889, 'score': 1, 'selftext': '[removed]', 'send_replies': True, 'spoiler': False, 'stickied': False, 'subreddit': 'AmItheAsshole', 'subreddit_id': 't5_2xhvq', 'subreddit_subscribers': 4802199, 'subreddit_type': 'public', 'suggested_sort': 'top', 'thumbnail': 'self', 'title': 'AITA for asking my SIL to move her dogs, then ignoring her text?', 'total_awards_received': 0, 'treatment_tags': [], 'upvote_ratio': 1.0, 'url': 'https://www.reddit.com/r/AmItheAsshole/comments/yy8u2a/aita_for_asking_my_sil_to_move_her_dogs_then/', 'whitelist_status': 'all_ads', 'wls': 6}\n"
     ]
    },
    {
     "name": "stderr",
     "output_type": "stream",
     "text": [
      "C:\\Users\\Sparrow\\AppData\\Local\\Temp\\ipykernel_22000\\1226572919.py:13: FutureWarning: The frame.append method is deprecated and will be removed from pandas in a future version. Use pandas.concat instead.\n",
      "  df.append(posts)\n"
     ]
    }
   ],
   "source": [
    "pushapi('AITA69',1668743450)"
   ]
  },
  {
   "cell_type": "code",
   "execution_count": 168,
   "id": "4036b7d3-cfc1-4a06-889e-eba461a60e1d",
   "metadata": {},
   "outputs": [
    {
     "name": "stdout",
     "output_type": "stream",
     "text": [
      "100\n",
      "{'all_awardings': [], 'allow_live_comments': False, 'author': 'PourOutMyInsides', 'author_flair_css_class': None, 'author_flair_richtext': [], 'author_flair_text': None, 'author_flair_type': 'text', 'author_fullname': 't2_74ftk36d', 'author_is_blocked': False, 'author_patreon_flair': False, 'author_premium': False, 'awarders': [], 'can_mod_post': False, 'contest_mode': True, 'created_utc': 1668732594, 'domain': 'self.AmItheAsshole', 'full_link': 'https://www.reddit.com/r/AmItheAsshole/comments/yy6q5i/aita_for_thinking_my_partner_should_not_vape/', 'gildings': {}, 'id': 'yy6q5i', 'is_created_from_ads_ui': False, 'is_crosspostable': True, 'is_meta': False, 'is_original_content': False, 'is_reddit_media_domain': False, 'is_robot_indexable': True, 'is_self': True, 'is_video': False, 'link_flair_background_color': '', 'link_flair_richtext': [], 'link_flair_text_color': 'dark', 'link_flair_type': 'text', 'locked': False, 'media_only': False, 'no_follow': True, 'num_comments': 1, 'num_crossposts': 0, 'over_18': False, 'parent_whitelist_status': 'all_ads', 'permalink': '/r/AmItheAsshole/comments/yy6q5i/aita_for_thinking_my_partner_should_not_vape/', 'pinned': False, 'pwls': 6, 'retrieved_on': 1668732604, 'score': 1, 'selftext': \"A bit of backstory, My partner (21NB) and myself (19NB) both suffer from chest related health conditions, theirs much worse than my own. They have suffered a number of almost complete lung collapses, with the most recent collapse being in the last 6 months.\\n\\nMy partner is coming up to the year of a very traumatic experience of theirs, of which I will not give details about. This event has changed the entire course of their life and the way they perceive themselves and others. I understand this, as I have experienced a similar situation. I am 100% supportive of their feelings and thoughts during this time, and have offered to help wherever possible so that they don't feel like they have to face this alone.\\n\\nToday, they revealed to me, that they had began to vape. Usually it is not much of an issue to me, but given their lung issue I am rather upset about this. I asked them who gave them the vape and they told me they bought it, and when i asked when, they told me they had bought it in the last week to deal with the stress of their event anniversary.\\n\\nI understand that they are looking for ways to stress manage, and I am totally happy to help with that but I feel that given their ongoing health issues that this is not a good idea. I am upset that they kept something like this from me, rather than talking to me about it before hand like we usually do and I am also upset that they are putting their health at risk rather than using other stress-managing methods. Their mom knows about it too, and is also upset, but I cant help but feel like an asshole even though I am not being outwardly shitty about it.\\n\\nAITA for being upset at my partner for vaping despite their health issues?\\n\\nTL;DR: My partner, who has had multiple lung collapses in the past with the most recent being in the last 6 months, has decided to start vaping to deal with the stress of a traumatic event. I am upset that they are putting their health at risk rather than coping using other less harmful methods. AITA for being upset at my partner for vaping despite their health issues?\", 'send_replies': True, 'spoiler': False, 'stickied': False, 'subreddit': 'AmItheAsshole', 'subreddit_id': 't5_2xhvq', 'subreddit_subscribers': 4801932, 'subreddit_type': 'public', 'suggested_sort': 'top', 'thumbnail': 'self', 'title': 'AITA for thinking my partner should not vape?', 'total_awards_received': 0, 'treatment_tags': [], 'upvote_ratio': 1.0, 'url': 'https://www.reddit.com/r/AmItheAsshole/comments/yy6q5i/aita_for_thinking_my_partner_should_not_vape/', 'whitelist_status': 'all_ads', 'wls': 6}\n"
     ]
    },
    {
     "name": "stderr",
     "output_type": "stream",
     "text": [
      "C:\\Users\\Sparrow\\AppData\\Local\\Temp\\ipykernel_22000\\1226572919.py:13: FutureWarning: The frame.append method is deprecated and will be removed from pandas in a future version. Use pandas.concat instead.\n",
      "  df.append(posts)\n"
     ]
    }
   ],
   "source": [
    "pushapi('AITA70',1668738879)"
   ]
  },
  {
   "cell_type": "code",
   "execution_count": 170,
   "id": "e205216f-fe29-4125-b0ae-780e61c6a60b",
   "metadata": {},
   "outputs": [
    {
     "name": "stdout",
     "output_type": "stream",
     "text": [
      "100\n",
      "{'all_awardings': [], 'allow_live_comments': False, 'author': 'escaped_bird', 'author_flair_css_class': None, 'author_flair_richtext': [], 'author_flair_text': None, 'author_flair_type': 'text', 'author_fullname': 't2_twon1cm5', 'author_is_blocked': False, 'author_patreon_flair': False, 'author_premium': True, 'awarders': [], 'can_mod_post': False, 'contest_mode': True, 'created_utc': 1668725497, 'domain': 'self.AmItheAsshole', 'full_link': 'https://www.reddit.com/r/AmItheAsshole/comments/yy45bv/aita_for_not_playing_along_with_my_grandmas_guilt/', 'gildings': {}, 'id': 'yy45bv', 'is_created_from_ads_ui': False, 'is_crosspostable': True, 'is_meta': False, 'is_original_content': False, 'is_reddit_media_domain': False, 'is_robot_indexable': True, 'is_self': True, 'is_video': False, 'link_flair_background_color': '', 'link_flair_richtext': [], 'link_flair_text_color': 'dark', 'link_flair_type': 'text', 'locked': False, 'media_only': False, 'no_follow': True, 'num_comments': 1, 'num_crossposts': 0, 'over_18': False, 'parent_whitelist_status': 'all_ads', 'permalink': '/r/AmItheAsshole/comments/yy45bv/aita_for_not_playing_along_with_my_grandmas_guilt/', 'pinned': False, 'pwls': 6, 'retrieved_on': 1668725508, 'score': 1, 'selftext': 'My grandmother (70y) just came into a large, and I mean LARGE amount of money when her Uncle passed away. He owned a couple of companies and didn\\'t have any kids so the fortune went to his niece (my grandma) and nephew. Well now that my grandma has all this extra cash in the bank, she seems to play this \"well when I die, what will I do with all this money?\" Game And turning stupid requests into guilt trips or something.. \\n\\nExample  - \"hey kid, can you rub my shoulders, I have a knot here, take care of it for me\", and when I said okay, did it for a while, my hands got tired and I stopped and she said \"oh, you\\'re done already?\" I was like \"yeah my hands hurt I am not a masseuse\", she goes - \"I\\'ll remember this on my deathbed.\" \\n\\nThere have been other examples of her using the money as leverage to get other family members to pity her or take her side or just comply with her EXTREMELY outrageous requests, that she is more than capable of doing, like, getting up and getting something for her, doing something simple for her, etc... She\\'s more than capable, I mean the woman plays tennis, runs, she\\'s active, she\\'s not incapable but now is acting so lazy so I don\\'t want to hear it. She can get a glass of water herself and if you\\'re going to *\\'take me out of your will\\'*  because I\\'m not complying to your beck and call, so be it. -- \\nNote she didn\\'t actually say that, that\\'s just how every situation now comes across. \\n\\nIdk - so AITA for NOT playing her little game of being the favorite grandchild just so I can have a higher chance of getting a bigger cut of this inheritance someday?', 'send_replies': True, 'spoiler': False, 'stickied': False, 'subreddit': 'AmItheAsshole', 'subreddit_id': 't5_2xhvq', 'subreddit_subscribers': 4801653, 'subreddit_type': 'public', 'suggested_sort': 'top', 'thumbnail': 'self', 'title': 'AITA for not playing along with my Grandma\\'s guilt \"games\"?', 'total_awards_received': 0, 'treatment_tags': [], 'upvote_ratio': 1.0, 'url': 'https://www.reddit.com/r/AmItheAsshole/comments/yy45bv/aita_for_not_playing_along_with_my_grandmas_guilt/', 'whitelist_status': 'all_ads', 'wls': 6}\n"
     ]
    },
    {
     "name": "stderr",
     "output_type": "stream",
     "text": [
      "C:\\Users\\Sparrow\\AppData\\Local\\Temp\\ipykernel_22000\\1226572919.py:13: FutureWarning: The frame.append method is deprecated and will be removed from pandas in a future version. Use pandas.concat instead.\n",
      "  df.append(posts)\n"
     ]
    }
   ],
   "source": [
    "pushapi('AITA71',1668732594)"
   ]
  },
  {
   "cell_type": "code",
   "execution_count": 171,
   "id": "4c81efe6-0502-4b4a-8ecf-5b684967a23e",
   "metadata": {},
   "outputs": [
    {
     "name": "stdout",
     "output_type": "stream",
     "text": [
      "100\n",
      "{'all_awardings': [], 'allow_live_comments': False, 'author': 'Supcutiesx3', 'author_flair_css_class': None, 'author_flair_richtext': [], 'author_flair_text': None, 'author_flair_type': 'text', 'author_fullname': 't2_qbh7x8np', 'author_is_blocked': False, 'author_patreon_flair': False, 'author_premium': False, 'awarders': [], 'can_mod_post': False, 'contest_mode': True, 'created_utc': 1668719564, 'domain': 'self.AmItheAsshole', 'full_link': 'https://www.reddit.com/r/AmItheAsshole/comments/yy1rkq/aita_for_helping_my_friend/', 'gildings': {}, 'id': 'yy1rkq', 'is_created_from_ads_ui': False, 'is_crosspostable': True, 'is_meta': False, 'is_original_content': False, 'is_reddit_media_domain': False, 'is_robot_indexable': True, 'is_self': True, 'is_video': False, 'link_flair_background_color': '', 'link_flair_richtext': [], 'link_flair_text_color': 'dark', 'link_flair_type': 'text', 'locked': False, 'media_only': False, 'no_follow': True, 'num_comments': 1, 'num_crossposts': 0, 'over_18': False, 'parent_whitelist_status': 'all_ads', 'permalink': '/r/AmItheAsshole/comments/yy1rkq/aita_for_helping_my_friend/', 'pinned': False, 'pwls': 6, 'retrieved_on': 1668719575, 'score': 1, 'selftext': 'I (31F) have been friends with this person (29F) since 2015 or so they have become one of my closest friends. I care for them dearly. When I was visiting her,she lives about 2 hours away from me ( for context their partner had been having some medical issues, but things had been going better, and they were discharged the day I got there) they told my friend to go have a good time with me. The absolute most tragic thing happened when I was with my friend... not even 12 hours after their partner left the hospital they had to be rushed back and they passed away. They were only 28 years old. My BF (37M) was out of state for work and we have been having issues. He had also lost his father(61) suddenly back in July. \\nSo I take off work so I can go to the services I stay with my friend and her family who I have known and visited since I’ve met this person and ended up staying there about 2 weeks(I only took additional 3 days bc I had vacation already planned and wfh for the other). During that time my boyfriend was very angry with me, saying that I put my life on hold( saying this when their funeral hadn’t even happened yet and my boyfriend wasn’t even in the state). He said I did not treat him the same when his father passed. I had never met his father and I had only met his mother once. I had met my friend’s partner, I was even their the night they first started talking to each other over 5 years ago, but for my boyfriend I did go home with him for a week, took time off work, and even cancelled a trip that I had put decent amount of money into to go be with him. While we were at his home his mom was not good. She slept mostly the entire day(understandably she had been married to her husband for 38 years and she’s the one who found him) so he would show me things in his hometown that were important to him because I’d never been to his hometown before and we made sure that we were there if his mom needed anything. I made a comment that I felt a little uncomfortable when I was there cause I couldn’t say much other than I was sorry and comfort them cause like I said I didn’t know his father or meet him \\n\\nSo when I told him what happened to my friend he said he couldn’t deal with this \\nHe even asked if I was hooking up with my friend. I tried to explain the situation was a little different cause I knew the person who had passed and their family so I am sorry that I didn’t know how to fully handle his loss. But he kept saying how awful I was and how I took from him and he never got to grieve (when I’ve researched free support groups for him if he felt comfortable enough to go, books, asked if he wants to tell me stories and even asking other people I knew who had lost a parent on what helped them etc)\\n\\nI was told that I need to make up to him for how I treated him with the loss of his father and that I’ve “ruined” him. So I’ve been wracking my brain..AITA for helping my friend and saying that’s it’s a little bit of a different scenario', 'send_replies': True, 'spoiler': False, 'stickied': False, 'subreddit': 'AmItheAsshole', 'subreddit_id': 't5_2xhvq', 'subreddit_subscribers': 4801386, 'subreddit_type': 'public', 'suggested_sort': 'top', 'thumbnail': 'self', 'title': 'AITA for helping my friend?', 'total_awards_received': 0, 'treatment_tags': [], 'upvote_ratio': 1.0, 'url': 'https://www.reddit.com/r/AmItheAsshole/comments/yy1rkq/aita_for_helping_my_friend/', 'whitelist_status': 'all_ads', 'wls': 6}\n"
     ]
    },
    {
     "name": "stderr",
     "output_type": "stream",
     "text": [
      "C:\\Users\\Sparrow\\AppData\\Local\\Temp\\ipykernel_22000\\1226572919.py:13: FutureWarning: The frame.append method is deprecated and will be removed from pandas in a future version. Use pandas.concat instead.\n",
      "  df.append(posts)\n"
     ]
    }
   ],
   "source": [
    "pushapi('AITA72',1668725497)"
   ]
  },
  {
   "cell_type": "code",
   "execution_count": 172,
   "id": "8dd99740-6267-4137-af52-7346ce663150",
   "metadata": {},
   "outputs": [
    {
     "name": "stdout",
     "output_type": "stream",
     "text": [
      "100\n",
      "{'all_awardings': [], 'allow_live_comments': False, 'author': 'Ok_Newspaper9872', 'author_flair_css_class': None, 'author_flair_richtext': [], 'author_flair_text': None, 'author_flair_type': 'text', 'author_fullname': 't2_ude0cpdv', 'author_is_blocked': False, 'author_patreon_flair': False, 'author_premium': False, 'awarders': [], 'can_mod_post': False, 'contest_mode': True, 'created_utc': 1668712104, 'domain': 'self.AmItheAsshole', 'full_link': 'https://www.reddit.com/r/AmItheAsshole/comments/yxyl9l/aita_for_telling_my_girlfriend_i_dont_want_a/', 'gildings': {}, 'id': 'yxyl9l', 'is_created_from_ads_ui': False, 'is_crosspostable': True, 'is_meta': False, 'is_original_content': False, 'is_reddit_media_domain': False, 'is_robot_indexable': True, 'is_self': True, 'is_video': False, 'link_flair_background_color': '', 'link_flair_richtext': [], 'link_flair_text_color': 'dark', 'link_flair_type': 'text', 'locked': False, 'media_only': False, 'no_follow': True, 'num_comments': 1, 'num_crossposts': 0, 'over_18': False, 'parent_whitelist_status': 'all_ads', 'permalink': '/r/AmItheAsshole/comments/yxyl9l/aita_for_telling_my_girlfriend_i_dont_want_a/', 'pinned': False, 'pwls': 6, 'retrieved_on': 1668712114, 'score': 1, 'selftext': ' To put it briefly, I am in an LDR (we see each other a few times a year) and everything is going well. However, my partner loves exchanging gifts. She has gotten me some HUGE gifts for my birthday which I\\'m very thankful for.\\n\\nThe issue is that she\\'s working full time while I\\'m currently studying and balancing some part-time job. I am strapped for money, especially after paying for all my plane tickets for meetups.\\n\\nShe has her birthday very soon after Christmas, for which I\\'m obviously going to get her something nice, but I couldn\\'t afford to do something for Christmas on top of that so I plainly told her that she shouldn\\'t get me anything, otherwise it\\'ll just be uncomfortable for me because I\\'ll be unable to repay her. So I said we shouldn\\'t exchange anything expensive, to which she asked \"what\\'s expensive\" and I basically said \"anything like a scale figure or a triple A game\" (She said \"those aren\\'t even expensive...\"). Books, mugs, etc are ofc fine with me but I don\\'t think she views those as adequate. I *could* ask my parents for money and they\\'d pitch in but that\\'s really not a position I wish to be put in.\\n\\nShe said she doesn\\'t care about *receiving* nice gifts, but I said I still don\\'t want anything and hoping she could respect that (because I don\\'t want on my conscience the fact that she could get me something worth hundreds while I couldn\\'t reciprocate. It would just make me feel awful whenever I looked at it). She said that hurt her feelings and we haven\\'t really talked since.\\n\\nI kept it civil and nice but I know gifts mean a lot to her and this visibly hurt her feelings. But I also don\\'t think it\\'s an unreasonable request. What do you think??', 'send_replies': True, 'spoiler': False, 'stickied': False, 'subreddit': 'AmItheAsshole', 'subreddit_id': 't5_2xhvq', 'subreddit_subscribers': 4801048, 'subreddit_type': 'public', 'suggested_sort': 'top', 'thumbnail': 'self', 'title': \"AITA for telling my girlfriend I don't want a Christmas gift exchange?\", 'total_awards_received': 0, 'treatment_tags': [], 'upvote_ratio': 1.0, 'url': 'https://www.reddit.com/r/AmItheAsshole/comments/yxyl9l/aita_for_telling_my_girlfriend_i_dont_want_a/', 'whitelist_status': 'all_ads', 'wls': 6}\n"
     ]
    },
    {
     "name": "stderr",
     "output_type": "stream",
     "text": [
      "C:\\Users\\Sparrow\\AppData\\Local\\Temp\\ipykernel_22000\\1226572919.py:13: FutureWarning: The frame.append method is deprecated and will be removed from pandas in a future version. Use pandas.concat instead.\n",
      "  df.append(posts)\n"
     ]
    }
   ],
   "source": [
    "pushapi('AITA73',1668719564)"
   ]
  },
  {
   "cell_type": "code",
   "execution_count": 173,
   "id": "c39bfad5-a20a-4b88-ae6d-398732baf3b7",
   "metadata": {},
   "outputs": [
    {
     "name": "stdout",
     "output_type": "stream",
     "text": [
      "100\n",
      "{'all_awardings': [], 'allow_live_comments': False, 'author': 'snorlexx100', 'author_flair_css_class': None, 'author_flair_richtext': [], 'author_flair_text': None, 'author_flair_type': 'text', 'author_fullname': 't2_dbqh4j05', 'author_is_blocked': False, 'author_patreon_flair': False, 'author_premium': False, 'awarders': [], 'can_mod_post': False, 'contest_mode': True, 'created_utc': 1668705474, 'domain': 'self.AmItheAsshole', 'full_link': 'https://www.reddit.com/r/AmItheAsshole/comments/yxvtn1/wibta_for_leaving_my_sister_and_mother_behind_and/', 'gildings': {}, 'id': 'yxvtn1', 'is_created_from_ads_ui': False, 'is_crosspostable': True, 'is_meta': False, 'is_original_content': False, 'is_reddit_media_domain': False, 'is_robot_indexable': True, 'is_self': True, 'is_video': False, 'link_flair_background_color': '', 'link_flair_richtext': [], 'link_flair_text_color': 'dark', 'link_flair_type': 'text', 'locked': False, 'media_only': False, 'no_follow': False, 'num_comments': 1, 'num_crossposts': 0, 'over_18': False, 'parent_whitelist_status': 'all_ads', 'permalink': '/r/AmItheAsshole/comments/yxvtn1/wibta_for_leaving_my_sister_and_mother_behind_and/', 'pinned': False, 'pwls': 6, 'retrieved_on': 1668705485, 'score': 1, 'selftext': \"TLDR in the end. English is my second language so please bear with me.\\xa0\\n\\nHi I 23F live in India with my family. For the last couple of years I have realised how toxic my household is. I am thinking of getting out of there. Things that I have realised is that\\n\\n1. My grandmother is manipulative and gaslights everyone when things don't go her way. She doesn’t care if we are alive or not, eating or not. All she thinks about is what people will say and how it will affect her societal status.\\xa0\\n2. My Father is a complete mommas boy. When my mother and he got married he never stood up for her. He always gets angry and destroys things. (He doesn’t destroy things anymore) He never helped in the household chores and just like his mother he only thinks about himself and his societal status.\\xa0\\n\\nCouples of months back in August my mum fell from her scooty and her right hand got fractured. The bone didn’t have a crack, instead it was completely broken in two pieces. She is still recovering and can’t use her right hand much. So. My GM took all the responsibility my mum had but she isn’t capable of doing all the things because she is old (75 above). \\xa0 For one week I helped cook dinner but due to my full time job I sometimes got free on time and sometimes not.\\xa0\\n\\nFor my GM onion and garlic is a big no. She doesn’t like them at all and she doesn’t even let us cook food with it in the kitchen. But somehow we got permission to cook food with onion and garlic in the kitchen after my mothers fracture. Now the thing is when I cooking my sabzi (curry) with onion she just started saying “how can you cook onion in the kitchen, now the smell will enter in my food, you disregarded my religion etc etc”\\xa0 My heart Sank.\\n\\nAnd me and my sister decided we won’t be eating home cooked food and will take out instead. After doing this for 2 days my GM started crying in front of my father how we are not eating the food cooked by her, how they disregarded my religion, how we don’t listen and do whatever comes to our mind.\\xa0\\n\\nIt got really bad for a few days that me, my sister and my mother decided it’s better to move out and eat and do whatever we want. But we didn’t go through it.\\xa0\\n\\nNow I am getting a good opportunity to move out. My company’s office is shifting next year in January and they are calling all of us to work from the office. I have decided to rent a place near my office and live there.\\xa0 But, I don’t know where my office will shift and even if they will call us back to the office or not.\\xa0\\n\\nAll I am afraid about is what will happen with my mother and sister after I move out. I will not come back though.\\xa0 So will I be the asshole for moving out and leaving my mother and sister behind?\\n\\nTLDR; My Grandmother and father don’t give a shit about me, my sister and my mother. MY GM treats all of us as servants and treats us horribly when things don’t go her way. She als tries to control what we eat and wants to know about each and every thing we do.\\xa0\", 'send_replies': True, 'spoiler': False, 'stickied': False, 'subreddit': 'AmItheAsshole', 'subreddit_id': 't5_2xhvq', 'subreddit_subscribers': 4800816, 'subreddit_type': 'public', 'suggested_sort': 'top', 'thumbnail': 'self', 'title': 'WIBTA for leaving my sister and mother behind and moving out?', 'total_awards_received': 0, 'treatment_tags': [], 'upvote_ratio': 1.0, 'url': 'https://www.reddit.com/r/AmItheAsshole/comments/yxvtn1/wibta_for_leaving_my_sister_and_mother_behind_and/', 'whitelist_status': 'all_ads', 'wls': 6}\n"
     ]
    },
    {
     "name": "stderr",
     "output_type": "stream",
     "text": [
      "C:\\Users\\Sparrow\\AppData\\Local\\Temp\\ipykernel_22000\\1226572919.py:13: FutureWarning: The frame.append method is deprecated and will be removed from pandas in a future version. Use pandas.concat instead.\n",
      "  df.append(posts)\n"
     ]
    }
   ],
   "source": [
    "pushapi('AITA74',1668712104)"
   ]
  },
  {
   "cell_type": "code",
   "execution_count": 174,
   "id": "b600ec7e-deca-484e-a444-2c6065d8057b",
   "metadata": {},
   "outputs": [
    {
     "name": "stdout",
     "output_type": "stream",
     "text": [
      "100\n",
      "{'all_awardings': [], 'allow_live_comments': False, 'author': 'GeneSad6228', 'author_flair_css_class': None, 'author_flair_richtext': [], 'author_flair_text': None, 'author_flair_type': 'text', 'author_fullname': 't2_ud9qyguo', 'author_is_blocked': False, 'author_patreon_flair': False, 'author_premium': False, 'awarders': [], 'can_mod_post': False, 'contest_mode': True, 'created_utc': 1668697373, 'domain': 'self.AmItheAsshole', 'full_link': 'https://www.reddit.com/r/AmItheAsshole/comments/yxsjex/wibta_if_i_go_to_hr_to_report_a_guy_who_backed/', 'gildings': {}, 'id': 'yxsjex', 'is_created_from_ads_ui': False, 'is_crosspostable': True, 'is_meta': False, 'is_original_content': False, 'is_reddit_media_domain': False, 'is_robot_indexable': True, 'is_self': True, 'is_video': False, 'link_flair_background_color': '', 'link_flair_richtext': [], 'link_flair_text_color': 'dark', 'link_flair_type': 'text', 'locked': False, 'media_only': False, 'no_follow': True, 'num_comments': 1, 'num_crossposts': 0, 'over_18': False, 'parent_whitelist_status': 'all_ads', 'permalink': '/r/AmItheAsshole/comments/yxsjex/wibta_if_i_go_to_hr_to_report_a_guy_who_backed/', 'pinned': False, 'pwls': 6, 'retrieved_on': 1668697383, 'score': 1, 'selftext': 'I am sitting here fuming right now.  I had a deal with one of the men I work with to cover my Thanksgiving shifts so I could spend time with my family.  He said that he had nothing major planned over the holiday and we made a deal.  Since I wanted to take the kids to see their grandparents I was going to need to take until Monday off.  \\n\\nHe agreed to work the five shifts in return for some cash.  It was about $80 a shift.  This is regular in our office.  Depending on the holiday money changes hands for trades.  I hate it but it\\'s part of fitting in here.  \\n\\nHe had taken extra time off on top of having Thanksgiving and the weekend off.  So he will still have time off before coming back to work.  \\n\\nBut I guess HR somehow got wind of our deal because he came over and gave me back my money.  Like I said I hate having to pay for someone to cover my shift but it is how we do things here.  I asked if he would still be covering for me and he said no.  Well shit.  Now I have to find other coverage. \\n\\nOur holidays are scheduled by the company. So for example I am scheduled for Christmas off but it was my turn to work Thanksgiving. Next year I will have Thanksgiving off but not Christmas.  It sucks but it\\'s fair.  \\n\\nSo I\\'m looking at the schedule to see who I can trade with when I noticed that the guy I made a deal with is working and one of the guys on my shift has it off.  So I go over and ask WTF.  We had a deal that you would work for me.  He said that HR made him back out of the deal.  I asked if my other coworker had given him anything in return for trading.  He gave me the most obvious guilty smile and said \"of course not, that\\'s against the rules\". \\n\\nSo obviously he made a deal with someone who won\\'t make trouble with HR.  I asked the guy on my shift what he gave the guy in exchange for the shift.  Once again this guy looks guilty and says \"nothing\". \\n\\nBS.  I know they traded something and now I\\'m screwed and no one will trade with me.  \\n\\n\\nI want to go to HR and have them investigate what the deal these guys made is.  Would that make me an asshole.', 'send_replies': True, 'spoiler': False, 'stickied': False, 'subreddit': 'AmItheAsshole', 'subreddit_id': 't5_2xhvq', 'subreddit_subscribers': 4800500, 'subreddit_type': 'public', 'suggested_sort': 'top', 'thumbnail': 'self', 'title': 'WIBTA if I go to HR to report a guy who backed out of working Thanksgiving for me and is working it for someone else instead?', 'total_awards_received': 0, 'treatment_tags': [], 'upvote_ratio': 1.0, 'url': 'https://www.reddit.com/r/AmItheAsshole/comments/yxsjex/wibta_if_i_go_to_hr_to_report_a_guy_who_backed/', 'whitelist_status': 'all_ads', 'wls': 6}\n"
     ]
    },
    {
     "name": "stderr",
     "output_type": "stream",
     "text": [
      "C:\\Users\\Sparrow\\AppData\\Local\\Temp\\ipykernel_22000\\1226572919.py:13: FutureWarning: The frame.append method is deprecated and will be removed from pandas in a future version. Use pandas.concat instead.\n",
      "  df.append(posts)\n"
     ]
    }
   ],
   "source": [
    "pushapi('AITA75',1668705474)"
   ]
  },
  {
   "cell_type": "code",
   "execution_count": 175,
   "id": "2094cc7e-f692-4929-819b-2c608a9d2eef",
   "metadata": {},
   "outputs": [
    {
     "name": "stdout",
     "output_type": "stream",
     "text": [
      "100\n",
      "{'all_awardings': [], 'allow_live_comments': False, 'author': 'throwaway_161122', 'author_flair_css_class': None, 'author_flair_richtext': [], 'author_flair_text': None, 'author_flair_type': 'text', 'author_fullname': 't2_ucl6s072', 'author_is_blocked': False, 'author_patreon_flair': False, 'author_premium': False, 'awarders': [], 'can_mod_post': False, 'contest_mode': True, 'created_utc': 1668686567, 'domain': 'self.AmItheAsshole', 'full_link': 'https://www.reddit.com/r/AmItheAsshole/comments/yxohsc/aita_for_not_understanding_my_unvaccinated/', 'gildings': {}, 'id': 'yxohsc', 'is_created_from_ads_ui': False, 'is_crosspostable': True, 'is_meta': False, 'is_original_content': False, 'is_reddit_media_domain': False, 'is_robot_indexable': True, 'is_self': True, 'is_video': False, 'link_flair_background_color': '', 'link_flair_richtext': [], 'link_flair_text_color': 'dark', 'link_flair_type': 'text', 'locked': False, 'media_only': False, 'no_follow': False, 'num_comments': 1, 'num_crossposts': 0, 'over_18': False, 'parent_whitelist_status': 'all_ads', 'permalink': '/r/AmItheAsshole/comments/yxohsc/aita_for_not_understanding_my_unvaccinated/', 'pinned': False, 'pwls': 6, 'retrieved_on': 1668686579, 'score': 1, 'selftext': 'One of my closest friends of 6 years has recently voiced how strongly they feel about the covid vaccination. I myself am vaccinated I always knew that they were anti-vaxxers because they’re into pretty heavy conspiracy theories and have openly voiced their opinions to me, I just didn’t know how strongly they felt. So today we were talking on the phone and they said they would never have sex with a vaccine, which of course I had a few follow up questions regarding this. They then said they think they’d get “tainted with whatever they put in the vaccine because it will be in sperm”. Of course I found this absolutely ridiculous but you can’t argue with people who have such strong feelings. This then led to me thinking more deeply about it, as I’ve shared drinks and food and joints with my friend and I can’t help but wonder if they think that I’m somehow ‘unclean’ due to being vaccinated. \\n\\nAlso, this friend made a pretty big deal about unvaccinated people being treat differently during the covid-19 pandemic, however I find the way they speak of vaccinated people with such disgust quite derogatory and it has made me question our whole friendship and their morals and ethics. It’s also made me question their opinion on myself.\\n\\nAITA for not understanding? Or are they being completely unreasonable regarding this situation? \\n\\nSide note: I’m afraid to tell them how I feel as we have a holiday together coming up and I know it will pretty much the end of our friendship if I don’t respond to her opinions with anything other than ‘agreement’.', 'send_replies': True, 'spoiler': False, 'stickied': False, 'subreddit': 'AmItheAsshole', 'subreddit_id': 't5_2xhvq', 'subreddit_subscribers': 4800156, 'subreddit_type': 'public', 'suggested_sort': 'top', 'thumbnail': 'self', 'title': 'AITA for not understanding my unvaccinated friends opinions?', 'total_awards_received': 0, 'treatment_tags': [], 'upvote_ratio': 1.0, 'url': 'https://www.reddit.com/r/AmItheAsshole/comments/yxohsc/aita_for_not_understanding_my_unvaccinated/', 'whitelist_status': 'all_ads', 'wls': 6}\n"
     ]
    },
    {
     "name": "stderr",
     "output_type": "stream",
     "text": [
      "C:\\Users\\Sparrow\\AppData\\Local\\Temp\\ipykernel_22000\\1226572919.py:13: FutureWarning: The frame.append method is deprecated and will be removed from pandas in a future version. Use pandas.concat instead.\n",
      "  df.append(posts)\n"
     ]
    }
   ],
   "source": [
    "pushapi('AITA76',1668697373)"
   ]
  },
  {
   "cell_type": "code",
   "execution_count": 176,
   "id": "e7174f20-59fc-44a3-a850-1017bf7f0006",
   "metadata": {},
   "outputs": [
    {
     "name": "stdout",
     "output_type": "stream",
     "text": [
      "100\n",
      "{'all_awardings': [], 'allow_live_comments': False, 'author': 'birkenstock1977', 'author_flair_css_class': None, 'author_flair_richtext': [], 'author_flair_text': None, 'author_flair_type': 'text', 'author_fullname': 't2_os0foa35', 'author_is_blocked': False, 'author_patreon_flair': False, 'author_premium': False, 'awarders': [], 'can_mod_post': False, 'contest_mode': False, 'created_utc': 1668671530, 'domain': 'self.AmItheAsshole', 'full_link': 'https://www.reddit.com/r/AmItheAsshole/comments/yxk7g7/aita_for_not_reading_posts_on_this_sub/', 'gildings': {}, 'id': 'yxk7g7', 'is_created_from_ads_ui': False, 'is_crosspostable': False, 'is_meta': False, 'is_original_content': False, 'is_reddit_media_domain': False, 'is_robot_indexable': False, 'is_self': True, 'is_video': False, 'link_flair_background_color': '', 'link_flair_richtext': [], 'link_flair_text_color': 'dark', 'link_flair_type': 'text', 'locked': True, 'media_only': False, 'no_follow': True, 'num_comments': 1, 'num_crossposts': 0, 'over_18': False, 'parent_whitelist_status': 'all_ads', 'permalink': '/r/AmItheAsshole/comments/yxk7g7/aita_for_not_reading_posts_on_this_sub/', 'pinned': False, 'pwls': 6, 'removed_by_category': 'moderator', 'retrieved_on': 1668671541, 'score': 1, 'selftext': '[removed]', 'send_replies': True, 'spoiler': False, 'stickied': False, 'subreddit': 'AmItheAsshole', 'subreddit_id': 't5_2xhvq', 'subreddit_subscribers': 4799841, 'subreddit_type': 'public', 'suggested_sort': 'top', 'thumbnail': 'self', 'title': 'AITA for not reading posts on this sub?', 'total_awards_received': 0, 'treatment_tags': [], 'upvote_ratio': 1.0, 'url': 'https://www.reddit.com/r/AmItheAsshole/comments/yxk7g7/aita_for_not_reading_posts_on_this_sub/', 'whitelist_status': 'all_ads', 'wls': 6}\n"
     ]
    },
    {
     "name": "stderr",
     "output_type": "stream",
     "text": [
      "C:\\Users\\Sparrow\\AppData\\Local\\Temp\\ipykernel_22000\\1226572919.py:13: FutureWarning: The frame.append method is deprecated and will be removed from pandas in a future version. Use pandas.concat instead.\n",
      "  df.append(posts)\n"
     ]
    }
   ],
   "source": [
    "pushapi('AITA77',1668686567)"
   ]
  },
  {
   "cell_type": "code",
   "execution_count": 177,
   "id": "6650e6ee-5e47-42f4-9f1a-eed4ab1ffc97",
   "metadata": {},
   "outputs": [
    {
     "name": "stdout",
     "output_type": "stream",
     "text": [
      "100\n",
      "{'all_awardings': [], 'allow_live_comments': False, 'author': 'TundraVII', 'author_flair_css_class': None, 'author_flair_richtext': [], 'author_flair_text': None, 'author_flair_type': 'text', 'author_fullname': 't2_8jh8jlez', 'author_is_blocked': False, 'author_patreon_flair': False, 'author_premium': False, 'awarders': [], 'can_mod_post': False, 'contest_mode': False, 'created_utc': 1668662419, 'domain': 'self.AmItheAsshole', 'full_link': 'https://www.reddit.com/r/AmItheAsshole/comments/yxhi77/aita_for_canceling_thanksgiving_over_a_bf/', 'gildings': {}, 'id': 'yxhi77', 'is_created_from_ads_ui': False, 'is_crosspostable': False, 'is_meta': False, 'is_original_content': False, 'is_reddit_media_domain': False, 'is_robot_indexable': False, 'is_self': True, 'is_video': False, 'link_flair_background_color': '', 'link_flair_richtext': [], 'link_flair_text_color': 'dark', 'link_flair_type': 'text', 'locked': True, 'media_only': False, 'no_follow': True, 'num_comments': 1, 'num_crossposts': 0, 'over_18': False, 'parent_whitelist_status': 'all_ads', 'permalink': '/r/AmItheAsshole/comments/yxhi77/aita_for_canceling_thanksgiving_over_a_bf/', 'pinned': False, 'pwls': 6, 'removed_by_category': 'moderator', 'retrieved_on': 1668662430, 'score': 1, 'selftext': '[removed]', 'send_replies': True, 'spoiler': False, 'stickied': False, 'subreddit': 'AmItheAsshole', 'subreddit_id': 't5_2xhvq', 'subreddit_subscribers': 4799602, 'subreddit_type': 'public', 'suggested_sort': 'top', 'thumbnail': 'self', 'title': 'AITA for canceling thanksgiving over a BF?', 'total_awards_received': 0, 'treatment_tags': [], 'upvote_ratio': 1.0, 'url': 'https://www.reddit.com/r/AmItheAsshole/comments/yxhi77/aita_for_canceling_thanksgiving_over_a_bf/', 'whitelist_status': 'all_ads', 'wls': 6}\n"
     ]
    },
    {
     "name": "stderr",
     "output_type": "stream",
     "text": [
      "C:\\Users\\Sparrow\\AppData\\Local\\Temp\\ipykernel_22000\\1226572919.py:13: FutureWarning: The frame.append method is deprecated and will be removed from pandas in a future version. Use pandas.concat instead.\n",
      "  df.append(posts)\n"
     ]
    }
   ],
   "source": [
    "pushapi('AITA78',1668671530)"
   ]
  },
  {
   "cell_type": "code",
   "execution_count": 178,
   "id": "3d953ae9-a3ea-4737-a67d-ac9b9c3e034c",
   "metadata": {},
   "outputs": [
    {
     "name": "stdout",
     "output_type": "stream",
     "text": [
      "100\n",
      "{'all_awardings': [], 'allow_live_comments': False, 'author': 'rabibis', 'author_flair_css_class': None, 'author_flair_richtext': [], 'author_flair_text': None, 'author_flair_type': 'text', 'author_fullname': 't2_ucx7dd63', 'author_is_blocked': False, 'author_patreon_flair': False, 'author_premium': False, 'awarders': [], 'can_mod_post': False, 'contest_mode': False, 'created_utc': 1668656559, 'domain': 'self.AmItheAsshole', 'full_link': 'https://www.reddit.com/r/AmItheAsshole/comments/yxfjbb/aita_for_not_liking_my_motherinlaw/', 'gildings': {}, 'id': 'yxfjbb', 'is_created_from_ads_ui': False, 'is_crosspostable': False, 'is_meta': False, 'is_original_content': False, 'is_reddit_media_domain': False, 'is_robot_indexable': False, 'is_self': True, 'is_video': False, 'link_flair_background_color': '', 'link_flair_richtext': [], 'link_flair_text_color': 'dark', 'link_flair_type': 'text', 'locked': True, 'media_only': False, 'no_follow': True, 'num_comments': 1, 'num_crossposts': 0, 'over_18': False, 'parent_whitelist_status': 'all_ads', 'permalink': '/r/AmItheAsshole/comments/yxfjbb/aita_for_not_liking_my_motherinlaw/', 'pinned': False, 'pwls': 6, 'removed_by_category': 'moderator', 'retrieved_on': 1668656569, 'score': 1, 'selftext': '[removed]', 'send_replies': True, 'spoiler': False, 'stickied': False, 'subreddit': 'AmItheAsshole', 'subreddit_id': 't5_2xhvq', 'subreddit_subscribers': 4799408, 'subreddit_type': 'public', 'suggested_sort': 'top', 'thumbnail': 'self', 'title': 'AITA For Not Liking My Mother-In-Law?', 'total_awards_received': 0, 'treatment_tags': [], 'upvote_ratio': 1.0, 'url': 'https://www.reddit.com/r/AmItheAsshole/comments/yxfjbb/aita_for_not_liking_my_motherinlaw/', 'whitelist_status': 'all_ads', 'wls': 6}\n"
     ]
    },
    {
     "name": "stderr",
     "output_type": "stream",
     "text": [
      "C:\\Users\\Sparrow\\AppData\\Local\\Temp\\ipykernel_22000\\1226572919.py:13: FutureWarning: The frame.append method is deprecated and will be removed from pandas in a future version. Use pandas.concat instead.\n",
      "  df.append(posts)\n"
     ]
    }
   ],
   "source": [
    "pushapi('AITA79',1668662419)"
   ]
  },
  {
   "cell_type": "code",
   "execution_count": 179,
   "id": "27929d90-f57f-4e84-a148-211cd1e757d3",
   "metadata": {},
   "outputs": [
    {
     "name": "stdout",
     "output_type": "stream",
     "text": [
      "100\n",
      "{'all_awardings': [], 'allow_live_comments': False, 'author': 'bellachloud', 'author_flair_css_class': None, 'author_flair_richtext': [], 'author_flair_text': None, 'author_flair_type': 'text', 'author_fullname': 't2_c4z0kld4', 'author_is_blocked': False, 'author_patreon_flair': False, 'author_premium': False, 'awarders': [], 'can_mod_post': False, 'contest_mode': False, 'created_utc': 1668650642, 'domain': 'self.AmItheAsshole', 'full_link': 'https://www.reddit.com/r/AmItheAsshole/comments/yxddi3/aita_for_not_washing_the_dishes/', 'gildings': {}, 'id': 'yxddi3', 'is_created_from_ads_ui': False, 'is_crosspostable': False, 'is_meta': False, 'is_original_content': False, 'is_reddit_media_domain': False, 'is_robot_indexable': False, 'is_self': True, 'is_video': False, 'link_flair_background_color': '', 'link_flair_richtext': [], 'link_flair_text_color': 'dark', 'link_flair_type': 'text', 'locked': True, 'media_only': False, 'no_follow': True, 'num_comments': 1, 'num_crossposts': 0, 'over_18': False, 'parent_whitelist_status': 'all_ads', 'permalink': '/r/AmItheAsshole/comments/yxddi3/aita_for_not_washing_the_dishes/', 'pinned': False, 'pwls': 6, 'removed_by_category': 'moderator', 'retrieved_on': 1668650653, 'score': 1, 'selftext': '[removed]', 'send_replies': True, 'spoiler': False, 'stickied': False, 'subreddit': 'AmItheAsshole', 'subreddit_id': 't5_2xhvq', 'subreddit_subscribers': 4799172, 'subreddit_type': 'public', 'suggested_sort': 'top', 'thumbnail': 'self', 'title': 'AITA for not washing the dishes?', 'total_awards_received': 0, 'treatment_tags': [], 'upvote_ratio': 1.0, 'url': 'https://www.reddit.com/r/AmItheAsshole/comments/yxddi3/aita_for_not_washing_the_dishes/', 'whitelist_status': 'all_ads', 'wls': 6}\n"
     ]
    },
    {
     "name": "stderr",
     "output_type": "stream",
     "text": [
      "C:\\Users\\Sparrow\\AppData\\Local\\Temp\\ipykernel_22000\\1226572919.py:13: FutureWarning: The frame.append method is deprecated and will be removed from pandas in a future version. Use pandas.concat instead.\n",
      "  df.append(posts)\n"
     ]
    }
   ],
   "source": [
    "pushapi('AITA80',1668656559)"
   ]
  },
  {
   "cell_type": "code",
   "execution_count": 180,
   "id": "a59a137f-2ed4-4397-883a-421c89afaad6",
   "metadata": {},
   "outputs": [
    {
     "name": "stdout",
     "output_type": "stream",
     "text": [
      "100\n",
      "{'all_awardings': [], 'allow_live_comments': False, 'author': 'ConfusedIntentions', 'author_flair_css_class': None, 'author_flair_richtext': [], 'author_flair_text': None, 'author_flair_type': 'text', 'author_fullname': 't2_jfuu1pw9', 'author_is_blocked': False, 'author_patreon_flair': False, 'author_premium': False, 'awarders': [], 'can_mod_post': False, 'contest_mode': False, 'created_utc': 1668644443, 'domain': 'self.AmItheAsshole', 'full_link': 'https://www.reddit.com/r/AmItheAsshole/comments/yxb20w/aita_28f_for_turning_down_a_family_christmas/', 'gildings': {}, 'id': 'yxb20w', 'is_created_from_ads_ui': False, 'is_crosspostable': False, 'is_meta': False, 'is_original_content': False, 'is_reddit_media_domain': False, 'is_robot_indexable': False, 'is_self': True, 'is_video': False, 'link_flair_background_color': '', 'link_flair_richtext': [], 'link_flair_text_color': 'dark', 'link_flair_type': 'text', 'locked': True, 'media_only': False, 'no_follow': True, 'num_comments': 1, 'num_crossposts': 0, 'over_18': False, 'parent_whitelist_status': 'all_ads', 'permalink': '/r/AmItheAsshole/comments/yxb20w/aita_28f_for_turning_down_a_family_christmas/', 'pinned': False, 'pwls': 6, 'removed_by_category': 'moderator', 'retrieved_on': 1668644453, 'score': 1, 'selftext': '[removed]', 'send_replies': True, 'spoiler': False, 'stickied': False, 'subreddit': 'AmItheAsshole', 'subreddit_id': 't5_2xhvq', 'subreddit_subscribers': 4798937, 'subreddit_type': 'public', 'suggested_sort': 'top', 'thumbnail': 'self', 'title': 'AITA [28f] for turning down a family Christmas event because my mother [62f] will be there?', 'total_awards_received': 0, 'treatment_tags': [], 'upvote_ratio': 1.0, 'url': 'https://www.reddit.com/r/AmItheAsshole/comments/yxb20w/aita_28f_for_turning_down_a_family_christmas/', 'whitelist_status': 'all_ads', 'wls': 6}\n"
     ]
    },
    {
     "name": "stderr",
     "output_type": "stream",
     "text": [
      "C:\\Users\\Sparrow\\AppData\\Local\\Temp\\ipykernel_22000\\1226572919.py:13: FutureWarning: The frame.append method is deprecated and will be removed from pandas in a future version. Use pandas.concat instead.\n",
      "  df.append(posts)\n"
     ]
    }
   ],
   "source": [
    "pushapi('AITA81',1668650642)"
   ]
  },
  {
   "cell_type": "code",
   "execution_count": 181,
   "id": "c687296e-a7a6-4721-a117-f07cfd6c5a67",
   "metadata": {},
   "outputs": [
    {
     "name": "stdout",
     "output_type": "stream",
     "text": [
      "100\n",
      "{'all_awardings': [], 'allow_live_comments': False, 'author': 'Fair_Setting_4139', 'author_flair_css_class': None, 'author_flair_richtext': [], 'author_flair_text': None, 'author_flair_type': 'text', 'author_fullname': 't2_ucsatwc6', 'author_is_blocked': False, 'author_patreon_flair': False, 'author_premium': False, 'awarders': [], 'can_mod_post': False, 'contest_mode': True, 'created_utc': 1668639046, 'domain': 'self.AmItheAsshole', 'full_link': 'https://www.reddit.com/r/AmItheAsshole/comments/yx8wzj/aita_for_not_inviting_my_brother_to_spend_the/', 'gildings': {}, 'id': 'yx8wzj', 'is_created_from_ads_ui': False, 'is_crosspostable': True, 'is_meta': False, 'is_original_content': False, 'is_reddit_media_domain': False, 'is_robot_indexable': True, 'is_self': True, 'is_video': False, 'link_flair_background_color': '', 'link_flair_richtext': [], 'link_flair_text_color': 'dark', 'link_flair_type': 'text', 'locked': False, 'media_only': False, 'no_follow': True, 'num_comments': 1, 'num_crossposts': 0, 'over_18': False, 'parent_whitelist_status': 'all_ads', 'permalink': '/r/AmItheAsshole/comments/yx8wzj/aita_for_not_inviting_my_brother_to_spend_the/', 'pinned': False, 'pwls': 6, 'retrieved_on': 1668639057, 'score': 1, 'selftext': \"Context.\\n\\nMy (43f) parents put my brother (35m) into sports when he was 8, it turned out that he was athletically talented. After found this out, my parents and many other people had high expectations of him and put a lot of pressure on him. They wanted him to become pro but my brother was never interested. When he was 18, everyone turned on him when he told them he was going to college instead of turning pro.\\n\\nI help him as much as I could when I was there and when I moved out. We stopped talking to our parents until a few years ago.\\n\\nOur parents went to therapy and are good grandparents. I’m good friends with his wife, so she knows about their change and after a few interactions between them (my brother was aware of this), she wanted to give them a second chance with their children, but no without my brother’s approval; my brother agreed but with boundaries.\\n\\nMy relationship with our parents is decent. My brother is civil with them but that’s it, his wife is just a bit friendly but she also keeps them at arm’s length. \\n\\nNow, I was going to spend the holidays with our parents but because their house renovations are taking longer than expected, they are coming to my house. My brother knows this and has no problem, he is going to celebrate with his in-laws anyway. \\n\\nOur parents asked me if I could invite my brother and his family and I refused. They told me that if I invited them, they would come and I answered them that that is exactly why I’m not going to. I don’t want the holidays to be awkward and if they want to make amends with him, they should be the ones to reach out.\\n\\nIt turned into a small argument and I ended up telling them that they are lucky that my brother acknowledges them. They should be grateful that his wife is such a sweetheart because it's because of her that he barely talks to them. They should be careful how they proceed from now on because it could blow in their faces.\\n\\nThey say I was too harsh and they just want to fix their relationship with him and I could help. I could, but I don’t think it’s my place to do it. I don’t want to jeopardize my relationship with him and his wife when he has been very clear to everyone that he’s not interested.\", 'send_replies': True, 'spoiler': False, 'stickied': False, 'subreddit': 'AmItheAsshole', 'subreddit_id': 't5_2xhvq', 'subreddit_subscribers': 4798672, 'subreddit_type': 'public', 'suggested_sort': 'top', 'thumbnail': 'self', 'title': 'AITA for not inviting my brother to spend the holidays with me and our parents?', 'total_awards_received': 0, 'treatment_tags': [], 'upvote_ratio': 1.0, 'url': 'https://www.reddit.com/r/AmItheAsshole/comments/yx8wzj/aita_for_not_inviting_my_brother_to_spend_the/', 'whitelist_status': 'all_ads', 'wls': 6}\n"
     ]
    },
    {
     "name": "stderr",
     "output_type": "stream",
     "text": [
      "C:\\Users\\Sparrow\\AppData\\Local\\Temp\\ipykernel_22000\\1226572919.py:13: FutureWarning: The frame.append method is deprecated and will be removed from pandas in a future version. Use pandas.concat instead.\n",
      "  df.append(posts)\n"
     ]
    }
   ],
   "source": [
    "pushapi('AITA82',1668644443)"
   ]
  },
  {
   "cell_type": "code",
   "execution_count": 182,
   "id": "846e9261-49ea-42ab-b614-b61f3d679613",
   "metadata": {},
   "outputs": [
    {
     "name": "stdout",
     "output_type": "stream",
     "text": [
      "100\n",
      "{'all_awardings': [], 'allow_live_comments': False, 'author': 'SixSage_Brink', 'author_flair_css_class': None, 'author_flair_richtext': [], 'author_flair_text': None, 'author_flair_type': 'text', 'author_fullname': 't2_5y51aa50', 'author_is_blocked': False, 'author_patreon_flair': False, 'author_premium': False, 'awarders': [], 'can_mod_post': False, 'contest_mode': True, 'created_utc': 1668632179, 'domain': 'self.AmItheAsshole', 'full_link': 'https://www.reddit.com/r/AmItheAsshole/comments/yx5yps/aita_for_making_gay_jokes/', 'gildings': {}, 'id': 'yx5yps', 'is_created_from_ads_ui': False, 'is_crosspostable': True, 'is_meta': False, 'is_original_content': False, 'is_reddit_media_domain': False, 'is_robot_indexable': True, 'is_self': True, 'is_video': False, 'link_flair_background_color': '', 'link_flair_richtext': [], 'link_flair_text_color': 'dark', 'link_flair_type': 'text', 'locked': False, 'media_only': False, 'no_follow': True, 'num_comments': 1, 'num_crossposts': 0, 'over_18': False, 'parent_whitelist_status': 'all_ads', 'permalink': '/r/AmItheAsshole/comments/yx5yps/aita_for_making_gay_jokes/', 'pinned': False, 'pwls': 6, 'retrieved_on': 1668632189, 'score': 1, 'selftext': 'I’m a heterosexual male freshmen high school student who as well as most (I assume) straight male act gay and sometimes make gay jokes. So one day in English class we were doing a Jamboard (I’m assuming most of you know what that is so I will not explain it) and while doing this Jamboard I hear a conversation about basketball and the student who started this conversation was that type of kid who would talk all smack but would really suck at anything and I had this idea although not the best I admit that. So I go to “upload a image” on the Jamboard app and upload a image of a roblox character saying “I’ve seen gay parades straighter then yo jump shot” and tell the kid to look at the board the kid then says “I can’t read it make it larger” I then make the image larger and after he reads it he tell me “you mean you? Anyways I’d delete that some people could get offended and you could get a referral, school admin is basically like twitter” I agree with that point and go to delete the image but I guess I wasn’t fast enough because the teacher saw me with that image up and wrote me a referral for making gay jokes (plural) and drawing penises which I did not do neither did anybody else and I got 3 lunch detentions which isn’t that bad considering I don’t have any friends in lunch\\n\\nSo, AITA?', 'send_replies': True, 'spoiler': False, 'stickied': False, 'subreddit': 'AmItheAsshole', 'subreddit_id': 't5_2xhvq', 'subreddit_subscribers': 4798349, 'subreddit_type': 'public', 'suggested_sort': 'top', 'thumbnail': 'self', 'title': 'AITA for making gay jokes?', 'total_awards_received': 0, 'treatment_tags': [], 'upvote_ratio': 1.0, 'url': 'https://www.reddit.com/r/AmItheAsshole/comments/yx5yps/aita_for_making_gay_jokes/', 'whitelist_status': 'all_ads', 'wls': 6}\n"
     ]
    },
    {
     "name": "stderr",
     "output_type": "stream",
     "text": [
      "C:\\Users\\Sparrow\\AppData\\Local\\Temp\\ipykernel_22000\\1226572919.py:13: FutureWarning: The frame.append method is deprecated and will be removed from pandas in a future version. Use pandas.concat instead.\n",
      "  df.append(posts)\n"
     ]
    }
   ],
   "source": [
    "pushapi('AITA83', 1668639046)"
   ]
  },
  {
   "cell_type": "code",
   "execution_count": 183,
   "id": "ff2649ed-fc45-4791-b08b-61b17b1a8bf1",
   "metadata": {},
   "outputs": [
    {
     "name": "stdout",
     "output_type": "stream",
     "text": [
      "99\n",
      "{'all_awardings': [], 'allow_live_comments': False, 'author': 'DemonWannaBe', 'author_flair_css_class': None, 'author_flair_richtext': [], 'author_flair_text': None, 'author_flair_type': 'text', 'author_fullname': 't2_8czadxip', 'author_is_blocked': False, 'author_patreon_flair': False, 'author_premium': False, 'awarders': [], 'can_mod_post': False, 'contest_mode': False, 'created_utc': 1668626323, 'domain': 'self.AmItheAsshole', 'full_link': 'https://www.reddit.com/r/AmItheAsshole/comments/yx36rw/aita_for_my_online_friend_leaving_the_friend_group/', 'gildings': {}, 'id': 'yx36rw', 'is_created_from_ads_ui': False, 'is_crosspostable': False, 'is_meta': False, 'is_original_content': False, 'is_reddit_media_domain': False, 'is_robot_indexable': False, 'is_self': True, 'is_video': False, 'link_flair_background_color': '', 'link_flair_richtext': [], 'link_flair_text_color': 'dark', 'link_flair_type': 'text', 'locked': True, 'media_only': False, 'no_follow': True, 'num_comments': 1, 'num_crossposts': 0, 'over_18': False, 'parent_whitelist_status': 'all_ads', 'permalink': '/r/AmItheAsshole/comments/yx36rw/aita_for_my_online_friend_leaving_the_friend_group/', 'pinned': False, 'pwls': 6, 'removed_by_category': 'moderator', 'retrieved_on': 1668626333, 'score': 1, 'selftext': '[removed]', 'send_replies': True, 'spoiler': False, 'stickied': False, 'subreddit': 'AmItheAsshole', 'subreddit_id': 't5_2xhvq', 'subreddit_subscribers': 4798070, 'subreddit_type': 'public', 'suggested_sort': 'top', 'thumbnail': 'self', 'title': 'AITA for my online friend leaving the friend group?', 'total_awards_received': 0, 'treatment_tags': [], 'upvote_ratio': 1.0, 'url': 'https://www.reddit.com/r/AmItheAsshole/comments/yx36rw/aita_for_my_online_friend_leaving_the_friend_group/', 'whitelist_status': 'all_ads', 'wls': 6}\n"
     ]
    },
    {
     "name": "stderr",
     "output_type": "stream",
     "text": [
      "C:\\Users\\Sparrow\\AppData\\Local\\Temp\\ipykernel_22000\\1226572919.py:13: FutureWarning: The frame.append method is deprecated and will be removed from pandas in a future version. Use pandas.concat instead.\n",
      "  df.append(posts)\n"
     ]
    }
   ],
   "source": [
    "pushapi('AITA84',1668632179)"
   ]
  },
  {
   "cell_type": "code",
   "execution_count": 184,
   "id": "c4841aec-4dba-45d7-a396-3a98994dac27",
   "metadata": {},
   "outputs": [
    {
     "name": "stdout",
     "output_type": "stream",
     "text": [
      "100\n",
      "{'all_awardings': [], 'allow_live_comments': False, 'author': 'RunTheNumbers16', 'author_flair_css_class': None, 'author_flair_richtext': [], 'author_flair_text': None, 'author_flair_type': 'text', 'author_fullname': 't2_k0y4sfjf', 'author_is_blocked': False, 'author_patreon_flair': False, 'author_premium': False, 'awarders': [], 'can_mod_post': False, 'contest_mode': True, 'created_utc': 1668617723, 'domain': 'self.AmItheAsshole', 'full_link': 'https://www.reddit.com/r/AmItheAsshole/comments/ywz00i/aita_for_implementing_timesheets_for_a_group/', 'gildings': {}, 'id': 'ywz00i', 'is_created_from_ads_ui': False, 'is_crosspostable': True, 'is_meta': False, 'is_original_content': False, 'is_reddit_media_domain': False, 'is_robot_indexable': True, 'is_self': True, 'is_video': False, 'link_flair_background_color': '', 'link_flair_richtext': [], 'link_flair_text_color': 'dark', 'link_flair_type': 'text', 'locked': False, 'media_only': False, 'no_follow': True, 'num_comments': 1, 'num_crossposts': 0, 'over_18': False, 'parent_whitelist_status': 'all_ads', 'permalink': '/r/AmItheAsshole/comments/ywz00i/aita_for_implementing_timesheets_for_a_group/', 'pinned': False, 'pwls': 6, 'retrieved_on': 1668617734, 'score': 1, 'selftext': 'I am taking an elective class right now for college to finish my degree. As many of you know, college groups can be very hit or miss. I was put into a random group since I don\\'t really know anyone and I honestly can work with anyone as long as the job gets done. Anyway... We have a project due at the end of the semester and so far it looks like no one in the group wants to take it seriously except for myself. I have already completed my portion of the project. The others have not even touched anything yet. So in order to \"light a fire under everyone\\'s ass\", I thought why not implement a timesheet? For those of you who don’t know what time sheets are, you basically record what you are completing every 10 minutes. With that being said, by the time the project is due, I could also turn in the timesheet with the project and anyone who fails to contribute significantly to this project would ideally fail the course or have their grade tank significantly. What are your guy\\'s thoughts AITA for trying to implement this on the group?', 'send_replies': True, 'spoiler': False, 'stickied': False, 'subreddit': 'AmItheAsshole', 'subreddit_id': 't5_2xhvq', 'subreddit_subscribers': 4797751, 'subreddit_type': 'public', 'suggested_sort': 'top', 'thumbnail': 'self', 'title': 'AITA for implementing timesheets for a group project', 'total_awards_received': 0, 'treatment_tags': [], 'upvote_ratio': 1.0, 'url': 'https://www.reddit.com/r/AmItheAsshole/comments/ywz00i/aita_for_implementing_timesheets_for_a_group/', 'whitelist_status': 'all_ads', 'wls': 6}\n"
     ]
    },
    {
     "name": "stderr",
     "output_type": "stream",
     "text": [
      "C:\\Users\\Sparrow\\AppData\\Local\\Temp\\ipykernel_22000\\1226572919.py:13: FutureWarning: The frame.append method is deprecated and will be removed from pandas in a future version. Use pandas.concat instead.\n",
      "  df.append(posts)\n"
     ]
    }
   ],
   "source": [
    "pushapi('AITA85',1668626323)"
   ]
  },
  {
   "cell_type": "code",
   "execution_count": 185,
   "id": "8bef52ea-c594-411c-9e23-662f61303cb1",
   "metadata": {},
   "outputs": [
    {
     "name": "stdout",
     "output_type": "stream",
     "text": [
      "100\n",
      "{'all_awardings': [], 'allow_live_comments': False, 'author': 'blackedsheep11', 'author_flair_css_class': None, 'author_flair_richtext': [], 'author_flair_text': None, 'author_flair_type': 'text', 'author_fullname': 't2_tgnmacf6', 'author_is_blocked': False, 'author_patreon_flair': False, 'author_premium': False, 'awarders': [], 'can_mod_post': False, 'contest_mode': False, 'created_utc': 1668612052, 'domain': 'self.AmItheAsshole', 'full_link': 'https://www.reddit.com/r/AmItheAsshole/comments/yww8m8/wibta_if_i_distant_myself_from_my_family/', 'gildings': {}, 'id': 'yww8m8', 'is_created_from_ads_ui': False, 'is_crosspostable': False, 'is_meta': False, 'is_original_content': False, 'is_reddit_media_domain': False, 'is_robot_indexable': False, 'is_self': True, 'is_video': False, 'link_flair_background_color': '', 'link_flair_richtext': [], 'link_flair_text_color': 'dark', 'link_flair_type': 'text', 'locked': True, 'media_only': False, 'no_follow': True, 'num_comments': 1, 'num_crossposts': 0, 'over_18': False, 'parent_whitelist_status': 'all_ads', 'permalink': '/r/AmItheAsshole/comments/yww8m8/wibta_if_i_distant_myself_from_my_family/', 'pinned': False, 'pwls': 6, 'removed_by_category': 'moderator', 'retrieved_on': 1668612063, 'score': 1, 'selftext': '[removed]', 'send_replies': True, 'spoiler': False, 'stickied': False, 'subreddit': 'AmItheAsshole', 'subreddit_id': 't5_2xhvq', 'subreddit_subscribers': 4797528, 'subreddit_type': 'public', 'suggested_sort': 'top', 'thumbnail': 'self', 'title': 'WIBTA if I distant myself from my family?', 'total_awards_received': 0, 'treatment_tags': [], 'upvote_ratio': 1.0, 'url': 'https://www.reddit.com/r/AmItheAsshole/comments/yww8m8/wibta_if_i_distant_myself_from_my_family/', 'whitelist_status': 'all_ads', 'wls': 6}\n"
     ]
    },
    {
     "name": "stderr",
     "output_type": "stream",
     "text": [
      "C:\\Users\\Sparrow\\AppData\\Local\\Temp\\ipykernel_22000\\1226572919.py:13: FutureWarning: The frame.append method is deprecated and will be removed from pandas in a future version. Use pandas.concat instead.\n",
      "  df.append(posts)\n"
     ]
    }
   ],
   "source": [
    "pushapi('AITA86',1668617723)"
   ]
  },
  {
   "cell_type": "code",
   "execution_count": 186,
   "id": "201d101a-77f5-4234-86a2-8b19032da06f",
   "metadata": {},
   "outputs": [
    {
     "name": "stdout",
     "output_type": "stream",
     "text": [
      "100\n",
      "{'all_awardings': [], 'allow_live_comments': False, 'author': 'Ordinary-Market2789', 'author_flair_css_class': None, 'author_flair_richtext': [], 'author_flair_text': None, 'author_flair_type': 'text', 'author_fullname': 't2_lf3mbux1', 'author_is_blocked': False, 'author_patreon_flair': False, 'author_premium': False, 'awarders': [], 'can_mod_post': False, 'contest_mode': True, 'created_utc': 1668600444, 'domain': 'self.AmItheAsshole', 'full_link': 'https://www.reddit.com/r/AmItheAsshole/comments/ywrn2e/aita_for_pretending_to_be_the_gay_best_friend/', 'gildings': {}, 'id': 'ywrn2e', 'is_created_from_ads_ui': False, 'is_crosspostable': True, 'is_meta': False, 'is_original_content': False, 'is_reddit_media_domain': False, 'is_robot_indexable': True, 'is_self': True, 'is_video': False, 'link_flair_background_color': '', 'link_flair_richtext': [], 'link_flair_text_color': 'dark', 'link_flair_type': 'text', 'locked': False, 'media_only': False, 'no_follow': True, 'num_comments': 1, 'num_crossposts': 0, 'over_18': False, 'parent_whitelist_status': 'all_ads', 'permalink': '/r/AmItheAsshole/comments/ywrn2e/aita_for_pretending_to_be_the_gay_best_friend/', 'pinned': False, 'pwls': 6, 'retrieved_on': 1668600454, 'score': 1, 'selftext': \"So,\\nI was seeing a married woman and one day we came up with a way we could hang out at her house more.....while her husband was there \\nWe went through with it and I was introduced as a mate....nothing to worry about because I was gay.....\\nWe'd hang out at her house and I even answered questions about guys I liked etc \\nAny opportunity we could, we'd steal a kiss etc \\n\\nWe are daring now so it's good, right?\", 'send_replies': True, 'spoiler': False, 'stickied': False, 'subreddit': 'AmItheAsshole', 'subreddit_id': 't5_2xhvq', 'subreddit_subscribers': 4797139, 'subreddit_type': 'public', 'suggested_sort': 'top', 'thumbnail': 'self', 'title': 'AITA for pretending to be the gay best friend....?', 'total_awards_received': 0, 'treatment_tags': [], 'upvote_ratio': 1.0, 'url': 'https://www.reddit.com/r/AmItheAsshole/comments/ywrn2e/aita_for_pretending_to_be_the_gay_best_friend/', 'whitelist_status': 'all_ads', 'wls': 6}\n"
     ]
    },
    {
     "name": "stderr",
     "output_type": "stream",
     "text": [
      "C:\\Users\\Sparrow\\AppData\\Local\\Temp\\ipykernel_22000\\1226572919.py:13: FutureWarning: The frame.append method is deprecated and will be removed from pandas in a future version. Use pandas.concat instead.\n",
      "  df.append(posts)\n"
     ]
    }
   ],
   "source": [
    "pushapi('AITA87',1668612052)"
   ]
  },
  {
   "cell_type": "code",
   "execution_count": 187,
   "id": "eb52efcc-4f7a-4b3b-83dc-28af50996d66",
   "metadata": {},
   "outputs": [
    {
     "name": "stdout",
     "output_type": "stream",
     "text": [
      "100\n",
      "{'all_awardings': [], 'allow_live_comments': False, 'author': 'throwaway-truthopast', 'author_flair_css_class': None, 'author_flair_richtext': [], 'author_flair_text': None, 'author_flair_type': 'text', 'author_fullname': 't2_ucal5yr4', 'author_is_blocked': False, 'author_patreon_flair': False, 'author_premium': False, 'awarders': [], 'can_mod_post': False, 'contest_mode': True, 'created_utc': 1668589324, 'domain': 'self.AmItheAsshole', 'full_link': 'https://www.reddit.com/r/AmItheAsshole/comments/ywok48/aita_for_wanting_my_bf_to_admit_hwta/', 'gildings': {}, 'id': 'ywok48', 'is_created_from_ads_ui': False, 'is_crosspostable': True, 'is_meta': False, 'is_original_content': False, 'is_reddit_media_domain': False, 'is_robot_indexable': True, 'is_self': True, 'is_video': False, 'link_flair_background_color': '', 'link_flair_richtext': [], 'link_flair_text_color': 'dark', 'link_flair_type': 'text', 'locked': False, 'media_only': False, 'no_follow': True, 'num_comments': 1, 'num_crossposts': 0, 'over_18': False, 'parent_whitelist_status': 'all_ads', 'permalink': '/r/AmItheAsshole/comments/ywok48/aita_for_wanting_my_bf_to_admit_hwta/', 'pinned': False, 'pwls': 6, 'retrieved_on': 1668589335, 'score': 1, 'selftext': \"Could really use some help cause I'm just really confused Ty\\n My BF (50s) &amp; I (F,40s) (7 yr)  are having major issues but we're trying to work on it &amp; this one has become a empasse \\nHe has a tendency to become very emotional during conversations &amp; atp it's no longer possible imo to talk to him This is one of those times \\nSo our vacays are nightmares In '18 there was the Anniversary  trip &amp; recently Hot Springs Both stories ofto\\nOklahoma '19 Visiting family &amp; he starts amping up so I suggest he go hang at our son's cabin for a bit He decided to leave Ubered to the next town, hopped a flight home Found out from the cams  Had to cut everything short &amp; drive back It was pretty bad bc I had my son with me\\nThis comes up bc imo he's never really apologized for it. When I bring it up as in this is something I really need you to be accountable for he gets really angry &amp; invariably says\\n--  I told him to leave - I didn't &amp; have an email I wrote that repeats going to the son's cabin \\n-- I was drunk - He doesn't drink so I don't No bars None in home  Maybe a couple when I'm out but that's years between\\n-- It wasn't that bad - Iho he left us with money, car &amp; rooms so it wasn't really that bad &amp; I'm overreacting\\n-- He's already apologized &amp; that should be enough\\nBut imo I'm not hearing an apology Every one of these starts with 'yes that happened but _insert' \\nI've told him I would really like it if he would just say IWTA &amp; leave it at that To me the reasons should be discussed after the issue is acknowledged &amp; not used as justifications\\nHe says that he's not blame shifting he's pointing out my faults too If I ask him not to do that &amp; steer the Convo back he says I'm being abusive &amp; shutting him down bc I don't like hearing about my mistakes\\nI know I'm not perfect I'm sure I did some things wrong but I don't see how hurling 'well you did it too' is going to help \\nI just can't seem to get this across to him \\nSo AITA for wanting him to admit HWTA\", 'send_replies': True, 'spoiler': False, 'stickied': False, 'subreddit': 'AmItheAsshole', 'subreddit_id': 't5_2xhvq', 'subreddit_subscribers': 4796867, 'subreddit_type': 'public', 'suggested_sort': 'top', 'thumbnail': 'self', 'title': 'AITA for wanting my BF to admit HWTA?', 'total_awards_received': 0, 'treatment_tags': [], 'upvote_ratio': 1.0, 'url': 'https://www.reddit.com/r/AmItheAsshole/comments/ywok48/aita_for_wanting_my_bf_to_admit_hwta/', 'whitelist_status': 'all_ads', 'wls': 6}\n"
     ]
    },
    {
     "name": "stderr",
     "output_type": "stream",
     "text": [
      "C:\\Users\\Sparrow\\AppData\\Local\\Temp\\ipykernel_22000\\1226572919.py:13: FutureWarning: The frame.append method is deprecated and will be removed from pandas in a future version. Use pandas.concat instead.\n",
      "  df.append(posts)\n"
     ]
    }
   ],
   "source": [
    "pushapi('AITA88',1668600444)"
   ]
  },
  {
   "cell_type": "code",
   "execution_count": 188,
   "id": "bfd2ed52-2370-4160-a8ea-d3a3b7410be7",
   "metadata": {},
   "outputs": [
    {
     "name": "stdout",
     "output_type": "stream",
     "text": [
      "100\n",
      "{'all_awardings': [], 'allow_live_comments': False, 'author': 'Cute-Skill-5892', 'author_flair_css_class': None, 'author_flair_richtext': [], 'author_flair_text': None, 'author_flair_type': 'text', 'author_fullname': 't2_bdlwltnz', 'author_is_blocked': False, 'author_patreon_flair': False, 'author_premium': False, 'awarders': [], 'can_mod_post': False, 'contest_mode': True, 'created_utc': 1668579291, 'domain': 'self.AmItheAsshole', 'full_link': 'https://www.reddit.com/r/AmItheAsshole/comments/ywlqlh/aita_for_asking_friends_to_go_on_a_trip_with_me/', 'gildings': {}, 'id': 'ywlqlh', 'is_created_from_ads_ui': False, 'is_crosspostable': True, 'is_meta': False, 'is_original_content': False, 'is_reddit_media_domain': False, 'is_robot_indexable': True, 'is_self': True, 'is_video': False, 'link_flair_background_color': '', 'link_flair_richtext': [], 'link_flair_text_color': 'dark', 'link_flair_type': 'text', 'locked': False, 'media_only': False, 'no_follow': True, 'num_comments': 1, 'num_crossposts': 0, 'over_18': False, 'parent_whitelist_status': 'all_ads', 'permalink': '/r/AmItheAsshole/comments/ywlqlh/aita_for_asking_friends_to_go_on_a_trip_with_me/', 'pinned': False, 'pwls': 6, 'retrieved_on': 1668579302, 'score': 1, 'selftext': 'My (25F) boyfriend (34M) and I have been dating for three months. We are also roommates in a large apartment, which is how we happened to meet, so we spend a lot of time together.\\n\\nWe both rock climb and I have always wanted to go to Joshua Tree. I saw there was a cheap flight to Palm Springs for a 4 day trip there in February over the holiday weekend. I was at work so I shot my boyfriend a text asking if he wanted to go. He replied he had to work that weekend, so he couldn’t.\\n\\nI replied “Bummer, I’ll ask someone else” and texted a couple other friends asking if they wanted to come. He’s now upset. He says a change of weekend or more money for a different flight should be less important than spending time with him on our first trip together.\\n\\nI’m really short on vacation days (I only get 10 a year and they accrue slowly) so I really prefer the long holiday weekend to save days. Also other flight dates are a lot more expensive. He claims he might have a little more experience negotiating life with a partner (he is older and was in a long term relationship prior to me) or maybe is expecting too much of me. I suppose I am younger and more spontaneous and not used to being tied down, but AITA for asking friends to go on this trip that he can’t go on?', 'send_replies': True, 'spoiler': False, 'stickied': False, 'subreddit': 'AmItheAsshole', 'subreddit_id': 't5_2xhvq', 'subreddit_subscribers': 4796628, 'subreddit_type': 'public', 'suggested_sort': 'top', 'thumbnail': 'self', 'title': 'AITA for asking friends to go on a trip with me when my boyfriend couldn’t?', 'total_awards_received': 0, 'treatment_tags': [], 'upvote_ratio': 1.0, 'url': 'https://www.reddit.com/r/AmItheAsshole/comments/ywlqlh/aita_for_asking_friends_to_go_on_a_trip_with_me/', 'whitelist_status': 'all_ads', 'wls': 6}\n"
     ]
    },
    {
     "name": "stderr",
     "output_type": "stream",
     "text": [
      "C:\\Users\\Sparrow\\AppData\\Local\\Temp\\ipykernel_22000\\1226572919.py:13: FutureWarning: The frame.append method is deprecated and will be removed from pandas in a future version. Use pandas.concat instead.\n",
      "  df.append(posts)\n"
     ]
    }
   ],
   "source": [
    "pushapi('AITA89',1668589324)"
   ]
  },
  {
   "cell_type": "code",
   "execution_count": 189,
   "id": "cd7f41fb-f684-495e-9bd8-6b11606671d9",
   "metadata": {},
   "outputs": [
    {
     "name": "stdout",
     "output_type": "stream",
     "text": [
      "100\n",
      "{'all_awardings': [], 'allow_live_comments': False, 'author': 'Brotien_shake1', 'author_flair_css_class': None, 'author_flair_richtext': [], 'author_flair_text': None, 'author_flair_type': 'text', 'author_fullname': 't2_tlp0jzi1', 'author_is_blocked': False, 'author_patreon_flair': False, 'author_premium': False, 'awarders': [], 'can_mod_post': False, 'contest_mode': True, 'created_utc': 1668570983, 'domain': 'self.AmItheAsshole', 'full_link': 'https://www.reddit.com/r/AmItheAsshole/comments/ywj0my/aita_for_getting_one_of_my_friends_to_getting/', 'gildings': {}, 'id': 'ywj0my', 'is_created_from_ads_ui': False, 'is_crosspostable': True, 'is_meta': False, 'is_original_content': False, 'is_reddit_media_domain': False, 'is_robot_indexable': True, 'is_self': True, 'is_video': False, 'link_flair_background_color': '', 'link_flair_richtext': [], 'link_flair_text_color': 'dark', 'link_flair_type': 'text', 'locked': False, 'media_only': False, 'no_follow': True, 'num_comments': 1, 'num_crossposts': 0, 'over_18': False, 'parent_whitelist_status': 'all_ads', 'permalink': '/r/AmItheAsshole/comments/ywj0my/aita_for_getting_one_of_my_friends_to_getting/', 'pinned': False, 'pwls': 6, 'retrieved_on': 1668570994, 'score': 1, 'selftext': '(Here’s some background, I’ll call me (M) and my friend (C) me and this dude have been the closest of friends for a while and all of a sudden he became a douche for no particular reason a little while back. \\n\\nA while ago, (C) was making personal insults at me and when I got upset at him, he excused his actions by saying I’m taking too much offense to things and then shoved me into a locker while walking away. \\n\\nThis pissed me off so much that I wanted to get back at him in a way. I went to the next class I went to talk to my other friend (A) and told him that I had a prank that would be funny and he agreed to do it.\\n\\nThe prank was that we would say that he wasn’t funny anytime (C) made a joke. Sound alright so far but I know he’s really insecure about it and sense (A) and I are usually that people he hangs around most I needed him to help.\\n\\nHe do it and he starts to get agitated more and more until he explodes! Neither of us expected it to happen and (C) was on the brink of tears and we both apologized and told him it was a joke but we ruined his entire day by that point.\\n\\nThe problem is I didn’t feel sorry for what I did and I felt bad why I would plan something like that to hurt my closest friend and also kind of lying to my other friend by describing it to him like it wasn’t a big deal when I knew well it would hurt his feelings. This isn’t a story about the “prank” it’s about what I did to (A) so, AITA for doing this?', 'send_replies': True, 'spoiler': False, 'stickied': False, 'subreddit': 'AmItheAsshole', 'subreddit_id': 't5_2xhvq', 'subreddit_subscribers': 4796343, 'subreddit_type': 'public', 'suggested_sort': 'top', 'thumbnail': 'self', 'title': 'AITA for getting one of my friends to getting back at my closest friends for what he did to me?', 'total_awards_received': 0, 'treatment_tags': [], 'upvote_ratio': 1.0, 'url': 'https://www.reddit.com/r/AmItheAsshole/comments/ywj0my/aita_for_getting_one_of_my_friends_to_getting/', 'whitelist_status': 'all_ads', 'wls': 6}\n"
     ]
    },
    {
     "name": "stderr",
     "output_type": "stream",
     "text": [
      "C:\\Users\\Sparrow\\AppData\\Local\\Temp\\ipykernel_22000\\1226572919.py:13: FutureWarning: The frame.append method is deprecated and will be removed from pandas in a future version. Use pandas.concat instead.\n",
      "  df.append(posts)\n"
     ]
    }
   ],
   "source": [
    "pushapi('AITA90',1668579291)"
   ]
  },
  {
   "cell_type": "code",
   "execution_count": 190,
   "id": "db4e898b-3c87-4ae1-b2c0-eddbb21a8f00",
   "metadata": {},
   "outputs": [
    {
     "name": "stdout",
     "output_type": "stream",
     "text": [
      "100\n",
      "{'all_awardings': [], 'allow_live_comments': False, 'author': 'AITAthanksgivingbf', 'author_flair_css_class': None, 'author_flair_richtext': [], 'author_flair_text': None, 'author_flair_type': 'text', 'author_fullname': 't2_uc5obb38', 'author_is_blocked': False, 'author_patreon_flair': False, 'author_premium': False, 'awarders': [], 'can_mod_post': False, 'contest_mode': True, 'created_utc': 1668566291, 'domain': 'self.AmItheAsshole', 'full_link': 'https://www.reddit.com/r/AmItheAsshole/comments/ywhbg3/wibta_if_i_brought_up_thanksgiving/', 'gildings': {}, 'id': 'ywhbg3', 'is_created_from_ads_ui': False, 'is_crosspostable': True, 'is_meta': False, 'is_original_content': False, 'is_reddit_media_domain': False, 'is_robot_indexable': True, 'is_self': True, 'is_video': False, 'link_flair_background_color': '', 'link_flair_richtext': [], 'link_flair_text_color': 'dark', 'link_flair_type': 'text', 'locked': False, 'media_only': False, 'no_follow': True, 'num_comments': 1, 'num_crossposts': 0, 'over_18': False, 'parent_whitelist_status': 'all_ads', 'permalink': '/r/AmItheAsshole/comments/ywhbg3/wibta_if_i_brought_up_thanksgiving/', 'pinned': False, 'pwls': 6, 'retrieved_on': 1668566302, 'score': 1, 'selftext': 'Throwaway, girlfriend knows my account. On mobile, sry.\\n\\nI (26m) have been dating my girlfriend (24f) since March. Her family does a big thing for Thanksgiving, her parents host their whole extended family, everyone cooks and brings food, and they actually all like each other so its apparently the best Thanksgiving celebration ever.\\n\\nEver since we started my dating my girlfriend has been talking about how awesome Thanksgiving at her parents is and how she\\'s excited to bring me so I can meet her whole family and celebrate the holiday properly. She has mentioned Thanksgiving and bringing me to Thanksgiving probably 2 or 3 times a month since we went exclusive. \\n\\nI have an extremely strained relationship with my family, I\\'m nc with my parents and by default very low contact with my extended family, my last few Thanksgivings have been me, the parade, and reheated Dominos on the couch. So I was very excited to enjoy a real Thanksgiving dinner with a family who doesn\\'t hate each other, but more importantly, I was excited to celebrate a major holiday with the love of my life.\\n\\nShe stopped mentioning Thanksgiving a few weeks ago. She went from constantly talking about her familys Thanksgiving to not even bringing it up if I hint at it. Though my hints are weak, I think I\\'ve said \"wow November\\'s going by fast\" at least 6 times so far trying to get her to bring up the holiday. But she hasn\\'t. \\n\\nThanksgiving is in about a week and I\\'d like to know if I\\'m still invited or if I\\'ll be spending another turkey day alone. I\\'m fine if I\\'m uninvited, I\\'d just like to know. But I think its rude to ask if I\\'m still invited, it feels like I\\'d be forcing myself upon her family holiday and I don\\'t want that. I only want to be invited if she actually wants me there, but I want clarification if I\\'m invited or not.\\n\\nWIBTA if I brought up Thanksgiving? Like WIBTA if I asked her what the plan is?', 'send_replies': True, 'spoiler': False, 'stickied': False, 'subreddit': 'AmItheAsshole', 'subreddit_id': 't5_2xhvq', 'subreddit_subscribers': 4796138, 'subreddit_type': 'public', 'suggested_sort': 'top', 'thumbnail': 'self', 'title': 'WIBTA if I brought up Thanksgiving?', 'total_awards_received': 0, 'treatment_tags': [], 'upvote_ratio': 1.0, 'url': 'https://www.reddit.com/r/AmItheAsshole/comments/ywhbg3/wibta_if_i_brought_up_thanksgiving/', 'whitelist_status': 'all_ads', 'wls': 6}\n"
     ]
    },
    {
     "name": "stderr",
     "output_type": "stream",
     "text": [
      "C:\\Users\\Sparrow\\AppData\\Local\\Temp\\ipykernel_22000\\1226572919.py:13: FutureWarning: The frame.append method is deprecated and will be removed from pandas in a future version. Use pandas.concat instead.\n",
      "  df.append(posts)\n"
     ]
    }
   ],
   "source": [
    "pushapi('AITA91',1668570983)"
   ]
  },
  {
   "cell_type": "code",
   "execution_count": 191,
   "id": "fadfabfe-0475-4123-9af6-4f8fdf42c891",
   "metadata": {},
   "outputs": [
    {
     "name": "stdout",
     "output_type": "stream",
     "text": [
      "100\n",
      "{'all_awardings': [], 'allow_live_comments': False, 'author': 'Fit-Cardiologist2841', 'author_cakeday': True, 'author_flair_css_class': None, 'author_flair_richtext': [], 'author_flair_text': None, 'author_flair_type': 'text', 'author_fullname': 't2_8wr1tqd8', 'author_is_blocked': False, 'author_patreon_flair': False, 'author_premium': False, 'awarders': [], 'can_mod_post': False, 'contest_mode': False, 'created_utc': 1668560769, 'domain': 'self.AmItheAsshole', 'full_link': 'https://www.reddit.com/r/AmItheAsshole/comments/ywfahx/aita_for_cutting_my_guy_friend_off_for_pushing_my/', 'gildings': {}, 'id': 'ywfahx', 'is_created_from_ads_ui': False, 'is_crosspostable': False, 'is_meta': False, 'is_original_content': False, 'is_reddit_media_domain': False, 'is_robot_indexable': False, 'is_self': True, 'is_video': False, 'link_flair_background_color': '', 'link_flair_richtext': [], 'link_flair_text_color': 'dark', 'link_flair_type': 'text', 'locked': True, 'media_only': False, 'no_follow': True, 'num_comments': 1, 'num_crossposts': 0, 'over_18': True, 'parent_whitelist_status': 'all_ads', 'permalink': '/r/AmItheAsshole/comments/ywfahx/aita_for_cutting_my_guy_friend_off_for_pushing_my/', 'pinned': False, 'pwls': 6, 'removed_by_category': 'moderator', 'retrieved_on': 1668560779, 'score': 1, 'selftext': '[removed]', 'send_replies': True, 'spoiler': False, 'stickied': False, 'subreddit': 'AmItheAsshole', 'subreddit_id': 't5_2xhvq', 'subreddit_subscribers': 4795885, 'subreddit_type': 'public', 'suggested_sort': 'top', 'thumbnail': 'nsfw', 'title': 'AITA for cutting my guy friend off for pushing my boundaries?', 'total_awards_received': 0, 'treatment_tags': [], 'upvote_ratio': 1.0, 'url': 'https://www.reddit.com/r/AmItheAsshole/comments/ywfahx/aita_for_cutting_my_guy_friend_off_for_pushing_my/', 'whitelist_status': 'promo_adult_nsfw', 'wls': 3}\n"
     ]
    },
    {
     "name": "stderr",
     "output_type": "stream",
     "text": [
      "C:\\Users\\Sparrow\\AppData\\Local\\Temp\\ipykernel_22000\\1226572919.py:13: FutureWarning: The frame.append method is deprecated and will be removed from pandas in a future version. Use pandas.concat instead.\n",
      "  df.append(posts)\n"
     ]
    }
   ],
   "source": [
    "pushapi('AITA92',1668566291)"
   ]
  },
  {
   "cell_type": "code",
   "execution_count": 192,
   "id": "8f068a38-3727-4c82-8cf3-796019f2acaf",
   "metadata": {},
   "outputs": [
    {
     "name": "stdout",
     "output_type": "stream",
     "text": [
      "100\n",
      "{'all_awardings': [], 'allow_live_comments': False, 'author': 'Fun-Caterpillar6620', 'author_flair_css_class': None, 'author_flair_richtext': [], 'author_flair_text': None, 'author_flair_type': 'text', 'author_fullname': 't2_o8srubij', 'author_is_blocked': False, 'author_patreon_flair': False, 'author_premium': False, 'awarders': [], 'can_mod_post': False, 'contest_mode': True, 'created_utc': 1668554757, 'domain': 'self.AmItheAsshole', 'full_link': 'https://www.reddit.com/r/AmItheAsshole/comments/ywd1a1/aita_for_insisting_my_gf_seek_a_professional/', 'gildings': {}, 'id': 'ywd1a1', 'is_created_from_ads_ui': False, 'is_crosspostable': True, 'is_meta': False, 'is_original_content': False, 'is_reddit_media_domain': False, 'is_robot_indexable': True, 'is_self': True, 'is_video': False, 'link_flair_background_color': '', 'link_flair_richtext': [], 'link_flair_text_color': 'dark', 'link_flair_type': 'text', 'locked': False, 'media_only': False, 'no_follow': True, 'num_comments': 1, 'num_crossposts': 0, 'over_18': False, 'parent_whitelist_status': 'all_ads', 'permalink': '/r/AmItheAsshole/comments/ywd1a1/aita_for_insisting_my_gf_seek_a_professional/', 'pinned': False, 'pwls': 6, 'retrieved_on': 1668554768, 'score': 1, 'selftext': 'My gf and I have been together for 8 years. During this time she has been known to be one of the most outgoing people everyone in her life knows. She is bubbly and funny and kind. Over the last couple of years she has realised that she may have ADHD, which I agree with, but has not sought out a professional diagnosis. Now, she is also saying that she think she may be autistic. Don’t get me wrong, I don’t care if she has any of the above but she constantly talks about ADHD and uses it as an excuse for almost everything without actually ever being diagnosed. At the risk of sounding insensitive I don’t actually think she has autism either. I’m not sure where she’s gotten this idea from but after looking at the diagnostic criteria she doesn’t seem to fit many of them at all. This self diagnosing has gotten to a point where you can’t convince her she doesn’t have these things but she also doesn’t seem to take initiative to get diagnosed. \\nLike I said, I really don’t care if she has autism and/or ADHD but her reluctance to seek diagnosis is preventing both of us from getting a solid answer and then moving forward with strategies and treatments to make both of our lives easier. So AITA for insisting she seek a formal diagnosis?', 'send_replies': True, 'spoiler': False, 'stickied': False, 'subreddit': 'AmItheAsshole', 'subreddit_id': 't5_2xhvq', 'subreddit_subscribers': 4795616, 'subreddit_type': 'public', 'suggested_sort': 'top', 'thumbnail': 'self', 'title': 'AITA for insisting my gf seek a professional diagnosis?', 'total_awards_received': 0, 'treatment_tags': [], 'upvote_ratio': 1.0, 'url': 'https://www.reddit.com/r/AmItheAsshole/comments/ywd1a1/aita_for_insisting_my_gf_seek_a_professional/', 'whitelist_status': 'all_ads', 'wls': 6}\n"
     ]
    },
    {
     "name": "stderr",
     "output_type": "stream",
     "text": [
      "C:\\Users\\Sparrow\\AppData\\Local\\Temp\\ipykernel_22000\\1226572919.py:13: FutureWarning: The frame.append method is deprecated and will be removed from pandas in a future version. Use pandas.concat instead.\n",
      "  df.append(posts)\n"
     ]
    }
   ],
   "source": [
    "pushapi('AITA93',1668560769)"
   ]
  },
  {
   "cell_type": "code",
   "execution_count": 193,
   "id": "a52d68bb-3691-4595-a9d0-10d544c24db2",
   "metadata": {},
   "outputs": [
    {
     "name": "stdout",
     "output_type": "stream",
     "text": [
      "100\n",
      "{'all_awardings': [], 'allow_live_comments': False, 'author': 'MyLifeIsASitcom123', 'author_flair_css_class': None, 'author_flair_richtext': [], 'author_flair_text': None, 'author_flair_type': 'text', 'author_fullname': 't2_chl94bvv', 'author_is_blocked': False, 'author_patreon_flair': False, 'author_premium': False, 'awarders': [], 'can_mod_post': False, 'contest_mode': False, 'created_utc': 1668548484, 'domain': 'self.AmItheAsshole', 'full_link': 'https://www.reddit.com/r/AmItheAsshole/comments/ywagia/aita_for_wanting_to_kick_my_sil_out_for_trying_to/', 'gildings': {}, 'id': 'ywagia', 'is_created_from_ads_ui': False, 'is_crosspostable': False, 'is_meta': False, 'is_original_content': False, 'is_reddit_media_domain': False, 'is_robot_indexable': False, 'is_self': True, 'is_video': False, 'link_flair_background_color': '', 'link_flair_richtext': [], 'link_flair_text_color': 'dark', 'link_flair_type': 'text', 'locked': True, 'media_only': False, 'no_follow': True, 'num_comments': 1, 'num_crossposts': 0, 'over_18': True, 'parent_whitelist_status': 'all_ads', 'permalink': '/r/AmItheAsshole/comments/ywagia/aita_for_wanting_to_kick_my_sil_out_for_trying_to/', 'pinned': False, 'pwls': 6, 'removed_by_category': 'moderator', 'retrieved_on': 1668548496, 'score': 1, 'selftext': '[removed]', 'send_replies': True, 'spoiler': False, 'stickied': False, 'subreddit': 'AmItheAsshole', 'subreddit_id': 't5_2xhvq', 'subreddit_subscribers': 4795318, 'subreddit_type': 'public', 'suggested_sort': 'top', 'thumbnail': 'nsfw', 'title': 'AITA for wanting to kick my SIL out for trying to sleep with me even though we’re letting her stay her because she just got out of an abusive relationship', 'total_awards_received': 0, 'treatment_tags': [], 'upvote_ratio': 1.0, 'url': 'https://www.reddit.com/r/AmItheAsshole/comments/ywagia/aita_for_wanting_to_kick_my_sil_out_for_trying_to/', 'whitelist_status': 'promo_adult_nsfw', 'wls': 3}\n"
     ]
    },
    {
     "name": "stderr",
     "output_type": "stream",
     "text": [
      "C:\\Users\\Sparrow\\AppData\\Local\\Temp\\ipykernel_22000\\1226572919.py:13: FutureWarning: The frame.append method is deprecated and will be removed from pandas in a future version. Use pandas.concat instead.\n",
      "  df.append(posts)\n"
     ]
    }
   ],
   "source": [
    "pushapi('AITA94',1668554757)"
   ]
  },
  {
   "cell_type": "code",
   "execution_count": 194,
   "id": "1af9d995-6406-4b73-91c3-51ed9b0a8f34",
   "metadata": {},
   "outputs": [
    {
     "name": "stdout",
     "output_type": "stream",
     "text": [
      "100\n",
      "{'all_awardings': [], 'allow_live_comments': False, 'author': 'fadingwizardfire', 'author_flair_css_class': None, 'author_flair_richtext': [], 'author_flair_text': None, 'author_flair_type': 'text', 'author_fullname': 't2_ubin0k2x', 'author_is_blocked': False, 'author_patreon_flair': False, 'author_premium': False, 'awarders': [], 'can_mod_post': False, 'contest_mode': False, 'created_utc': 1668542022, 'domain': 'self.AmItheAsshole', 'full_link': 'https://www.reddit.com/r/AmItheAsshole/comments/yw7p7z/aita_for_blocking_my_friend_and_leaving_the_gc/', 'gildings': {}, 'id': 'yw7p7z', 'is_created_from_ads_ui': False, 'is_crosspostable': False, 'is_meta': False, 'is_original_content': False, 'is_reddit_media_domain': False, 'is_robot_indexable': False, 'is_self': True, 'is_video': False, 'link_flair_background_color': '', 'link_flair_richtext': [], 'link_flair_text_color': 'dark', 'link_flair_type': 'text', 'locked': True, 'media_only': False, 'no_follow': True, 'num_comments': 1, 'num_crossposts': 0, 'over_18': False, 'parent_whitelist_status': 'all_ads', 'permalink': '/r/AmItheAsshole/comments/yw7p7z/aita_for_blocking_my_friend_and_leaving_the_gc/', 'pinned': False, 'pwls': 6, 'removed_by_category': 'moderator', 'retrieved_on': 1668542033, 'score': 1, 'selftext': '[removed]', 'send_replies': True, 'spoiler': False, 'stickied': False, 'subreddit': 'AmItheAsshole', 'subreddit_id': 't5_2xhvq', 'subreddit_subscribers': 4795015, 'subreddit_type': 'public', 'suggested_sort': 'top', 'thumbnail': 'self', 'title': 'AITA for blocking my friend and leaving the gc?', 'total_awards_received': 0, 'treatment_tags': [], 'upvote_ratio': 1.0, 'url': 'https://www.reddit.com/r/AmItheAsshole/comments/yw7p7z/aita_for_blocking_my_friend_and_leaving_the_gc/', 'whitelist_status': 'all_ads', 'wls': 6}\n"
     ]
    },
    {
     "name": "stderr",
     "output_type": "stream",
     "text": [
      "C:\\Users\\Sparrow\\AppData\\Local\\Temp\\ipykernel_22000\\1226572919.py:13: FutureWarning: The frame.append method is deprecated and will be removed from pandas in a future version. Use pandas.concat instead.\n",
      "  df.append(posts)\n"
     ]
    }
   ],
   "source": [
    "pushapi('AITA95',1668548484)"
   ]
  },
  {
   "cell_type": "code",
   "execution_count": 195,
   "id": "ca168230-096e-4635-9b11-5282288aa1ff",
   "metadata": {},
   "outputs": [
    {
     "name": "stdout",
     "output_type": "stream",
     "text": [
      "100\n",
      "{'all_awardings': [], 'allow_live_comments': False, 'author': 'tcobsessedkb', 'author_flair_css_class': None, 'author_flair_richtext': [], 'author_flair_text': None, 'author_flair_type': 'text', 'author_fullname': 't2_2lt8azm6', 'author_is_blocked': False, 'author_patreon_flair': False, 'author_premium': False, 'awarders': [], 'can_mod_post': False, 'contest_mode': False, 'created_utc': 1668535551, 'domain': 'self.AmItheAsshole', 'full_link': 'https://www.reddit.com/r/AmItheAsshole/comments/yw4y4x/aita_for_telling_my_mom_she_has_to_spend/', 'gildings': {}, 'id': 'yw4y4x', 'is_created_from_ads_ui': False, 'is_crosspostable': False, 'is_meta': False, 'is_original_content': False, 'is_reddit_media_domain': False, 'is_robot_indexable': False, 'is_self': True, 'is_video': False, 'link_flair_background_color': '', 'link_flair_richtext': [], 'link_flair_text_color': 'dark', 'link_flair_type': 'text', 'locked': True, 'media_only': False, 'no_follow': True, 'num_comments': 1, 'num_crossposts': 0, 'over_18': False, 'parent_whitelist_status': 'all_ads', 'permalink': '/r/AmItheAsshole/comments/yw4y4x/aita_for_telling_my_mom_she_has_to_spend/', 'pinned': False, 'pwls': 6, 'removed_by_category': 'moderator', 'retrieved_on': 1668535561, 'score': 1, 'selftext': '[removed]', 'send_replies': True, 'spoiler': False, 'stickied': False, 'subreddit': 'AmItheAsshole', 'subreddit_id': 't5_2xhvq', 'subreddit_subscribers': 4794716, 'subreddit_type': 'public', 'suggested_sort': 'top', 'thumbnail': 'self', 'title': 'AITA for telling my mom she has to spend Christmas alone', 'total_awards_received': 0, 'treatment_tags': [], 'upvote_ratio': 1.0, 'url': 'https://www.reddit.com/r/AmItheAsshole/comments/yw4y4x/aita_for_telling_my_mom_she_has_to_spend/', 'whitelist_status': 'all_ads', 'wls': 6}\n"
     ]
    },
    {
     "name": "stderr",
     "output_type": "stream",
     "text": [
      "C:\\Users\\Sparrow\\AppData\\Local\\Temp\\ipykernel_22000\\1226572919.py:13: FutureWarning: The frame.append method is deprecated and will be removed from pandas in a future version. Use pandas.concat instead.\n",
      "  df.append(posts)\n"
     ]
    }
   ],
   "source": [
    "pushapi('AITA96',1668542022)"
   ]
  },
  {
   "cell_type": "code",
   "execution_count": 196,
   "id": "49ed944a-beda-460e-8653-10c788382573",
   "metadata": {},
   "outputs": [
    {
     "name": "stdout",
     "output_type": "stream",
     "text": [
      "100\n",
      "{'all_awardings': [], 'allow_live_comments': False, 'author': 'some_dude_62', 'author_flair_css_class': None, 'author_flair_richtext': [], 'author_flair_text': None, 'author_flair_type': 'text', 'author_fullname': 't2_mq1wbbih', 'author_is_blocked': False, 'author_patreon_flair': False, 'author_premium': False, 'awarders': [], 'can_mod_post': False, 'contest_mode': True, 'created_utc': 1668529642, 'domain': 'self.AmItheAsshole', 'full_link': 'https://www.reddit.com/r/AmItheAsshole/comments/yw226n/aita_for_telling_my_brother_not_to_play_my_game/', 'gildings': {}, 'id': 'yw226n', 'is_created_from_ads_ui': False, 'is_crosspostable': True, 'is_meta': False, 'is_original_content': False, 'is_reddit_media_domain': False, 'is_robot_indexable': True, 'is_self': True, 'is_video': False, 'link_flair_background_color': '', 'link_flair_richtext': [], 'link_flair_text_color': 'dark', 'link_flair_type': 'text', 'locked': False, 'media_only': False, 'no_follow': True, 'num_comments': 1, 'num_crossposts': 0, 'over_18': False, 'parent_whitelist_status': 'all_ads', 'permalink': '/r/AmItheAsshole/comments/yw226n/aita_for_telling_my_brother_not_to_play_my_game/', 'pinned': False, 'pwls': 6, 'retrieved_on': 1668529652, 'score': 1, 'selftext': \"On first look, yes I'm the ass but let me explain. A few months ago my brother came home from the US army after 4 years of service. He stayed at the house with me and my parents for about two months before moving out a few weeks ago. During this time he picked up the game elden ring and insisted that I do the same.\\n\\nWe have played games together since we were kids and when he was deployed. So I thought nothing of it as I bought the game. I enjoyed the lands in between and would party with my brother when I could, here is where things get difficult.\\n\\nMy brother's character is 3x as strong as my character as he has far more time to play the game then me. My brother works part time and is going to be a student in January. I on the other hand work 12 hour shifts. \\n\\nIn order to make our characters closer in level and so I can help him on boss fights, my brother comes over to the house so he can play MY CHARACTER. He did this once before and I asked him to stop as he used items that were really hard to get and experienced NPC interactions that only happen once a playthrough. \\n\\nToday he was texted me to tell me that he is once again over at MY house, playing on MY console, WITH MY CHARACTER. I asked him to stop again but I don't think he is listening to me.\\n\\nHis insistence that spend my days off grinding all day long, the fact he doesn't repect my wishes, and comes over UN-INVITED is annoying the absolute fuck out of me. I plan on telling him off firmly, but I understand his intentions. \\n\\nMy brother most likely doesn't see this as intrusive but supportive, seeing himself as helping me in game. \\n\\nBut still, would I be the asshole for telling him to fuck off?\", 'send_replies': True, 'spoiler': False, 'stickied': False, 'subreddit': 'AmItheAsshole', 'subreddit_id': 't5_2xhvq', 'subreddit_subscribers': 4794479, 'subreddit_type': 'public', 'suggested_sort': 'top', 'thumbnail': 'self', 'title': 'AITA For telling my brother not to play my game?', 'total_awards_received': 0, 'treatment_tags': [], 'upvote_ratio': 1.0, 'url': 'https://www.reddit.com/r/AmItheAsshole/comments/yw226n/aita_for_telling_my_brother_not_to_play_my_game/', 'whitelist_status': 'all_ads', 'wls': 6}\n"
     ]
    },
    {
     "name": "stderr",
     "output_type": "stream",
     "text": [
      "C:\\Users\\Sparrow\\AppData\\Local\\Temp\\ipykernel_22000\\1226572919.py:13: FutureWarning: The frame.append method is deprecated and will be removed from pandas in a future version. Use pandas.concat instead.\n",
      "  df.append(posts)\n"
     ]
    }
   ],
   "source": [
    "pushapi('AITA97',1668535551)"
   ]
  },
  {
   "cell_type": "code",
   "execution_count": 197,
   "id": "af33cde9-401e-4756-9a74-b1f2eabf0fc9",
   "metadata": {},
   "outputs": [
    {
     "name": "stdout",
     "output_type": "stream",
     "text": [
      "100\n",
      "{'all_awardings': [], 'allow_live_comments': False, 'author': 'Numerous-Ad-3104', 'author_flair_css_class': None, 'author_flair_richtext': [], 'author_flair_text': None, 'author_flair_type': 'text', 'author_fullname': 't2_dho4z37c', 'author_is_blocked': False, 'author_patreon_flair': False, 'author_premium': False, 'awarders': [], 'can_mod_post': False, 'contest_mode': False, 'created_utc': 1668522950, 'domain': 'self.AmItheAsshole', 'full_link': 'https://www.reddit.com/r/AmItheAsshole/comments/yvz0du/aita_for_telling_my_mil_she_is_no_longer_welcome/', 'gildings': {}, 'id': 'yvz0du', 'is_created_from_ads_ui': False, 'is_crosspostable': False, 'is_meta': False, 'is_original_content': False, 'is_reddit_media_domain': False, 'is_robot_indexable': False, 'is_self': True, 'is_video': False, 'link_flair_background_color': '', 'link_flair_richtext': [], 'link_flair_text_color': 'dark', 'link_flair_type': 'text', 'locked': True, 'media_only': False, 'no_follow': True, 'num_comments': 1, 'num_crossposts': 0, 'over_18': False, 'parent_whitelist_status': 'all_ads', 'permalink': '/r/AmItheAsshole/comments/yvz0du/aita_for_telling_my_mil_she_is_no_longer_welcome/', 'pinned': False, 'pwls': 6, 'removed_by_category': 'moderator', 'retrieved_on': 1668522960, 'score': 1, 'selftext': '[removed]', 'send_replies': True, 'spoiler': False, 'stickied': False, 'subreddit': 'AmItheAsshole', 'subreddit_id': 't5_2xhvq', 'subreddit_subscribers': 4794211, 'subreddit_type': 'public', 'suggested_sort': 'top', 'thumbnail': 'self', 'title': 'AITA for telling my MIL she is no longer welcome in my home for Thanksgiving?', 'total_awards_received': 0, 'treatment_tags': [], 'upvote_ratio': 1.0, 'url': 'https://www.reddit.com/r/AmItheAsshole/comments/yvz0du/aita_for_telling_my_mil_she_is_no_longer_welcome/', 'whitelist_status': 'all_ads', 'wls': 6}\n"
     ]
    },
    {
     "name": "stderr",
     "output_type": "stream",
     "text": [
      "C:\\Users\\Sparrow\\AppData\\Local\\Temp\\ipykernel_22000\\1226572919.py:13: FutureWarning: The frame.append method is deprecated and will be removed from pandas in a future version. Use pandas.concat instead.\n",
      "  df.append(posts)\n"
     ]
    }
   ],
   "source": [
    "pushapi('AITA98',1668529642)"
   ]
  },
  {
   "cell_type": "code",
   "execution_count": 198,
   "id": "049b1f0c-8ce0-43f4-9624-b8fee5ff0f43",
   "metadata": {},
   "outputs": [
    {
     "name": "stdout",
     "output_type": "stream",
     "text": [
      "100\n",
      "{'all_awardings': [], 'allow_live_comments': False, 'author': 'Reddit_throwaway-2', 'author_flair_css_class': None, 'author_flair_richtext': [], 'author_flair_text': None, 'author_flair_type': 'text', 'author_fullname': 't2_ublet33a', 'author_is_blocked': False, 'author_patreon_flair': False, 'author_premium': False, 'awarders': [], 'can_mod_post': False, 'contest_mode': True, 'created_utc': 1668513236, 'domain': 'self.AmItheAsshole', 'full_link': 'https://www.reddit.com/r/AmItheAsshole/comments/yvuzdc/aita_for_asking_my_fiancé_to_take_me_away_with/', 'gildings': {}, 'id': 'yvuzdc', 'is_created_from_ads_ui': False, 'is_crosspostable': True, 'is_meta': False, 'is_original_content': False, 'is_reddit_media_domain': False, 'is_robot_indexable': True, 'is_self': True, 'is_video': False, 'link_flair_background_color': '', 'link_flair_richtext': [], 'link_flair_text_color': 'dark', 'link_flair_type': 'text', 'locked': False, 'media_only': False, 'no_follow': True, 'num_comments': 1, 'num_crossposts': 0, 'over_18': False, 'parent_whitelist_status': 'all_ads', 'permalink': '/r/AmItheAsshole/comments/yvuzdc/aita_for_asking_my_fiancé_to_take_me_away_with/', 'pinned': False, 'pwls': 6, 'retrieved_on': 1668513247, 'score': 1, 'selftext': 'Throwaway acc, changing some details so that friends who know my acc don’t see. \\n\\nMy(27f) soon to be husband(28m) plays with a sports team. This is a hobby for him that he’s picked up in the last few years. During the time he’s played the sport there have been multiple events, some for one night, some week/weekends away to play. When it comes to one night events, he will take me along if we can get a sitter for our kids, but he’s been on a lot of weeks and weekends away that he will not invite me, I thought ‘ok well that’s just how things are’ because my fiancé  led me to believe that none of his team took their wives/girlfriends along, but what i didn’t know was that the other team mates take their wives/girlfriends and I’m the only one that doesn’t get taken. I know this as one of the other wives has asked me why I don’t go to watch my fiancé play and support him. To be honest it was embarrassing that I had to tell this woman I hadn’t been because my fiancé hadn’t invited me. \\n\\nThere’s a weekend event coming up soon, our kids will be on holiday with their grandparents and I asked him if I could go with him. He said no, he told me that no one is taking their other half even though I know that’s not true now.  I called him out on it and he said he didn’t see why he should take me. He called me an ah for expecting him to take me with him, and I’m not sure what I’m supposed to say now. \\n\\nSo AITA?', 'send_replies': True, 'spoiler': False, 'stickied': False, 'subreddit': 'AmItheAsshole', 'subreddit_id': 't5_2xhvq', 'subreddit_subscribers': 4793901, 'subreddit_type': 'public', 'suggested_sort': 'top', 'thumbnail': 'self', 'title': 'AITA for asking my fiancé to take me away with him for the weekend?', 'total_awards_received': 0, 'treatment_tags': [], 'upvote_ratio': 1.0, 'url': 'https://www.reddit.com/r/AmItheAsshole/comments/yvuzdc/aita_for_asking_my_fiancé_to_take_me_away_with/', 'whitelist_status': 'all_ads', 'wls': 6}\n"
     ]
    },
    {
     "name": "stderr",
     "output_type": "stream",
     "text": [
      "C:\\Users\\Sparrow\\AppData\\Local\\Temp\\ipykernel_22000\\1226572919.py:13: FutureWarning: The frame.append method is deprecated and will be removed from pandas in a future version. Use pandas.concat instead.\n",
      "  df.append(posts)\n"
     ]
    }
   ],
   "source": [
    "pushapi('AITA99',1668522950)"
   ]
  },
  {
   "cell_type": "code",
   "execution_count": 199,
   "id": "23dc5f2b-8526-4e93-900e-857bcdc628b5",
   "metadata": {},
   "outputs": [
    {
     "name": "stdout",
     "output_type": "stream",
     "text": [
      "100\n",
      "{'all_awardings': [], 'allow_live_comments': False, 'author': 'Ill-Watercress-5632', 'author_flair_css_class': None, 'author_flair_richtext': [], 'author_flair_text': None, 'author_flair_type': 'text', 'author_fullname': 't2_ubhdjjdp', 'author_is_blocked': False, 'author_patreon_flair': False, 'author_premium': False, 'awarders': [], 'can_mod_post': False, 'contest_mode': True, 'created_utc': 1668501943, 'domain': 'self.AmItheAsshole', 'full_link': 'https://www.reddit.com/r/AmItheAsshole/comments/yvr9z1/aita_for_bailing_on_my_sisters_wedding/', 'gildings': {}, 'id': 'yvr9z1', 'is_created_from_ads_ui': False, 'is_crosspostable': True, 'is_meta': False, 'is_original_content': False, 'is_reddit_media_domain': False, 'is_robot_indexable': True, 'is_self': True, 'is_video': False, 'link_flair_background_color': '', 'link_flair_richtext': [], 'link_flair_text_color': 'dark', 'link_flair_type': 'text', 'locked': False, 'media_only': False, 'no_follow': True, 'num_comments': 1, 'num_crossposts': 0, 'over_18': False, 'parent_whitelist_status': 'all_ads', 'permalink': '/r/AmItheAsshole/comments/yvr9z1/aita_for_bailing_on_my_sisters_wedding/', 'pinned': False, 'pwls': 6, 'retrieved_on': 1668501953, 'score': 1, 'selftext': \"A few months ago I (M34) had just gone through some really traumatic events at work (I'm a pediatric ICU nurse) and I'd quit my job. I was also dealing with my grandad having cancer and I'd also just moved a thousand miles away from home for my wife's medical school. I don't speak to my parents, and had only recently started talking to my little sister (30F) again.\\n\\nSister mentions to me she was getting married and wanted me to be at the wedding. I wasn't feeling up to it, I was pretty overwhelmed already and I just didn't trust the family to be in one place and not devolve into chaos. She asked me to please give it a chance and I relented. I'm her older brother it seemed right to be there. I get there and find out my dad is in the hospital with a bone infection in his foot and it looks like they may have to remove it and he won't be able to make it to the wedding.\\n\\nI calmed him down, we left the hospital (my mother, myself, and my sister) and everything seemed okay. Next morning we go to visit him, I catch him lying about sneaking out to smoke cigarettes. My mom and sister freak out and demand I yell at his nurse, which I told them I'm not doing its not a prison. They then demand I steal his clothing, which I refused to do because I'm not stealing the man's pants.\\n\\nMy sister kicks him out of the wedding, he's crying, he's back to freaking out, we all go home. My mother decides she's leaving him, I tell her that's kind of a crappy thing to do right now (she didn't want to get a job) she jumps down my throat about how its not my business what she does since I abandoned the family by moving away. I try to explain to my sister that our father is an idiot but he loves her and he's just scared and she should cut him some slack since he might lose his leg and she goes off at me for taking his side because I'm scared of him. I'm not.\\n\\nI throw my hands up and tell my mother and my sister that this is exactly what I was afraid of and I want no part of this. I go visit my grandfather, figure out that when he told me he was going to rehab he was actually in hospice and it becomes crystal clear to me this is the last time I'll see him alive, he was dying the whole time and just didn't know how to tell me. I spent the night with him.\\n\\nI get up, go back to my mom's place and calmly tell them I'm in no mood for games and I'm going home. They refuse to let me get my clothing, which includes all my business suites I use for interviews, unless I agree to stay and try to blame my grandad for my decision (they both hate him). I say this is insane, I'm a grown man you aren't holding my pants hostage. I move them aside and get my bags. Now I didn't hurt them, I didn't shove anyone, I didn't hit anything, I pushed passed them and got my stuff. My sister is screaming at me that I'm just like my dad and I'm just abandoning the family again because of my grandad.\\n\\nI go to see my dad before I go, my mother has told him I hit her, he threatens to call the cops on me.\\n\\nAITA?\", 'send_replies': True, 'spoiler': False, 'stickied': False, 'subreddit': 'AmItheAsshole', 'subreddit_id': 't5_2xhvq', 'subreddit_subscribers': 4793657, 'subreddit_type': 'public', 'suggested_sort': 'top', 'thumbnail': 'self', 'title': \"AITA for bailing on my sister's wedding?\", 'total_awards_received': 0, 'treatment_tags': [], 'upvote_ratio': 1.0, 'url': 'https://www.reddit.com/r/AmItheAsshole/comments/yvr9z1/aita_for_bailing_on_my_sisters_wedding/', 'whitelist_status': 'all_ads', 'wls': 6}\n"
     ]
    },
    {
     "name": "stderr",
     "output_type": "stream",
     "text": [
      "C:\\Users\\Sparrow\\AppData\\Local\\Temp\\ipykernel_22000\\1226572919.py:13: FutureWarning: The frame.append method is deprecated and will be removed from pandas in a future version. Use pandas.concat instead.\n",
      "  df.append(posts)\n"
     ]
    }
   ],
   "source": [
    "pushapi('AITA100',1668513236)"
   ]
  },
  {
   "cell_type": "markdown",
   "id": "54740c23-9794-4c48-b5fe-8323e37a849b",
   "metadata": {},
   "source": [
    "Now that I scraped 10,000 post from AmITheAsshole, let's do the same with Relationship Advice"
   ]
  }
 ],
 "metadata": {
  "kernelspec": {
   "display_name": "Python 3 (ipykernel)",
   "language": "python",
   "name": "python3"
  },
  "language_info": {
   "codemirror_mode": {
    "name": "ipython",
    "version": 3
   },
   "file_extension": ".py",
   "mimetype": "text/x-python",
   "name": "python",
   "nbconvert_exporter": "python",
   "pygments_lexer": "ipython3",
   "version": "3.9.12"
  }
 },
 "nbformat": 4,
 "nbformat_minor": 5
}
