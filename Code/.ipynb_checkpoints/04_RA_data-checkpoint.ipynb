{
 "cells": [
  {
   "cell_type": "markdown",
   "id": "128fdaeb-4d71-467b-98ad-f97a290f939f",
   "metadata": {},
   "source": [
    "Table of contents: RelationshipAdvice\n",
    "- Imports\n",
    "- Read in data\n",
    "- Am_I_The_Asshole dataframe\n",
    "- Cleaning process\n",
    "- Cleaned data output"
   ]
  },
  {
   "cell_type": "markdown",
   "id": "3094cbca-c2e8-4c07-a1d6-a1bbde3fc54d",
   "metadata": {},
   "source": [
    "# Imports"
   ]
  },
  {
   "cell_type": "code",
   "execution_count": 1,
   "id": "a9263291-f77a-4204-a1f3-7a928a47e811",
   "metadata": {},
   "outputs": [],
   "source": [
    "import pandas as pd"
   ]
  },
  {
   "cell_type": "markdown",
   "id": "b465a0c6-4aa0-4525-a9d9-ce0abf5e1ee5",
   "metadata": {},
   "source": [
    "# Read in data"
   ]
  },
  {
   "cell_type": "code",
   "execution_count": 2,
   "id": "b72875ba-6f0a-4e38-9bc9-3a952e6dd043",
   "metadata": {},
   "outputs": [],
   "source": [
    "RA1 = pd.read_csv('../Data/csv_RA/RA1')\n",
    "RA2 = pd.read_csv('../Data/csv_RA/RA2')\n",
    "RA3 = pd.read_csv('../Data/csv_RA/RA3')\n",
    "RA4 = pd.read_csv('../Data/csv_RA/RA4')\n",
    "RA5 = pd.read_csv('../Data/csv_RA/RA5')\n",
    "RA6 = pd.read_csv('../Data/csv_RA/RA6')\n",
    "RA7 = pd.read_csv('../Data/csv_RA/RA7')\n",
    "RA8 = pd.read_csv('../Data/csv_RA/RA8')\n",
    "RA9 = pd.read_csv('../Data/csv_RA/RA9')\n",
    "RA10 = pd.read_csv('../Data/csv_RA/RA10')"
   ]
  },
  {
   "cell_type": "code",
   "execution_count": 3,
   "id": "728b5a48-00e8-4141-9341-1ed0778d6d5d",
   "metadata": {},
   "outputs": [],
   "source": [
    "RA11 = pd.read_csv('../Data/csv_RA/RA11')\n",
    "RA12 = pd.read_csv('../Data/csv_RA/RA12')\n",
    "RA13 = pd.read_csv('../Data/csv_RA/RA13')\n",
    "RA14 = pd.read_csv('../Data/csv_RA/RA14')\n",
    "RA15 = pd.read_csv('../Data/csv_RA/RA15')\n",
    "RA16 = pd.read_csv('../Data/csv_RA/RA16')\n",
    "RA17 = pd.read_csv('../Data/csv_RA/RA17')\n",
    "RA18 = pd.read_csv('../Data/csv_RA/RA18')\n",
    "RA19 = pd.read_csv('../Data/csv_RA/RA19')\n",
    "RA20 = pd.read_csv('../Data/csv_RA/RA20')"
   ]
  },
  {
   "cell_type": "code",
   "execution_count": 4,
   "id": "8629424b-56e5-4a71-aa34-182f288ac225",
   "metadata": {},
   "outputs": [],
   "source": [
    "RA21 = pd.read_csv('../Data/csv_RA/RA21')\n",
    "RA22 = pd.read_csv('../Data/csv_RA/RA22')\n",
    "RA23 = pd.read_csv('../Data/csv_RA/RA23')\n",
    "RA24 = pd.read_csv('../Data/csv_RA/RA24')\n",
    "RA25 = pd.read_csv('../Data/csv_RA/RA25')\n",
    "RA26 = pd.read_csv('../Data/csv_RA/RA26')\n",
    "RA27 = pd.read_csv('../Data/csv_RA/RA27')\n",
    "RA28 = pd.read_csv('../Data/csv_RA/RA28')\n",
    "RA29 = pd.read_csv('../Data/csv_RA/RA29')\n",
    "RA30 = pd.read_csv('../Data/csv_RA/RA30')"
   ]
  },
  {
   "cell_type": "code",
   "execution_count": 5,
   "id": "e4923575-d071-4258-8339-fcf75feac226",
   "metadata": {},
   "outputs": [],
   "source": [
    "RA31 = pd.read_csv('../Data/csv_RA/RA31')\n",
    "RA32 = pd.read_csv('../Data/csv_RA/RA32')\n",
    "RA33 = pd.read_csv('../Data/csv_RA/RA33')\n",
    "RA34 = pd.read_csv('../Data/csv_RA/RA34')\n",
    "RA35 = pd.read_csv('../Data/csv_RA/RA35')\n",
    "RA36 = pd.read_csv('../Data/csv_RA/RA36')\n",
    "RA37 = pd.read_csv('../Data/csv_RA/RA37')\n",
    "RA38 = pd.read_csv('../Data/csv_RA/RA38')\n",
    "RA39 = pd.read_csv('../Data/csv_RA/RA39')\n",
    "RA40 = pd.read_csv('../Data/csv_RA/RA40')"
   ]
  },
  {
   "cell_type": "code",
   "execution_count": 6,
   "id": "8afeca53-2b73-480a-809f-2267aefb5944",
   "metadata": {},
   "outputs": [],
   "source": [
    "RA41 = pd.read_csv('../Data/csv_RA/RA41')\n",
    "RA42 = pd.read_csv('../Data/csv_RA/RA42')\n",
    "RA43 = pd.read_csv('../Data/csv_RA/RA43')\n",
    "RA44 = pd.read_csv('../Data/csv_RA/RA44')\n",
    "RA45 = pd.read_csv('../Data/csv_RA/RA45')\n",
    "RA46 = pd.read_csv('../Data/csv_RA/RA46')\n",
    "RA47 = pd.read_csv('../Data/csv_RA/RA47')\n",
    "RA48 = pd.read_csv('../Data/csv_RA/RA48')\n",
    "RA49 = pd.read_csv('../Data/csv_RA/RA49')\n",
    "RA50 = pd.read_csv('../Data/csv_RA/RA50')"
   ]
  },
  {
   "cell_type": "code",
   "execution_count": 7,
   "id": "4e5f6773-362d-4d48-b32e-3154a0402ba1",
   "metadata": {},
   "outputs": [],
   "source": [
    "RA51 = pd.read_csv('../Data/csv_RA/RA51')\n",
    "RA52 = pd.read_csv('../Data/csv_RA/RA52')\n",
    "RA53 = pd.read_csv('../Data/csv_RA/RA53')\n",
    "RA54 = pd.read_csv('../Data/csv_RA/RA54')\n",
    "RA55 = pd.read_csv('../Data/csv_RA/RA55')\n",
    "RA56 = pd.read_csv('../Data/csv_RA/RA56')\n",
    "RA57 = pd.read_csv('../Data/csv_RA/RA57')\n",
    "RA58 = pd.read_csv('../Data/csv_RA/RA58')\n",
    "RA59 = pd.read_csv('../Data/csv_RA/RA59')\n",
    "RA60 = pd.read_csv('../Data/csv_RA/RA60')"
   ]
  },
  {
   "cell_type": "code",
   "execution_count": 8,
   "id": "674f982b-7fa1-4872-a346-babb095650fd",
   "metadata": {},
   "outputs": [],
   "source": [
    "RA61 = pd.read_csv('../Data/csv_RA/RA61')\n",
    "RA62 = pd.read_csv('../Data/csv_RA/RA62')\n",
    "RA63 = pd.read_csv('../Data/csv_RA/RA63')\n",
    "RA64 = pd.read_csv('../Data/csv_RA/RA64')\n",
    "RA65 = pd.read_csv('../Data/csv_RA/RA65')\n",
    "RA66 = pd.read_csv('../Data/csv_RA/RA66')\n",
    "RA67 = pd.read_csv('../Data/csv_RA/RA67')\n",
    "RA68 = pd.read_csv('../Data/csv_RA/RA68')\n",
    "RA69 = pd.read_csv('../Data/csv_RA/RA69')\n",
    "RA70 = pd.read_csv('../Data/csv_RA/RA70')"
   ]
  },
  {
   "cell_type": "code",
   "execution_count": 9,
   "id": "af0ac14a-b2cc-4d50-9278-6f1a71139834",
   "metadata": {},
   "outputs": [],
   "source": [
    "RA71 = pd.read_csv('../Data/csv_RA/RA71')\n",
    "RA72 = pd.read_csv('../Data/csv_RA/RA72')\n",
    "RA73 = pd.read_csv('../Data/csv_RA/RA73')\n",
    "RA74 = pd.read_csv('../Data/csv_RA/RA74')\n",
    "RA75 = pd.read_csv('../Data/csv_RA/RA75')\n",
    "RA76 = pd.read_csv('../Data/csv_RA/RA76')\n",
    "RA77 = pd.read_csv('../Data/csv_RA/RA77')\n",
    "RA78 = pd.read_csv('../Data/csv_RA/RA78')\n",
    "RA79 = pd.read_csv('../Data/csv_RA/RA79')\n",
    "RA80 = pd.read_csv('../Data/csv_RA/RA80')"
   ]
  },
  {
   "cell_type": "code",
   "execution_count": 10,
   "id": "7d1e93e2-7adb-4b7c-b4fe-3ab6fa932a5d",
   "metadata": {},
   "outputs": [],
   "source": [
    "RA81 = pd.read_csv('../Data/csv_RA/RA81')\n",
    "RA82 = pd.read_csv('../Data/csv_RA/RA82')\n",
    "RA83 = pd.read_csv('../Data/csv_RA/RA83')\n",
    "RA84 = pd.read_csv('../Data/csv_RA/RA84')\n",
    "RA85 = pd.read_csv('../Data/csv_RA/RA85')\n",
    "RA86 = pd.read_csv('../Data/csv_RA/RA86')\n",
    "RA87 = pd.read_csv('../Data/csv_RA/RA87')\n",
    "RA88 = pd.read_csv('../Data/csv_RA/RA88')\n",
    "RA89 = pd.read_csv('../Data/csv_RA/RA89')\n",
    "RA90 = pd.read_csv('../Data/csv_RA/RA90')"
   ]
  },
  {
   "cell_type": "code",
   "execution_count": 11,
   "id": "5170926e-0550-4b48-8f15-39ce72b0aa48",
   "metadata": {},
   "outputs": [],
   "source": [
    "RA91 = pd.read_csv('../Data/csv_RA/RA91')\n",
    "RA92 = pd.read_csv('../Data/csv_RA/RA92')\n",
    "RA93 = pd.read_csv('../Data/csv_RA/RA93')\n",
    "RA94 = pd.read_csv('../Data/csv_RA/RA94')\n",
    "RA95 = pd.read_csv('../Data/csv_RA/RA95')\n",
    "RA96 = pd.read_csv('../Data/csv_RA/RA96')\n",
    "RA97 = pd.read_csv('../Data/csv_RA/RA97')\n",
    "RA98 = pd.read_csv('../Data/csv_RA/RA98')\n",
    "RA99 = pd.read_csv('../Data/csv_RA/RA99')\n",
    "RA100 = pd.read_csv('../Data/csv_RA/RA100')"
   ]
  },
  {
   "cell_type": "markdown",
   "id": "44c08e4b-baca-46af-9295-6c8bb72485a4",
   "metadata": {},
   "source": [
    "# Reationship_Advice dataframe"
   ]
  },
  {
   "cell_type": "code",
   "execution_count": 12,
   "id": "2d6271b1-435d-4a27-bed0-b777bf11aad3",
   "metadata": {},
   "outputs": [],
   "source": [
    "Relationship_Advice = (RA1,RA2,RA3,RA4,RA5,RA6,RA7,RA8,RA9,RA10,RA11,RA12,RA13,RA14,RA15,RA16,RA17,RA18,RA19,RA20,\n",
    "                       RA21,RA22,RA23,RA24,RA25,RA26,RA27,RA28,RA29,RA30,RA31,RA32,RA33,RA34,RA35,RA36,RA37,RA38,RA39,RA40,\n",
    "                       RA41,RA42,RA43,RA44,RA45,RA46,RA47,RA48,RA49,RA50,RA51,RA52,RA53,RA54,RA55,RA56,RA57,RA58,RA59,RA60,\n",
    "                       RA61,RA62,RA63,RA64,RA65,RA66,RA67,RA68,RA69,RA70,RA71,RA72,RA73,RA74,RA75,RA76,RA77,RA78,RA79,RA80,\n",
    "                      RA81,RA82,RA83,RA84,RA85,RA86,RA87,RA88,RA89,RA90,RA91,RA92,RA93,RA94,RA95,RA96,RA97,RA98,RA99,RA100)"
   ]
  },
  {
   "cell_type": "code",
   "execution_count": 13,
   "id": "25c85609-11a3-4b7a-aab8-6ad6b3e90579",
   "metadata": {},
   "outputs": [],
   "source": [
    "reddit_RA = pd.concat(Relationship_Advice)"
   ]
  },
  {
   "cell_type": "markdown",
   "id": "537d1b68-083c-483d-b96a-d7a52585842c",
   "metadata": {},
   "source": [
    "# Cleaning Process"
   ]
  },
  {
   "cell_type": "code",
   "execution_count": 14,
   "id": "9db46131-857f-4c01-b40e-63976e491a61",
   "metadata": {},
   "outputs": [
    {
     "data": {
      "text/plain": [
       "9999"
      ]
     },
     "execution_count": 14,
     "metadata": {},
     "output_type": "execute_result"
    }
   ],
   "source": [
    "len(reddit_RA) #Inital data scrape got 9999 post"
   ]
  },
  {
   "cell_type": "code",
   "execution_count": 15,
   "id": "f21eff8d-629e-4fc5-8af5-e7bab4a4666c",
   "metadata": {},
   "outputs": [
    {
     "data": {
      "text/plain": [
       "Index(['all_awardings', 'allow_live_comments', 'author',\n",
       "       'author_flair_css_class', 'author_flair_richtext', 'author_flair_text',\n",
       "       'author_flair_type', 'author_fullname', 'author_is_blocked',\n",
       "       'author_patreon_flair', 'author_premium', 'awarders', 'can_mod_post',\n",
       "       'contest_mode', 'created_utc', 'domain', 'full_link', 'gildings', 'id',\n",
       "       'is_created_from_ads_ui', 'is_crosspostable', 'is_meta',\n",
       "       'is_original_content', 'is_reddit_media_domain', 'is_robot_indexable',\n",
       "       'is_self', 'is_video', 'link_flair_background_color',\n",
       "       'link_flair_richtext', 'link_flair_text_color', 'link_flair_type',\n",
       "       'locked', 'media_only', 'no_follow', 'num_comments', 'num_crossposts',\n",
       "       'over_18', 'parent_whitelist_status', 'permalink', 'pinned', 'pwls',\n",
       "       'retrieved_on', 'score', 'selftext', 'send_replies', 'spoiler',\n",
       "       'stickied', 'subreddit', 'subreddit_id', 'subreddit_subscribers',\n",
       "       'subreddit_type', 'thumbnail', 'title', 'total_awards_received',\n",
       "       'treatment_tags', 'upvote_ratio', 'url', 'whitelist_status', 'wls',\n",
       "       'removed_by_category', 'author_flair_template_id',\n",
       "       'author_flair_text_color', 'post_hint', 'preview', 'author_cakeday',\n",
       "       'author_flair_background_color', 'banned_by', 'edited'],\n",
       "      dtype='object')"
      ]
     },
     "execution_count": 15,
     "metadata": {},
     "output_type": "execute_result"
    }
   ],
   "source": [
    "reddit_RA.columns"
   ]
  },
  {
   "cell_type": "code",
   "execution_count": 16,
   "id": "670ec298-0bad-448c-a842-08ef6a9057a6",
   "metadata": {},
   "outputs": [],
   "source": [
    "df_RA =reddit_RA[['author','subreddit','selftext','title','created_utc']] #These are the columns I want to focus on"
   ]
  },
  {
   "cell_type": "code",
   "execution_count": 17,
   "id": "0a734d20-726f-4c7c-a900-b61ca3d909d1",
   "metadata": {},
   "outputs": [
    {
     "name": "stderr",
     "output_type": "stream",
     "text": [
      "C:\\Users\\Sparrow\\AppData\\Local\\Temp\\ipykernel_17196\\1578088679.py:1: SettingWithCopyWarning: \n",
      "A value is trying to be set on a copy of a slice from a DataFrame\n",
      "\n",
      "See the caveats in the documentation: https://pandas.pydata.org/pandas-docs/stable/user_guide/indexing.html#returning-a-view-versus-a-copy\n",
      "  df_RA.drop_duplicates(subset='author',inplace=True) #Dropping posts from the same author to avoid duplicates\n"
     ]
    }
   ],
   "source": [
    "df_RA.drop_duplicates(subset='author',inplace=True) #Dropping posts from the same author to avoid duplicates"
   ]
  },
  {
   "cell_type": "code",
   "execution_count": 18,
   "id": "81e0a4a2-f084-4cba-b4e2-207202413362",
   "metadata": {},
   "outputs": [
    {
     "data": {
      "text/plain": [
       "8360"
      ]
     },
     "execution_count": 18,
     "metadata": {},
     "output_type": "execute_result"
    }
   ],
   "source": [
    "len(df_RA)  #Leaves me with 8360 post to use"
   ]
  },
  {
   "cell_type": "code",
   "execution_count": 19,
   "id": "c42c922a-fdc3-4be2-97c2-1c30517a9fff",
   "metadata": {},
   "outputs": [],
   "source": [
    "df_RA = df_RA[df_RA['selftext'] != '[removed]'] #let's remove post that got removed"
   ]
  },
  {
   "cell_type": "code",
   "execution_count": 20,
   "id": "d82e5cf9-b36c-407d-8a59-0b108536a811",
   "metadata": {},
   "outputs": [
    {
     "data": {
      "text/html": [
       "<div>\n",
       "<style scoped>\n",
       "    .dataframe tbody tr th:only-of-type {\n",
       "        vertical-align: middle;\n",
       "    }\n",
       "\n",
       "    .dataframe tbody tr th {\n",
       "        vertical-align: top;\n",
       "    }\n",
       "\n",
       "    .dataframe thead th {\n",
       "        text-align: right;\n",
       "    }\n",
       "</style>\n",
       "<table border=\"1\" class=\"dataframe\">\n",
       "  <thead>\n",
       "    <tr style=\"text-align: right;\">\n",
       "      <th></th>\n",
       "      <th>author</th>\n",
       "      <th>subreddit</th>\n",
       "      <th>selftext</th>\n",
       "      <th>title</th>\n",
       "      <th>created_utc</th>\n",
       "    </tr>\n",
       "  </thead>\n",
       "  <tbody>\n",
       "    <tr>\n",
       "      <th>0</th>\n",
       "      <td>TaintedOne88</td>\n",
       "      <td>relationship_advice</td>\n",
       "      <td>I just text this man telling him how I felt ab...</td>\n",
       "      <td>A permanent memory</td>\n",
       "      <td>1669248902</td>\n",
       "    </tr>\n",
       "    <tr>\n",
       "      <th>1</th>\n",
       "      <td>UncommonCow56</td>\n",
       "      <td>relationship_advice</td>\n",
       "      <td>Ok so as the title says my (M18) girlfriend (F...</td>\n",
       "      <td>My (M18) gf (F20) keeps dog sitting for a “fri...</td>\n",
       "      <td>1669248796</td>\n",
       "    </tr>\n",
       "    <tr>\n",
       "      <th>3</th>\n",
       "      <td>darkglassoverwater</td>\n",
       "      <td>relationship_advice</td>\n",
       "      <td>I'm a junior in high school (male). I have a l...</td>\n",
       "      <td>Friendzone or does she like me?</td>\n",
       "      <td>1669248786</td>\n",
       "    </tr>\n",
       "    <tr>\n",
       "      <th>4</th>\n",
       "      <td>YourAverageThinker</td>\n",
       "      <td>relationship_advice</td>\n",
       "      <td>Me and this girl used to talk at the beginning...</td>\n",
       "      <td>Girl (21F) is so confusing I (M21) just don’t ...</td>\n",
       "      <td>1669248776</td>\n",
       "    </tr>\n",
       "    <tr>\n",
       "      <th>5</th>\n",
       "      <td>Illustrious-Ask1708</td>\n",
       "      <td>relationship_advice</td>\n",
       "      <td>I've been seeing this girls who's as the title...</td>\n",
       "      <td>What's everyone's thoughts on an 18yr old fema...</td>\n",
       "      <td>1669248658</td>\n",
       "    </tr>\n",
       "    <tr>\n",
       "      <th>...</th>\n",
       "      <td>...</td>\n",
       "      <td>...</td>\n",
       "      <td>...</td>\n",
       "      <td>...</td>\n",
       "      <td>...</td>\n",
       "    </tr>\n",
       "    <tr>\n",
       "      <th>94</th>\n",
       "      <td>KhalessiBlk</td>\n",
       "      <td>relationship_advice</td>\n",
       "      <td>My bf (30m) and I (29f) broke up very recently...</td>\n",
       "      <td>I Gave Up After 6 Months</td>\n",
       "      <td>1668104510</td>\n",
       "    </tr>\n",
       "    <tr>\n",
       "      <th>96</th>\n",
       "      <td>Weary-Ad-4391</td>\n",
       "      <td>relationship_advice</td>\n",
       "      <td>Me and her are in the same program at universi...</td>\n",
       "      <td>My (19 M) friend’s (20 M) GF (21) came onto me</td>\n",
       "      <td>1668104441</td>\n",
       "    </tr>\n",
       "    <tr>\n",
       "      <th>97</th>\n",
       "      <td>This_Beyond_2115</td>\n",
       "      <td>relationship_advice</td>\n",
       "      <td>I am in a relationship and for the most part i...</td>\n",
       "      <td>This relationship appears to be progressing sl...</td>\n",
       "      <td>1668104439</td>\n",
       "    </tr>\n",
       "    <tr>\n",
       "      <th>98</th>\n",
       "      <td>FormerShadow1</td>\n",
       "      <td>relationship_advice</td>\n",
       "      <td>Basically, they think people with depression a...</td>\n",
       "      <td>How do I deal with a person who hates me becau...</td>\n",
       "      <td>1668104417</td>\n",
       "    </tr>\n",
       "    <tr>\n",
       "      <th>99</th>\n",
       "      <td>zman419</td>\n",
       "      <td>relationship_advice</td>\n",
       "      <td>Last time my girlfriend and I spent time with ...</td>\n",
       "      <td>girlfriend is considering not seeing my parent...</td>\n",
       "      <td>1668104345</td>\n",
       "    </tr>\n",
       "  </tbody>\n",
       "</table>\n",
       "<p>6834 rows × 5 columns</p>\n",
       "</div>"
      ],
      "text/plain": [
       "                 author            subreddit  \\\n",
       "0          TaintedOne88  relationship_advice   \n",
       "1         UncommonCow56  relationship_advice   \n",
       "3    darkglassoverwater  relationship_advice   \n",
       "4    YourAverageThinker  relationship_advice   \n",
       "5   Illustrious-Ask1708  relationship_advice   \n",
       "..                  ...                  ...   \n",
       "94          KhalessiBlk  relationship_advice   \n",
       "96        Weary-Ad-4391  relationship_advice   \n",
       "97     This_Beyond_2115  relationship_advice   \n",
       "98        FormerShadow1  relationship_advice   \n",
       "99              zman419  relationship_advice   \n",
       "\n",
       "                                             selftext  \\\n",
       "0   I just text this man telling him how I felt ab...   \n",
       "1   Ok so as the title says my (M18) girlfriend (F...   \n",
       "3   I'm a junior in high school (male). I have a l...   \n",
       "4   Me and this girl used to talk at the beginning...   \n",
       "5   I've been seeing this girls who's as the title...   \n",
       "..                                                ...   \n",
       "94  My bf (30m) and I (29f) broke up very recently...   \n",
       "96  Me and her are in the same program at universi...   \n",
       "97  I am in a relationship and for the most part i...   \n",
       "98  Basically, they think people with depression a...   \n",
       "99  Last time my girlfriend and I spent time with ...   \n",
       "\n",
       "                                                title  created_utc  \n",
       "0                                  A permanent memory   1669248902  \n",
       "1   My (M18) gf (F20) keeps dog sitting for a “fri...   1669248796  \n",
       "3                     Friendzone or does she like me?   1669248786  \n",
       "4   Girl (21F) is so confusing I (M21) just don’t ...   1669248776  \n",
       "5   What's everyone's thoughts on an 18yr old fema...   1669248658  \n",
       "..                                                ...          ...  \n",
       "94                           I Gave Up After 6 Months   1668104510  \n",
       "96     My (19 M) friend’s (20 M) GF (21) came onto me   1668104441  \n",
       "97  This relationship appears to be progressing sl...   1668104439  \n",
       "98  How do I deal with a person who hates me becau...   1668104417  \n",
       "99  girlfriend is considering not seeing my parent...   1668104345  \n",
       "\n",
       "[6834 rows x 5 columns]"
      ]
     },
     "execution_count": 20,
     "metadata": {},
     "output_type": "execute_result"
    }
   ],
   "source": [
    "df_RA"
   ]
  },
  {
   "cell_type": "code",
   "execution_count": 21,
   "id": "fe1f9be4-52c7-42ea-adc9-2b26289f9cc2",
   "metadata": {},
   "outputs": [
    {
     "data": {
      "text/plain": [
       "6834"
      ]
     },
     "execution_count": 21,
     "metadata": {},
     "output_type": "execute_result"
    }
   ],
   "source": [
    "len(df_RA) #AITA will have 6834 post to utilize"
   ]
  },
  {
   "cell_type": "code",
   "execution_count": 22,
   "id": "9318f2e8-8c0d-4bf0-b3b8-8b3c96ff872f",
   "metadata": {},
   "outputs": [
    {
     "data": {
      "text/plain": [
       "author         0\n",
       "subreddit      0\n",
       "selftext       1\n",
       "title          0\n",
       "created_utc    0\n",
       "dtype: int64"
      ]
     },
     "execution_count": 22,
     "metadata": {},
     "output_type": "execute_result"
    }
   ],
   "source": [
    "df_RA.isna().sum()"
   ]
  },
  {
   "cell_type": "markdown",
   "id": "8069da95-53a2-4ba3-999b-de3af7dee5d0",
   "metadata": {},
   "source": [
    "# Cleaned data output"
   ]
  },
  {
   "cell_type": "code",
   "execution_count": 24,
   "id": "74341fb8-5ef9-4c75-9f0c-b42be9a1cbc4",
   "metadata": {},
   "outputs": [],
   "source": [
    "#df_RA.to_csv('RA')"
   ]
  },
  {
   "cell_type": "code",
   "execution_count": null,
   "id": "a825ecbe-9d5a-4139-b7b1-73945b426c4d",
   "metadata": {},
   "outputs": [],
   "source": []
  }
 ],
 "metadata": {
  "kernelspec": {
   "display_name": "Python 3 (ipykernel)",
   "language": "python",
   "name": "python3"
  },
  "language_info": {
   "codemirror_mode": {
    "name": "ipython",
    "version": 3
   },
   "file_extension": ".py",
   "mimetype": "text/x-python",
   "name": "python",
   "nbconvert_exporter": "python",
   "pygments_lexer": "ipython3",
   "version": "3.9.12"
  }
 },
 "nbformat": 4,
 "nbformat_minor": 5
}
